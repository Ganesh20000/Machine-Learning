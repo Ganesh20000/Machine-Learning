{
 "cells": [
  {
   "cell_type": "code",
   "execution_count": 1,
   "id": "70291613",
   "metadata": {},
   "outputs": [],
   "source": [
    "import pandas as pd\n",
    "import numpy as np\n",
    "from sklearn.impute import SimpleImputer\n",
    "from sklearn.compose import ColumnTransformer\n",
    "from sklearn.preprocessing import MinMaxScaler,OrdinalEncoder,OneHotEncoder,FunctionTransformer,KBinsDiscretizer\n",
    "from sklearn.tree import DecisionTreeClassifier\n",
    "from sklearn.pipeline import Pipeline ,make_pipeline\n",
    "from sklearn.metrics import accuracy_score,r2_score,mean_squared_error,root_mean_squared_error\n",
    "from sklearn.feature_selection import SelectKBest,chi2\n",
    "from sklearn.linear_model import LogisticRegression,LinearRegression   \n",
    "import seaborn as sns\n",
    "import matplotlib.pyplot as plt\n",
    "from sklearn.model_selection import cross_val_score\n",
    "import scipy.stats as stats\n",
    "from sklearn.model_selection import train_test_split\n",
    "import warnings\n",
    "warnings.filterwarnings('ignore')"
   ]
  },
  {
   "cell_type": "code",
   "execution_count": 2,
   "id": "7b3fbd51",
   "metadata": {},
   "outputs": [],
   "source": [
    "df= pd.read_csv(r'titanic.csv',encoding='utf8',usecols=['Fare','Age','Survived'])"
   ]
  },
  {
   "cell_type": "code",
   "execution_count": 3,
   "id": "ba5de148",
   "metadata": {},
   "outputs": [
    {
     "data": {
      "application/vnd.microsoft.datawrangler.viewer.v0+json": {
       "columns": [
        {
         "name": "index",
         "rawType": "int64",
         "type": "integer"
        },
        {
         "name": "Survived",
         "rawType": "int64",
         "type": "integer"
        },
        {
         "name": "Age",
         "rawType": "float64",
         "type": "float"
        },
        {
         "name": "Fare",
         "rawType": "float64",
         "type": "float"
        }
       ],
       "ref": "12b1f2e7-f109-4e8d-a27b-b8b97af41b11",
       "rows": [
        [
         "0",
         "0",
         "22.0",
         "7.25"
        ],
        [
         "1",
         "1",
         "38.0",
         "71.2833"
        ],
        [
         "2",
         "1",
         "26.0",
         "7.925"
        ],
        [
         "3",
         "1",
         "35.0",
         "53.1"
        ],
        [
         "4",
         "0",
         "35.0",
         "8.05"
        ],
        [
         "5",
         "0",
         null,
         "8.4583"
        ],
        [
         "6",
         "0",
         "54.0",
         "51.8625"
        ],
        [
         "7",
         "0",
         "2.0",
         "21.075"
        ],
        [
         "8",
         "1",
         "27.0",
         "11.1333"
        ],
        [
         "9",
         "1",
         "14.0",
         "30.0708"
        ],
        [
         "10",
         "1",
         "4.0",
         "16.7"
        ],
        [
         "11",
         "1",
         "58.0",
         "26.55"
        ],
        [
         "12",
         "0",
         "20.0",
         "8.05"
        ],
        [
         "13",
         "0",
         "39.0",
         "31.275"
        ],
        [
         "14",
         "0",
         "14.0",
         "7.8542"
        ],
        [
         "15",
         "1",
         "55.0",
         "16.0"
        ],
        [
         "16",
         "0",
         "2.0",
         "29.125"
        ],
        [
         "17",
         "1",
         null,
         "13.0"
        ],
        [
         "18",
         "0",
         "31.0",
         "18.0"
        ],
        [
         "19",
         "1",
         null,
         "7.225"
        ],
        [
         "20",
         "0",
         "35.0",
         "26.0"
        ],
        [
         "21",
         "1",
         "34.0",
         "13.0"
        ],
        [
         "22",
         "1",
         "15.0",
         "8.0292"
        ],
        [
         "23",
         "1",
         "28.0",
         "35.5"
        ],
        [
         "24",
         "0",
         "8.0",
         "21.075"
        ],
        [
         "25",
         "1",
         "38.0",
         "31.3875"
        ],
        [
         "26",
         "0",
         null,
         "7.225"
        ],
        [
         "27",
         "0",
         "19.0",
         "263.0"
        ],
        [
         "28",
         "1",
         null,
         "7.8792"
        ],
        [
         "29",
         "0",
         null,
         "7.8958"
        ],
        [
         "30",
         "0",
         "40.0",
         "27.7208"
        ],
        [
         "31",
         "1",
         null,
         "146.5208"
        ],
        [
         "32",
         "1",
         null,
         "7.75"
        ],
        [
         "33",
         "0",
         "66.0",
         "10.5"
        ],
        [
         "34",
         "0",
         "28.0",
         "82.1708"
        ],
        [
         "35",
         "0",
         "42.0",
         "52.0"
        ],
        [
         "36",
         "1",
         null,
         "7.2292"
        ],
        [
         "37",
         "0",
         "21.0",
         "8.05"
        ],
        [
         "38",
         "0",
         "18.0",
         "18.0"
        ],
        [
         "39",
         "1",
         "14.0",
         "11.2417"
        ],
        [
         "40",
         "0",
         "40.0",
         "9.475"
        ],
        [
         "41",
         "0",
         "27.0",
         "21.0"
        ],
        [
         "42",
         "0",
         null,
         "7.8958"
        ],
        [
         "43",
         "1",
         "3.0",
         "41.5792"
        ],
        [
         "44",
         "1",
         "19.0",
         "7.8792"
        ],
        [
         "45",
         "0",
         null,
         "8.05"
        ],
        [
         "46",
         "0",
         null,
         "15.5"
        ],
        [
         "47",
         "1",
         null,
         "7.75"
        ],
        [
         "48",
         "0",
         null,
         "21.6792"
        ],
        [
         "49",
         "0",
         "18.0",
         "17.8"
        ]
       ],
       "shape": {
        "columns": 3,
        "rows": 891
       }
      },
      "text/html": [
       "<div>\n",
       "<style scoped>\n",
       "    .dataframe tbody tr th:only-of-type {\n",
       "        vertical-align: middle;\n",
       "    }\n",
       "\n",
       "    .dataframe tbody tr th {\n",
       "        vertical-align: top;\n",
       "    }\n",
       "\n",
       "    .dataframe thead th {\n",
       "        text-align: right;\n",
       "    }\n",
       "</style>\n",
       "<table border=\"1\" class=\"dataframe\">\n",
       "  <thead>\n",
       "    <tr style=\"text-align: right;\">\n",
       "      <th></th>\n",
       "      <th>Survived</th>\n",
       "      <th>Age</th>\n",
       "      <th>Fare</th>\n",
       "    </tr>\n",
       "  </thead>\n",
       "  <tbody>\n",
       "    <tr>\n",
       "      <th>0</th>\n",
       "      <td>0</td>\n",
       "      <td>22.0</td>\n",
       "      <td>7.2500</td>\n",
       "    </tr>\n",
       "    <tr>\n",
       "      <th>1</th>\n",
       "      <td>1</td>\n",
       "      <td>38.0</td>\n",
       "      <td>71.2833</td>\n",
       "    </tr>\n",
       "    <tr>\n",
       "      <th>2</th>\n",
       "      <td>1</td>\n",
       "      <td>26.0</td>\n",
       "      <td>7.9250</td>\n",
       "    </tr>\n",
       "    <tr>\n",
       "      <th>3</th>\n",
       "      <td>1</td>\n",
       "      <td>35.0</td>\n",
       "      <td>53.1000</td>\n",
       "    </tr>\n",
       "    <tr>\n",
       "      <th>4</th>\n",
       "      <td>0</td>\n",
       "      <td>35.0</td>\n",
       "      <td>8.0500</td>\n",
       "    </tr>\n",
       "    <tr>\n",
       "      <th>...</th>\n",
       "      <td>...</td>\n",
       "      <td>...</td>\n",
       "      <td>...</td>\n",
       "    </tr>\n",
       "    <tr>\n",
       "      <th>886</th>\n",
       "      <td>0</td>\n",
       "      <td>27.0</td>\n",
       "      <td>13.0000</td>\n",
       "    </tr>\n",
       "    <tr>\n",
       "      <th>887</th>\n",
       "      <td>1</td>\n",
       "      <td>19.0</td>\n",
       "      <td>30.0000</td>\n",
       "    </tr>\n",
       "    <tr>\n",
       "      <th>888</th>\n",
       "      <td>0</td>\n",
       "      <td>NaN</td>\n",
       "      <td>23.4500</td>\n",
       "    </tr>\n",
       "    <tr>\n",
       "      <th>889</th>\n",
       "      <td>1</td>\n",
       "      <td>26.0</td>\n",
       "      <td>30.0000</td>\n",
       "    </tr>\n",
       "    <tr>\n",
       "      <th>890</th>\n",
       "      <td>0</td>\n",
       "      <td>32.0</td>\n",
       "      <td>7.7500</td>\n",
       "    </tr>\n",
       "  </tbody>\n",
       "</table>\n",
       "<p>891 rows × 3 columns</p>\n",
       "</div>"
      ],
      "text/plain": [
       "     Survived   Age     Fare\n",
       "0           0  22.0   7.2500\n",
       "1           1  38.0  71.2833\n",
       "2           1  26.0   7.9250\n",
       "3           1  35.0  53.1000\n",
       "4           0  35.0   8.0500\n",
       "..        ...   ...      ...\n",
       "886         0  27.0  13.0000\n",
       "887         1  19.0  30.0000\n",
       "888         0   NaN  23.4500\n",
       "889         1  26.0  30.0000\n",
       "890         0  32.0   7.7500\n",
       "\n",
       "[891 rows x 3 columns]"
      ]
     },
     "execution_count": 3,
     "metadata": {},
     "output_type": "execute_result"
    }
   ],
   "source": [
    "df"
   ]
  },
  {
   "cell_type": "code",
   "execution_count": 4,
   "id": "05e3a269",
   "metadata": {},
   "outputs": [],
   "source": [
    "df.dropna(inplace=True)"
   ]
  },
  {
   "cell_type": "code",
   "execution_count": 5,
   "id": "49aa7b20",
   "metadata": {},
   "outputs": [
    {
     "data": {
      "application/vnd.microsoft.datawrangler.viewer.v0+json": {
       "columns": [
        {
         "name": "index",
         "rawType": "object",
         "type": "string"
        },
        {
         "name": "0",
         "rawType": "int64",
         "type": "integer"
        }
       ],
       "ref": "5539c6a4-ba1e-4ac2-80d0-d2ac6ec222b1",
       "rows": [
        [
         "Survived",
         "0"
        ],
        [
         "Age",
         "0"
        ],
        [
         "Fare",
         "0"
        ]
       ],
       "shape": {
        "columns": 1,
        "rows": 3
       }
      },
      "text/plain": [
       "Survived    0\n",
       "Age         0\n",
       "Fare        0\n",
       "dtype: int64"
      ]
     },
     "execution_count": 5,
     "metadata": {},
     "output_type": "execute_result"
    }
   ],
   "source": [
    "df.isnull().sum()"
   ]
  },
  {
   "cell_type": "code",
   "execution_count": 6,
   "id": "104beed1",
   "metadata": {},
   "outputs": [
    {
     "data": {
      "text/plain": [
       "(714, 3)"
      ]
     },
     "execution_count": 6,
     "metadata": {},
     "output_type": "execute_result"
    }
   ],
   "source": [
    "df.shape\n"
   ]
  },
  {
   "cell_type": "code",
   "execution_count": 50,
   "id": "ecdf2640",
   "metadata": {},
   "outputs": [],
   "source": [
    "x= df.iloc[:,[1,2]]\n",
    "y=df.iloc[:,0\n",
    "          ]"
   ]
  },
  {
   "cell_type": "code",
   "execution_count": 51,
   "id": "b037d94c",
   "metadata": {},
   "outputs": [
    {
     "data": {
      "text/plain": [
       "((714, 2), (714,))"
      ]
     },
     "execution_count": 51,
     "metadata": {},
     "output_type": "execute_result"
    }
   ],
   "source": [
    "x.shape,y.shape"
   ]
  },
  {
   "cell_type": "code",
   "execution_count": 72,
   "id": "8642be7b",
   "metadata": {},
   "outputs": [],
   "source": [
    "x_train, x_test, y_train, y_test =train_test_split(x,y,train_size=0.8,random_state=2)"
   ]
  },
  {
   "cell_type": "code",
   "execution_count": 73,
   "id": "26627aa1",
   "metadata": {},
   "outputs": [
    {
     "data": {
      "text/plain": [
       "((571, 2), (143, 2), (571,), (143,))"
      ]
     },
     "execution_count": 73,
     "metadata": {},
     "output_type": "execute_result"
    }
   ],
   "source": [
    "x_train.shape, x_test.shape,y_train.shape,y_test.shape"
   ]
  },
  {
   "cell_type": "code",
   "execution_count": 74,
   "id": "167f1418",
   "metadata": {},
   "outputs": [],
   "source": [
    "x_train, x_test, y_train, y_test = train_test_split(\n",
    "    x, y, train_size=0.8, random_state=2\n",
    ")\n"
   ]
  },
  {
   "cell_type": "code",
   "execution_count": 75,
   "id": "67ac3f80",
   "metadata": {},
   "outputs": [
    {
     "data": {
      "text/plain": [
       "((571,), (143,))"
      ]
     },
     "execution_count": 75,
     "metadata": {},
     "output_type": "execute_result"
    }
   ],
   "source": [
    "y_train.shape,y_test.shape"
   ]
  },
  {
   "cell_type": "code",
   "execution_count": 76,
   "id": "fbbe9058",
   "metadata": {},
   "outputs": [],
   "source": [
    "\n",
    "clf = DecisionTreeClassifier()"
   ]
  },
  {
   "cell_type": "code",
   "execution_count": 80,
   "id": "1db26cd6",
   "metadata": {},
   "outputs": [
    {
     "name": "stdout",
     "output_type": "stream",
     "text": [
      "decision tree  0.6573426573426573\n"
     ]
    }
   ],
   "source": [
    "clf.fit(x_train,y_train)\n",
    "\n",
    "y_pred= clf.predict(x_test)\n",
    "\n",
    "print(\"decision tree \",accuracy_score(y_test,y_pred))"
   ]
  },
  {
   "cell_type": "markdown",
   "id": "3ef5ecd8",
   "metadata": {},
   "source": [
    "#### cross validation"
   ]
  },
  {
   "cell_type": "code",
   "execution_count": 79,
   "id": "3a02a41b",
   "metadata": {},
   "outputs": [
    {
     "data": {
      "text/plain": [
       "np.float64(0.6246870109546165)"
      ]
     },
     "execution_count": 79,
     "metadata": {},
     "output_type": "execute_result"
    }
   ],
   "source": [
    "np.mean(cross_val_score(clf,x,y,scoring='accuracy',cv=10))"
   ]
  },
  {
   "cell_type": "markdown",
   "id": "0cc479c2",
   "metadata": {},
   "source": [
    "#### BINING AND BINARIZATION"
   ]
  },
  {
   "cell_type": "markdown",
   "id": "4062150c",
   "metadata": {},
   "source": [
    "#### KBIN age and KBIN fare"
   ]
  },
  {
   "cell_type": "code",
   "execution_count": 78,
   "id": "dfe1d00b",
   "metadata": {},
   "outputs": [],
   "source": [
    "kbin_age = KBinsDiscretizer(n_bins=10,encode='ordinal',strategy='quantile')\n",
    "kbin_fare=KBinsDiscretizer(n_bins=10,encode='ordinal',strategy='quantile')"
   ]
  },
  {
   "cell_type": "code",
   "execution_count": 16,
   "id": "6332a2a2",
   "metadata": {},
   "outputs": [],
   "source": [
    "bining = ColumnTransformer([\n",
    "    \n",
    "    \n",
    "    ('kbin_age',kbin_age,[0]),\n",
    "    ('kbin_fare',kbin_fare,[1])\n",
    "    \n",
    "    ],remainder='passthrough')"
   ]
  },
  {
   "cell_type": "code",
   "execution_count": 17,
   "id": "d817901e",
   "metadata": {},
   "outputs": [],
   "source": [
    "# bining.named_transformers_['kbin_fare'].n_bins_\n"
   ]
  },
  {
   "cell_type": "code",
   "execution_count": 82,
   "id": "0e3b4c34",
   "metadata": {},
   "outputs": [],
   "source": [
    "# bining.named_transformers_['kbin_fare'].bin_edges_"
   ]
  },
  {
   "cell_type": "code",
   "execution_count": 83,
   "id": "7f12a043",
   "metadata": {},
   "outputs": [
    {
     "name": "stdout",
     "output_type": "stream",
     "text": [
      "transform  0.7132867132867133\n"
     ]
    }
   ],
   "source": [
    "x_train_trf = bining.fit_transform(x_train)\n",
    "x_test_trf= bining.transform(x_test)\n",
    "\n",
    "\n",
    "\n",
    "de = DecisionTreeClassifier()\n",
    "\n",
    "de.fit(x_train_trf,y_train)\n",
    "\n",
    "y_pred =de.predict(x_test_trf)\n",
    "\n",
    "print(\"transform \", accuracy_score(y_test,y_pred))"
   ]
  },
  {
   "cell_type": "code",
   "execution_count": 84,
   "id": "ad862b4f",
   "metadata": {},
   "outputs": [
    {
     "data": {
      "text/plain": [
       "np.float64(0.682140062597809)"
      ]
     },
     "execution_count": 84,
     "metadata": {},
     "output_type": "execute_result"
    }
   ],
   "source": [
    "x_cross = bining.fit_transform(x)\n",
    "\n",
    "de= DecisionTreeClassifier()\n",
    "\n",
    "np.mean(cross_val_score(de,x_cross,y,scoring='accuracy',cv=10))"
   ]
  },
  {
   "cell_type": "code",
   "execution_count": 85,
   "id": "93ff379b",
   "metadata": {},
   "outputs": [
    {
     "data": {
      "text/plain": [
       "array([[7., 8.],\n",
       "       [0., 7.],\n",
       "       [7., 9.],\n",
       "       ...,\n",
       "       [2., 5.],\n",
       "       [4., 4.],\n",
       "       [3., 0.]], shape=(571, 2))"
      ]
     },
     "execution_count": 85,
     "metadata": {},
     "output_type": "execute_result"
    }
   ],
   "source": [
    "x_train_trf"
   ]
  },
  {
   "cell_type": "code",
   "execution_count": 86,
   "id": "a20fc2c2",
   "metadata": {},
   "outputs": [
    {
     "data": {
      "application/vnd.microsoft.datawrangler.viewer.v0+json": {
       "columns": [
        {
         "name": "index",
         "rawType": "int64",
         "type": "integer"
        },
        {
         "name": "age",
         "rawType": "float64",
         "type": "float"
        },
        {
         "name": "age_trans",
         "rawType": "float64",
         "type": "float"
        },
        {
         "name": "fare",
         "rawType": "float64",
         "type": "float"
        },
        {
         "name": "fare_trans",
         "rawType": "float64",
         "type": "float"
        }
       ],
       "ref": "9784028a-93d0-4fec-bd5f-a3d085bd3181",
       "rows": [
        [
         "3",
         "35.0",
         "7.0",
         "53.1",
         "8.0"
        ],
        [
         "541",
         "9.0",
         "0.0",
         "31.275",
         "7.0"
        ],
        [
         "679",
         "36.0",
         "7.0",
         "512.3292",
         "9.0"
        ],
        [
         "14",
         "14.0",
         "1.0",
         "7.8542",
         "1.0"
        ],
        [
         "238",
         "19.0",
         "2.0",
         "10.5",
         "3.0"
        ],
        [
         "500",
         "17.0",
         "1.0",
         "8.6625",
         "2.0"
        ],
        [
         "54",
         "65.0",
         "9.0",
         "61.9792",
         "8.0"
        ],
        [
         "555",
         "62.0",
         "9.0",
         "26.55",
         "6.0"
        ],
        [
         "85",
         "33.0",
         "6.0",
         "15.85",
         "5.0"
        ],
        [
         "93",
         "26.0",
         "4.0",
         "20.575",
         "5.0"
        ],
        [
         "340",
         "2.0",
         "0.0",
         "26.0",
         "6.0"
        ],
        [
         "292",
         "36.0",
         "7.0",
         "12.875",
         "4.0"
        ],
        [
         "142",
         "24.0",
         "3.0",
         "15.85",
         "5.0"
        ],
        [
         "433",
         "17.0",
         "1.0",
         "7.125",
         "0.0"
        ],
        [
         "750",
         "4.0",
         "0.0",
         "23.0",
         "5.0"
        ],
        [
         "553",
         "22.0",
         "3.0",
         "7.225",
         "0.0"
        ],
        [
         "416",
         "34.0",
         "6.0",
         "32.5",
         "7.0"
        ],
        [
         "321",
         "27.0",
         "4.0",
         "7.8958",
         "1.0"
        ],
        [
         "821",
         "27.0",
         "4.0",
         "8.6625",
         "2.0"
        ],
        [
         "343",
         "25.0",
         "4.0",
         "13.0",
         "4.0"
        ],
        [
         "162",
         "26.0",
         "4.0",
         "7.775",
         "1.0"
        ],
        [
         "149",
         "42.0",
         "8.0",
         "13.0",
         "4.0"
        ],
        [
         "8",
         "27.0",
         "4.0",
         "11.1333",
         "3.0"
        ],
        [
         "623",
         "21.0",
         "2.0",
         "7.8542",
         "1.0"
        ],
        [
         "230",
         "35.0",
         "7.0",
         "83.475",
         "9.0"
        ],
        [
         "259",
         "50.0",
         "9.0",
         "26.0",
         "6.0"
        ],
        [
         "672",
         "70.0",
         "9.0",
         "10.5",
         "3.0"
        ],
        [
         "13",
         "39.0",
         "7.0",
         "31.275",
         "7.0"
        ],
        [
         "213",
         "30.0",
         "5.0",
         "13.0",
         "4.0"
        ],
        [
         "429",
         "32.0",
         "6.0",
         "8.05",
         "2.0"
        ],
        [
         "586",
         "47.0",
         "8.0",
         "15.0",
         "4.0"
        ],
        [
         "789",
         "46.0",
         "8.0",
         "79.2",
         "9.0"
        ],
        [
         "746",
         "16.0",
         "1.0",
         "20.25",
         "5.0"
        ],
        [
         "836",
         "21.0",
         "2.0",
         "8.6625",
         "2.0"
        ],
        [
         "129",
         "45.0",
         "8.0",
         "6.975",
         "0.0"
        ],
        [
         "152",
         "55.5",
         "9.0",
         "8.05",
         "2.0"
        ],
        [
         "224",
         "38.0",
         "7.0",
         "90.0",
         "9.0"
        ],
        [
         "203",
         "45.5",
         "8.0",
         "7.225",
         "0.0"
        ],
        [
         "856",
         "45.0",
         "8.0",
         "164.8667",
         "9.0"
        ],
        [
         "191",
         "19.0",
         "2.0",
         "13.0",
         "4.0"
        ],
        [
         "313",
         "28.0",
         "5.0",
         "7.8958",
         "1.0"
        ],
        [
         "348",
         "3.0",
         "0.0",
         "15.9",
         "5.0"
        ],
        [
         "392",
         "28.0",
         "5.0",
         "7.925",
         "2.0"
        ],
        [
         "399",
         "28.0",
         "5.0",
         "12.65",
         "3.0"
        ],
        [
         "311",
         "18.0",
         "2.0",
         "262.375",
         "9.0"
        ],
        [
         "550",
         "17.0",
         "1.0",
         "110.8833",
         "9.0"
        ],
        [
         "252",
         "62.0",
         "9.0",
         "26.55",
         "6.0"
        ],
        [
         "537",
         "30.0",
         "5.0",
         "106.425",
         "9.0"
        ],
        [
         "408",
         "21.0",
         "2.0",
         "7.775",
         "1.0"
        ],
        [
         "167",
         "45.0",
         "8.0",
         "27.9",
         "6.0"
        ]
       ],
       "shape": {
        "columns": 4,
        "rows": 571
       }
      },
      "text/html": [
       "<div>\n",
       "<style scoped>\n",
       "    .dataframe tbody tr th:only-of-type {\n",
       "        vertical-align: middle;\n",
       "    }\n",
       "\n",
       "    .dataframe tbody tr th {\n",
       "        vertical-align: top;\n",
       "    }\n",
       "\n",
       "    .dataframe thead th {\n",
       "        text-align: right;\n",
       "    }\n",
       "</style>\n",
       "<table border=\"1\" class=\"dataframe\">\n",
       "  <thead>\n",
       "    <tr style=\"text-align: right;\">\n",
       "      <th></th>\n",
       "      <th>age</th>\n",
       "      <th>age_trans</th>\n",
       "      <th>fare</th>\n",
       "      <th>fare_trans</th>\n",
       "    </tr>\n",
       "  </thead>\n",
       "  <tbody>\n",
       "    <tr>\n",
       "      <th>3</th>\n",
       "      <td>35.0</td>\n",
       "      <td>7.0</td>\n",
       "      <td>53.1000</td>\n",
       "      <td>8.0</td>\n",
       "    </tr>\n",
       "    <tr>\n",
       "      <th>541</th>\n",
       "      <td>9.0</td>\n",
       "      <td>0.0</td>\n",
       "      <td>31.2750</td>\n",
       "      <td>7.0</td>\n",
       "    </tr>\n",
       "    <tr>\n",
       "      <th>679</th>\n",
       "      <td>36.0</td>\n",
       "      <td>7.0</td>\n",
       "      <td>512.3292</td>\n",
       "      <td>9.0</td>\n",
       "    </tr>\n",
       "    <tr>\n",
       "      <th>14</th>\n",
       "      <td>14.0</td>\n",
       "      <td>1.0</td>\n",
       "      <td>7.8542</td>\n",
       "      <td>1.0</td>\n",
       "    </tr>\n",
       "    <tr>\n",
       "      <th>238</th>\n",
       "      <td>19.0</td>\n",
       "      <td>2.0</td>\n",
       "      <td>10.5000</td>\n",
       "      <td>3.0</td>\n",
       "    </tr>\n",
       "    <tr>\n",
       "      <th>...</th>\n",
       "      <td>...</td>\n",
       "      <td>...</td>\n",
       "      <td>...</td>\n",
       "      <td>...</td>\n",
       "    </tr>\n",
       "    <tr>\n",
       "      <th>676</th>\n",
       "      <td>24.5</td>\n",
       "      <td>3.0</td>\n",
       "      <td>8.0500</td>\n",
       "      <td>2.0</td>\n",
       "    </tr>\n",
       "    <tr>\n",
       "      <th>734</th>\n",
       "      <td>23.0</td>\n",
       "      <td>3.0</td>\n",
       "      <td>13.0000</td>\n",
       "      <td>4.0</td>\n",
       "    </tr>\n",
       "    <tr>\n",
       "      <th>624</th>\n",
       "      <td>21.0</td>\n",
       "      <td>2.0</td>\n",
       "      <td>16.1000</td>\n",
       "      <td>5.0</td>\n",
       "    </tr>\n",
       "    <tr>\n",
       "      <th>666</th>\n",
       "      <td>25.0</td>\n",
       "      <td>4.0</td>\n",
       "      <td>13.0000</td>\n",
       "      <td>4.0</td>\n",
       "    </tr>\n",
       "    <tr>\n",
       "      <th>210</th>\n",
       "      <td>24.0</td>\n",
       "      <td>3.0</td>\n",
       "      <td>7.0500</td>\n",
       "      <td>0.0</td>\n",
       "    </tr>\n",
       "  </tbody>\n",
       "</table>\n",
       "<p>571 rows × 4 columns</p>\n",
       "</div>"
      ],
      "text/plain": [
       "      age  age_trans      fare  fare_trans\n",
       "3    35.0        7.0   53.1000         8.0\n",
       "541   9.0        0.0   31.2750         7.0\n",
       "679  36.0        7.0  512.3292         9.0\n",
       "14   14.0        1.0    7.8542         1.0\n",
       "238  19.0        2.0   10.5000         3.0\n",
       "..    ...        ...       ...         ...\n",
       "676  24.5        3.0    8.0500         2.0\n",
       "734  23.0        3.0   13.0000         4.0\n",
       "624  21.0        2.0   16.1000         5.0\n",
       "666  25.0        4.0   13.0000         4.0\n",
       "210  24.0        3.0    7.0500         0.0\n",
       "\n",
       "[571 rows x 4 columns]"
      ]
     },
     "execution_count": 86,
     "metadata": {},
     "output_type": "execute_result"
    }
   ],
   "source": [
    "\n",
    "pd.DataFrame({\n",
    "    'age':x_train['Age'],\n",
    "    'age_trans':x_train_trf[:,0],\n",
    "    'fare':x_train['Fare'],\n",
    "    'fare_trans':x_train_trf[:,1]\n",
    "    \n",
    "    \n",
    "    \n",
    "    \n",
    "})"
   ]
  },
  {
   "cell_type": "markdown",
   "id": "9759a6af",
   "metadata": {},
   "source": [
    "\n",
    "#### function to plot"
   ]
  },
  {
   "cell_type": "code",
   "execution_count": 87,
   "id": "d0dcb5b5",
   "metadata": {},
   "outputs": [],
   "source": [
    "def dist(bins,strategy):\n",
    "\n",
    "#! kbin \n",
    "    kbin_age=KBinsDiscretizer(n_bins=bins,strategy=strategy,encode='ordinal')\n",
    "    kbin_fare=KBinsDiscretizer(n_bins=bins,strategy=strategy,encode='ordinal')\n",
    "    \n",
    "#^ columunar transform   \n",
    "    clf = ColumnTransformer([\n",
    "        \n",
    "    ('first',kbin_age,[0]),\n",
    "    ('second',kbin_fare,[1])\n",
    "        \n",
    "        ])\n",
    "    \n",
    "    \n",
    "#* cross validation \n",
    "    x_c = clf.fit_transform(x)\n",
    "    xs= np.mean(cross_val_score(DecisionTreeClassifier(),x,y,scoring='accuracy',cv=10))\n",
    "    print(xs)\n",
    "    \n",
    "    \n",
    "#! ploting is here\n",
    "\n",
    "    fig, (ax1,ax2)=plt.subplots(ncols=2,figsize=(8,3))\n",
    "    sns.histplot(x['Age'],ax=ax1,kde=True,color=\"#000000\")\n",
    "    ax1.set_title(\"before\")\n",
    "    \n",
    "    \n",
    "    plt.hist(x_c[:,0],color=\"#FF0202\",edgecolor='#0C0A09')\n",
    "    ax2.set_title(\"after\")\n",
    "    plt.show()\n",
    "    \n",
    "    \n",
    "    \n",
    "    \n",
    "    fig, (ax1,ax2)=plt.subplots(ncols=2,figsize=(8,3))\n",
    "    sns.histplot(x['Fare'],ax=ax1,kde=True,color=\"#00B374\")\n",
    "    ax1.set_title(\"before\")\n",
    "    \n",
    "    \n",
    "    plt.hist(x_c[:,1],color=\"#FF04EA\",edgecolor='black')\n",
    "    ax2.set_title(\"after\")\n",
    "    plt.show()\n",
    "    \n",
    "    \n",
    "    \n",
    "    "
   ]
  },
  {
   "cell_type": "code",
   "execution_count": 88,
   "id": "4ac0ee54",
   "metadata": {},
   "outputs": [
    {
     "name": "stdout",
     "output_type": "stream",
     "text": [
      "0.6302816901408451\n"
     ]
    },
    {
     "data": {
      "image/png": "[encoded data removed]",
      "text/plain": [
       "<Figure size 800x300 with 2 Axes>"
      ]
     },
     "metadata": {},
     "output_type": "display_data"
    },
    {
     "data": {
      "image/png": "[encoded data removed]",
      "text/plain": [
       "<Figure size 800x300 with 2 Axes>"
      ]
     },
     "metadata": {},
     "output_type": "display_data"
    }
   ],
   "source": [
    "dist(10,'quantile')"
   ]
  },
  {
   "cell_type": "code",
   "execution_count": 89,
   "id": "a99f8db2",
   "metadata": {},
   "outputs": [
    {
     "name": "stdout",
     "output_type": "stream",
     "text": [
      "0.6317292644757433\n"
     ]
    },
    {
     "data": {
      "image/png": "[encoded data removed]",
      "text/plain": [
       "<Figure size 800x300 with 2 Axes>"
      ]
     },
     "metadata": {},
     "output_type": "display_data"
    },
    {
     "data": {
      "image/png": "[encoded data removed]",
      "text/plain": [
       "<Figure size 800x300 with 2 Axes>"
      ]
     },
     "metadata": {},
     "output_type": "display_data"
    }
   ],
   "source": [
    "dist(10,'kmeans')"
   ]
  },
  {
   "cell_type": "code",
   "execution_count": 90,
   "id": "35c2c2cd",
   "metadata": {},
   "outputs": [
    {
     "name": "stdout",
     "output_type": "stream",
     "text": [
      "0.6317488262910798\n"
     ]
    },
    {
     "data": {
      "image/png": "[encoded data removed]",
      "text/plain": [
       "<Figure size 800x300 with 2 Axes>"
      ]
     },
     "metadata": {},
     "output_type": "display_data"
    },
    {
     "data": {
      "image/png": "[encoded data removed]",
      "text/plain": [
       "<Figure size 800x300 with 2 Axes>"
      ]
     },
     "metadata": {},
     "output_type": "display_data"
    }
   ],
   "source": [
    "dist(10,'uniform')"
   ]
  },
  {
   "cell_type": "code",
   "execution_count": 91,
   "id": "7246ad1b",
   "metadata": {},
   "outputs": [
    {
     "data": {
      "text/plain": [
       "np.float64(0.682140062597809)"
      ]
     },
     "execution_count": 91,
     "metadata": {},
     "output_type": "execute_result"
    }
   ],
   "source": [
    "# cross validation \n",
    "\n",
    "\n",
    "\n",
    "\n",
    "\n",
    "\n",
    "\n",
    "kbin_age=KBinsDiscretizer(n_bins=10,strategy='quantile',encode='ordinal')\n",
    "kbin_fare=KBinsDiscretizer(n_bins=10,strategy='quantile',encode='ordinal')\n",
    "\n",
    "clf = ColumnTransformer([\n",
    "    \n",
    "('first',kbin_age,[0]),\n",
    "('second',kbin_fare,[1])\n",
    "    \n",
    "    ])\n",
    "    \n",
    "x_c = clf.fit_transform(x)\n",
    "de=DecisionTreeClassifier()\n",
    "np.mean(cross_val_score(de,x_c,y,scoring='accuracy',cv=10))"
   ]
  },
  {
   "cell_type": "markdown",
   "id": "b25066bc",
   "metadata": {},
   "source": [
    "#### tip  data set binning "
   ]
  },
  {
   "cell_type": "code",
   "execution_count": 92,
   "id": "3c2c9b85",
   "metadata": {},
   "outputs": [],
   "source": [
    "tips =sns.load_dataset('tips')"
   ]
  },
  {
   "cell_type": "code",
   "execution_count": 93,
   "id": "f84bd5d5",
   "metadata": {},
   "outputs": [],
   "source": [
    "tips.drop(columns=['sex','smoker','day','time'],inplace=True)"
   ]
  },
  {
   "cell_type": "code",
   "execution_count": 94,
   "id": "b91048e5",
   "metadata": {},
   "outputs": [
    {
     "data": {
      "application/vnd.microsoft.datawrangler.viewer.v0+json": {
       "columns": [
        {
         "name": "index",
         "rawType": "int64",
         "type": "integer"
        },
        {
         "name": "total_bill",
         "rawType": "float64",
         "type": "float"
        },
        {
         "name": "tip",
         "rawType": "float64",
         "type": "float"
        },
        {
         "name": "size",
         "rawType": "int64",
         "type": "integer"
        }
       ],
       "ref": "f3ecc270-3290-4689-84ea-cbf8e0db3825",
       "rows": [
        [
         "0",
         "16.99",
         "1.01",
         "2"
        ],
        [
         "1",
         "10.34",
         "1.66",
         "3"
        ],
        [
         "2",
         "21.01",
         "3.5",
         "3"
        ],
        [
         "3",
         "23.68",
         "3.31",
         "2"
        ],
        [
         "4",
         "24.59",
         "3.61",
         "4"
        ],
        [
         "5",
         "25.29",
         "4.71",
         "4"
        ],
        [
         "6",
         "8.77",
         "2.0",
         "2"
        ],
        [
         "7",
         "26.88",
         "3.12",
         "4"
        ],
        [
         "8",
         "15.04",
         "1.96",
         "2"
        ],
        [
         "9",
         "14.78",
         "3.23",
         "2"
        ],
        [
         "10",
         "10.27",
         "1.71",
         "2"
        ],
        [
         "11",
         "35.26",
         "5.0",
         "4"
        ],
        [
         "12",
         "15.42",
         "1.57",
         "2"
        ],
        [
         "13",
         "18.43",
         "3.0",
         "4"
        ],
        [
         "14",
         "14.83",
         "3.02",
         "2"
        ],
        [
         "15",
         "21.58",
         "3.92",
         "2"
        ],
        [
         "16",
         "10.33",
         "1.67",
         "3"
        ],
        [
         "17",
         "16.29",
         "3.71",
         "3"
        ],
        [
         "18",
         "16.97",
         "3.5",
         "3"
        ],
        [
         "19",
         "20.65",
         "3.35",
         "3"
        ],
        [
         "20",
         "17.92",
         "4.08",
         "2"
        ],
        [
         "21",
         "20.29",
         "2.75",
         "2"
        ],
        [
         "22",
         "15.77",
         "2.23",
         "2"
        ],
        [
         "23",
         "39.42",
         "7.58",
         "4"
        ],
        [
         "24",
         "19.82",
         "3.18",
         "2"
        ],
        [
         "25",
         "17.81",
         "2.34",
         "4"
        ],
        [
         "26",
         "13.37",
         "2.0",
         "2"
        ],
        [
         "27",
         "12.69",
         "2.0",
         "2"
        ],
        [
         "28",
         "21.7",
         "4.3",
         "2"
        ],
        [
         "29",
         "19.65",
         "3.0",
         "2"
        ],
        [
         "30",
         "9.55",
         "1.45",
         "2"
        ],
        [
         "31",
         "18.35",
         "2.5",
         "4"
        ],
        [
         "32",
         "15.06",
         "3.0",
         "2"
        ],
        [
         "33",
         "20.69",
         "2.45",
         "4"
        ],
        [
         "34",
         "17.78",
         "3.27",
         "2"
        ],
        [
         "35",
         "24.06",
         "3.6",
         "3"
        ],
        [
         "36",
         "16.31",
         "2.0",
         "3"
        ],
        [
         "37",
         "16.93",
         "3.07",
         "3"
        ],
        [
         "38",
         "18.69",
         "2.31",
         "3"
        ],
        [
         "39",
         "31.27",
         "5.0",
         "3"
        ],
        [
         "40",
         "16.04",
         "2.24",
         "3"
        ],
        [
         "41",
         "17.46",
         "2.54",
         "2"
        ],
        [
         "42",
         "13.94",
         "3.06",
         "2"
        ],
        [
         "43",
         "9.68",
         "1.32",
         "2"
        ],
        [
         "44",
         "30.4",
         "5.6",
         "4"
        ],
        [
         "45",
         "18.29",
         "3.0",
         "2"
        ],
        [
         "46",
         "22.23",
         "5.0",
         "2"
        ],
        [
         "47",
         "32.4",
         "6.0",
         "4"
        ],
        [
         "48",
         "28.55",
         "2.05",
         "3"
        ],
        [
         "49",
         "18.04",
         "3.0",
         "2"
        ]
       ],
       "shape": {
        "columns": 3,
        "rows": 244
       }
      },
      "text/html": [
       "<div>\n",
       "<style scoped>\n",
       "    .dataframe tbody tr th:only-of-type {\n",
       "        vertical-align: middle;\n",
       "    }\n",
       "\n",
       "    .dataframe tbody tr th {\n",
       "        vertical-align: top;\n",
       "    }\n",
       "\n",
       "    .dataframe thead th {\n",
       "        text-align: right;\n",
       "    }\n",
       "</style>\n",
       "<table border=\"1\" class=\"dataframe\">\n",
       "  <thead>\n",
       "    <tr style=\"text-align: right;\">\n",
       "      <th></th>\n",
       "      <th>total_bill</th>\n",
       "      <th>tip</th>\n",
       "      <th>size</th>\n",
       "    </tr>\n",
       "  </thead>\n",
       "  <tbody>\n",
       "    <tr>\n",
       "      <th>0</th>\n",
       "      <td>16.99</td>\n",
       "      <td>1.01</td>\n",
       "      <td>2</td>\n",
       "    </tr>\n",
       "    <tr>\n",
       "      <th>1</th>\n",
       "      <td>10.34</td>\n",
       "      <td>1.66</td>\n",
       "      <td>3</td>\n",
       "    </tr>\n",
       "    <tr>\n",
       "      <th>2</th>\n",
       "      <td>21.01</td>\n",
       "      <td>3.50</td>\n",
       "      <td>3</td>\n",
       "    </tr>\n",
       "    <tr>\n",
       "      <th>3</th>\n",
       "      <td>23.68</td>\n",
       "      <td>3.31</td>\n",
       "      <td>2</td>\n",
       "    </tr>\n",
       "    <tr>\n",
       "      <th>4</th>\n",
       "      <td>24.59</td>\n",
       "      <td>3.61</td>\n",
       "      <td>4</td>\n",
       "    </tr>\n",
       "    <tr>\n",
       "      <th>...</th>\n",
       "      <td>...</td>\n",
       "      <td>...</td>\n",
       "      <td>...</td>\n",
       "    </tr>\n",
       "    <tr>\n",
       "      <th>239</th>\n",
       "      <td>29.03</td>\n",
       "      <td>5.92</td>\n",
       "      <td>3</td>\n",
       "    </tr>\n",
       "    <tr>\n",
       "      <th>240</th>\n",
       "      <td>27.18</td>\n",
       "      <td>2.00</td>\n",
       "      <td>2</td>\n",
       "    </tr>\n",
       "    <tr>\n",
       "      <th>241</th>\n",
       "      <td>22.67</td>\n",
       "      <td>2.00</td>\n",
       "      <td>2</td>\n",
       "    </tr>\n",
       "    <tr>\n",
       "      <th>242</th>\n",
       "      <td>17.82</td>\n",
       "      <td>1.75</td>\n",
       "      <td>2</td>\n",
       "    </tr>\n",
       "    <tr>\n",
       "      <th>243</th>\n",
       "      <td>18.78</td>\n",
       "      <td>3.00</td>\n",
       "      <td>2</td>\n",
       "    </tr>\n",
       "  </tbody>\n",
       "</table>\n",
       "<p>244 rows × 3 columns</p>\n",
       "</div>"
      ],
      "text/plain": [
       "     total_bill   tip  size\n",
       "0         16.99  1.01     2\n",
       "1         10.34  1.66     3\n",
       "2         21.01  3.50     3\n",
       "3         23.68  3.31     2\n",
       "4         24.59  3.61     4\n",
       "..          ...   ...   ...\n",
       "239       29.03  5.92     3\n",
       "240       27.18  2.00     2\n",
       "241       22.67  2.00     2\n",
       "242       17.82  1.75     2\n",
       "243       18.78  3.00     2\n",
       "\n",
       "[244 rows x 3 columns]"
      ]
     },
     "execution_count": 94,
     "metadata": {},
     "output_type": "execute_result"
    }
   ],
   "source": [
    "tips"
   ]
  },
  {
   "cell_type": "code",
   "execution_count": 95,
   "id": "02475f90",
   "metadata": {},
   "outputs": [],
   "source": [
    "X= tips.iloc[:,[0,1]]\n",
    "Y= tips.iloc[:,2]"
   ]
  },
  {
   "cell_type": "code",
   "execution_count": 96,
   "id": "29a0d94a",
   "metadata": {},
   "outputs": [
    {
     "data": {
      "text/plain": [
       "((244, 2), (244,))"
      ]
     },
     "execution_count": 96,
     "metadata": {},
     "output_type": "execute_result"
    }
   ],
   "source": [
    "X.shape,Y.shape"
   ]
  },
  {
   "cell_type": "code",
   "execution_count": 101,
   "id": "458ef04b",
   "metadata": {},
   "outputs": [],
   "source": [
    "x_train,x_test,y_train,y_test= train_test_split(X,Y, test_size=0.2,random_state=42)"
   ]
  },
  {
   "cell_type": "code",
   "execution_count": 102,
   "id": "a09b1ffc",
   "metadata": {},
   "outputs": [
    {
     "data": {
      "text/plain": [
       "((49, 2), (195, 2))"
      ]
     },
     "execution_count": 102,
     "metadata": {},
     "output_type": "execute_result"
    }
   ],
   "source": [
    "x_test.shape,x_train.shape"
   ]
  },
  {
   "cell_type": "code",
   "execution_count": 103,
   "id": "551a23d9",
   "metadata": {},
   "outputs": [
    {
     "name": "stdout",
     "output_type": "stream",
     "text": [
      "accuracy_score 0.5102040816326531\n"
     ]
    }
   ],
   "source": [
    "de= DecisionTreeClassifier()\n",
    "\n",
    "\n",
    "de.fit(x_train,y_train)\n",
    "\n",
    "Y_pred = de.predict(x_test)\n",
    "\n",
    "print(\"accuracy_score\",accuracy_score(y_test,Y_pred))"
   ]
  },
  {
   "cell_type": "markdown",
   "id": "1706823b",
   "metadata": {},
   "source": [
    "#### cross validtion"
   ]
  },
  {
   "cell_type": "code",
   "execution_count": 104,
   "id": "7b7b6a8a",
   "metadata": {},
   "outputs": [
    {
     "data": {
      "text/plain": [
       "np.float64(0.5613333333333335)"
      ]
     },
     "execution_count": 104,
     "metadata": {},
     "output_type": "execute_result"
    }
   ],
   "source": [
    "np.mean(cross_val_score(DecisionTreeClassifier(),X,Y,scoring='accuracy',cv=10))"
   ]
  },
  {
   "cell_type": "markdown",
   "id": "d8d6c1b6",
   "metadata": {},
   "source": [
    "#### now dow colusion\n"
   ]
  },
  {
   "cell_type": "code",
   "execution_count": 105,
   "id": "e79efc60",
   "metadata": {},
   "outputs": [
    {
     "data": {
      "application/vnd.microsoft.datawrangler.viewer.v0+json": {
       "columns": [
        {
         "name": "index",
         "rawType": "int64",
         "type": "integer"
        },
        {
         "name": "total_bill",
         "rawType": "float64",
         "type": "float"
        },
        {
         "name": "tip",
         "rawType": "float64",
         "type": "float"
        }
       ],
       "ref": "d5c49ebb-7ae6-4889-ba69-1182e85a4f5a",
       "rows": [
        [
         "228",
         "13.28",
         "2.72"
        ],
        [
         "208",
         "24.27",
         "2.03"
        ],
        [
         "96",
         "27.28",
         "4.0"
        ],
        [
         "167",
         "31.71",
         "4.5"
        ],
        [
         "84",
         "15.98",
         "2.03"
        ],
        [
         "55",
         "19.49",
         "3.51"
        ],
        [
         "86",
         "13.03",
         "2.0"
        ],
        [
         "172",
         "7.25",
         "5.15"
        ],
        [
         "242",
         "17.82",
         "1.75"
        ],
        [
         "152",
         "17.26",
         "2.74"
        ],
        [
         "231",
         "15.69",
         "3.0"
        ],
        [
         "155",
         "29.85",
         "5.14"
        ],
        [
         "115",
         "17.31",
         "3.5"
        ],
        [
         "181",
         "23.33",
         "5.65"
        ],
        [
         "225",
         "16.27",
         "2.5"
        ],
        [
         "68",
         "20.23",
         "2.01"
        ],
        [
         "104",
         "20.92",
         "4.08"
        ],
        [
         "69",
         "15.01",
         "2.09"
        ],
        [
         "111",
         "7.25",
         "1.0"
        ],
        [
         "206",
         "26.59",
         "3.41"
        ],
        [
         "165",
         "24.52",
         "3.48"
        ],
        [
         "154",
         "19.77",
         "2.0"
        ],
        [
         "216",
         "28.15",
         "3.0"
        ],
        [
         "79",
         "17.29",
         "2.71"
        ],
        [
         "29",
         "19.65",
         "3.0"
        ],
        [
         "234",
         "15.53",
         "3.0"
        ],
        [
         "227",
         "20.45",
         "3.0"
        ],
        [
         "180",
         "34.65",
         "3.68"
        ],
        [
         "5",
         "25.29",
         "4.71"
        ],
        [
         "56",
         "38.01",
         "3.0"
        ],
        [
         "125",
         "29.8",
         "4.2"
        ],
        [
         "148",
         "9.78",
         "1.73"
        ],
        [
         "114",
         "25.71",
         "4.0"
        ],
        [
         "65",
         "20.08",
         "3.15"
        ],
        [
         "132",
         "11.17",
         "1.5"
        ],
        [
         "207",
         "38.73",
         "3.0"
        ],
        [
         "162",
         "16.21",
         "2.0"
        ],
        [
         "31",
         "18.35",
         "2.5"
        ],
        [
         "12",
         "15.42",
         "1.57"
        ],
        [
         "35",
         "24.06",
         "3.6"
        ],
        [
         "28",
         "21.7",
         "4.3"
        ],
        [
         "42",
         "13.94",
         "3.06"
        ],
        [
         "239",
         "29.03",
         "5.92"
        ],
        [
         "126",
         "8.52",
         "1.48"
        ],
        [
         "93",
         "16.32",
         "4.3"
        ],
        [
         "164",
         "17.51",
         "3.0"
        ],
        [
         "51",
         "10.29",
         "2.6"
        ],
        [
         "95",
         "40.17",
         "4.73"
        ],
        [
         "140",
         "17.47",
         "3.5"
        ],
        [
         "194",
         "16.58",
         "4.0"
        ]
       ],
       "shape": {
        "columns": 2,
        "rows": 195
       }
      },
      "text/html": [
       "<div>\n",
       "<style scoped>\n",
       "    .dataframe tbody tr th:only-of-type {\n",
       "        vertical-align: middle;\n",
       "    }\n",
       "\n",
       "    .dataframe tbody tr th {\n",
       "        vertical-align: top;\n",
       "    }\n",
       "\n",
       "    .dataframe thead th {\n",
       "        text-align: right;\n",
       "    }\n",
       "</style>\n",
       "<table border=\"1\" class=\"dataframe\">\n",
       "  <thead>\n",
       "    <tr style=\"text-align: right;\">\n",
       "      <th></th>\n",
       "      <th>total_bill</th>\n",
       "      <th>tip</th>\n",
       "    </tr>\n",
       "  </thead>\n",
       "  <tbody>\n",
       "    <tr>\n",
       "      <th>228</th>\n",
       "      <td>13.28</td>\n",
       "      <td>2.72</td>\n",
       "    </tr>\n",
       "    <tr>\n",
       "      <th>208</th>\n",
       "      <td>24.27</td>\n",
       "      <td>2.03</td>\n",
       "    </tr>\n",
       "    <tr>\n",
       "      <th>96</th>\n",
       "      <td>27.28</td>\n",
       "      <td>4.00</td>\n",
       "    </tr>\n",
       "    <tr>\n",
       "      <th>167</th>\n",
       "      <td>31.71</td>\n",
       "      <td>4.50</td>\n",
       "    </tr>\n",
       "    <tr>\n",
       "      <th>84</th>\n",
       "      <td>15.98</td>\n",
       "      <td>2.03</td>\n",
       "    </tr>\n",
       "    <tr>\n",
       "      <th>...</th>\n",
       "      <td>...</td>\n",
       "      <td>...</td>\n",
       "    </tr>\n",
       "    <tr>\n",
       "      <th>106</th>\n",
       "      <td>20.49</td>\n",
       "      <td>4.06</td>\n",
       "    </tr>\n",
       "    <tr>\n",
       "      <th>14</th>\n",
       "      <td>14.83</td>\n",
       "      <td>3.02</td>\n",
       "    </tr>\n",
       "    <tr>\n",
       "      <th>92</th>\n",
       "      <td>5.75</td>\n",
       "      <td>1.00</td>\n",
       "    </tr>\n",
       "    <tr>\n",
       "      <th>179</th>\n",
       "      <td>34.63</td>\n",
       "      <td>3.55</td>\n",
       "    </tr>\n",
       "    <tr>\n",
       "      <th>102</th>\n",
       "      <td>44.30</td>\n",
       "      <td>2.50</td>\n",
       "    </tr>\n",
       "  </tbody>\n",
       "</table>\n",
       "<p>195 rows × 2 columns</p>\n",
       "</div>"
      ],
      "text/plain": [
       "     total_bill   tip\n",
       "228       13.28  2.72\n",
       "208       24.27  2.03\n",
       "96        27.28  4.00\n",
       "167       31.71  4.50\n",
       "84        15.98  2.03\n",
       "..          ...   ...\n",
       "106       20.49  4.06\n",
       "14        14.83  3.02\n",
       "92         5.75  1.00\n",
       "179       34.63  3.55\n",
       "102       44.30  2.50\n",
       "\n",
       "[195 rows x 2 columns]"
      ]
     },
     "execution_count": 105,
     "metadata": {},
     "output_type": "execute_result"
    }
   ],
   "source": [
    "x_train"
   ]
  },
  {
   "cell_type": "code",
   "execution_count": 106,
   "id": "39a0c172",
   "metadata": {},
   "outputs": [],
   "source": [
    "def p(bins,str):\n",
    "    kbin_total =KBinsDiscretizer(n_bins=bins,strategy=str,encode='ordinal')\n",
    "    kbin_tip =KBinsDiscretizer(n_bins=bins,strategy=str,encode='ordinal')\n",
    "    \n",
    "    \n",
    "    clf = ColumnTransformer([\n",
    "     ('first',kbin_total,[0]),\n",
    "     ('second',kbin_tip,[1])\n",
    "        \n",
    "        \n",
    "    ],remainder='passthrough')\n",
    "    \n",
    "    #cross validation\n",
    "    x_c = clf.fit_transform(X)\n",
    "    ss = np.mean(cross_val_score(DecisionTreeClassifier(),X,Y,scoring='accuracy',cv=10))\n",
    "    print(ss)\n",
    "    \n",
    "    \n",
    "    fig, (ax1,ax2,ax3,ax4)= plt.subplots(ncols=4,figsize=(15,3.1))\n",
    "    \n",
    "    sns.histplot(X['total_bill'],ax=ax1,kde=True,color='yellow')\n",
    "    ax1.set_title(\"before\")\n",
    "    \n",
    "    sns.histplot(x_c[:,0],kde=True,color='red',ax=ax2)\n",
    "    \n",
    "    sns.histplot(X['tip'],ax=ax3,kde=True,color='yellow')\n",
    "    ax3.set_title(\"tip before\")\n",
    "    \n",
    "    sns.histplot(x_c[:,1],kde=True,color='red',ax=ax4)\n",
    "    ax4.set_title(\"after\")\n",
    "    \n",
    "    \n",
    "    \n",
    "    \n",
    "    \n",
    "    \n"
   ]
  },
  {
   "cell_type": "code",
   "execution_count": 109,
   "id": "33050dc5",
   "metadata": {},
   "outputs": [
    {
     "name": "stdout",
     "output_type": "stream",
     "text": [
      "0.5493333333333335\n"
     ]
    },
    {
     "data": {
      "image/png": "[encoded data removed]",
      "text/plain": [
       "<Figure size 1500x310 with 4 Axes>"
      ]
     },
     "metadata": {},
     "output_type": "display_data"
    }
   ],
   "source": [
    "p(10,'quantile')"
   ]
  },
  {
   "cell_type": "code",
   "execution_count": 110,
   "id": "92ed8657",
   "metadata": {},
   "outputs": [
    {
     "name": "stdout",
     "output_type": "stream",
     "text": [
      "0.5613333333333334\n"
     ]
    },
    {
     "data": {
      "image/png": "[encoded data removed]",
      "text/plain": [
       "<Figure size 1500x310 with 4 Axes>"
      ]
     },
     "metadata": {},
     "output_type": "display_data"
    }
   ],
   "source": [
    "p(20,'kmeans')"
   ]
  }
 ],
 "metadata": {
  "kernelspec": {
   "display_name": "Python 3",
   "language": "python",
   "name": "python3"
  },
  "language_info": {
   "codemirror_mode": {
    "name": "ipython",
    "version": 3
   },
   "file_extension": ".py",
   "mimetype": "text/x-python",
   "name": "python",
   "nbconvert_exporter": "python",
   "pygments_lexer": "ipython3",
   "version": "3.13.7"
  }
 },
 "nbformat": 4,
 "nbformat_minor": 5
}
