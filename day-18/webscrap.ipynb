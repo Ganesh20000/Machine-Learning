{
 "cells": [
  {
   "cell_type": "code",
   "execution_count": 94,
   "id": "050466a8",
   "metadata": {},
   "outputs": [],
   "source": [
    "import numpy as np\n",
    "import pandas as pd\n",
    "from bs4 import BeautifulSoup\n",
    "import requests"
   ]
  },
  {
   "cell_type": "code",
   "execution_count": 95,
   "id": "4eeb4334",
   "metadata": {},
   "outputs": [],
   "source": [
    "url=\"https://www.flipkart.com/search?q=laptop&otracker=search&otracker1=search&marketplace=FLIPKART&as-show=on&as=off&page=2\""
   ]
  },
  {
   "cell_type": "code",
   "execution_count": 96,
   "id": "f945f21f",
   "metadata": {},
   "outputs": [],
   "source": [
    "# https://www.flipkart.com/search?q=laptop&otracker=search&otracker1=search&marketplace=FLIPKART&as-show=on&as=off"
   ]
  },
  {
   "cell_type": "code",
   "execution_count": 97,
   "id": "0bad472e",
   "metadata": {},
   "outputs": [
    {
     "data": {
      "text/plain": [
       "'https://www.flipkart.com/search?q=laptop&otracker=search&otracker1=search&marketplace=FLIPKART&as-show=on&as=off&page=2'"
      ]
     },
     "execution_count": 97,
     "metadata": {},
     "output_type": "execute_result"
    }
   ],
   "source": [
    "\"https://www.flipkart.com/search?q=laptop&otracker=search&otracker1=search&marketplace=FLIPKART&as-show=on&as=off&page=2\""
   ]
  },
  {
   "cell_type": "code",
   "execution_count": 98,
   "id": "2a3cc40b",
   "metadata": {},
   "outputs": [],
   "source": [
    "r=requests.get(url)"
   ]
  },
  {
   "cell_type": "code",
   "execution_count": 99,
   "id": "37ebe876",
   "metadata": {},
   "outputs": [
    {
     "name": "stdout",
     "output_type": "stream",
     "text": [
      "<Response [200]>\n"
     ]
    }
   ],
   "source": [
    "print(r)"
   ]
  },
  {
   "cell_type": "code",
   "execution_count": 100,
   "id": "df990213",
   "metadata": {},
   "outputs": [],
   "source": [
    "soup=BeautifulSoup(r.text,\"html.parser\")"
   ]
  },
  {
   "cell_type": "code",
   "execution_count": 101,
   "id": "54da9264",
   "metadata": {},
   "outputs": [],
   "source": [
    "div = soup.find_all('div',class_='tUxRFH')"
   ]
  },
  {
   "cell_type": "code",
   "execution_count": 102,
   "id": "aec9d934",
   "metadata": {},
   "outputs": [
    {
     "data": {
      "text/plain": [
       "24"
      ]
     },
     "execution_count": 102,
     "metadata": {},
     "output_type": "execute_result"
    }
   ],
   "source": [
    "len(div)"
   ]
  },
  {
   "cell_type": "markdown",
   "id": "47595c82",
   "metadata": {},
   "source": [
    "<div class=\"tUxRFH\" data-tkid=\"en_vBF8GzEjrceltDFcBKrGkbGU8B3pBedqoHuGnZ1C9-ooNaMV3GwPq-S8laq4AUSKMxKENAhCWou_3ZqHrxGW1_UFjCTyOHoHZs-Z5_PS_w0=\"><a class=\"CGtC98\" target=\"_blank\" rel=\"noopener noreferrer\" href=\"/acer-aspire-3-intel-celeron-dual-core-8-gb-256-gb-ssd-windows-11-home-a311-45-thin-light-laptop/p/itmad38595c5a902?pid=COMH7NCZ8BARKXFF&amp;lid=LSTCOMH7NCZ8BARKXFFIUHV7S&amp;marketplace=FLIPKART&amp;q=laptop&amp;store=6bo%2Fb5g&amp;srno=s_1_1&amp;otracker=search&amp;otracker1=search&amp;iid=en_vBF8GzEjrceltDFcBKrGkbGU8B3pBedqoHuGnZ1C9-ooNaMV3GwPq-S8laq4AUSKMxKENAhCWou_3ZqHrxGW1_UFjCTyOHoHZs-Z5_PS_w0%3D&amp;ssid=gresguzyzk0000001759691619750&amp;qH=312f91285e048e09\"><div class=\"Otbq5D\" data-tkid=\"ADVIEW_en_vBF8GzEjrceltDFcBKrGkbGU8B3pBedqoHuGnZ1C9-ooNaMV3GwPq-S8laq4AUSKMxKENAhCWou_3ZqHrxGW1_UFjCTyOHoHZs-Z5_PS_w0=\"><div class=\"yPq5Io\"><div><div class=\"_4WELSP\" style=\"height: 200px; width: 200px;\"><img loading=\"eager\" class=\"DByuf4\" alt=\"Acer Aspire 3 Intel Celeron Dual Core - (8 GB/256 GB SSD/Windows 11 Home) A311-45 Thin and Light Lapto...\" src=\"https://rukminim2.flixcart.com/image/312/312/xif0q/computer/w/b/u/-original-imahgfdfbprdg3mm.jpeg?q=70\"></div></div></div><div class=\"qaR90o\"><div class=\"A8uQAd\"><span class=\"Lni97G\"><label class=\"tJjCVx\"><input type=\"checkbox\" class=\"vn9L2C\" readonly=\"\"><div class=\"XqNaEv\"></div></label></span><label class=\"uu79Xy\"><span>Add to Compare</span></label></div></div><div class=\"oUss6M ssUU08\"><div class=\"+7E521\"><svg xmlns=\"http://www.w3.org/2000/svg\" class=\"N1bADF\" width=\"16\" height=\"16\" viewBox=\"0 0 20 16\"><path d=\"M8.695 16.682C4.06 12.382 1 9.536 1 6.065 1 3.219 3.178 1 5.95 1c1.566 0 3.069.746 4.05 1.915C10.981 1.745 12.484 1 14.05 1 16.822 1 19 3.22 19 6.065c0 3.471-3.06 6.316-7.695 10.617L10 17.897l-1.305-1.215z\" fill=\"#2874F0\" class=\"x1UMqG\" stroke=\"#FFF\" fill-rule=\"evenodd\" opacity=\".9\"></path></svg></div></div></div><div class=\"yKfJKb row\"><div class=\"col col-7-12\"><div class=\"f8qK5m\"><svg width=\"62\" height=\"18\" xmlns=\"http://www.w3.org/2000/svg\" class=\"\"><rect width=\"62\" height=\"18\" fill=\"white\"></rect><path d=\"M5.82955 6.45455C5.77841 6.02273 5.57102 5.6875 5.20739 5.44886C4.84375 5.21023 4.39773 5.09091 3.86932 5.09091C3.48295 5.09091 3.14489 5.15341 2.85511 5.27841C2.56818 5.40341 2.34375 5.57528 2.18182 5.79403C2.02273 6.01278 1.94318 6.26136 1.94318 6.53977C1.94318 6.77273 1.99858 6.97301 2.10938 7.14062C2.22301 7.3054 2.3679 7.44318 2.54403 7.55398C2.72017 7.66193 2.90483 7.75142 3.09801 7.82244C3.29119 7.89062 3.46875 7.94602 3.63068 7.98864L4.51705 8.22727C4.74432 8.28693 4.99716 8.36932 5.27557 8.47443C5.55682 8.57955 5.82528 8.72301 6.08097 8.90483C6.33949 9.08381 6.55256 9.31392 6.72017 9.59517C6.88778 9.87642 6.97159 10.2216 6.97159 10.6307C6.97159 11.1023 6.84801 11.5284 6.60085 11.9091C6.35653 12.2898 5.99858 12.5923 5.52699 12.8168C5.05824 13.0412 4.48864 13.1534 3.81818 13.1534C3.19318 13.1534 2.65199 13.0526 2.1946 12.8509C1.74006 12.6491 1.3821 12.3679 1.12074 12.0071C0.862216 11.6463 0.715909 11.2273 0.681818 10.75H1.77273C1.80114 11.0795 1.91193 11.3523 2.10511 11.5682C2.30114 11.7812 2.5483 11.9403 2.84659 12.0455C3.14773 12.1477 3.47159 12.1989 3.81818 12.1989C4.22159 12.1989 4.58381 12.1335 4.90483 12.0028C5.22585 11.8693 5.48011 11.6847 5.66761 11.4489C5.85511 11.2102 5.94886 10.9318 5.94886 10.6136C5.94886 10.3239 5.8679 10.0881 5.70597 9.90625C5.54403 9.72443 5.33097 9.5767 5.06676 9.46307C4.80256 9.34943 4.51705 9.25 4.21023 9.16477L3.13636 8.85795C2.45455 8.66193 1.91477 8.3821 1.51705 8.01847C1.11932 7.65483 0.920455 7.17898 0.920455 6.59091C0.920455 6.10227 1.05256 5.67614 1.31676 5.3125C1.58381 4.94602 1.94176 4.66193 2.39062 4.46023C2.84233 4.25568 3.34659 4.15341 3.90341 4.15341C4.46591 4.15341 4.96591 4.25426 5.40341 4.45597C5.84091 4.65483 6.1875 4.92756 6.44318 5.27415C6.7017 5.62074 6.83807 6.0142 6.85227 6.45455H5.82955ZM8.5728 15.4545V6.45455H9.54439V7.49432H9.66371C9.73757 7.38068 9.83984 7.2358 9.97053 7.05966C10.104 6.88068 10.2944 6.72159 10.5415 6.58239C10.7915 6.44034 11.1296 6.36932 11.5558 6.36932C12.1069 6.36932 12.5927 6.5071 13.0131 6.78267C13.4336 7.05824 13.7617 7.44886 13.9975 7.95455C14.2333 8.46023 14.3512 9.05682 14.3512 9.74432C14.3512 10.4375 14.2333 11.0384 13.9975 11.5469C13.7617 12.0526 13.435 12.4446 13.0174 12.723C12.5998 12.9986 12.1183 13.1364 11.5728 13.1364C11.1523 13.1364 10.8157 13.0668 10.5629 12.9276C10.31 12.7855 10.1154 12.625 9.97905 12.446C9.84268 12.2642 9.73757 12.1136 9.66371 11.9943H9.57848V15.4545H8.5728ZM9.56143 9.72727C9.56143 10.2216 9.63388 10.6577 9.77876 11.0355C9.92365 11.4105 10.1353 11.7045 10.4137 11.9176C10.6921 12.1278 11.033 12.233 11.4364 12.233C11.8569 12.233 12.2077 12.1222 12.489 11.9006C12.7731 11.6761 12.9862 11.375 13.1282 10.9972C13.2731 10.6165 13.3455 10.1932 13.3455 9.72727C13.3455 9.26705 13.2745 8.85227 13.1325 8.48295C12.9933 8.1108 12.7816 7.81676 12.4975 7.60085C12.2163 7.3821 11.8626 7.27273 11.4364 7.27273C11.0273 7.27273 10.6836 7.37642 10.4052 7.58381C10.1268 7.78835 9.91655 8.07528 9.7745 8.4446C9.63246 8.81108 9.56143 9.23864 9.56143 9.72727ZM18.5444 13.1364C17.9535 13.1364 17.435 12.9957 16.989 12.7145C16.5458 12.4332 16.1992 12.0398 15.9492 11.5341C15.7021 11.0284 15.5785 10.4375 15.5785 9.76136C15.5785 9.07955 15.7021 8.48437 15.9492 7.97585C16.1992 7.46733 16.5458 7.07244 16.989 6.79119C17.435 6.50994 17.9535 6.36932 18.5444 6.36932C19.1353 6.36932 19.6523 6.50994 20.0955 6.79119C20.5415 7.07244 20.8881 7.46733 21.1353 7.97585C21.3853 8.48437 21.5103 9.07955 21.5103 9.76136C21.5103 10.4375 21.3853 11.0284 21.1353 11.5341C20.8881 12.0398 20.5415 12.4332 20.0955 12.7145C19.6523 12.9957 19.1353 13.1364 18.5444 13.1364ZM18.5444 12.233C18.9933 12.233 19.3626 12.1179 19.6523 11.8878C19.9421 11.6577 20.1566 11.3551 20.2958 10.9801C20.435 10.6051 20.5046 10.1989 20.5046 9.76136C20.5046 9.32386 20.435 8.91619 20.2958 8.53835C20.1566 8.16051 19.9421 7.85511 19.6523 7.62216C19.3626 7.3892 18.9933 7.27273 18.5444 7.27273C18.0955 7.27273 17.7262 7.3892 17.4364 7.62216C17.1467 7.85511 16.9322 8.16051 16.793 8.53835C16.6538 8.91619 16.5842 9.32386 16.5842 9.76136C16.5842 10.1989 16.6538 10.6051 16.793 10.9801C16.9322 11.3551 17.1467 11.6577 17.4364 11.8878C17.7262 12.1179 18.0955 12.233 18.5444 12.233ZM24.0511 9.0625V13H23.0455V6.45455H24.017V7.47727H24.1023C24.2557 7.14489 24.4886 6.87784 24.8011 6.67614C25.1136 6.47159 25.517 6.36932 26.0114 6.36932C26.4545 6.36932 26.8423 6.46023 27.1747 6.64205C27.5071 6.82102 27.7656 7.09375 27.9503 7.46023C28.1349 7.82386 28.2273 8.28409 28.2273 8.84091V13H27.2216V8.90909C27.2216 8.39489 27.0881 7.99432 26.821 7.70739C26.554 7.41761 26.1875 7.27273 25.7216 7.27273C25.4006 7.27273 25.1136 7.34233 24.8608 7.48153C24.6108 7.62074 24.4134 7.82386 24.2685 8.09091C24.1236 8.35795 24.0511 8.68182 24.0511 9.0625ZM34.7013 7.92045L33.7979 8.17614C33.7411 8.02557 33.6573 7.87926 33.5465 7.73722C33.4386 7.59233 33.2908 7.47301 33.1033 7.37926C32.9158 7.28551 32.6758 7.23864 32.3832 7.23864C31.9826 7.23864 31.6488 7.33097 31.3817 7.51562C31.1175 7.69744 30.9854 7.92898 30.9854 8.21023C30.9854 8.46023 31.0763 8.65767 31.2582 8.80256C31.44 8.94744 31.7241 9.06818 32.1104 9.16477L33.082 9.40341C33.6673 9.54545 34.1033 9.76278 34.3903 10.0554C34.6772 10.3452 34.8207 10.7187 34.8207 11.1761C34.8207 11.5511 34.7127 11.8864 34.4968 12.1818C34.2837 12.4773 33.9854 12.7102 33.6019 12.8807C33.2184 13.0511 32.7724 13.1364 32.2638 13.1364C31.5962 13.1364 31.0437 12.9915 30.6062 12.7017C30.1687 12.4119 29.8917 11.9886 29.7752 11.4318L30.7298 11.1932C30.8207 11.5455 30.9925 11.8097 31.2454 11.9858C31.5011 12.1619 31.8349 12.25 32.2468 12.25C32.7156 12.25 33.0877 12.1506 33.3633 11.9517C33.6417 11.75 33.7809 11.5085 33.7809 11.2273C33.7809 11 33.7013 10.8097 33.5423 10.6562C33.3832 10.5 33.1388 10.3835 32.8093 10.3068L31.7184 10.0511C31.119 9.90909 30.6786 9.68892 30.3974 9.39062C30.119 9.08949 29.9798 8.71307 29.9798 8.26136C29.9798 7.89205 30.0835 7.56534 30.2908 7.28125C30.5011 6.99716 30.7866 6.77415 31.1474 6.61222C31.511 6.45028 31.9229 6.36932 32.3832 6.36932C33.0309 6.36932 33.5394 6.51136 33.9087 6.79545C34.2809 7.07955 34.5451 7.45455 34.7013 7.92045ZM38.9936 13.1364C38.4027 13.1364 37.8842 12.9957 37.4382 12.7145C36.995 12.4332 36.6484 12.0398 36.3984 11.5341C36.1513 11.0284 36.0277 10.4375 36.0277 9.76136C36.0277 9.07955 36.1513 8.48437 36.3984 7.97585C36.6484 7.46733 36.995 7.07244 37.4382 6.79119C37.8842 6.50994 38.4027 6.36932 38.9936 6.36932C39.5845 6.36932 40.1016 6.50994 40.5447 6.79119C40.9908 7.07244 41.3374 7.46733 41.5845 7.97585C41.8345 8.48437 41.9595 9.07955 41.9595 9.76136C41.9595 10.4375 41.8345 11.0284 41.5845 11.5341C41.3374 12.0398 40.9908 12.4332 40.5447 12.7145C40.1016 12.9957 39.5845 13.1364 38.9936 13.1364ZM38.9936 12.233C39.4425 12.233 39.8118 12.1179 40.1016 11.8878C40.3913 11.6577 40.6058 11.3551 40.745 10.9801C40.8842 10.6051 40.9538 10.1989 40.9538 9.76136C40.9538 9.32386 40.8842 8.91619 40.745 8.53835C40.6058 8.16051 40.3913 7.85511 40.1016 7.62216C39.8118 7.3892 39.4425 7.27273 38.9936 7.27273C38.5447 7.27273 38.1754 7.3892 37.8857 7.62216C37.5959 7.85511 37.3814 8.16051 37.2422 8.53835C37.103 8.91619 37.0334 9.32386 37.0334 9.76136C37.0334 10.1989 37.103 10.6051 37.2422 10.9801C37.3814 11.3551 37.5959 11.6577 37.8857 11.8878C38.1754 12.1179 38.5447 12.233 38.9936 12.233ZM43.4947 13V6.45455H44.4663V7.44318H44.5344C44.6538 7.11932 44.8697 6.85653 45.1822 6.65483C45.4947 6.45312 45.8469 6.35227 46.239 6.35227C46.3129 6.35227 46.4052 6.35369 46.516 6.35653C46.6268 6.35937 46.7106 6.36364 46.7674 6.36932V7.39205C46.7333 7.38352 46.6552 7.37074 46.533 7.35369C46.4137 7.33381 46.2873 7.32386 46.1538 7.32386C45.8356 7.32386 45.5515 7.39062 45.3015 7.52415C45.0543 7.65483 44.8583 7.83665 44.7134 8.0696C44.5714 8.29972 44.5004 8.5625 44.5004 8.85795V13H43.4947ZM50.5046 13.1364C49.8739 13.1364 49.3299 12.9972 48.8725 12.7188C48.418 12.4375 48.0671 12.0455 47.82 11.5426C47.5756 11.0369 47.4535 10.4489 47.4535 9.77841C47.4535 9.10795 47.5756 8.51705 47.82 8.00568C48.0671 7.49148 48.4109 7.09091 48.8512 6.80398C49.2944 6.5142 49.8114 6.36932 50.4023 6.36932C50.7433 6.36932 51.0799 6.42614 51.4123 6.53977C51.7447 6.65341 52.0472 6.83807 52.32 7.09375C52.5927 7.34659 52.81 7.68182 52.9719 8.09943C53.1339 8.51705 53.2148 9.03125 53.2148 9.64205V10.0682H48.1694V9.19886H52.1921C52.1921 8.82955 52.1183 8.5 51.9705 8.21023C51.8256 7.92045 51.6183 7.69176 51.3484 7.52415C51.0813 7.35653 50.766 7.27273 50.4023 7.27273C50.0018 7.27273 49.6552 7.37216 49.3626 7.57102C49.0728 7.76705 48.8498 8.02273 48.6935 8.33807C48.5373 8.65341 48.4592 8.99148 48.4592 9.35227V9.93182C48.4592 10.4261 48.5444 10.8452 48.7148 11.1889C48.8881 11.5298 49.1282 11.7898 49.435 11.9688C49.7418 12.1449 50.0984 12.233 50.5046 12.233C50.7688 12.233 51.0075 12.196 51.2205 12.1222C51.4364 12.0455 51.6225 11.9318 51.7788 11.7812C51.935 11.6278 52.0558 11.4375 52.141 11.2102L53.1126 11.483C53.0103 11.8125 52.8384 12.1023 52.5969 12.3523C52.3555 12.5994 52.0572 12.7926 51.7021 12.9318C51.3469 13.0682 50.9478 13.1364 50.5046 13.1364ZM57.2163 13.1364C56.6708 13.1364 56.1893 12.9986 55.7717 12.723C55.354 12.4446 55.0273 12.0526 54.7915 11.5469C54.5558 11.0384 54.4379 10.4375 54.4379 9.74432C54.4379 9.05682 54.5558 8.46023 54.7915 7.95455C55.0273 7.44886 55.3555 7.05824 55.7759 6.78267C56.1964 6.5071 56.6822 6.36932 57.2333 6.36932C57.6594 6.36932 57.9961 6.44034 58.2433 6.58239C58.4933 6.72159 58.6836 6.88068 58.8143 7.05966C58.9478 7.2358 59.0515 7.38068 59.1254 7.49432H59.2106V4.27273H60.2163V13H59.2447V11.9943H59.1254C59.0515 12.1136 58.9464 12.2642 58.81 12.446C58.6737 12.625 58.479 12.7855 58.2262 12.9276C57.9734 13.0668 57.6367 13.1364 57.2163 13.1364ZM57.3526 12.233C57.756 12.233 58.0969 12.1278 58.3754 11.9176C58.6538 11.7045 58.8654 11.4105 59.0103 11.0355C59.1552 10.6577 59.2276 10.2216 59.2276 9.72727C59.2276 9.23864 59.1566 8.81108 59.0146 8.4446C58.8725 8.07528 58.6623 7.78835 58.3839 7.58381C58.1055 7.37642 57.7617 7.27273 57.3526 7.27273C56.9265 7.27273 56.5714 7.3821 56.2873 7.60085C56.006 7.81676 55.7944 8.1108 55.6523 8.48295C55.5131 8.85227 55.4435 9.26705 55.4435 9.72727C55.4435 10.1932 55.5146 10.6165 55.6566 10.9972C55.8015 11.375 56.0146 11.6761 56.2958 11.9006C56.5799 12.1222 56.9322 12.233 57.3526 12.233Z\" fill=\"#9E9E9E\"></path></svg></div><div class=\"KzDlHZ\">Acer Aspire 3 Intel Celeron Dual Core - (8 GB/256 GB SSD/Windows 11 Home) A311-45 Thin and Light Lapto...</div><div class=\"_5OesEi\"><span id=\"productRating_LSTCOMH7NCZ8BARKXFFIUHV7S_COMH7NCZ8BARKXFF_\" class=\"Y1HWO0\"><div class=\"XQDdHH\">3.8<img src=\"data:image/svg+xml;base64,PHN2ZyB4bWxucz0iaHR0cDovL3d3dy53My5vcmcvMjAwMC9zdmciIHdpZHRoPSIxMyIgaGVpZ2h0PSIxMiI+PHBhdGggZmlsbD0iI0ZGRiIgZD0iTTYuNSA5LjQzOWwtMy42NzQgMi4yMy45NC00LjI2LTMuMjEtMi44ODMgNC4yNTQtLjQwNEw2LjUuMTEybDEuNjkgNC4wMSA0LjI1NC40MDQtMy4yMSAyLjg4Mi45NCA0LjI2eiIvPjwvc3ZnPg==\" class=\"Rza2QY\"></div></span><span class=\"Wphh3N\"><span><span>5,068 Ratings&nbsp;</span><span class=\"hG7V+4\">&amp;</span><span>&nbsp;469 Reviews</span></span></span></div><div class=\"_6NESgJ\"><ul class=\"G4BRas\"><li class=\"J+igdf\">Intel Celeron Dual Core Processor</li><li class=\"J+igdf\">8 GB DDR4 RAM</li><li class=\"J+igdf\">64 bit Windows 11 Home Operating System</li><li class=\"J+igdf\">256 GB SSD</li><li class=\"J+igdf\">29.46 cm (11.6 inch) Display</li><li class=\"J+igdf\">1 Year Warranty</li></ul></div></div><div class=\"col col-5-12 BfVC2z\"><div class=\"cN1yYO\"><div class=\"hl05eU\"><div class=\"Nx9bqj _4b5DiR\">₹15,990</div><div class=\"yRaY8j ZYYwLA\">₹33,399</div><div class=\"UkUFwK\"><span>52% off</span></div></div></div><div class=\"M4DNwV\"><div class=\"n5vj9c\"><div class=\"yiggsN O5Fpg8\" style=\"color: rgb(0, 0, 0); font-size: 14px; font-style: normal; font-weight: 400;\">Upto </div><div class=\"yiggsN O5Fpg8\" style=\"color: rgb(0, 0, 0); font-size: 14px; font-style: normal; font-weight: 700;\">₹12,000</div><div class=\"yiggsN O5Fpg8\" style=\"color: rgb(0, 0, 0); font-size: 14px; font-style: normal; font-weight: 400;\"> Off on Exchange</div></div></div><div class=\"M4DNwV\"><div class=\"n5vj9c\"><div class=\"yiggsN O5Fpg8\" style=\"color: rgb(38, 165, 65); font-size: 14px; font-weight: 700;\">Bank Offer</div></div></div></div></div></a></div>"
   ]
  },
  {
   "cell_type": "code",
   "execution_count": 103,
   "id": "42952a9c",
   "metadata": {},
   "outputs": [
    {
     "ename": "SyntaxError",
     "evalue": "invalid decimal literal (1970734245.py, line 1)",
     "output_type": "error",
     "traceback": [
      "  \u001b[36mCell\u001b[39m\u001b[36m \u001b[39m\u001b[32mIn[103]\u001b[39m\u001b[32m, line 1\u001b[39m\n\u001b[31m    \u001b[39m\u001b[31m<div class=\"KzDlHZ\">Samsung Galaxy Book4 Metal Intel Core i5 13th Gen 1335U - (8 GB/512 GB SSD/Windows 11 Home) NP750XGJ-K...</div>\u001b[39m\n                                                                  ^\n\u001b[31mSyntaxError\u001b[39m\u001b[31m:\u001b[39m invalid decimal literal\n"
     ]
    }
   ],
   "source": [
    "<div class=\"KzDlHZ\">Samsung Galaxy Book4 Metal Intel Core i5 13th Gen 1335U - (8 GB/512 GB SSD/Windows 11 Home) NP750XGJ-K...</div>"
   ]
  },
  {
   "cell_type": "code",
   "execution_count": null,
   "id": "5f8edb4b",
   "metadata": {},
   "outputs": [],
   "source": [
    "<span class=\"Wphh3N\"><span><span>5,068 Ratings&nbsp;</span><span class=\"hG7V+4\">&amp;</span><span>&nbsp;469 Reviews</span></span></span>"
   ]
  },
  {
   "cell_type": "code",
   "execution_count": null,
   "id": "57897f29",
   "metadata": {},
   "outputs": [],
   "source": [
    "<div class=\"Nx9bqj _4b5DiR\">₹15,990</div>"
   ]
  },
  {
   "cell_type": "code",
   "execution_count": null,
   "id": "814ef804",
   "metadata": {},
   "outputs": [],
   "source": [
    "<div class=\"UkUFwK\"><span>52% off</span></div>"
   ]
  },
  {
   "cell_type": "code",
   "execution_count": null,
   "id": "6d537e4a",
   "metadata": {},
   "outputs": [],
   "source": [
    "<div class=\"XQDdHH\">3.8<img src=\"data:image/svg+xml;base64,PHN2ZyB4bWxucz0iaHR0cDovL3d3dy53My5vcmcvMjAwMC9zdmciIHdpZHRoPSIxMyIgaGVpZ2h0PSIxMiI+PHBhdGggZmlsbD0iI0ZGRiIgZD0iTTYuNSA5LjQzOWwtMy42NzQgMi4yMy45NC00LjI2LTMuMjEtMi44ODMgNC4yNTQtLjQwNEw2LjUuMTEybDEuNjkgNC4wMSA0LjI1NC40MDQtMy4yMSAyLjg4Mi45NCA0LjI2eiIvPjwvc3ZnPg==\" class=\"Rza2QY\"></div>"
   ]
  },
  {
   "cell_type": "code",
   "execution_count": null,
   "id": "76211f02",
   "metadata": {},
   "outputs": [],
   "source": [
    "<div class=\"yiggsN O5Fpg8\" style=\"color: rgb(0, 0, 0); font-size: 14px; font-style: normal; font-weight: 700;\">₹22,000</div>"
   ]
  },
  {
   "cell_type": "code",
   "execution_count": null,
   "id": "628fcbb9",
   "metadata": {},
   "outputs": [],
   "source": [
    "<span class=\"hG7V+4\">&amp;</span>"
   ]
  },
  {
   "cell_type": "code",
   "execution_count": null,
   "id": "9afc7e9c",
   "metadata": {},
   "outputs": [
    {
     "ename": "SyntaxError",
     "evalue": "invalid syntax (1489761322.py, line 1)",
     "output_type": "error",
     "traceback": [
      "  \u001b[36mCell\u001b[39m\u001b[36m \u001b[39m\u001b[32mIn[58]\u001b[39m\u001b[32m, line 1\u001b[39m\n\u001b[31m    \u001b[39m\u001b[31m<li class=\"J+igdf\">Intel Celeron Dual Core Processor</li>\u001b[39m\n    ^\n\u001b[31mSyntaxError\u001b[39m\u001b[31m:\u001b[39m invalid syntax\n"
     ]
    }
   ],
   "source": [
    "<li class=\"J+igdf\">Intel Celeron Dual Core Processor</li>"
   ]
  },
  {
   "cell_type": "markdown",
   "id": "1935affa",
   "metadata": {},
   "source": [
    "<div class=\"yiggsN O5Fpg8\" style=\"color: rgb(38, 165, 65); font-size: 14px; font-weight: 700;\">Bank Offer</div>"
   ]
  },
  {
   "cell_type": "markdown",
   "id": "0fc9a346",
   "metadata": {},
   "source": [
    "<div class=\"XQDdHH\">4.6<img src=\"data:image/svg+xml;base64,PHN2ZyB4bWxucz0iaHR0cDovL3d3dy53My5vcmcvMjAwMC9zdmciIHdpZHRoPSIxMyIgaGVpZ2h0PSIxMiI+PHBhdGggZmlsbD0iI0ZGRiIgZD0iTTYuNSA5LjQzOWwtMy42NzQgMi4yMy45NC00LjI2LTMuMjEtMi44ODMgNC4yNTQtLjQwNEw2LjUuMTEybDEuNjkgNC4wMSA0LjI1NC40MDQtMy4yMSAyLjg4Mi45NCA0LjI2eiIvPjwvc3ZnPg==\" class=\"Rza2QY\"></div>"
   ]
  },
  {
   "cell_type": "markdown",
   "id": "b3df0982",
   "metadata": {},
   "source": [
    "<span class=\"Wphh3N\"><span><span>6 Ratings&nbsp;</span><span class=\"hG7V+4\">&amp;</span><span>&nbsp;0 Reviews</span></span></span>"
   ]
  },
  {
   "cell_type": "code",
   "execution_count": null,
   "id": "ab0a7b61",
   "metadata": {},
   "outputs": [
    {
     "name": "stdout",
     "output_type": "stream",
     "text": [
      "72 0 0\n"
     ]
    }
   ],
   "source": [
    "name=[]\n",
    "price=[]\n",
    "discount=[]\n",
    "for i in div:\n",
    "        try:\n",
    "\n",
    "                name.append(i.find('div',class_=\"KzDlHZ\").text.strip())\n",
    "        except:\n",
    "                name.append(None)\n",
    "\n",
    "\n",
    "        try:       \n",
    "                name.append(i.find('div',class_=\"Nx9bqj _4b5DiR\").text.strip())\n",
    "        \n",
    "        except:\n",
    "                name.append(None)\n",
    "        try:       \n",
    "                name.append(i.find('div',class_=\"UkUFwK\").text.strip())        \n",
    "        except:\n",
    "                name.append(None)\n",
    "       \n",
    "        \n",
    "d={'name':name,'price':price,'discont':discount}\n",
    "\n",
    "\n",
    "# df=pd.DataFrame(d)"
   ]
  },
  {
   "cell_type": "code",
   "execution_count": null,
   "id": "2732fffe",
   "metadata": {},
   "outputs": [],
   "source": [
    "name = []\n",
    "price = []\n",
    "discount = []\n",
    "rating=[]\n",
    "bank=[]\n",
    "total_review=[]\n",
    "\n",
    "for i in div:\n",
    "    try:\n",
    "        name.append(i.find('div', class_=\"KzDlHZ\").text.strip())\n",
    "    except:\n",
    "        name.append(None)\n",
    "\n",
    "    try:\n",
    "        price.append(i.find('div', class_=\"Nx9bqj _4b5DiR\").text.strip())\n",
    "    except:\n",
    "        price.append(None)\n",
    "\n",
    "    try:\n",
    "        discount.append(i.find('div', class_=\"UkUFwK\").text.strip())\n",
    "    except:\n",
    "        discount.append(None)\n",
    "\n",
    "    try:\n",
    "\n",
    "        rating.append(i.find('div',class_=\"XQDdHH\").text.strip())\n",
    "    except:\n",
    "        rating.append(None)\n",
    "\n",
    "    try:\n",
    "        bank.append(i.find('div',class_=\"yiggsN O5Fpg8\").text.strip())\n",
    "    except:\n",
    "        bank.append(\"false\")\n",
    "    try:\n",
    "\n",
    "        total_review.append(i.find('span',class_=\"Wphh3N\").text.strip())\n",
    "    except:\n",
    "        total_review.append(None)\n"
   ]
  },
  {
   "cell_type": "code",
   "execution_count": null,
   "id": "46150ecd",
   "metadata": {},
   "outputs": [],
   "source": [
    "import pandas as pd\n",
    "\n",
    "d = {\n",
    "    'name': name,\n",
    "    'price': price,\n",
    "    'discount': discount,\n",
    "    'rating':rating,\n",
    "    'bank':bank,\n",
    "    'total_review':total_review\n",
    "}\n",
    "\n",
    "df = pd.DataFrame(d)\n"
   ]
  },
  {
   "cell_type": "code",
   "execution_count": null,
   "id": "8a08f0be",
   "metadata": {},
   "outputs": [
    {
     "data": {
      "application/vnd.microsoft.datawrangler.viewer.v0+json": {
       "columns": [
        {
         "name": "index",
         "rawType": "int64",
         "type": "integer"
        },
        {
         "name": "name",
         "rawType": "object",
         "type": "string"
        },
        {
         "name": "price",
         "rawType": "object",
         "type": "string"
        },
        {
         "name": "discount",
         "rawType": "object",
         "type": "string"
        },
        {
         "name": "rating",
         "rawType": "object",
         "type": "unknown"
        },
        {
         "name": "bank",
         "rawType": "object",
         "type": "string"
        },
        {
         "name": "total_review",
         "rawType": "object",
         "type": "unknown"
        }
       ],
       "ref": "210ee925-b48a-4cde-8409-77622a533453",
       "rows": [
        [
         "0",
         "Lenovo Yoga Pro 7 3K OLED AI PC Full Metal Body Intel Core Ultra 9 285H - (32 GB/1 TB SSD/Windows 11 H...",
         "₹1,29,990",
         "25% off",
         "4.2",
         "Upto",
         "5 Ratings & 0 Reviews"
        ],
        [
         "1",
         "ASUS Vivobook 15 (2025) with Office 2024 + M365 Basic*, Backlit Keyboard, Intel Core i3 13th Gen 1315U...",
         "₹35,990",
         "34% off",
         "4.3",
         "false",
         "1,780 Ratings & 116 Reviews"
        ],
        [
         "2",
         "Samsung Galaxy Book4 Metal Intel Core i3 13th Gen 1315U - (8 GB/512 GB SSD/Windows 11 Home) NP750XGJ-L...",
         "₹35,990",
         "37% off",
         "4.4",
         "Upto",
         "7,146 Ratings & 709 Reviews"
        ],
        [
         "3",
         "Samsung Galaxy Book4 Metal Intel Core i5 13th Gen 1335U - (8 GB/512 GB SSD/Windows 11 Home) NP750XGJ-K...",
         "₹47,690",
         "39% off",
         "4.4",
         "Upto",
         "12,735 Ratings & 1,018 Reviews"
        ],
        [
         "4",
         "Samsung Galaxy Book4 Metal Intel Core i5 13th Gen 1335U - (16 GB/512 GB SSD/Windows 11 Home) NP750XGJ-...",
         "₹51,990",
         "37% off",
         "4.4",
         "Upto",
         "12,735 Ratings & 1,018 Reviews"
        ],
        [
         "5",
         "ASUS Expertbook P1 High-performance processor Intel Core i5 13th Gen 13420H - (32 GB/512 GB SSD/Window...",
         "₹53,990",
         "53% off",
         "4.4",
         "Top Discount of the Sale",
         "2,145 Ratings & 182 Reviews"
        ],
        [
         "6",
         "PiBook PhysicsWallah MediaTek MT8788 - (6 GB/128 GB EMMC Storage/Android 11) PW-2401 Laptop",
         "₹13,498",
         "46% off",
         null,
         "Top Discount of the Sale",
         null
        ],
        [
         "7",
         "MSI AMD Ryzen 5 Hexa Core 7530U - (8 GB/512 GB SSD/Windows 11 Home) Modern 14 C7M-284IN Business Lapto...",
         "₹35,490",
         "45% off",
         "4.3",
         "Top Discount of the Sale",
         "113 Ratings & 13 Reviews"
        ],
        [
         "8",
         "DELL Inspiron 5440 (2025) Intel Core i3 13th Gen 1305U - (16 GB/512 GB SSD/Windows 11 Home) Inspiron 5...",
         "₹34,390",
         "51% off",
         "4.3",
         "Only few left",
         "59 Ratings & 3 Reviews"
        ],
        [
         "9",
         "ASUS Vivobook 16X (2025) for Creator with Office 2024 + M365 Basic, Intel Core i5 13th Gen 13420H - (1...",
         "₹61,600",
         "31% off",
         "4.2",
         "Only 4 left",
         "757 Ratings & 39 Reviews"
        ],
        [
         "10",
         "ASUS Vivobook 15, with Backlit Keyboard, Intel Core i5 13th Gen 1334U - (16 GB/512 GB SSD/Windows 11 H...",
         "₹45,985",
         "35% off",
         "4.3",
         "Top Discount of the Sale",
         "844 Ratings & 48 Reviews"
        ],
        [
         "11",
         "ASUS Vivobook 15 (2025) with Office 2024 + M365 Basic*, Backlit Keyboard, Intel Core i5 13th Gen 1335U...",
         "₹45,990",
         "33% off",
         "4.1",
         "Upto",
         "15 Ratings & 1 Reviews"
        ],
        [
         "12",
         "MSI Modern 15 Intel Core i5 12th Gen 1235U - (16 GB/512 GB SSD/Windows 11 Home) Modern 15 B12MO Thin a...",
         "₹42,990",
         "29% off",
         "4.2",
         "Top Discount of the Sale",
         "267 Ratings & 17 Reviews"
        ],
        [
         "13",
         "ASUS Vivobook S14 Flip (2025) with Office 2024 + M365 Basic*, Backlit Keyboard, Intel Core i5 13th Gen...",
         "₹57,990",
         "33% off",
         "4.5",
         "Top Discount of the Sale",
         "351 Ratings & 29 Reviews"
        ],
        [
         "14",
         "Apple MacBook AIR Apple M2 - (16 GB/256 GB SSD/macOS Sequoia) MC7W4HN/A",
         "₹64,999",
         "24% off",
         "4.7",
         "Top Discount of the Sale",
         "6,246 Ratings & 376 Reviews"
        ],
        [
         "15",
         "ASUS Expertbook P1 High-performance processor Intel Core i5 13th Gen 13420H - (16 GB/512 GB SSD/Window...",
         "₹47,990",
         "46% off",
         "4.4",
         "Top Discount of the Sale",
         "2,145 Ratings & 182 Reviews"
        ],
        [
         "16",
         "Acer Aspire 14 with Backlit Keyboard, Intel Core i5 13th Gen 13500H - (16 GB/512 GB SSD/Windows 11 Hom...",
         "₹45,990",
         "38% off",
         "4.3",
         "Upto",
         "5,575 Ratings & 492 Reviews"
        ],
        [
         "17",
         "MOTOROLA Motobook 60 Full Metal OLED (i5 14th Gen) Intel Core 5 (Series 2) 210H - (16 GB/512 GB SSD/Wi...",
         "₹52,999",
         "43% off",
         "4.4",
         "Top Discount of the Sale",
         "1,067 Ratings & 113 Reviews"
        ],
        [
         "18",
         "WINGS Nuvobook Pro Aluminium Alloy Metal Body Intel Intel Core i7 11th Gen 1165G7 - (16 GB/512 GB SSD/...",
         "₹31,990",
         "64% off",
         "4",
         "Top Discount of the Sale",
         "126 Ratings & 25 Reviews"
        ],
        [
         "19",
         "ASUS Vivobook S14 Flip (2025) with Office 2024 + M365 Basic*, Metallic Design, Intel Core i5 13th Gen ...",
         "₹57,990",
         "33% off",
         "4.5",
         "Top Discount of the Sale",
         "351 Ratings & 29 Reviews"
        ],
        [
         "20",
         "ASUS Vivobook S14 (2025) with Office 2024 + M365 Basic*, Backlit Keyboard, Intel Core i7 13th Gen 1362...",
         "₹58,990",
         "40% off",
         "4.5",
         "Only 2 left",
         "75 Ratings & 2 Reviews"
        ],
        [
         "21",
         "ASUS Vivobook 16X (2025) with Office 2024 + M365 Basic* Intel Core i5 13th Gen 13420H - (16 GB/512 GB ...",
         "₹59,990",
         "33% off",
         "4.2",
         "Top Discount of the Sale",
         "757 Ratings & 39 Reviews"
        ],
        [
         "22",
         "MOTOROLA Motobook 60 Full Metal OLED (i5 14th Gen) Intel Core 5 (Series 2) 210H - (16 GB/512 GB SSD/Wi...",
         "₹52,999",
         "43% off",
         "4.4",
         "Top Discount of the Sale",
         "1,067 Ratings & 113 Reviews"
        ],
        [
         "23",
         "Samsung Galaxy Book4 360 Evo Intel Core 7 150U - (16 GB/1 TB SSD/Windows 11 Home) NP750QGK-KG3IN / NP7...",
         "₹93,990",
         "41% off",
         "4.3",
         "Top Discount of the Sale",
         "19 Ratings & 2 Reviews"
        ]
       ],
       "shape": {
        "columns": 6,
        "rows": 24
       }
      },
      "text/html": [
       "<div>\n",
       "<style scoped>\n",
       "    .dataframe tbody tr th:only-of-type {\n",
       "        vertical-align: middle;\n",
       "    }\n",
       "\n",
       "    .dataframe tbody tr th {\n",
       "        vertical-align: top;\n",
       "    }\n",
       "\n",
       "    .dataframe thead th {\n",
       "        text-align: right;\n",
       "    }\n",
       "</style>\n",
       "<table border=\"1\" class=\"dataframe\">\n",
       "  <thead>\n",
       "    <tr style=\"text-align: right;\">\n",
       "      <th></th>\n",
       "      <th>name</th>\n",
       "      <th>price</th>\n",
       "      <th>discount</th>\n",
       "      <th>rating</th>\n",
       "      <th>bank</th>\n",
       "      <th>total_review</th>\n",
       "    </tr>\n",
       "  </thead>\n",
       "  <tbody>\n",
       "    <tr>\n",
       "      <th>0</th>\n",
       "      <td>Lenovo Yoga Pro 7 3K OLED AI PC Full Metal Bod...</td>\n",
       "      <td>₹1,29,990</td>\n",
       "      <td>25% off</td>\n",
       "      <td>4.2</td>\n",
       "      <td>Upto</td>\n",
       "      <td>5 Ratings &amp; 0 Reviews</td>\n",
       "    </tr>\n",
       "    <tr>\n",
       "      <th>1</th>\n",
       "      <td>ASUS Vivobook 15 (2025) with Office 2024 + M36...</td>\n",
       "      <td>₹35,990</td>\n",
       "      <td>34% off</td>\n",
       "      <td>4.3</td>\n",
       "      <td>false</td>\n",
       "      <td>1,780 Ratings &amp; 116 Reviews</td>\n",
       "    </tr>\n",
       "    <tr>\n",
       "      <th>2</th>\n",
       "      <td>Samsung Galaxy Book4 Metal Intel Core i3 13th ...</td>\n",
       "      <td>₹35,990</td>\n",
       "      <td>37% off</td>\n",
       "      <td>4.4</td>\n",
       "      <td>Upto</td>\n",
       "      <td>7,146 Ratings &amp; 709 Reviews</td>\n",
       "    </tr>\n",
       "    <tr>\n",
       "      <th>3</th>\n",
       "      <td>Samsung Galaxy Book4 Metal Intel Core i5 13th ...</td>\n",
       "      <td>₹47,690</td>\n",
       "      <td>39% off</td>\n",
       "      <td>4.4</td>\n",
       "      <td>Upto</td>\n",
       "      <td>12,735 Ratings &amp; 1,018 Reviews</td>\n",
       "    </tr>\n",
       "    <tr>\n",
       "      <th>4</th>\n",
       "      <td>Samsung Galaxy Book4 Metal Intel Core i5 13th ...</td>\n",
       "      <td>₹51,990</td>\n",
       "      <td>37% off</td>\n",
       "      <td>4.4</td>\n",
       "      <td>Upto</td>\n",
       "      <td>12,735 Ratings &amp; 1,018 Reviews</td>\n",
       "    </tr>\n",
       "    <tr>\n",
       "      <th>5</th>\n",
       "      <td>ASUS Expertbook P1 High-performance processor ...</td>\n",
       "      <td>₹53,990</td>\n",
       "      <td>53% off</td>\n",
       "      <td>4.4</td>\n",
       "      <td>Top Discount of the Sale</td>\n",
       "      <td>2,145 Ratings &amp; 182 Reviews</td>\n",
       "    </tr>\n",
       "    <tr>\n",
       "      <th>6</th>\n",
       "      <td>PiBook PhysicsWallah MediaTek MT8788 - (6 GB/1...</td>\n",
       "      <td>₹13,498</td>\n",
       "      <td>46% off</td>\n",
       "      <td>None</td>\n",
       "      <td>Top Discount of the Sale</td>\n",
       "      <td>None</td>\n",
       "    </tr>\n",
       "    <tr>\n",
       "      <th>7</th>\n",
       "      <td>MSI AMD Ryzen 5 Hexa Core 7530U - (8 GB/512 GB...</td>\n",
       "      <td>₹35,490</td>\n",
       "      <td>45% off</td>\n",
       "      <td>4.3</td>\n",
       "      <td>Top Discount of the Sale</td>\n",
       "      <td>113 Ratings &amp; 13 Reviews</td>\n",
       "    </tr>\n",
       "    <tr>\n",
       "      <th>8</th>\n",
       "      <td>DELL Inspiron 5440 (2025) Intel Core i3 13th G...</td>\n",
       "      <td>₹34,390</td>\n",
       "      <td>51% off</td>\n",
       "      <td>4.3</td>\n",
       "      <td>Only few left</td>\n",
       "      <td>59 Ratings &amp; 3 Reviews</td>\n",
       "    </tr>\n",
       "    <tr>\n",
       "      <th>9</th>\n",
       "      <td>ASUS Vivobook 16X (2025) for Creator with Offi...</td>\n",
       "      <td>₹61,600</td>\n",
       "      <td>31% off</td>\n",
       "      <td>4.2</td>\n",
       "      <td>Only 4 left</td>\n",
       "      <td>757 Ratings &amp; 39 Reviews</td>\n",
       "    </tr>\n",
       "    <tr>\n",
       "      <th>10</th>\n",
       "      <td>ASUS Vivobook 15, with Backlit Keyboard, Intel...</td>\n",
       "      <td>₹45,985</td>\n",
       "      <td>35% off</td>\n",
       "      <td>4.3</td>\n",
       "      <td>Top Discount of the Sale</td>\n",
       "      <td>844 Ratings &amp; 48 Reviews</td>\n",
       "    </tr>\n",
       "    <tr>\n",
       "      <th>11</th>\n",
       "      <td>ASUS Vivobook 15 (2025) with Office 2024 + M36...</td>\n",
       "      <td>₹45,990</td>\n",
       "      <td>33% off</td>\n",
       "      <td>4.1</td>\n",
       "      <td>Upto</td>\n",
       "      <td>15 Ratings &amp; 1 Reviews</td>\n",
       "    </tr>\n",
       "    <tr>\n",
       "      <th>12</th>\n",
       "      <td>MSI Modern 15 Intel Core i5 12th Gen 1235U - (...</td>\n",
       "      <td>₹42,990</td>\n",
       "      <td>29% off</td>\n",
       "      <td>4.2</td>\n",
       "      <td>Top Discount of the Sale</td>\n",
       "      <td>267 Ratings &amp; 17 Reviews</td>\n",
       "    </tr>\n",
       "    <tr>\n",
       "      <th>13</th>\n",
       "      <td>ASUS Vivobook S14 Flip (2025) with Office 2024...</td>\n",
       "      <td>₹57,990</td>\n",
       "      <td>33% off</td>\n",
       "      <td>4.5</td>\n",
       "      <td>Top Discount of the Sale</td>\n",
       "      <td>351 Ratings &amp; 29 Reviews</td>\n",
       "    </tr>\n",
       "    <tr>\n",
       "      <th>14</th>\n",
       "      <td>Apple MacBook AIR Apple M2 - (16 GB/256 GB SSD...</td>\n",
       "      <td>₹64,999</td>\n",
       "      <td>24% off</td>\n",
       "      <td>4.7</td>\n",
       "      <td>Top Discount of the Sale</td>\n",
       "      <td>6,246 Ratings &amp; 376 Reviews</td>\n",
       "    </tr>\n",
       "    <tr>\n",
       "      <th>15</th>\n",
       "      <td>ASUS Expertbook P1 High-performance processor ...</td>\n",
       "      <td>₹47,990</td>\n",
       "      <td>46% off</td>\n",
       "      <td>4.4</td>\n",
       "      <td>Top Discount of the Sale</td>\n",
       "      <td>2,145 Ratings &amp; 182 Reviews</td>\n",
       "    </tr>\n",
       "    <tr>\n",
       "      <th>16</th>\n",
       "      <td>Acer Aspire 14 with Backlit Keyboard, Intel Co...</td>\n",
       "      <td>₹45,990</td>\n",
       "      <td>38% off</td>\n",
       "      <td>4.3</td>\n",
       "      <td>Upto</td>\n",
       "      <td>5,575 Ratings &amp; 492 Reviews</td>\n",
       "    </tr>\n",
       "    <tr>\n",
       "      <th>17</th>\n",
       "      <td>MOTOROLA Motobook 60 Full Metal OLED (i5 14th ...</td>\n",
       "      <td>₹52,999</td>\n",
       "      <td>43% off</td>\n",
       "      <td>4.4</td>\n",
       "      <td>Top Discount of the Sale</td>\n",
       "      <td>1,067 Ratings &amp; 113 Reviews</td>\n",
       "    </tr>\n",
       "    <tr>\n",
       "      <th>18</th>\n",
       "      <td>WINGS Nuvobook Pro Aluminium Alloy Metal Body ...</td>\n",
       "      <td>₹31,990</td>\n",
       "      <td>64% off</td>\n",
       "      <td>4</td>\n",
       "      <td>Top Discount of the Sale</td>\n",
       "      <td>126 Ratings &amp; 25 Reviews</td>\n",
       "    </tr>\n",
       "    <tr>\n",
       "      <th>19</th>\n",
       "      <td>ASUS Vivobook S14 Flip (2025) with Office 2024...</td>\n",
       "      <td>₹57,990</td>\n",
       "      <td>33% off</td>\n",
       "      <td>4.5</td>\n",
       "      <td>Top Discount of the Sale</td>\n",
       "      <td>351 Ratings &amp; 29 Reviews</td>\n",
       "    </tr>\n",
       "    <tr>\n",
       "      <th>20</th>\n",
       "      <td>ASUS Vivobook S14 (2025) with Office 2024 + M3...</td>\n",
       "      <td>₹58,990</td>\n",
       "      <td>40% off</td>\n",
       "      <td>4.5</td>\n",
       "      <td>Only 2 left</td>\n",
       "      <td>75 Ratings &amp; 2 Reviews</td>\n",
       "    </tr>\n",
       "    <tr>\n",
       "      <th>21</th>\n",
       "      <td>ASUS Vivobook 16X (2025) with Office 2024 + M3...</td>\n",
       "      <td>₹59,990</td>\n",
       "      <td>33% off</td>\n",
       "      <td>4.2</td>\n",
       "      <td>Top Discount of the Sale</td>\n",
       "      <td>757 Ratings &amp; 39 Reviews</td>\n",
       "    </tr>\n",
       "    <tr>\n",
       "      <th>22</th>\n",
       "      <td>MOTOROLA Motobook 60 Full Metal OLED (i5 14th ...</td>\n",
       "      <td>₹52,999</td>\n",
       "      <td>43% off</td>\n",
       "      <td>4.4</td>\n",
       "      <td>Top Discount of the Sale</td>\n",
       "      <td>1,067 Ratings &amp; 113 Reviews</td>\n",
       "    </tr>\n",
       "    <tr>\n",
       "      <th>23</th>\n",
       "      <td>Samsung Galaxy Book4 360 Evo Intel Core 7 150U...</td>\n",
       "      <td>₹93,990</td>\n",
       "      <td>41% off</td>\n",
       "      <td>4.3</td>\n",
       "      <td>Top Discount of the Sale</td>\n",
       "      <td>19 Ratings &amp; 2 Reviews</td>\n",
       "    </tr>\n",
       "  </tbody>\n",
       "</table>\n",
       "</div>"
      ],
      "text/plain": [
       "                                                 name      price discount  \\\n",
       "0   Lenovo Yoga Pro 7 3K OLED AI PC Full Metal Bod...  ₹1,29,990  25% off   \n",
       "1   ASUS Vivobook 15 (2025) with Office 2024 + M36...    ₹35,990  34% off   \n",
       "2   Samsung Galaxy Book4 Metal Intel Core i3 13th ...    ₹35,990  37% off   \n",
       "3   Samsung Galaxy Book4 Metal Intel Core i5 13th ...    ₹47,690  39% off   \n",
       "4   Samsung Galaxy Book4 Metal Intel Core i5 13th ...    ₹51,990  37% off   \n",
       "5   ASUS Expertbook P1 High-performance processor ...    ₹53,990  53% off   \n",
       "6   PiBook PhysicsWallah MediaTek MT8788 - (6 GB/1...    ₹13,498  46% off   \n",
       "7   MSI AMD Ryzen 5 Hexa Core 7530U - (8 GB/512 GB...    ₹35,490  45% off   \n",
       "8   DELL Inspiron 5440 (2025) Intel Core i3 13th G...    ₹34,390  51% off   \n",
       "9   ASUS Vivobook 16X (2025) for Creator with Offi...    ₹61,600  31% off   \n",
       "10  ASUS Vivobook 15, with Backlit Keyboard, Intel...    ₹45,985  35% off   \n",
       "11  ASUS Vivobook 15 (2025) with Office 2024 + M36...    ₹45,990  33% off   \n",
       "12  MSI Modern 15 Intel Core i5 12th Gen 1235U - (...    ₹42,990  29% off   \n",
       "13  ASUS Vivobook S14 Flip (2025) with Office 2024...    ₹57,990  33% off   \n",
       "14  Apple MacBook AIR Apple M2 - (16 GB/256 GB SSD...    ₹64,999  24% off   \n",
       "15  ASUS Expertbook P1 High-performance processor ...    ₹47,990  46% off   \n",
       "16  Acer Aspire 14 with Backlit Keyboard, Intel Co...    ₹45,990  38% off   \n",
       "17  MOTOROLA Motobook 60 Full Metal OLED (i5 14th ...    ₹52,999  43% off   \n",
       "18  WINGS Nuvobook Pro Aluminium Alloy Metal Body ...    ₹31,990  64% off   \n",
       "19  ASUS Vivobook S14 Flip (2025) with Office 2024...    ₹57,990  33% off   \n",
       "20  ASUS Vivobook S14 (2025) with Office 2024 + M3...    ₹58,990  40% off   \n",
       "21  ASUS Vivobook 16X (2025) with Office 2024 + M3...    ₹59,990  33% off   \n",
       "22  MOTOROLA Motobook 60 Full Metal OLED (i5 14th ...    ₹52,999  43% off   \n",
       "23  Samsung Galaxy Book4 360 Evo Intel Core 7 150U...    ₹93,990  41% off   \n",
       "\n",
       "   rating                      bank                    total_review  \n",
       "0     4.2                      Upto           5 Ratings & 0 Reviews  \n",
       "1     4.3                     false     1,780 Ratings & 116 Reviews  \n",
       "2     4.4                      Upto     7,146 Ratings & 709 Reviews  \n",
       "3     4.4                      Upto  12,735 Ratings & 1,018 Reviews  \n",
       "4     4.4                      Upto  12,735 Ratings & 1,018 Reviews  \n",
       "5     4.4  Top Discount of the Sale     2,145 Ratings & 182 Reviews  \n",
       "6    None  Top Discount of the Sale                            None  \n",
       "7     4.3  Top Discount of the Sale        113 Ratings & 13 Reviews  \n",
       "8     4.3             Only few left          59 Ratings & 3 Reviews  \n",
       "9     4.2               Only 4 left        757 Ratings & 39 Reviews  \n",
       "10    4.3  Top Discount of the Sale        844 Ratings & 48 Reviews  \n",
       "11    4.1                      Upto          15 Ratings & 1 Reviews  \n",
       "12    4.2  Top Discount of the Sale        267 Ratings & 17 Reviews  \n",
       "13    4.5  Top Discount of the Sale        351 Ratings & 29 Reviews  \n",
       "14    4.7  Top Discount of the Sale     6,246 Ratings & 376 Reviews  \n",
       "15    4.4  Top Discount of the Sale     2,145 Ratings & 182 Reviews  \n",
       "16    4.3                      Upto     5,575 Ratings & 492 Reviews  \n",
       "17    4.4  Top Discount of the Sale     1,067 Ratings & 113 Reviews  \n",
       "18      4  Top Discount of the Sale        126 Ratings & 25 Reviews  \n",
       "19    4.5  Top Discount of the Sale        351 Ratings & 29 Reviews  \n",
       "20    4.5               Only 2 left          75 Ratings & 2 Reviews  \n",
       "21    4.2  Top Discount of the Sale        757 Ratings & 39 Reviews  \n",
       "22    4.4  Top Discount of the Sale     1,067 Ratings & 113 Reviews  \n",
       "23    4.3  Top Discount of the Sale          19 Ratings & 2 Reviews  "
      ]
     },
     "execution_count": 70,
     "metadata": {},
     "output_type": "execute_result"
    }
   ],
   "source": [
    "df"
   ]
  },
  {
   "cell_type": "code",
   "execution_count": null,
   "id": "bc292865",
   "metadata": {},
   "outputs": [
    {
     "data": {
      "application/vnd.microsoft.datawrangler.viewer.v0+json": {
       "columns": [
        {
         "name": "index",
         "rawType": "object",
         "type": "string"
        },
        {
         "name": "0",
         "rawType": "int64",
         "type": "integer"
        }
       ],
       "ref": "7098c53c-ba79-48ae-8dcc-b71849ce45f2",
       "rows": [
        [
         "name",
         "0"
        ],
        [
         "price",
         "0"
        ],
        [
         "discount",
         "0"
        ],
        [
         "rating",
         "1"
        ]
       ],
       "shape": {
        "columns": 1,
        "rows": 4
       }
      },
      "text/plain": [
       "name        0\n",
       "price       0\n",
       "discount    0\n",
       "rating      1\n",
       "dtype: int64"
      ]
     },
     "execution_count": 63,
     "metadata": {},
     "output_type": "execute_result"
    }
   ],
   "source": [
    "df.isnull().sum()"
   ]
  },
  {
   "cell_type": "code",
   "execution_count": null,
   "id": "3311bda8",
   "metadata": {},
   "outputs": [],
   "source": [
    "final = pd.DataFrame()\n",
    "\n",
    "for j in range(2, 12):\n",
    "    url = f\"https://www.flipkart.com/search?q=laptop&otracker=search&otracker1=search&marketplace=FLIPKART&as-show=on&as=off&page={j}\"\n",
    "    header1 = {\n",
    "        \"User-Agent\": \"Mozilla/5.0 (Windows NT 10.0; Win64; x64) AppleWebKit/537.36 (KHTML, like Gecko) Chrome/141.0.0.0 Safari/537.36\"\n",
    "    }\n",
    "    r = requests.get(url, headers=header1).text\n",
    "    soup = BeautifulSoup(r, \"html.parser\")\n",
    "\n",
    "    div = soup.find_all('div', class_='tUxRFH')\n",
    "\n",
    "    name = []\n",
    "    price = []\n",
    "    discount = []\n",
    "    rating = []\n",
    "    bank = []\n",
    "    total_review = []\n",
    "\n",
    "    for i in div:\n",
    "        try:\n",
    "            name.append(i.find('div', class_=\"KzDlHZ\").text.strip())\n",
    "        except:\n",
    "            name.append(None)\n",
    "\n",
    "        try:\n",
    "            price.append(i.find('div', class_=\"Nx9bqj _4b5DiR\").text.strip())\n",
    "        except:\n",
    "            price.append(None)\n",
    "\n",
    "        try:\n",
    "            discount.append(i.find('div', class_=\"UkUFwK\").text.strip())\n",
    "        except:\n",
    "            discount.append(None)\n",
    "\n",
    "        try:\n",
    "            rating.append(i.find('div', class_=\"XQDdHH\").text.strip())\n",
    "        except:\n",
    "            rating.append(None)\n",
    "\n",
    "        try:\n",
    "            bank.append(i.find('div', class_=\"yiggsN O5Fpg8\").text.strip())\n",
    "        except:\n",
    "            bank.append(\"false\")\n",
    "\n",
    "        try:\n",
    "            total_review.append(i.find('span', class_=\"Wphh3N\").text.strip())\n",
    "        except:\n",
    "            total_review.append(None)\n",
    "\n",
    "    d = {\n",
    "        'name': name,\n",
    "        'price': price,\n",
    "        'discount': discount,\n",
    "        'rating': rating,\n",
    "        'bank': bank,\n",
    "        'total_review': total_review\n",
    "    }\n",
    "\n",
    "    df = pd.DataFrame(d)\n",
    "    \n",
    "    # ✅ Append current page data to final DataFrame\n",
    "    final = pd.concat([final, df], ignore_index=True)\n"
   ]
  },
  {
   "cell_type": "markdown",
   "id": "0d91029d",
   "metadata": {},
   "source": [
    "## running most code"
   ]
  },
  {
   "cell_type": "code",
   "execution_count": null,
   "id": "5510b7de",
   "metadata": {},
   "outputs": [],
   "source": [
    "final50 = pd.DataFrame()\n",
    "\n",
    "for j in range(2,100):\n",
    "    url = f\"https://www.flipkart.com/search?q=laptop&otracker=search&otracker1=search&marketplace=FLIPKART&as-show=on&as=off&page={j}\"\n",
    "    header1 = {\"User-Agent\": \"Mozilla/5.0 (Windows NT 10.0; Win64; x64) AppleWebKit/537.36 (KHTML, like Gecko) Chrome/141.0.0.0 Safari/537.36\"}\n",
    "    r = requests.get(url, headers=header1).text\n",
    "\n",
    "    soup=BeautifulSoup(r,\"html.parser\")\n",
    "\n",
    "    div = soup.find_all('div',class_='tUxRFH')\n",
    "\n",
    "\n",
    "    name = []\n",
    "    price = []\n",
    "    discount = []\n",
    "    rating=[]\n",
    "    bank=[]\n",
    "    total_review=[]\n",
    "\n",
    "    for i in div:\n",
    "        try:\n",
    "            name.append(i.find('div', class_=\"KzDlHZ\").text.strip())\n",
    "        except:\n",
    "            name.append(None)\n",
    "\n",
    "        try:\n",
    "            price.append(i.find('div', class_=\"Nx9bqj _4b5DiR\").text.strip())\n",
    "        except:\n",
    "            price.append(None)\n",
    "\n",
    "        try:\n",
    "            discount.append(i.find('div', class_=\"UkUFwK\").text.strip())\n",
    "        except:\n",
    "            discount.append(None)\n",
    "\n",
    "        try:\n",
    "\n",
    "            rating.append(i.find('div',class_=\"XQDdHH\").text.strip())\n",
    "        except:\n",
    "            rating.append(None)\n",
    "\n",
    "        try:\n",
    "            bank.append(i.find('div',class_=\"yiggsN O5Fpg8\").text.strip())\n",
    "        except:\n",
    "            bank.append(\"false\")\n",
    "        try:\n",
    "\n",
    "            total_review.append(i.find('span',class_=\"Wphh3N\").text.strip())\n",
    "        except:\n",
    "            total_review.append(None)\n",
    "\n",
    "\n",
    "    d = {\n",
    "        'name': name,\n",
    "        'price': price,\n",
    "        'discount': discount,\n",
    "        'rating':rating,\n",
    "        'bank':bank,\n",
    "        'total_review':total_review\n",
    "    }\n",
    "\n",
    "    df = pd.DataFrame(d)\n",
    "\n",
    "\n",
    "    final50 = pd.concat([final50, df], ignore_index=True)\n",
    "\n"
   ]
  },
  {
   "cell_type": "code",
   "execution_count": 93,
   "id": "6d1c33ca",
   "metadata": {},
   "outputs": [
    {
     "data": {
      "application/vnd.microsoft.datawrangler.viewer.v0+json": {
       "columns": [
        {
         "name": "index",
         "rawType": "int64",
         "type": "integer"
        },
        {
         "name": "name",
         "rawType": "object",
         "type": "string"
        },
        {
         "name": "price",
         "rawType": "object",
         "type": "unknown"
        },
        {
         "name": "discount",
         "rawType": "object",
         "type": "unknown"
        },
        {
         "name": "rating",
         "rawType": "object",
         "type": "unknown"
        },
        {
         "name": "bank",
         "rawType": "object",
         "type": "string"
        },
        {
         "name": "total_review",
         "rawType": "object",
         "type": "unknown"
        }
       ],
       "ref": "4e78f9e6-a47d-4307-8058-972e4ef29e0c",
       "rows": [
        [
         "0",
         "Apple MacBook AIR Apple M2 - (16 GB/256 GB SSD/macOS Sequoia) MC7W4HN/A",
         "₹64,999",
         "24% off",
         "4.7",
         "Top Discount of the Sale",
         "6,246 Ratings & 376 Reviews"
        ],
        [
         "1",
         "ASUS Expertbook P1 High-performance processor Intel Core i5 13th Gen 13420H - (32 GB/512 GB SSD/Window...",
         "₹53,990",
         "53% off",
         "4.4",
         "Top Discount of the Sale",
         "2,145 Ratings & 182 Reviews"
        ],
        [
         "2",
         "Samsung Galaxy Book4 Metal Intel Core i5 13th Gen 1335U - (8 GB/512 GB SSD/Windows 11 Home) NP750XGJ-K...",
         "₹47,690",
         "39% off",
         "4.4",
         "Upto",
         "12,735 Ratings & 1,018 Reviews"
        ],
        [
         "3",
         "PiBook PhysicsWallah MediaTek MT8788 - (6 GB/128 GB EMMC Storage/Android 11) PW-2401 Laptop",
         "₹13,498",
         "46% off",
         null,
         "Top Discount of the Sale",
         null
        ],
        [
         "4",
         "ASUS Vivobook Go 15 (2025) with Office 2024 + M365 Basic*, Backlit Keyboard, AMD Ryzen 5 Quad Core 752...",
         "₹37,990",
         "28% off",
         "4.2",
         "Top Discount of the Sale",
         "599 Ratings & 31 Reviews"
        ],
        [
         "5",
         "Samsung Galaxy Book4 Metal Intel Core i3 13th Gen 1315U - (8 GB/512 GB SSD/Windows 11 Home) NP750XGJ-L...",
         "₹35,990",
         "37% off",
         "4.4",
         "Upto",
         "7,146 Ratings & 709 Reviews"
        ],
        [
         "6",
         "ASUS Vivobook S14 Flip (2025) with Office 2024 + M365 Basic*, Backlit Keyboard, Intel Core i5 13th Gen...",
         "₹57,990",
         "33% off",
         "4.5",
         "Top Discount of the Sale",
         "351 Ratings & 29 Reviews"
        ],
        [
         "7",
         "Acer Aspire 14 with Backlit Keyboard, Intel Core i5 13th Gen 13500H - (16 GB/512 GB SSD/Windows 11 Hom...",
         "₹45,990",
         "38% off",
         "4.3",
         "Upto",
         "5,575 Ratings & 492 Reviews"
        ],
        [
         "8",
         "ASUS Expertbook P1 Intel Core i3 13th Gen 1315U - (8 GB/512 GB SSD/Windows 11 Home) P1503CVA-S70501WS ...",
         "₹33,990",
         "51% off",
         "4.3",
         "Upto",
         "2,263 Ratings & 203 Reviews"
        ],
        [
         "9",
         "ASUS Vivobook 16X (2025) for Creator with Office 2024 + M365 Basic, Intel Core i5 13th Gen 13420H - (1...",
         "₹61,600",
         "31% off",
         "4.2",
         "Only 4 left",
         "757 Ratings & 39 Reviews"
        ],
        [
         "10",
         "DELL Inspiron 5440 (2025) Intel Core i3 13th Gen 1305U - (16 GB/512 GB SSD/Windows 11 Home) Inspiron 5...",
         "₹34,390",
         "51% off",
         "4.3",
         "Only few left",
         "59 Ratings & 3 Reviews"
        ],
        [
         "11",
         "ASUS Vivobook 15, with Backlit Keyboard, Intel Core i5 13th Gen 1334U - (16 GB/512 GB SSD/Windows 11 H...",
         "₹45,985",
         "35% off",
         "4.3",
         "Top Discount of the Sale",
         "844 Ratings & 48 Reviews"
        ],
        [
         "12",
         "MOTOROLA Motobook 60 Full Metal OLED (i5 14th Gen) Intel Core 5 (Series 2) 210H - (16 GB/512 GB SSD/Wi...",
         "₹52,999",
         "43% off",
         "4.4",
         "Top Discount of the Sale",
         "1,067 Ratings & 113 Reviews"
        ],
        [
         "13",
         "MOTOROLA Motobook 60 Full Metal OLED (i5 14th Gen) Intel Core 5 (Series 2) 210H - (16 GB/512 GB SSD/Wi...",
         "₹52,999",
         "43% off",
         "4.4",
         "Top Discount of the Sale",
         "1,067 Ratings & 113 Reviews"
        ],
        [
         "14",
         "ASUS Vivobook 16X (2025) with Office 2024 + M365 Basic* Intel Core i5 13th Gen 13420H - (16 GB/512 GB ...",
         "₹59,990",
         "33% off",
         "4.2",
         "Top Discount of the Sale",
         "757 Ratings & 39 Reviews"
        ],
        [
         "15",
         "ASUS Expertbook P1 High-performance processor Intel Core i7 13th Gen 13620H - (16 GB/512 GB SSD/Window...",
         "₹57,990",
         "42% off",
         "4.3",
         "Only 1 left",
         "530 Ratings & 43 Reviews"
        ],
        [
         "16",
         "ASUS Expertbook P1 High-performance processor Intel Core i5 13th Gen 13420H - (16 GB/512 GB SSD/Window...",
         "₹47,990",
         "46% off",
         "4.4",
         "Top Discount of the Sale",
         "2,145 Ratings & 182 Reviews"
        ],
        [
         "17",
         "CHUWI Intel Celeron Dual Core 11th Gen N4020 - (8 GB/256 GB SSD/Windows 11 Home) HeroBook Pro Laptop",
         "₹16,990",
         "51% off",
         "3.7",
         "Upto",
         "1,769 Ratings & 212 Reviews"
        ],
        [
         "18",
         "ASUS Vivobook S14 Flip (2025) with Office 2024 + M365 Basic*, Metallic Design, Intel Core i5 13th Gen ...",
         "₹57,990",
         "33% off",
         "4.5",
         "Top Discount of the Sale",
         "351 Ratings & 29 Reviews"
        ],
        [
         "19",
         "ASUS Vivobook S14 (2025) with Office 2024 + M365 Basic*, Backlit Keyboard, Intel Core i7 13th Gen 1362...",
         "₹58,990",
         "40% off",
         "4.5",
         "Only 2 left",
         "75 Ratings & 2 Reviews"
        ],
        [
         "20",
         "Lenovo IdeaPad Slim 5 WUXGA OLED Full Metal Body Intel Core i5 13th Gen 13420H - (16 GB/1 TB SSD/Windo...",
         "₹64,990",
         "33% off",
         "4.9",
         "Top Discount of the Sale",
         "14 Ratings & 0 Reviews"
        ],
        [
         "21",
         "ASUS Vivobook Go 14 (2025) with Office 2024 + M365 Basic* AMD Ryzen 3 Quad Core 7320U - (8 GB/512 GB S...",
         "₹28,990",
         "34% off",
         "4.2",
         "Lowest price since launch",
         "2,848 Ratings & 265 Reviews"
        ],
        [
         "22",
         "Samsung Galaxy Book4 360 Evo Intel Core 5 120U - (16 GB/512 GB SSD/Windows 11 Home) NP750QGK-KG1IN / N...",
         "₹1,05,799",
         "19% off",
         "4.4",
         "Top Discount of the Sale",
         "43 Ratings & 3 Reviews"
        ],
        [
         "23",
         "ASUS Vivobook S14 (2025)(i5 14th Gen) with Office 2024 + M365 Basic* Backlit Keyboard Intel Core 5 210...",
         "₹57,990",
         "12% off",
         "4.4",
         "Upto",
         "20 Ratings & 2 Reviews"
        ],
        [
         "24",
         "ASUS Expertbook P1 High-performance processor Intel Core i5 13th Gen 13420H - (32 GB/512 GB SSD/Window...",
         "₹53,990",
         "53% off",
         "4.4",
         "Top Discount of the Sale",
         "2,145 Ratings & 182 Reviews"
        ],
        [
         "25",
         "Acer Aspire 3 Intel Celeron Dual Core N4500 - (8 GB/256 GB SSD/Windows 11 Home) A325-45 Thin and Light...",
         "₹22,990",
         "30% off",
         "3.9",
         "Only few left",
         "1,481 Ratings & 132 Reviews"
        ],
        [
         "26",
         "PiBook PhysicsWallah MediaTek MT8788 - (6 GB/128 GB EMMC Storage/Android 11) PW-2401 Laptop",
         "₹13,498",
         "46% off",
         null,
         "Top Discount of the Sale",
         null
        ],
        [
         "27",
         "Samsung Galaxy Book4 Metal Intel Core i5 13th Gen 1335U - (8 GB/512 GB SSD/Windows 11 Home) NP750XGJ-K...",
         "₹47,690",
         "39% off",
         "4.4",
         "Upto",
         "12,735 Ratings & 1,018 Reviews"
        ],
        [
         "28",
         "Acer Aspire 3 Intel Core i3 12th Gen 1215U - (8 GB/512 GB SSD/Windows 11 Home) A324-51 Thin and Light ...",
         "₹25,990",
         "39% off",
         "4.2",
         "Upto",
         "4,529 Ratings & 344 Reviews"
        ],
        [
         "29",
         "Acer Aspire 14 AI Qualcomm Snapdragon X - (16 GB/512 GB SSD/Windows 11 Home) A14-11M Thin and Light La...",
         "₹43,999",
         "52% off",
         "4.9",
         "Top Discount of the Sale",
         "10 Ratings & 2 Reviews"
        ],
        [
         "30",
         "Samsung Galaxy Book4 Metal Intel Core i7 13th Gen 1355U - (16 GB/512 GB SSD/Windows 11 Home) NP750XGJ-...",
         "₹60,490",
         "32% off",
         "4.4",
         "Upto",
         "4,031 Ratings & 265 Reviews"
        ],
        [
         "31",
         "Lenovo 100e Chromebook Gen 4 MediaTek Kompanio 520 - (8 GB/64 GB EMMC Storage/Chrome OS) 100e Chromebo...",
         "₹14,999",
         "60% off",
         "3.9",
         "Upto",
         "1,126 Ratings & 83 Reviews"
        ],
        [
         "32",
         "ASUS Vivobook S14 Flip (2025) with Office 2024 + M365 Basic*, Backlit Keyboard, Intel Core i5 13th Gen...",
         "₹57,990",
         "33% off",
         "4.5",
         "Top Discount of the Sale",
         "351 Ratings & 29 Reviews"
        ],
        [
         "33",
         "MOTOROLA Motobook 60 Full Metal OLED (i5 14th Gen) Intel Core 5 (Series 2) 210H - (16 GB/512 GB SSD/Wi...",
         "₹52,999",
         "43% off",
         "4.4",
         "Top Discount of the Sale",
         "1,067 Ratings & 113 Reviews"
        ],
        [
         "34",
         "ASUS Vivobook 15 (2025) with Office 2024 + M365 Basic*, Backlit Keyboard, Intel Core i5 13th Gen 1335U...",
         "₹45,990",
         "33% off",
         "4.3",
         "Upto",
         "844 Ratings & 48 Reviews"
        ],
        [
         "35",
         "Lenovo Yoga Slim 6 WUXGA OLED Intel Core i5 13th Gen 13500H - (16 GB/512 GB SSD/Windows 11 Home) 14IRH...",
         "₹67,990",
         "39% off",
         "4.4",
         "Upto",
         "489 Ratings & 52 Reviews"
        ],
        [
         "36",
         "MOTOROLA Motobook 60 Full Metal OLED (i5 14th Gen) Intel Core 5 (Series 2) 210H - (16 GB/512 GB SSD/Wi...",
         "₹52,999",
         "43% off",
         "4.4",
         "Top Discount of the Sale",
         "1,067 Ratings & 113 Reviews"
        ],
        [
         "37",
         "ASUS Expertbook P1 High-performance processor Intel Core i5 13th Gen 13420H - (16 GB/512 GB SSD/Window...",
         "₹47,990",
         "46% off",
         "4.4",
         "Top Discount of the Sale",
         "2,145 Ratings & 182 Reviews"
        ],
        [
         "38",
         "Acer Aspire Lite AMD Ryzen 3 Quad Core 5300U - (8 GB/512 GB SSD/Windows 11 Home) AL15-41 Thin and Ligh...",
         "₹25,990",
         "42% off",
         "4.2",
         "Top Discount of the Sale",
         "851 Ratings & 63 Reviews"
        ],
        [
         "39",
         "GIGABYTE G Series Intel Core i7 13th Gen 13620H - (16 GB/1 TB SSD/Windows 11 Home/8 GB Graphics/NVIDIA...",
         "₹78,990",
         "51% off",
         "4.4",
         "Only 1 left",
         "41 Ratings & 6 Reviews"
        ],
        [
         "40",
         "ASUS Expertbook P1 High-performance processor Intel Core i7 13th Gen 13620H - (32 GB/512 GB SSD/Window...",
         "₹64,990",
         "50% off",
         "4.3",
         "Top Discount of the Sale",
         "530 Ratings & 43 Reviews"
        ],
        [
         "41",
         "ASUS Vivobook 15 (2025) (i5 14th Gen) with MSO 2024 + M365 Basic*, Backlit Keyboard, Intel Core 5 120U...",
         "₹43,990",
         "32% off",
         "4.3",
         "Top Discount of the Sale",
         "436 Ratings & 31 Reviews"
        ],
        [
         "42",
         "CHUWI Intel Celeron Dual Core 11th Gen N4020 - (8 GB/256 GB SSD/Windows 11 Home) HeroBook Pro Laptop",
         "₹16,990",
         "51% off",
         "3.7",
         "Upto",
         "1,769 Ratings & 212 Reviews"
        ],
        [
         "43",
         "Acer Aspire 14 with Backlit Keyboard, Intel Core i5 13th Gen 13500H - (16 GB/512 GB SSD/Windows 11 Hom...",
         "₹45,990",
         "38% off",
         "4.3",
         "Upto",
         "5,575 Ratings & 492 Reviews"
        ],
        [
         "44",
         "ASUS Vivobook S14 (2025) with Office 2024 + M365 Basic*, Backlit Keyboard, Intel Core i5 13th Gen 1342...",
         "₹52,989",
         "41% off",
         "4.4",
         "Top Discount of the Sale",
         "502 Ratings & 35 Reviews"
        ],
        [
         "45",
         "Acer Aspire Intel Core i5 12th Gen 12450H - (16 GB/512 GB SSD/Windows 11 Home) AL15-52H Thin and Light...",
         "₹48,068",
         "15% off",
         "4.1",
         "Only 1 left",
         "1,575 Ratings & 149 Reviews"
        ],
        [
         "46",
         "MOTOROLA Motobook 60 Full Metal OLED (i7 14th Gen) Intel Core 7 (Series 2) 240H - (16 GB/1 TB SSD/Wind...",
         "₹64,990",
         "41% off",
         "4.4",
         "Top Discount of the Sale",
         "413 Ratings & 46 Reviews"
        ],
        [
         "47",
         "ASUS Vivobook S14 (2025)(i5 14th Gen) with Office 2024 + M365 Basic* Backlit Keyboard Intel Core 5 210...",
         "₹57,990",
         "12% off",
         "4.4",
         "Upto",
         "20 Ratings & 2 Reviews"
        ],
        [
         "48",
         "DELL 15 Intel Core i5 13th Gen - (16 GB/512 GB SSD/Windows 11 Home) Vostro 3530 RPL Laptop",
         "₹48,990",
         "24% off",
         "4.1",
         "Top Discount of the Sale",
         "206 Ratings & 12 Reviews"
        ],
        [
         "49",
         "DELL 14 (2025) Intel Core i3 13th Gen 1305U - (16 GB/512 GB SSD/Windows 11 Pro) 14 Thin and Light Lapt...",
         "₹35,190",
         "50% off",
         "4.3",
         "Only few left",
         "52 Ratings & 6 Reviews"
        ]
       ],
       "shape": {
        "columns": 6,
        "rows": 960
       }
      },
      "text/html": [
       "<div>\n",
       "<style scoped>\n",
       "    .dataframe tbody tr th:only-of-type {\n",
       "        vertical-align: middle;\n",
       "    }\n",
       "\n",
       "    .dataframe tbody tr th {\n",
       "        vertical-align: top;\n",
       "    }\n",
       "\n",
       "    .dataframe thead th {\n",
       "        text-align: right;\n",
       "    }\n",
       "</style>\n",
       "<table border=\"1\" class=\"dataframe\">\n",
       "  <thead>\n",
       "    <tr style=\"text-align: right;\">\n",
       "      <th></th>\n",
       "      <th>name</th>\n",
       "      <th>price</th>\n",
       "      <th>discount</th>\n",
       "      <th>rating</th>\n",
       "      <th>bank</th>\n",
       "      <th>total_review</th>\n",
       "    </tr>\n",
       "  </thead>\n",
       "  <tbody>\n",
       "    <tr>\n",
       "      <th>0</th>\n",
       "      <td>Apple MacBook AIR Apple M2 - (16 GB/256 GB SSD...</td>\n",
       "      <td>₹64,999</td>\n",
       "      <td>24% off</td>\n",
       "      <td>4.7</td>\n",
       "      <td>Top Discount of the Sale</td>\n",
       "      <td>6,246 Ratings &amp; 376 Reviews</td>\n",
       "    </tr>\n",
       "    <tr>\n",
       "      <th>1</th>\n",
       "      <td>ASUS Expertbook P1 High-performance processor ...</td>\n",
       "      <td>₹53,990</td>\n",
       "      <td>53% off</td>\n",
       "      <td>4.4</td>\n",
       "      <td>Top Discount of the Sale</td>\n",
       "      <td>2,145 Ratings &amp; 182 Reviews</td>\n",
       "    </tr>\n",
       "    <tr>\n",
       "      <th>2</th>\n",
       "      <td>Samsung Galaxy Book4 Metal Intel Core i5 13th ...</td>\n",
       "      <td>₹47,690</td>\n",
       "      <td>39% off</td>\n",
       "      <td>4.4</td>\n",
       "      <td>Upto</td>\n",
       "      <td>12,735 Ratings &amp; 1,018 Reviews</td>\n",
       "    </tr>\n",
       "    <tr>\n",
       "      <th>3</th>\n",
       "      <td>PiBook PhysicsWallah MediaTek MT8788 - (6 GB/1...</td>\n",
       "      <td>₹13,498</td>\n",
       "      <td>46% off</td>\n",
       "      <td>None</td>\n",
       "      <td>Top Discount of the Sale</td>\n",
       "      <td>None</td>\n",
       "    </tr>\n",
       "    <tr>\n",
       "      <th>4</th>\n",
       "      <td>ASUS Vivobook Go 15 (2025) with Office 2024 + ...</td>\n",
       "      <td>₹37,990</td>\n",
       "      <td>28% off</td>\n",
       "      <td>4.2</td>\n",
       "      <td>Top Discount of the Sale</td>\n",
       "      <td>599 Ratings &amp; 31 Reviews</td>\n",
       "    </tr>\n",
       "    <tr>\n",
       "      <th>...</th>\n",
       "      <td>...</td>\n",
       "      <td>...</td>\n",
       "      <td>...</td>\n",
       "      <td>...</td>\n",
       "      <td>...</td>\n",
       "      <td>...</td>\n",
       "    </tr>\n",
       "    <tr>\n",
       "      <th>955</th>\n",
       "      <td>Lenovo IdeaPad Slim 3 Intel Core i3 12th Gen 1...</td>\n",
       "      <td>₹34,011</td>\n",
       "      <td>50% off</td>\n",
       "      <td>4.1</td>\n",
       "      <td>Bank Offer</td>\n",
       "      <td>871 Ratings &amp; 67 Reviews</td>\n",
       "    </tr>\n",
       "    <tr>\n",
       "      <th>956</th>\n",
       "      <td>ASUS Vivobook S14 (2025)(i5 14th Gen) with Off...</td>\n",
       "      <td>₹57,990</td>\n",
       "      <td>12% off</td>\n",
       "      <td>4.4</td>\n",
       "      <td>Upto</td>\n",
       "      <td>20 Ratings &amp; 2 Reviews</td>\n",
       "    </tr>\n",
       "    <tr>\n",
       "      <th>957</th>\n",
       "      <td>CHUWI Intel Celeron Dual Core 11th Gen N4020 -...</td>\n",
       "      <td>₹16,990</td>\n",
       "      <td>51% off</td>\n",
       "      <td>3.7</td>\n",
       "      <td>Upto</td>\n",
       "      <td>1,769 Ratings &amp; 212 Reviews</td>\n",
       "    </tr>\n",
       "    <tr>\n",
       "      <th>958</th>\n",
       "      <td>ASUS ROG Strix G16 Intel Core i9 14th Gen 1490...</td>\n",
       "      <td>₹1,99,990</td>\n",
       "      <td>16% off</td>\n",
       "      <td>4.2</td>\n",
       "      <td>Upto</td>\n",
       "      <td>6 Ratings &amp; 0 Reviews</td>\n",
       "    </tr>\n",
       "    <tr>\n",
       "      <th>959</th>\n",
       "      <td>ASUS Vivobook 14 Flip OLED (2025) with Touch S...</td>\n",
       "      <td>₹98,990</td>\n",
       "      <td>26% off</td>\n",
       "      <td>4.3</td>\n",
       "      <td>Top Discount of the Sale</td>\n",
       "      <td>6 Ratings &amp; 1 Reviews</td>\n",
       "    </tr>\n",
       "  </tbody>\n",
       "</table>\n",
       "<p>960 rows × 6 columns</p>\n",
       "</div>"
      ],
      "text/plain": [
       "                                                  name      price discount  \\\n",
       "0    Apple MacBook AIR Apple M2 - (16 GB/256 GB SSD...    ₹64,999  24% off   \n",
       "1    ASUS Expertbook P1 High-performance processor ...    ₹53,990  53% off   \n",
       "2    Samsung Galaxy Book4 Metal Intel Core i5 13th ...    ₹47,690  39% off   \n",
       "3    PiBook PhysicsWallah MediaTek MT8788 - (6 GB/1...    ₹13,498  46% off   \n",
       "4    ASUS Vivobook Go 15 (2025) with Office 2024 + ...    ₹37,990  28% off   \n",
       "..                                                 ...        ...      ...   \n",
       "955  Lenovo IdeaPad Slim 3 Intel Core i3 12th Gen 1...    ₹34,011  50% off   \n",
       "956  ASUS Vivobook S14 (2025)(i5 14th Gen) with Off...    ₹57,990  12% off   \n",
       "957  CHUWI Intel Celeron Dual Core 11th Gen N4020 -...    ₹16,990  51% off   \n",
       "958  ASUS ROG Strix G16 Intel Core i9 14th Gen 1490...  ₹1,99,990  16% off   \n",
       "959  ASUS Vivobook 14 Flip OLED (2025) with Touch S...    ₹98,990  26% off   \n",
       "\n",
       "    rating                      bank                    total_review  \n",
       "0      4.7  Top Discount of the Sale     6,246 Ratings & 376 Reviews  \n",
       "1      4.4  Top Discount of the Sale     2,145 Ratings & 182 Reviews  \n",
       "2      4.4                      Upto  12,735 Ratings & 1,018 Reviews  \n",
       "3     None  Top Discount of the Sale                            None  \n",
       "4      4.2  Top Discount of the Sale        599 Ratings & 31 Reviews  \n",
       "..     ...                       ...                             ...  \n",
       "955    4.1                Bank Offer        871 Ratings & 67 Reviews  \n",
       "956    4.4                      Upto          20 Ratings & 2 Reviews  \n",
       "957    3.7                      Upto     1,769 Ratings & 212 Reviews  \n",
       "958    4.2                      Upto           6 Ratings & 0 Reviews  \n",
       "959    4.3  Top Discount of the Sale           6 Ratings & 1 Reviews  \n",
       "\n",
       "[960 rows x 6 columns]"
      ]
     },
     "execution_count": 93,
     "metadata": {},
     "output_type": "execute_result"
    }
   ],
   "source": [
    "final50"
   ]
  },
  {
   "cell_type": "code",
   "execution_count": 88,
   "id": "d564e8d9",
   "metadata": {},
   "outputs": [
    {
     "data": {
      "application/vnd.microsoft.datawrangler.viewer.v0+json": {
       "columns": [
        {
         "name": "index",
         "rawType": "object",
         "type": "string"
        },
        {
         "name": "0",
         "rawType": "int64",
         "type": "integer"
        }
       ],
       "ref": "9212e64d-1fd4-4e9f-92f5-e6081cb31766",
       "rows": [
        [
         "name",
         "0"
        ],
        [
         "price",
         "0"
        ],
        [
         "discount",
         "7"
        ],
        [
         "rating",
         "54"
        ],
        [
         "bank",
         "0"
        ],
        [
         "total_review",
         "54"
        ]
       ],
       "shape": {
        "columns": 1,
        "rows": 6
       }
      },
      "text/plain": [
       "name             0\n",
       "price            0\n",
       "discount         7\n",
       "rating          54\n",
       "bank             0\n",
       "total_review    54\n",
       "dtype: int64"
      ]
     },
     "execution_count": 88,
     "metadata": {},
     "output_type": "execute_result"
    }
   ],
   "source": [
    "final.isnull().sum()"
   ]
  },
  {
   "cell_type": "code",
   "execution_count": 77,
   "id": "9d87650d",
   "metadata": {},
   "outputs": [
    {
     "ename": "AttributeError",
     "evalue": "'set' object has no attribute 'items'",
     "output_type": "error",
     "traceback": [
      "\u001b[31m---------------------------------------------------------------------------\u001b[39m",
      "\u001b[31mAttributeError\u001b[39m                            Traceback (most recent call last)",
      "\u001b[36mCell\u001b[39m\u001b[36m \u001b[39m\u001b[32mIn[77]\u001b[39m\u001b[32m, line 5\u001b[39m\n\u001b[32m      2\u001b[39m url=\u001b[33m\"\u001b[39m\u001b[33mhttps://www.flipkart.com/search?q=laptop&otracker=search&otracker1=search&marketplace=FLIPKART&as-show=on&as=off&page=2\u001b[39m\u001b[33m\"\u001b[39m\n\u001b[32m      3\u001b[39m header1={\u001b[33m\"\u001b[39m\u001b[33mMozilla/5.0 (Windows NT 10.0; Win64; x64) AppleWebKit/537.36 (KHTML, like Gecko) Chrome/141.0.0.0 Safari/537.36\u001b[39m\u001b[33m\"\u001b[39m}\n\u001b[32m----> \u001b[39m\u001b[32m5\u001b[39m r=\u001b[43mrequests\u001b[49m\u001b[43m.\u001b[49m\u001b[43mget\u001b[49m\u001b[43m(\u001b[49m\u001b[43murl\u001b[49m\u001b[43m,\u001b[49m\u001b[43mheaders\u001b[49m\u001b[43m=\u001b[49m\u001b[43mheader1\u001b[49m\u001b[43m)\u001b[49m.text\n\u001b[32m      6\u001b[39m url\n",
      "\u001b[36mFile \u001b[39m\u001b[32m~\\AppData\\Local\\Packages\\PythonSoftwareFoundation.Python.3.13_qbz5n2kfra8p0\\LocalCache\\local-packages\\Python313\\site-packages\\requests\\api.py:73\u001b[39m, in \u001b[36mget\u001b[39m\u001b[34m(url, params, **kwargs)\u001b[39m\n\u001b[32m     62\u001b[39m \u001b[38;5;28;01mdef\u001b[39;00m\u001b[38;5;250m \u001b[39m\u001b[34mget\u001b[39m(url, params=\u001b[38;5;28;01mNone\u001b[39;00m, **kwargs):\n\u001b[32m     63\u001b[39m \u001b[38;5;250m    \u001b[39m\u001b[33mr\u001b[39m\u001b[33;03m\"\"\"Sends a GET request.\u001b[39;00m\n\u001b[32m     64\u001b[39m \n\u001b[32m     65\u001b[39m \u001b[33;03m    :param url: URL for the new :class:`Request` object.\u001b[39;00m\n\u001b[32m   (...)\u001b[39m\u001b[32m     70\u001b[39m \u001b[33;03m    :rtype: requests.Response\u001b[39;00m\n\u001b[32m     71\u001b[39m \u001b[33;03m    \"\"\"\u001b[39;00m\n\u001b[32m---> \u001b[39m\u001b[32m73\u001b[39m     \u001b[38;5;28;01mreturn\u001b[39;00m \u001b[43mrequest\u001b[49m\u001b[43m(\u001b[49m\u001b[33;43m\"\u001b[39;49m\u001b[33;43mget\u001b[39;49m\u001b[33;43m\"\u001b[39;49m\u001b[43m,\u001b[49m\u001b[43m \u001b[49m\u001b[43murl\u001b[49m\u001b[43m,\u001b[49m\u001b[43m \u001b[49m\u001b[43mparams\u001b[49m\u001b[43m=\u001b[49m\u001b[43mparams\u001b[49m\u001b[43m,\u001b[49m\u001b[43m \u001b[49m\u001b[43m*\u001b[49m\u001b[43m*\u001b[49m\u001b[43mkwargs\u001b[49m\u001b[43m)\u001b[49m\n",
      "\u001b[36mFile \u001b[39m\u001b[32m~\\AppData\\Local\\Packages\\PythonSoftwareFoundation.Python.3.13_qbz5n2kfra8p0\\LocalCache\\local-packages\\Python313\\site-packages\\requests\\api.py:59\u001b[39m, in \u001b[36mrequest\u001b[39m\u001b[34m(method, url, **kwargs)\u001b[39m\n\u001b[32m     55\u001b[39m \u001b[38;5;66;03m# By using the 'with' statement we are sure the session is closed, thus we\u001b[39;00m\n\u001b[32m     56\u001b[39m \u001b[38;5;66;03m# avoid leaving sockets open which can trigger a ResourceWarning in some\u001b[39;00m\n\u001b[32m     57\u001b[39m \u001b[38;5;66;03m# cases, and look like a memory leak in others.\u001b[39;00m\n\u001b[32m     58\u001b[39m \u001b[38;5;28;01mwith\u001b[39;00m sessions.Session() \u001b[38;5;28;01mas\u001b[39;00m session:\n\u001b[32m---> \u001b[39m\u001b[32m59\u001b[39m     \u001b[38;5;28;01mreturn\u001b[39;00m \u001b[43msession\u001b[49m\u001b[43m.\u001b[49m\u001b[43mrequest\u001b[49m\u001b[43m(\u001b[49m\u001b[43mmethod\u001b[49m\u001b[43m=\u001b[49m\u001b[43mmethod\u001b[49m\u001b[43m,\u001b[49m\u001b[43m \u001b[49m\u001b[43murl\u001b[49m\u001b[43m=\u001b[49m\u001b[43murl\u001b[49m\u001b[43m,\u001b[49m\u001b[43m \u001b[49m\u001b[43m*\u001b[49m\u001b[43m*\u001b[49m\u001b[43mkwargs\u001b[49m\u001b[43m)\u001b[49m\n",
      "\u001b[36mFile \u001b[39m\u001b[32m~\\AppData\\Local\\Packages\\PythonSoftwareFoundation.Python.3.13_qbz5n2kfra8p0\\LocalCache\\local-packages\\Python313\\site-packages\\requests\\sessions.py:575\u001b[39m, in \u001b[36mSession.request\u001b[39m\u001b[34m(self, method, url, params, data, headers, cookies, files, auth, timeout, allow_redirects, proxies, hooks, stream, verify, cert, json)\u001b[39m\n\u001b[32m    562\u001b[39m \u001b[38;5;66;03m# Create the Request.\u001b[39;00m\n\u001b[32m    563\u001b[39m req = Request(\n\u001b[32m    564\u001b[39m     method=method.upper(),\n\u001b[32m    565\u001b[39m     url=url,\n\u001b[32m   (...)\u001b[39m\u001b[32m    573\u001b[39m     hooks=hooks,\n\u001b[32m    574\u001b[39m )\n\u001b[32m--> \u001b[39m\u001b[32m575\u001b[39m prep = \u001b[38;5;28;43mself\u001b[39;49m\u001b[43m.\u001b[49m\u001b[43mprepare_request\u001b[49m\u001b[43m(\u001b[49m\u001b[43mreq\u001b[49m\u001b[43m)\u001b[49m\n\u001b[32m    577\u001b[39m proxies = proxies \u001b[38;5;129;01mor\u001b[39;00m {}\n\u001b[32m    579\u001b[39m settings = \u001b[38;5;28mself\u001b[39m.merge_environment_settings(\n\u001b[32m    580\u001b[39m     prep.url, proxies, stream, verify, cert\n\u001b[32m    581\u001b[39m )\n",
      "\u001b[36mFile \u001b[39m\u001b[32m~\\AppData\\Local\\Packages\\PythonSoftwareFoundation.Python.3.13_qbz5n2kfra8p0\\LocalCache\\local-packages\\Python313\\site-packages\\requests\\sessions.py:484\u001b[39m, in \u001b[36mSession.prepare_request\u001b[39m\u001b[34m(self, request)\u001b[39m\n\u001b[32m    481\u001b[39m     auth = get_netrc_auth(request.url)\n\u001b[32m    483\u001b[39m p = PreparedRequest()\n\u001b[32m--> \u001b[39m\u001b[32m484\u001b[39m \u001b[43mp\u001b[49m\u001b[43m.\u001b[49m\u001b[43mprepare\u001b[49m\u001b[43m(\u001b[49m\n\u001b[32m    485\u001b[39m \u001b[43m    \u001b[49m\u001b[43mmethod\u001b[49m\u001b[43m=\u001b[49m\u001b[43mrequest\u001b[49m\u001b[43m.\u001b[49m\u001b[43mmethod\u001b[49m\u001b[43m.\u001b[49m\u001b[43mupper\u001b[49m\u001b[43m(\u001b[49m\u001b[43m)\u001b[49m\u001b[43m,\u001b[49m\n\u001b[32m    486\u001b[39m \u001b[43m    \u001b[49m\u001b[43murl\u001b[49m\u001b[43m=\u001b[49m\u001b[43mrequest\u001b[49m\u001b[43m.\u001b[49m\u001b[43murl\u001b[49m\u001b[43m,\u001b[49m\n\u001b[32m    487\u001b[39m \u001b[43m    \u001b[49m\u001b[43mfiles\u001b[49m\u001b[43m=\u001b[49m\u001b[43mrequest\u001b[49m\u001b[43m.\u001b[49m\u001b[43mfiles\u001b[49m\u001b[43m,\u001b[49m\n\u001b[32m    488\u001b[39m \u001b[43m    \u001b[49m\u001b[43mdata\u001b[49m\u001b[43m=\u001b[49m\u001b[43mrequest\u001b[49m\u001b[43m.\u001b[49m\u001b[43mdata\u001b[49m\u001b[43m,\u001b[49m\n\u001b[32m    489\u001b[39m \u001b[43m    \u001b[49m\u001b[43mjson\u001b[49m\u001b[43m=\u001b[49m\u001b[43mrequest\u001b[49m\u001b[43m.\u001b[49m\u001b[43mjson\u001b[49m\u001b[43m,\u001b[49m\n\u001b[32m    490\u001b[39m \u001b[43m    \u001b[49m\u001b[43mheaders\u001b[49m\u001b[43m=\u001b[49m\u001b[43mmerge_setting\u001b[49m\u001b[43m(\u001b[49m\n\u001b[32m    491\u001b[39m \u001b[43m        \u001b[49m\u001b[43mrequest\u001b[49m\u001b[43m.\u001b[49m\u001b[43mheaders\u001b[49m\u001b[43m,\u001b[49m\u001b[43m \u001b[49m\u001b[38;5;28;43mself\u001b[39;49m\u001b[43m.\u001b[49m\u001b[43mheaders\u001b[49m\u001b[43m,\u001b[49m\u001b[43m \u001b[49m\u001b[43mdict_class\u001b[49m\u001b[43m=\u001b[49m\u001b[43mCaseInsensitiveDict\u001b[49m\n\u001b[32m    492\u001b[39m \u001b[43m    \u001b[49m\u001b[43m)\u001b[49m\u001b[43m,\u001b[49m\n\u001b[32m    493\u001b[39m \u001b[43m    \u001b[49m\u001b[43mparams\u001b[49m\u001b[43m=\u001b[49m\u001b[43mmerge_setting\u001b[49m\u001b[43m(\u001b[49m\u001b[43mrequest\u001b[49m\u001b[43m.\u001b[49m\u001b[43mparams\u001b[49m\u001b[43m,\u001b[49m\u001b[43m \u001b[49m\u001b[38;5;28;43mself\u001b[39;49m\u001b[43m.\u001b[49m\u001b[43mparams\u001b[49m\u001b[43m)\u001b[49m\u001b[43m,\u001b[49m\n\u001b[32m    494\u001b[39m \u001b[43m    \u001b[49m\u001b[43mauth\u001b[49m\u001b[43m=\u001b[49m\u001b[43mmerge_setting\u001b[49m\u001b[43m(\u001b[49m\u001b[43mauth\u001b[49m\u001b[43m,\u001b[49m\u001b[43m \u001b[49m\u001b[38;5;28;43mself\u001b[39;49m\u001b[43m.\u001b[49m\u001b[43mauth\u001b[49m\u001b[43m)\u001b[49m\u001b[43m,\u001b[49m\n\u001b[32m    495\u001b[39m \u001b[43m    \u001b[49m\u001b[43mcookies\u001b[49m\u001b[43m=\u001b[49m\u001b[43mmerged_cookies\u001b[49m\u001b[43m,\u001b[49m\n\u001b[32m    496\u001b[39m \u001b[43m    \u001b[49m\u001b[43mhooks\u001b[49m\u001b[43m=\u001b[49m\u001b[43mmerge_hooks\u001b[49m\u001b[43m(\u001b[49m\u001b[43mrequest\u001b[49m\u001b[43m.\u001b[49m\u001b[43mhooks\u001b[49m\u001b[43m,\u001b[49m\u001b[43m \u001b[49m\u001b[38;5;28;43mself\u001b[39;49m\u001b[43m.\u001b[49m\u001b[43mhooks\u001b[49m\u001b[43m)\u001b[49m\u001b[43m,\u001b[49m\n\u001b[32m    497\u001b[39m \u001b[43m\u001b[49m\u001b[43m)\u001b[49m\n\u001b[32m    498\u001b[39m \u001b[38;5;28;01mreturn\u001b[39;00m p\n",
      "\u001b[36mFile \u001b[39m\u001b[32m~\\AppData\\Local\\Packages\\PythonSoftwareFoundation.Python.3.13_qbz5n2kfra8p0\\LocalCache\\local-packages\\Python313\\site-packages\\requests\\models.py:368\u001b[39m, in \u001b[36mPreparedRequest.prepare\u001b[39m\u001b[34m(self, method, url, headers, files, data, params, auth, cookies, hooks, json)\u001b[39m\n\u001b[32m    366\u001b[39m \u001b[38;5;28mself\u001b[39m.prepare_method(method)\n\u001b[32m    367\u001b[39m \u001b[38;5;28mself\u001b[39m.prepare_url(url, params)\n\u001b[32m--> \u001b[39m\u001b[32m368\u001b[39m \u001b[38;5;28;43mself\u001b[39;49m\u001b[43m.\u001b[49m\u001b[43mprepare_headers\u001b[49m\u001b[43m(\u001b[49m\u001b[43mheaders\u001b[49m\u001b[43m)\u001b[49m\n\u001b[32m    369\u001b[39m \u001b[38;5;28mself\u001b[39m.prepare_cookies(cookies)\n\u001b[32m    370\u001b[39m \u001b[38;5;28mself\u001b[39m.prepare_body(data, files, json)\n",
      "\u001b[36mFile \u001b[39m\u001b[32m~\\AppData\\Local\\Packages\\PythonSoftwareFoundation.Python.3.13_qbz5n2kfra8p0\\LocalCache\\local-packages\\Python313\\site-packages\\requests\\models.py:488\u001b[39m, in \u001b[36mPreparedRequest.prepare_headers\u001b[39m\u001b[34m(self, headers)\u001b[39m\n\u001b[32m    486\u001b[39m \u001b[38;5;28mself\u001b[39m.headers = CaseInsensitiveDict()\n\u001b[32m    487\u001b[39m \u001b[38;5;28;01mif\u001b[39;00m headers:\n\u001b[32m--> \u001b[39m\u001b[32m488\u001b[39m     \u001b[38;5;28;01mfor\u001b[39;00m header \u001b[38;5;129;01min\u001b[39;00m \u001b[43mheaders\u001b[49m\u001b[43m.\u001b[49m\u001b[43mitems\u001b[49m():\n\u001b[32m    489\u001b[39m         \u001b[38;5;66;03m# Raise exception on invalid header value.\u001b[39;00m\n\u001b[32m    490\u001b[39m         check_header_validity(header)\n\u001b[32m    491\u001b[39m         name, value = header\n",
      "\u001b[31mAttributeError\u001b[39m: 'set' object has no attribute 'items'"
     ]
    }
   ],
   "source": [
    "for j in range(2,12):\n",
    "    url=\"https://www.flipkart.com/search?q=laptop&otracker=search&otracker1=search&marketplace=FLIPKART&as-show=on&as=off&page=2\"\n",
    "    header1={\"Mozilla/5.0 (Windows NT 10.0; Win64; x64) AppleWebKit/537.36 (KHTML, like Gecko) Chrome/141.0.0.0 Safari/537.36\"}\n",
    "\n",
    "    r=requests.get(url,headers=header1).text\n",
    "    url"
   ]
  }
 ],
 "metadata": {
  "kernelspec": {
   "display_name": "Python 3",
   "language": "python",
   "name": "python3"
  },
  "language_info": {
   "codemirror_mode": {
    "name": "ipython",
    "version": 3
   },
   "file_extension": ".py",
   "mimetype": "text/x-python",
   "name": "python",
   "nbconvert_exporter": "python",
   "pygments_lexer": "ipython3",
   "version": "3.13.7"
  }
 },
 "nbformat": 4,
 "nbformat_minor": 5
}
