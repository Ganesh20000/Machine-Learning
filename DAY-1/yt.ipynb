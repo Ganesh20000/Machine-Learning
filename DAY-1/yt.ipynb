{
 "cells": [
  {
   "cell_type": "code",
   "execution_count": 76,
   "id": "8f2ffc4d",
   "metadata": {},
   "outputs": [],
   "source": [
    "import pandas as pd\n",
    "import numpy as np\n",
    "import matplotlib.pyplot as plt\n",
    "import seaborn as sns\n",
    "import warnings \n",
    "warnings.filterwarnings('ignore')\n"
   ]
  },
  {
   "cell_type": "code",
   "execution_count": 77,
   "id": "fcdde8d6",
   "metadata": {},
   "outputs": [],
   "source": [
    "df = pd.read_csv('yt.csv')"
   ]
  },
  {
   "cell_type": "code",
   "execution_count": 78,
   "id": "af3e47ac",
   "metadata": {},
   "outputs": [
    {
     "data": {
      "application/vnd.microsoft.datawrangler.viewer.v0+json": {
       "columns": [
        {
         "name": "index",
         "rawType": "object",
         "type": "string"
        },
        {
         "name": "0",
         "rawType": "int64",
         "type": "integer"
        }
       ],
       "ref": "080b77b8-babd-423d-bd49-81fd97c5457b",
       "rows": [
        [
         "rank",
         "0"
        ],
        [
         "Youtuber",
         "0"
        ],
        [
         "subscribers",
         "0"
        ],
        [
         "video views",
         "0"
        ],
        [
         "video count",
         "0"
        ],
        [
         "category",
         "27"
        ],
        [
         "started",
         "0"
        ]
       ],
       "shape": {
        "columns": 1,
        "rows": 7
       }
      },
      "text/plain": [
       "rank            0\n",
       "Youtuber        0\n",
       "subscribers     0\n",
       "video views     0\n",
       "video count     0\n",
       "category       27\n",
       "started         0\n",
       "dtype: int64"
      ]
     },
     "execution_count": 78,
     "metadata": {},
     "output_type": "execute_result"
    }
   ],
   "source": [
    "df.isna().sum()"
   ]
  },
  {
   "cell_type": "code",
   "execution_count": 79,
   "id": "2b56a553",
   "metadata": {},
   "outputs": [
    {
     "data": {
      "application/vnd.microsoft.datawrangler.viewer.v0+json": {
       "columns": [
        {
         "name": "index",
         "rawType": "int64",
         "type": "integer"
        },
        {
         "name": "rank",
         "rawType": "int64",
         "type": "integer"
        },
        {
         "name": "Youtuber",
         "rawType": "object",
         "type": "string"
        },
        {
         "name": "subscribers",
         "rawType": "object",
         "type": "string"
        },
        {
         "name": "video views",
         "rawType": "object",
         "type": "string"
        },
        {
         "name": "video count",
         "rawType": "object",
         "type": "string"
        },
        {
         "name": "category",
         "rawType": "object",
         "type": "unknown"
        },
        {
         "name": "started",
         "rawType": "int64",
         "type": "integer"
        }
       ],
       "ref": "66e6b760-9277-4589-9878-18f31c338929",
       "rows": [
        [
         "4",
         "5",
         "Music",
         "116,000,000",
         "0",
         "0",
         null,
         "2013"
        ],
        [
         "9",
         "10",
         "Gaming",
         "92,700,000",
         "0",
         "0",
         null,
         "2013"
        ],
        [
         "15",
         "16",
         "Sports",
         "75,100,000",
         "0",
         "0",
         null,
         "2013"
        ],
        [
         "81",
         "82",
         "News",
         "36,200,000",
         "0",
         "0",
         null,
         "2013"
        ],
        [
         "137",
         "138",
         "Popular on YouTube",
         "29,400,000",
         "0",
         "0",
         null,
         "2013"
        ],
        [
         "163",
         "164",
         "Vlad và Nikita",
         "27,100,000",
         "17,117,316,552",
         "405",
         null,
         "2018"
        ],
        [
         "180",
         "181",
         "व्लाद और निकिता",
         "25,900,000",
         "15,750,623,413",
         "427",
         null,
         "2018"
        ],
        [
         "202",
         "203",
         "Super JoJo - Nursery Rhymes & Kids Songs",
         "24,400,000",
         "831,718,833",
         "61",
         null,
         "2019"
        ],
        [
         "260",
         "261",
         "Diana and Roma ARA",
         "21,600,000",
         "9,790,033,957",
         "503",
         null,
         "2019"
        ],
        [
         "293",
         "294",
         "D Billions",
         "20,200,000",
         "21,872,499,520",
         "429",
         null,
         "2019"
        ],
        [
         "316",
         "317",
         "Vlad and Niki Arabic",
         "19,600,000",
         "9,147,535,900",
         "417",
         null,
         "2018"
        ],
        [
         "331",
         "332",
         "Minecraft - Topic",
         "19,100,000",
         "0",
         "0",
         null,
         "2013"
        ],
        [
         "401",
         "402",
         "Vlad and Niki IDN",
         "17,400,000",
         "8,231,518,268",
         "392",
         null,
         "2018"
        ],
        [
         "433",
         "434",
         "Jane ASMR 제인",
         "16,700,000",
         "6,443,586,305",
         "1,546",
         null,
         "2012"
        ],
        [
         "505",
         "506",
         "Smile Family Spanish",
         "15,400,000",
         "5,534,075,089",
         "343",
         null,
         "2019"
        ],
        [
         "507",
         "508",
         "Live",
         "15,300,000",
         "0",
         "0",
         null,
         "2015"
        ],
        [
         "689",
         "690",
         "Vlad and Niki ARA",
         "13,200,000",
         "6,282,100,713",
         "404",
         null,
         "2019"
        ],
        [
         "699",
         "700",
         "Vlad and Niki ESP",
         "13,100,000",
         "4,846,410,942",
         "409",
         null,
         "2018"
        ],
        [
         "780",
         "781",
         "Wolfoo Channel",
         "12,400,000",
         "5,859,164,410",
         "1,032",
         null,
         "2019"
        ],
        [
         "803",
         "804",
         "Wolfoo Family",
         "12,200,000",
         "5,770,890,911",
         "1,101",
         null,
         "2019"
        ],
        [
         "833",
         "834",
         "Panda",
         "12,000,000",
         "2,004,584,036",
         "1,408",
         null,
         "2018"
        ],
        [
         "839",
         "840",
         "KaKa Kids TV - Nursery Rhymes Kids Animated Songs",
         "11,900,000",
         "4,115,401,899",
         "310",
         null,
         "2013"
        ],
        [
         "863",
         "864",
         "WiederDude",
         "11,800,000",
         "2,190,306,341",
         "259",
         null,
         "2016"
        ],
        [
         "960",
         "961",
         "Влад и Никита",
         "11,100,000",
         "6,761,739,774",
         "396",
         null,
         "2018"
        ],
        [
         "966",
         "967",
         "Diana and Roma IND",
         "11,100,000",
         "4,802,776,148",
         "446",
         null,
         "2019"
        ],
        [
         "977",
         "978",
         "TV Shows",
         "11,000,000",
         "0",
         "0",
         null,
         "2012"
        ],
        [
         "984",
         "985",
         "Wolfoo's stories",
         "11,000,000",
         "4,227,479,765",
         "942",
         null,
         "2016"
        ]
       ],
       "shape": {
        "columns": 7,
        "rows": 27
       }
      },
      "text/html": [
       "<div>\n",
       "<style scoped>\n",
       "    .dataframe tbody tr th:only-of-type {\n",
       "        vertical-align: middle;\n",
       "    }\n",
       "\n",
       "    .dataframe tbody tr th {\n",
       "        vertical-align: top;\n",
       "    }\n",
       "\n",
       "    .dataframe thead th {\n",
       "        text-align: right;\n",
       "    }\n",
       "</style>\n",
       "<table border=\"1\" class=\"dataframe\">\n",
       "  <thead>\n",
       "    <tr style=\"text-align: right;\">\n",
       "      <th></th>\n",
       "      <th>rank</th>\n",
       "      <th>Youtuber</th>\n",
       "      <th>subscribers</th>\n",
       "      <th>video views</th>\n",
       "      <th>video count</th>\n",
       "      <th>category</th>\n",
       "      <th>started</th>\n",
       "    </tr>\n",
       "  </thead>\n",
       "  <tbody>\n",
       "    <tr>\n",
       "      <th>4</th>\n",
       "      <td>5</td>\n",
       "      <td>Music</td>\n",
       "      <td>116,000,000</td>\n",
       "      <td>0</td>\n",
       "      <td>0</td>\n",
       "      <td>NaN</td>\n",
       "      <td>2013</td>\n",
       "    </tr>\n",
       "    <tr>\n",
       "      <th>9</th>\n",
       "      <td>10</td>\n",
       "      <td>Gaming</td>\n",
       "      <td>92,700,000</td>\n",
       "      <td>0</td>\n",
       "      <td>0</td>\n",
       "      <td>NaN</td>\n",
       "      <td>2013</td>\n",
       "    </tr>\n",
       "    <tr>\n",
       "      <th>15</th>\n",
       "      <td>16</td>\n",
       "      <td>Sports</td>\n",
       "      <td>75,100,000</td>\n",
       "      <td>0</td>\n",
       "      <td>0</td>\n",
       "      <td>NaN</td>\n",
       "      <td>2013</td>\n",
       "    </tr>\n",
       "    <tr>\n",
       "      <th>81</th>\n",
       "      <td>82</td>\n",
       "      <td>News</td>\n",
       "      <td>36,200,000</td>\n",
       "      <td>0</td>\n",
       "      <td>0</td>\n",
       "      <td>NaN</td>\n",
       "      <td>2013</td>\n",
       "    </tr>\n",
       "    <tr>\n",
       "      <th>137</th>\n",
       "      <td>138</td>\n",
       "      <td>Popular on YouTube</td>\n",
       "      <td>29,400,000</td>\n",
       "      <td>0</td>\n",
       "      <td>0</td>\n",
       "      <td>NaN</td>\n",
       "      <td>2013</td>\n",
       "    </tr>\n",
       "    <tr>\n",
       "      <th>163</th>\n",
       "      <td>164</td>\n",
       "      <td>Vlad và Nikita</td>\n",
       "      <td>27,100,000</td>\n",
       "      <td>17,117,316,552</td>\n",
       "      <td>405</td>\n",
       "      <td>NaN</td>\n",
       "      <td>2018</td>\n",
       "    </tr>\n",
       "    <tr>\n",
       "      <th>180</th>\n",
       "      <td>181</td>\n",
       "      <td>व्लाद और निकिता</td>\n",
       "      <td>25,900,000</td>\n",
       "      <td>15,750,623,413</td>\n",
       "      <td>427</td>\n",
       "      <td>NaN</td>\n",
       "      <td>2018</td>\n",
       "    </tr>\n",
       "    <tr>\n",
       "      <th>202</th>\n",
       "      <td>203</td>\n",
       "      <td>Super JoJo - Nursery Rhymes &amp; Kids Songs</td>\n",
       "      <td>24,400,000</td>\n",
       "      <td>831,718,833</td>\n",
       "      <td>61</td>\n",
       "      <td>NaN</td>\n",
       "      <td>2019</td>\n",
       "    </tr>\n",
       "    <tr>\n",
       "      <th>260</th>\n",
       "      <td>261</td>\n",
       "      <td>Diana and Roma ARA</td>\n",
       "      <td>21,600,000</td>\n",
       "      <td>9,790,033,957</td>\n",
       "      <td>503</td>\n",
       "      <td>NaN</td>\n",
       "      <td>2019</td>\n",
       "    </tr>\n",
       "    <tr>\n",
       "      <th>293</th>\n",
       "      <td>294</td>\n",
       "      <td>D Billions</td>\n",
       "      <td>20,200,000</td>\n",
       "      <td>21,872,499,520</td>\n",
       "      <td>429</td>\n",
       "      <td>NaN</td>\n",
       "      <td>2019</td>\n",
       "    </tr>\n",
       "    <tr>\n",
       "      <th>316</th>\n",
       "      <td>317</td>\n",
       "      <td>Vlad and Niki Arabic</td>\n",
       "      <td>19,600,000</td>\n",
       "      <td>9,147,535,900</td>\n",
       "      <td>417</td>\n",
       "      <td>NaN</td>\n",
       "      <td>2018</td>\n",
       "    </tr>\n",
       "    <tr>\n",
       "      <th>331</th>\n",
       "      <td>332</td>\n",
       "      <td>Minecraft - Topic</td>\n",
       "      <td>19,100,000</td>\n",
       "      <td>0</td>\n",
       "      <td>0</td>\n",
       "      <td>NaN</td>\n",
       "      <td>2013</td>\n",
       "    </tr>\n",
       "    <tr>\n",
       "      <th>401</th>\n",
       "      <td>402</td>\n",
       "      <td>Vlad and Niki IDN</td>\n",
       "      <td>17,400,000</td>\n",
       "      <td>8,231,518,268</td>\n",
       "      <td>392</td>\n",
       "      <td>NaN</td>\n",
       "      <td>2018</td>\n",
       "    </tr>\n",
       "    <tr>\n",
       "      <th>433</th>\n",
       "      <td>434</td>\n",
       "      <td>Jane ASMR 제인</td>\n",
       "      <td>16,700,000</td>\n",
       "      <td>6,443,586,305</td>\n",
       "      <td>1,546</td>\n",
       "      <td>NaN</td>\n",
       "      <td>2012</td>\n",
       "    </tr>\n",
       "    <tr>\n",
       "      <th>505</th>\n",
       "      <td>506</td>\n",
       "      <td>Smile Family Spanish</td>\n",
       "      <td>15,400,000</td>\n",
       "      <td>5,534,075,089</td>\n",
       "      <td>343</td>\n",
       "      <td>NaN</td>\n",
       "      <td>2019</td>\n",
       "    </tr>\n",
       "    <tr>\n",
       "      <th>507</th>\n",
       "      <td>508</td>\n",
       "      <td>Live</td>\n",
       "      <td>15,300,000</td>\n",
       "      <td>0</td>\n",
       "      <td>0</td>\n",
       "      <td>NaN</td>\n",
       "      <td>2015</td>\n",
       "    </tr>\n",
       "    <tr>\n",
       "      <th>689</th>\n",
       "      <td>690</td>\n",
       "      <td>Vlad and Niki ARA</td>\n",
       "      <td>13,200,000</td>\n",
       "      <td>6,282,100,713</td>\n",
       "      <td>404</td>\n",
       "      <td>NaN</td>\n",
       "      <td>2019</td>\n",
       "    </tr>\n",
       "    <tr>\n",
       "      <th>699</th>\n",
       "      <td>700</td>\n",
       "      <td>Vlad and Niki ESP</td>\n",
       "      <td>13,100,000</td>\n",
       "      <td>4,846,410,942</td>\n",
       "      <td>409</td>\n",
       "      <td>NaN</td>\n",
       "      <td>2018</td>\n",
       "    </tr>\n",
       "    <tr>\n",
       "      <th>780</th>\n",
       "      <td>781</td>\n",
       "      <td>Wolfoo Channel</td>\n",
       "      <td>12,400,000</td>\n",
       "      <td>5,859,164,410</td>\n",
       "      <td>1,032</td>\n",
       "      <td>NaN</td>\n",
       "      <td>2019</td>\n",
       "    </tr>\n",
       "    <tr>\n",
       "      <th>803</th>\n",
       "      <td>804</td>\n",
       "      <td>Wolfoo Family</td>\n",
       "      <td>12,200,000</td>\n",
       "      <td>5,770,890,911</td>\n",
       "      <td>1,101</td>\n",
       "      <td>NaN</td>\n",
       "      <td>2019</td>\n",
       "    </tr>\n",
       "    <tr>\n",
       "      <th>833</th>\n",
       "      <td>834</td>\n",
       "      <td>Panda</td>\n",
       "      <td>12,000,000</td>\n",
       "      <td>2,004,584,036</td>\n",
       "      <td>1,408</td>\n",
       "      <td>NaN</td>\n",
       "      <td>2018</td>\n",
       "    </tr>\n",
       "    <tr>\n",
       "      <th>839</th>\n",
       "      <td>840</td>\n",
       "      <td>KaKa Kids TV - Nursery Rhymes Kids Animated Songs</td>\n",
       "      <td>11,900,000</td>\n",
       "      <td>4,115,401,899</td>\n",
       "      <td>310</td>\n",
       "      <td>NaN</td>\n",
       "      <td>2013</td>\n",
       "    </tr>\n",
       "    <tr>\n",
       "      <th>863</th>\n",
       "      <td>864</td>\n",
       "      <td>WiederDude</td>\n",
       "      <td>11,800,000</td>\n",
       "      <td>2,190,306,341</td>\n",
       "      <td>259</td>\n",
       "      <td>NaN</td>\n",
       "      <td>2016</td>\n",
       "    </tr>\n",
       "    <tr>\n",
       "      <th>960</th>\n",
       "      <td>961</td>\n",
       "      <td>Влад и Никита</td>\n",
       "      <td>11,100,000</td>\n",
       "      <td>6,761,739,774</td>\n",
       "      <td>396</td>\n",
       "      <td>NaN</td>\n",
       "      <td>2018</td>\n",
       "    </tr>\n",
       "    <tr>\n",
       "      <th>966</th>\n",
       "      <td>967</td>\n",
       "      <td>Diana and Roma IND</td>\n",
       "      <td>11,100,000</td>\n",
       "      <td>4,802,776,148</td>\n",
       "      <td>446</td>\n",
       "      <td>NaN</td>\n",
       "      <td>2019</td>\n",
       "    </tr>\n",
       "    <tr>\n",
       "      <th>977</th>\n",
       "      <td>978</td>\n",
       "      <td>TV Shows</td>\n",
       "      <td>11,000,000</td>\n",
       "      <td>0</td>\n",
       "      <td>0</td>\n",
       "      <td>NaN</td>\n",
       "      <td>2012</td>\n",
       "    </tr>\n",
       "    <tr>\n",
       "      <th>984</th>\n",
       "      <td>985</td>\n",
       "      <td>Wolfoo's stories</td>\n",
       "      <td>11,000,000</td>\n",
       "      <td>4,227,479,765</td>\n",
       "      <td>942</td>\n",
       "      <td>NaN</td>\n",
       "      <td>2016</td>\n",
       "    </tr>\n",
       "  </tbody>\n",
       "</table>\n",
       "</div>"
      ],
      "text/plain": [
       "     rank                                           Youtuber  subscribers  \\\n",
       "4       5                                              Music  116,000,000   \n",
       "9      10                                             Gaming   92,700,000   \n",
       "15     16                                             Sports   75,100,000   \n",
       "81     82                                               News   36,200,000   \n",
       "137   138                                 Popular on YouTube   29,400,000   \n",
       "163   164                                     Vlad và Nikita   27,100,000   \n",
       "180   181                                    व्लाद और निकिता   25,900,000   \n",
       "202   203           Super JoJo - Nursery Rhymes & Kids Songs   24,400,000   \n",
       "260   261                                 Diana and Roma ARA   21,600,000   \n",
       "293   294                                         D Billions   20,200,000   \n",
       "316   317                               Vlad and Niki Arabic   19,600,000   \n",
       "331   332                                  Minecraft - Topic   19,100,000   \n",
       "401   402                                  Vlad and Niki IDN   17,400,000   \n",
       "433   434                                       Jane ASMR 제인   16,700,000   \n",
       "505   506                               Smile Family Spanish   15,400,000   \n",
       "507   508                                               Live   15,300,000   \n",
       "689   690                                  Vlad and Niki ARA   13,200,000   \n",
       "699   700                                  Vlad and Niki ESP   13,100,000   \n",
       "780   781                                     Wolfoo Channel   12,400,000   \n",
       "803   804                                      Wolfoo Family   12,200,000   \n",
       "833   834                                              Panda   12,000,000   \n",
       "839   840  KaKa Kids TV - Nursery Rhymes Kids Animated Songs   11,900,000   \n",
       "863   864                                         WiederDude   11,800,000   \n",
       "960   961                                      Влад и Никита   11,100,000   \n",
       "966   967                                 Diana and Roma IND   11,100,000   \n",
       "977   978                                           TV Shows   11,000,000   \n",
       "984   985                                   Wolfoo's stories   11,000,000   \n",
       "\n",
       "        video views video count category  started  \n",
       "4                 0           0      NaN     2013  \n",
       "9                 0           0      NaN     2013  \n",
       "15                0           0      NaN     2013  \n",
       "81                0           0      NaN     2013  \n",
       "137               0           0      NaN     2013  \n",
       "163  17,117,316,552         405      NaN     2018  \n",
       "180  15,750,623,413         427      NaN     2018  \n",
       "202     831,718,833          61      NaN     2019  \n",
       "260   9,790,033,957         503      NaN     2019  \n",
       "293  21,872,499,520         429      NaN     2019  \n",
       "316   9,147,535,900         417      NaN     2018  \n",
       "331               0           0      NaN     2013  \n",
       "401   8,231,518,268         392      NaN     2018  \n",
       "433   6,443,586,305       1,546      NaN     2012  \n",
       "505   5,534,075,089         343      NaN     2019  \n",
       "507               0           0      NaN     2015  \n",
       "689   6,282,100,713         404      NaN     2019  \n",
       "699   4,846,410,942         409      NaN     2018  \n",
       "780   5,859,164,410       1,032      NaN     2019  \n",
       "803   5,770,890,911       1,101      NaN     2019  \n",
       "833   2,004,584,036       1,408      NaN     2018  \n",
       "839   4,115,401,899         310      NaN     2013  \n",
       "863   2,190,306,341         259      NaN     2016  \n",
       "960   6,761,739,774         396      NaN     2018  \n",
       "966   4,802,776,148         446      NaN     2019  \n",
       "977               0           0      NaN     2012  \n",
       "984   4,227,479,765         942      NaN     2016  "
      ]
     },
     "execution_count": 79,
     "metadata": {},
     "output_type": "execute_result"
    }
   ],
   "source": [
    "df[df['category'].isnull()]"
   ]
  },
  {
   "cell_type": "code",
   "execution_count": 80,
   "id": "7cd7ba1d",
   "metadata": {},
   "outputs": [],
   "source": [
    "df.dropna(inplace=True)"
   ]
  },
  {
   "cell_type": "code",
   "execution_count": 81,
   "id": "434a158a",
   "metadata": {},
   "outputs": [],
   "source": [
    "\n",
    "# drop 2017 column"
   ]
  },
  {
   "cell_type": "code",
   "execution_count": 82,
   "id": "2cf293d6",
   "metadata": {},
   "outputs": [],
   "source": [
    "# df[df['started']==1970].dropna()"
   ]
  },
  {
   "cell_type": "code",
   "execution_count": 83,
   "id": "c0a88c9c",
   "metadata": {},
   "outputs": [],
   "source": [
    "df.drop(99,inplace=True)"
   ]
  },
  {
   "cell_type": "code",
   "execution_count": 84,
   "id": "f4f98160",
   "metadata": {},
   "outputs": [
    {
     "data": {
      "application/vnd.microsoft.datawrangler.viewer.v0+json": {
       "columns": [
        {
         "name": "index",
         "rawType": "object",
         "type": "string"
        },
        {
         "name": "0",
         "rawType": "int64",
         "type": "integer"
        }
       ],
       "ref": "dec3a721-8e5c-44c0-b529-3c7025a76868",
       "rows": [
        [
         "rank",
         "0"
        ],
        [
         "Youtuber",
         "0"
        ],
        [
         "subscribers",
         "0"
        ],
        [
         "video views",
         "0"
        ],
        [
         "video count",
         "0"
        ],
        [
         "category",
         "0"
        ],
        [
         "started",
         "0"
        ]
       ],
       "shape": {
        "columns": 1,
        "rows": 7
       }
      },
      "text/plain": [
       "rank           0\n",
       "Youtuber       0\n",
       "subscribers    0\n",
       "video views    0\n",
       "video count    0\n",
       "category       0\n",
       "started        0\n",
       "dtype: int64"
      ]
     },
     "execution_count": 84,
     "metadata": {},
     "output_type": "execute_result"
    }
   ],
   "source": [
    "df.isnull().sum()"
   ]
  },
  {
   "cell_type": "code",
   "execution_count": 85,
   "id": "0e77702b",
   "metadata": {},
   "outputs": [
    {
     "data": {
      "text/plain": [
       "np.int64(0)"
      ]
     },
     "execution_count": 85,
     "metadata": {},
     "output_type": "execute_result"
    }
   ],
   "source": [
    "\n",
    "df.duplicated().sum()"
   ]
  },
  {
   "cell_type": "code",
   "execution_count": 86,
   "id": "e80721ad",
   "metadata": {},
   "outputs": [
    {
     "data": {
      "text/plain": [
       "Index(['rank', 'Youtuber', 'subscribers', 'video views', 'video count',\n",
       "       'category', 'started'],\n",
       "      dtype='object')"
      ]
     },
     "execution_count": 86,
     "metadata": {},
     "output_type": "execute_result"
    }
   ],
   "source": [
    "\n",
    "#!\n",
    "df.columns"
   ]
  },
  {
   "cell_type": "code",
   "execution_count": 87,
   "id": "261d142c",
   "metadata": {},
   "outputs": [
    {
     "data": {
      "application/vnd.microsoft.datawrangler.viewer.v0+json": {
       "columns": [
        {
         "name": "index",
         "rawType": "int64",
         "type": "integer"
        },
        {
         "name": "rank",
         "rawType": "int64",
         "type": "integer"
        },
        {
         "name": "Youtuber",
         "rawType": "object",
         "type": "string"
        },
        {
         "name": "subscribers",
         "rawType": "object",
         "type": "string"
        },
        {
         "name": "video views",
         "rawType": "object",
         "type": "string"
        },
        {
         "name": "video count",
         "rawType": "object",
         "type": "string"
        },
        {
         "name": "category",
         "rawType": "object",
         "type": "string"
        },
        {
         "name": "started",
         "rawType": "int64",
         "type": "integer"
        }
       ],
       "ref": "4643dee8-a637-42e7-b029-223b6db8fe9e",
       "rows": [
        [
         "0",
         "1",
         "T-Series",
         "222,000,000",
         "198,459,090,822",
         "17,317",
         "Music",
         "2006"
        ],
        [
         "1",
         "2",
         "YouTube Movies",
         "154,000,000",
         "0",
         "0",
         "Film & Animation",
         "2015"
        ],
        [
         "2",
         "3",
         "Cocomelon - Nursery Rhymes",
         "140,000,000",
         "135,481,339,848",
         "786",
         "Education",
         "2006"
        ],
        [
         "3",
         "4",
         "SET India",
         "139,000,000",
         "125,764,252,686",
         "91,271",
         "Shows",
         "2006"
        ],
        [
         "5",
         "6",
         "PewDiePie",
         "111,000,000",
         "28,469,458,228",
         "4,497",
         "Gaming",
         "2010"
        ],
        [
         "6",
         "7",
         "MrBeast",
         "102,000,000",
         "16,832,456,681",
         "726",
         "Entertainment",
         "2012"
        ],
        [
         "7",
         "8",
         "✿ Kids Diana Show",
         "99,700,000",
         "79,602,288,245",
         "1,009",
         "People & Blogs",
         "2015"
        ],
        [
         "8",
         "9",
         "Like Nastya",
         "99,200,000",
         "81,963,845,811",
         "702",
         "People & Blogs",
         "2016"
        ],
        [
         "10",
         "11",
         "WWE",
         "90,200,000",
         "70,544,743,313",
         "63,077",
         "Sports",
         "2007"
        ],
        [
         "11",
         "12",
         "Zee Music Company",
         "86,700,000",
         "49,067,711,243",
         "6,603",
         "Music",
         "2014"
        ],
        [
         "12",
         "13",
         "Vlad and Niki",
         "85,100,000",
         "66,498,762,660",
         "472",
         "Entertainment",
         "2018"
        ],
        [
         "13",
         "14",
         "5-Minute Crafts",
         "77,100,000",
         "23,881,457,195",
         "5,581",
         "Howto & Style",
         "2016"
        ],
        [
         "14",
         "15",
         "BLACKPINK",
         "76,200,000",
         "24,707,415,704",
         "397",
         "People & Blogs",
         "2016"
        ],
        [
         "16",
         "17",
         "Goldmines",
         "74,100,000",
         "18,533,088,438",
         "3,968",
         "Film & Animation",
         "2012"
        ],
        [
         "17",
         "18",
         "Sony SAB",
         "70,600,000",
         "82,473,581,441",
         "56,295",
         "Shows",
         "2007"
        ],
        [
         "18",
         "19",
         "BANGTANTV",
         "70,000,000",
         "17,471,090,750",
         "1,787",
         "Music",
         "2012"
        ],
        [
         "19",
         "20",
         "Justin Bieber",
         "69,700,000",
         "28,567,240,999",
         "247",
         "Music",
         "2007"
        ],
        [
         "20",
         "21",
         "HYBE LABELS",
         "67,800,000",
         "24,013,849,120",
         "971",
         "Music",
         "2008"
        ],
        [
         "21",
         "22",
         "Canal KondZilla",
         "65,900,000",
         "36,576,704,790",
         "2,313",
         "Music",
         "2012"
        ],
        [
         "22",
         "23",
         "Zee TV",
         "63,000,000",
         "17,111,576,122",
         "60,802",
         "Entertainment",
         "2005"
        ],
        [
         "23",
         "24",
         "Shemaroo Filmi Gaane",
         "61,300,000",
         "28,579,945,247",
         "7,884",
         "Music",
         "2010"
        ],
        [
         "24",
         "25",
         "Pinkfong Baby Shark - Kids' Songs & Stories",
         "59,400,000",
         "32,107,290,522",
         "2,374",
         "Education",
         "2011"
        ],
        [
         "25",
         "26",
         "Dude Perfect",
         "58,100,000",
         "14,742,860,905",
         "297",
         "Sports",
         "2009"
        ],
        [
         "26",
         "27",
         "ChuChu TV Nursery Rhymes & Kids Songs",
         "57,700,000",
         "39,266,652,127",
         "506",
         "Education",
         "2013"
        ],
        [
         "27",
         "28",
         "Movieclips",
         "57,600,000",
         "58,839,819,120",
         "39,202",
         "Film & Animation",
         "2006"
        ],
        [
         "28",
         "29",
         "Marshmello",
         "55,700,000",
         "13,445,424,556",
         "401",
         "Entertainment",
         "2015"
        ],
        [
         "29",
         "30",
         "Colors TV",
         "55,100,000",
         "52,611,504,230",
         "87,427",
         "Shows",
         "2008"
        ],
        [
         "30",
         "31",
         "Wave Music",
         "53,400,000",
         "37,230,876,862",
         "18,622",
         "Music",
         "2014"
        ],
        [
         "31",
         "32",
         "EminemMusic",
         "53,000,000",
         "23,717,869,724",
         "140",
         "Music",
         "2007"
        ],
        [
         "32",
         "33",
         "Aaj Tak",
         "52,900,000",
         "20,204,939,173",
         "196,497",
         "News & Politics",
         "2009"
        ],
        [
         "33",
         "34",
         "Tips Official",
         "52,800,000",
         "27,883,080,973",
         "3,612",
         "Music",
         "2007"
        ],
        [
         "34",
         "35",
         "T-Series Bhakti Sagar",
         "52,500,000",
         "24,278,576,197",
         "23,870",
         "Music",
         "2011"
        ],
        [
         "35",
         "36",
         "Sony Music India",
         "52,400,000",
         "24,856,641,898",
         "3,180",
         "Music",
         "2009"
        ],
        [
         "36",
         "37",
         "Ed Sheeran",
         "52,200,000",
         "27,881,781,761",
         "253",
         "Music",
         "2006"
        ],
        [
         "37",
         "38",
         "El Reino Infantil",
         "51,700,000",
         "49,895,247,456",
         "1,309",
         "Music",
         "2011"
        ],
        [
         "38",
         "39",
         "Ariana Grande",
         "51,600,000",
         "22,158,094,076",
         "146",
         "Music",
         "2007"
        ],
        [
         "39",
         "40",
         "LooLoo Kids - Nursery Rhymes and Children's Songs",
         "49,800,000",
         "29,013,984,394",
         "553",
         "Music",
         "2014"
        ],
        [
         "40",
         "41",
         "YRF",
         "47,600,000",
         "29,366,788,406",
         "3,289",
         "Film & Animation",
         "2006"
        ],
        [
         "41",
         "42",
         "Taylor Swift",
         "47,100,000",
         "25,563,795,998",
         "189",
         "Music",
         "2006"
        ],
        [
         "42",
         "43",
         "Billie Eilish",
         "46,200,000",
         "11,999,349,578",
         "48",
         "Music",
         "2013"
        ],
        [
         "43",
         "44",
         "JuegaGerman",
         "46,100,000",
         "13,698,034,536",
         "1,959",
         "Gaming",
         "2013"
        ],
        [
         "44",
         "45",
         "BillionSurpriseToys - English Kids Songs & Cartoon",
         "45,700,000",
         "8,590,657,189",
         "648",
         "Education",
         "2013"
        ],
        [
         "45",
         "46",
         "Infobells - Hindi",
         "45,600,000",
         "25,635,591,765",
         "476",
         "Education",
         "2014"
        ],
        [
         "46",
         "47",
         "Badabun",
         "45,600,000",
         "18,567,925,780",
         "13,814",
         "Entertainment",
         "2014"
        ],
        [
         "47",
         "48",
         "Fernanfloo",
         "45,100,000",
         "9,966,728,650",
         "541",
         "Gaming",
         "2011"
        ],
        [
         "48",
         "49",
         "Felipe Neto",
         "44,300,000",
         "15,475,571,879",
         "3,512",
         "Entertainment",
         "2006"
        ],
        [
         "49",
         "50",
         "BRIGHT SIDE",
         "43,900,000",
         "10,058,536,263",
         "4,540",
         "Howto & Style",
         "2017"
        ],
        [
         "50",
         "51",
         "whinderssonnunes",
         "43,900,000",
         "4,120,078,906",
         "521",
         "Comedy",
         "2013"
        ],
        [
         "51",
         "52",
         "Você Sabia?",
         "43,300,000",
         "7,284,075,395",
         "1,315",
         "Entertainment",
         "2013"
        ],
        [
         "52",
         "53",
         "HolaSoyGerman.",
         "43,300,000",
         "4,735,959,546",
         "136",
         "Entertainment",
         "2011"
        ]
       ],
       "shape": {
        "columns": 7,
        "rows": 972
       }
      },
      "text/html": [
       "<div>\n",
       "<style scoped>\n",
       "    .dataframe tbody tr th:only-of-type {\n",
       "        vertical-align: middle;\n",
       "    }\n",
       "\n",
       "    .dataframe tbody tr th {\n",
       "        vertical-align: top;\n",
       "    }\n",
       "\n",
       "    .dataframe thead th {\n",
       "        text-align: right;\n",
       "    }\n",
       "</style>\n",
       "<table border=\"1\" class=\"dataframe\">\n",
       "  <thead>\n",
       "    <tr style=\"text-align: right;\">\n",
       "      <th></th>\n",
       "      <th>rank</th>\n",
       "      <th>Youtuber</th>\n",
       "      <th>subscribers</th>\n",
       "      <th>video views</th>\n",
       "      <th>video count</th>\n",
       "      <th>category</th>\n",
       "      <th>started</th>\n",
       "    </tr>\n",
       "  </thead>\n",
       "  <tbody>\n",
       "    <tr>\n",
       "      <th>0</th>\n",
       "      <td>1</td>\n",
       "      <td>T-Series</td>\n",
       "      <td>222,000,000</td>\n",
       "      <td>198,459,090,822</td>\n",
       "      <td>17,317</td>\n",
       "      <td>Music</td>\n",
       "      <td>2006</td>\n",
       "    </tr>\n",
       "    <tr>\n",
       "      <th>1</th>\n",
       "      <td>2</td>\n",
       "      <td>YouTube Movies</td>\n",
       "      <td>154,000,000</td>\n",
       "      <td>0</td>\n",
       "      <td>0</td>\n",
       "      <td>Film &amp; Animation</td>\n",
       "      <td>2015</td>\n",
       "    </tr>\n",
       "    <tr>\n",
       "      <th>2</th>\n",
       "      <td>3</td>\n",
       "      <td>Cocomelon - Nursery Rhymes</td>\n",
       "      <td>140,000,000</td>\n",
       "      <td>135,481,339,848</td>\n",
       "      <td>786</td>\n",
       "      <td>Education</td>\n",
       "      <td>2006</td>\n",
       "    </tr>\n",
       "    <tr>\n",
       "      <th>3</th>\n",
       "      <td>4</td>\n",
       "      <td>SET India</td>\n",
       "      <td>139,000,000</td>\n",
       "      <td>125,764,252,686</td>\n",
       "      <td>91,271</td>\n",
       "      <td>Shows</td>\n",
       "      <td>2006</td>\n",
       "    </tr>\n",
       "    <tr>\n",
       "      <th>5</th>\n",
       "      <td>6</td>\n",
       "      <td>PewDiePie</td>\n",
       "      <td>111,000,000</td>\n",
       "      <td>28,469,458,228</td>\n",
       "      <td>4,497</td>\n",
       "      <td>Gaming</td>\n",
       "      <td>2010</td>\n",
       "    </tr>\n",
       "    <tr>\n",
       "      <th>...</th>\n",
       "      <td>...</td>\n",
       "      <td>...</td>\n",
       "      <td>...</td>\n",
       "      <td>...</td>\n",
       "      <td>...</td>\n",
       "      <td>...</td>\n",
       "      <td>...</td>\n",
       "    </tr>\n",
       "    <tr>\n",
       "      <th>995</th>\n",
       "      <td>996</td>\n",
       "      <td>JP Plays</td>\n",
       "      <td>10,900,000</td>\n",
       "      <td>4,609,300,218</td>\n",
       "      <td>3,528</td>\n",
       "      <td>Gaming</td>\n",
       "      <td>2014</td>\n",
       "    </tr>\n",
       "    <tr>\n",
       "      <th>996</th>\n",
       "      <td>997</td>\n",
       "      <td>TrapMusicHDTV</td>\n",
       "      <td>10,900,000</td>\n",
       "      <td>4,070,521,973</td>\n",
       "      <td>690</td>\n",
       "      <td>Music</td>\n",
       "      <td>2013</td>\n",
       "    </tr>\n",
       "    <tr>\n",
       "      <th>997</th>\n",
       "      <td>998</td>\n",
       "      <td>Games EduUu</td>\n",
       "      <td>10,900,000</td>\n",
       "      <td>3,093,784,767</td>\n",
       "      <td>1,006</td>\n",
       "      <td>Gaming</td>\n",
       "      <td>2011</td>\n",
       "    </tr>\n",
       "    <tr>\n",
       "      <th>998</th>\n",
       "      <td>999</td>\n",
       "      <td>Hueva</td>\n",
       "      <td>10,900,000</td>\n",
       "      <td>3,040,301,750</td>\n",
       "      <td>831</td>\n",
       "      <td>Gaming</td>\n",
       "      <td>2012</td>\n",
       "    </tr>\n",
       "    <tr>\n",
       "      <th>999</th>\n",
       "      <td>1000</td>\n",
       "      <td>Dobre Brothers</td>\n",
       "      <td>10,900,000</td>\n",
       "      <td>2,808,411,693</td>\n",
       "      <td>590</td>\n",
       "      <td>People &amp; Blogs</td>\n",
       "      <td>2017</td>\n",
       "    </tr>\n",
       "  </tbody>\n",
       "</table>\n",
       "<p>972 rows × 7 columns</p>\n",
       "</div>"
      ],
      "text/plain": [
       "     rank                    Youtuber  subscribers      video views  \\\n",
       "0       1                    T-Series  222,000,000  198,459,090,822   \n",
       "1       2              YouTube Movies  154,000,000                0   \n",
       "2       3  Cocomelon - Nursery Rhymes  140,000,000  135,481,339,848   \n",
       "3       4                   SET India  139,000,000  125,764,252,686   \n",
       "5       6                   PewDiePie  111,000,000   28,469,458,228   \n",
       "..    ...                         ...          ...              ...   \n",
       "995   996                    JP Plays   10,900,000    4,609,300,218   \n",
       "996   997               TrapMusicHDTV   10,900,000    4,070,521,973   \n",
       "997   998                 Games EduUu   10,900,000    3,093,784,767   \n",
       "998   999                       Hueva   10,900,000    3,040,301,750   \n",
       "999  1000              Dobre Brothers   10,900,000    2,808,411,693   \n",
       "\n",
       "    video count          category  started  \n",
       "0        17,317             Music     2006  \n",
       "1             0  Film & Animation     2015  \n",
       "2           786         Education     2006  \n",
       "3        91,271             Shows     2006  \n",
       "5         4,497            Gaming     2010  \n",
       "..          ...               ...      ...  \n",
       "995       3,528            Gaming     2014  \n",
       "996         690             Music     2013  \n",
       "997       1,006            Gaming     2011  \n",
       "998         831            Gaming     2012  \n",
       "999         590    People & Blogs     2017  \n",
       "\n",
       "[972 rows x 7 columns]"
      ]
     },
     "execution_count": 87,
     "metadata": {},
     "output_type": "execute_result"
    }
   ],
   "source": [
    "df"
   ]
  },
  {
   "cell_type": "markdown",
   "id": "aa584181",
   "metadata": {},
   "source": [
    "started year of top 100 youtube channel"
   ]
  },
  {
   "cell_type": "code",
   "execution_count": 88,
   "id": "81462ae9",
   "metadata": {},
   "outputs": [],
   "source": [
    "d =df['subscribers'].sort_values(ascending=0).head(50)"
   ]
  },
  {
   "cell_type": "code",
   "execution_count": 89,
   "id": "49c6c055",
   "metadata": {},
   "outputs": [
    {
     "data": {
      "text/plain": [
       "<seaborn.axisgrid.FacetGrid at 0x21301f14410>"
      ]
     },
     "execution_count": 89,
     "metadata": {},
     "output_type": "execute_result"
    },
    {
     "data": {
      "image/png": "[encoded data removed]",
      "text/plain": [
       "<Figure size 700.875x500 with 1 Axes>"
      ]
     },
     "metadata": {},
     "output_type": "display_data"
    }
   ],
   "source": [
    "sns.displot(data=df,x='started',hue='category')"
   ]
  },
  {
   "cell_type": "code",
   "execution_count": 90,
   "id": "77fdecb6",
   "metadata": {},
   "outputs": [
    {
     "data": {
      "text/plain": [
       "np.float64(-0.16469368193654146)"
      ]
     },
     "execution_count": 90,
     "metadata": {},
     "output_type": "execute_result"
    }
   ],
   "source": [
    "df['started'].skew()"
   ]
  },
  {
   "cell_type": "code",
   "execution_count": 91,
   "id": "296ce76f",
   "metadata": {},
   "outputs": [
    {
     "data": {
      "text/plain": [
       "<Axes: xlabel='count', ylabel='category'>"
      ]
     },
     "execution_count": 91,
     "metadata": {},
     "output_type": "execute_result"
    },
    {
     "data": {
      "image/png": "[encoded data removed]",
      "text/plain": [
       "<Figure size 640x480 with 1 Axes>"
      ]
     },
     "metadata": {},
     "output_type": "display_data"
    }
   ],
   "source": [
    "sns.countplot(df['category'],palette='Set1',edgecolor='black')"
   ]
  },
  {
   "cell_type": "code",
   "execution_count": 92,
   "id": "efa18b05",
   "metadata": {},
   "outputs": [
    {
     "data": {
      "text/plain": [
       "<Axes: xlabel='category'>"
      ]
     },
     "execution_count": 92,
     "metadata": {},
     "output_type": "execute_result"
    },
    {
     "data": {
      "image/png": "[encoded data removed]",
      "text/plain": [
       "<Figure size 640x480 with 1 Axes>"
      ]
     },
     "metadata": {},
     "output_type": "display_data"
    }
   ],
   "source": [
    "df['category'].value_counts(ascending=0).head(10).plot(kind='bar',color='red',edgecolor='black')"
   ]
  },
  {
   "cell_type": "markdown",
   "id": "45565c0e",
   "metadata": {},
   "source": [
    "\n",
    "#### here entertainment is most count means people like to watch entertainment\n",
    "#### music second \n",
    "#### blogs and gaming etc are next"
   ]
  },
  {
   "cell_type": "code",
   "execution_count": 93,
   "id": "a0a946b8",
   "metadata": {},
   "outputs": [
    {
     "data": {
      "text/plain": [
       "<Axes: xlabel='started'>"
      ]
     },
     "execution_count": 93,
     "metadata": {},
     "output_type": "execute_result"
    },
    {
     "data": {
      "image/png": "[encoded data removed]",
      "text/plain": [
       "<Figure size 640x480 with 1 Axes>"
      ]
     },
     "metadata": {},
     "output_type": "display_data"
    }
   ],
   "source": [
    "df['started'].value_counts(ascending=0).head(10).plot(kind='bar',edgecolor='black',color='green')"
   ]
  },
  {
   "cell_type": "markdown",
   "id": "ee077a89",
   "metadata": {},
   "source": [
    "##### the more no channel started in 2014 approx 120 \n",
    "##### then 2011 ,2015\n",
    "##### 2010 is least in all with 50-60"
   ]
  },
  {
   "cell_type": "code",
   "execution_count": 94,
   "id": "157af73b",
   "metadata": {},
   "outputs": [
    {
     "data": {
      "text/plain": [
       "<Axes: ylabel='count'>"
      ]
     },
     "execution_count": 94,
     "metadata": {},
     "output_type": "execute_result"
    },
    {
     "data": {
      "image/png": "[encoded data removed]",
      "text/plain": [
       "<Figure size 640x480 with 1 Axes>"
      ]
     },
     "metadata": {},
     "output_type": "display_data"
    }
   ],
   "source": [
    "df['category'].value_counts().head(10).plot(kind='pie',autopct='%0.1f%%')"
   ]
  },
  {
   "cell_type": "code",
   "execution_count": 95,
   "id": "8dc209c0",
   "metadata": {},
   "outputs": [
    {
     "data": {
      "text/plain": [
       "(array([ 94.,  90.,  63., 140.,  83., 205., 167.,  60.,  56.,  14.]),\n",
       " array([2005. , 2006.6, 2008.2, 2009.8, 2011.4, 2013. , 2014.6, 2016.2,\n",
       "        2017.8, 2019.4, 2021. ]),\n",
       " <BarContainer object of 10 artists>)"
      ]
     },
     "execution_count": 95,
     "metadata": {},
     "output_type": "execute_result"
    },
    {
     "data": {
      "image/png": "[encoded data removed]",
      "text/plain": [
       "<Figure size 640x480 with 1 Axes>"
      ]
     },
     "metadata": {},
     "output_type": "display_data"
    }
   ],
   "source": [
    "plt.hist(df['started'],bins=10,color='brown',edgecolor='black')"
   ]
  },
  {
   "cell_type": "code",
   "execution_count": 96,
   "id": "e51a6fa3",
   "metadata": {},
   "outputs": [
    {
     "data": {
      "text/plain": [
       "<Axes: xlabel='rank', ylabel='Density'>"
      ]
     },
     "execution_count": 96,
     "metadata": {},
     "output_type": "execute_result"
    },
    {
     "data": {
      "image/png": "[encoded data removed]",
      "text/plain": [
       "<Figure size 640x480 with 1 Axes>"
      ]
     },
     "metadata": {},
     "output_type": "display_data"
    }
   ],
   "source": [
    "sns.distplot(df['rank'])"
   ]
  },
  {
   "cell_type": "code",
   "execution_count": 97,
   "id": "8f57b8a3",
   "metadata": {},
   "outputs": [
    {
     "data": {
      "text/plain": [
       "<Axes: ylabel='subscribers'>"
      ]
     },
     "execution_count": 97,
     "metadata": {},
     "output_type": "execute_result"
    },
    {
     "data": {
      "image/png": "[encoded data removed]",
      "text/plain": [
       "<Figure size 640x480 with 1 Axes>"
      ]
     },
     "metadata": {},
     "output_type": "display_data"
    }
   ],
   "source": [
    "sns.boxplot(df['subscribers'])"
   ]
  },
  {
   "cell_type": "markdown",
   "id": "9f5033b1",
   "metadata": {},
   "source": [
    "\n",
    "##### there is big skewness in subscribers"
   ]
  },
  {
   "cell_type": "code",
   "execution_count": 98,
   "id": "3dc0bfe3",
   "metadata": {},
   "outputs": [
    {
     "data": {
      "text/plain": [
       "Index(['rank', 'Youtuber', 'subscribers', 'video views', 'video count',\n",
       "       'category', 'started'],\n",
       "      dtype='object')"
      ]
     },
     "execution_count": 98,
     "metadata": {},
     "output_type": "execute_result"
    }
   ],
   "source": [
    "df.columns"
   ]
  },
  {
   "cell_type": "code",
   "execution_count": 99,
   "id": "5495eb9f",
   "metadata": {},
   "outputs": [],
   "source": [
    "df['video views'] = pd.to_numeric(df['video views'].str.replace(',', ''), errors='coerce')\n",
    "df['video count'] = pd.to_numeric(df['video count'].str.replace(',', ''), errors='coerce')\n",
    "df['subscribers'] = pd.to_numeric(df['subscribers'].str.replace(',', ''), errors='coerce')"
   ]
  },
  {
   "cell_type": "code",
   "execution_count": 100,
   "id": "d114f196",
   "metadata": {},
   "outputs": [
    {
     "data": {
      "application/vnd.microsoft.datawrangler.viewer.v0+json": {
       "columns": [
        {
         "name": "category",
         "rawType": "object",
         "type": "string"
        },
        {
         "name": "rank",
         "rawType": "int64",
         "type": "integer"
        },
        {
         "name": "video views",
         "rawType": "int64",
         "type": "integer"
        },
        {
         "name": "subscribers",
         "rawType": "int64",
         "type": "integer"
        }
       ],
       "ref": "5e61334d-7e81-4b9d-b3dc-40e41a446304",
       "rows": [
        [
         "Autos & Vehicles",
         "433",
         "6530946230",
         "16700000"
        ],
        [
         "Comedy",
         "987",
         "25787517689",
         "43900000"
        ],
        [
         "Education",
         "994",
         "135481339848",
         "140000000"
        ],
        [
         "Entertainment",
         "993",
         "66498762660",
         "102000000"
        ],
        [
         "Film & Animation",
         "995",
         "58839819120",
         "154000000"
        ],
        [
         "Gaming",
         "999",
         "28469458228",
         "111000000"
        ],
        [
         "Howto & Style",
         "976",
         "23881457195",
         "77100000"
        ],
        [
         "Movies",
         "303",
         "7908171009",
         "24300000"
        ],
        [
         "Music",
         "997",
         "198459090822",
         "222000000"
        ],
        [
         "News & Politics",
         "980",
         "20204939173",
         "52900000"
        ],
        [
         "Nonprofits & Activism",
         "867",
         "6660397688",
         "35900000"
        ],
        [
         "People & Blogs",
         "1000",
         "81963845811",
         "99700000"
        ],
        [
         "Pets & Animals",
         "930",
         "10768365983",
         "20300000"
        ],
        [
         "Science & Technology",
         "974",
         "10089784164",
         "26800000"
        ],
        [
         "Shows",
         "914",
         "125764252686",
         "139000000"
        ],
        [
         "Sports",
         "821",
         "70544743313",
         "90200000"
        ],
        [
         "Trailers",
         "98",
         "15508274562",
         "37800000"
        ],
        [
         "Travel & Events",
         "822",
         "2746045885",
         "12100000"
        ]
       ],
       "shape": {
        "columns": 3,
        "rows": 18
       }
      },
      "text/html": [
       "<div>\n",
       "<style scoped>\n",
       "    .dataframe tbody tr th:only-of-type {\n",
       "        vertical-align: middle;\n",
       "    }\n",
       "\n",
       "    .dataframe tbody tr th {\n",
       "        vertical-align: top;\n",
       "    }\n",
       "\n",
       "    .dataframe thead th {\n",
       "        text-align: right;\n",
       "    }\n",
       "</style>\n",
       "<table border=\"1\" class=\"dataframe\">\n",
       "  <thead>\n",
       "    <tr style=\"text-align: right;\">\n",
       "      <th></th>\n",
       "      <th>rank</th>\n",
       "      <th>video views</th>\n",
       "      <th>subscribers</th>\n",
       "    </tr>\n",
       "    <tr>\n",
       "      <th>category</th>\n",
       "      <th></th>\n",
       "      <th></th>\n",
       "      <th></th>\n",
       "    </tr>\n",
       "  </thead>\n",
       "  <tbody>\n",
       "    <tr>\n",
       "      <th>Autos &amp; Vehicles</th>\n",
       "      <td>433</td>\n",
       "      <td>6530946230</td>\n",
       "      <td>16700000</td>\n",
       "    </tr>\n",
       "    <tr>\n",
       "      <th>Comedy</th>\n",
       "      <td>987</td>\n",
       "      <td>25787517689</td>\n",
       "      <td>43900000</td>\n",
       "    </tr>\n",
       "    <tr>\n",
       "      <th>Education</th>\n",
       "      <td>994</td>\n",
       "      <td>135481339848</td>\n",
       "      <td>140000000</td>\n",
       "    </tr>\n",
       "    <tr>\n",
       "      <th>Entertainment</th>\n",
       "      <td>993</td>\n",
       "      <td>66498762660</td>\n",
       "      <td>102000000</td>\n",
       "    </tr>\n",
       "    <tr>\n",
       "      <th>Film &amp; Animation</th>\n",
       "      <td>995</td>\n",
       "      <td>58839819120</td>\n",
       "      <td>154000000</td>\n",
       "    </tr>\n",
       "    <tr>\n",
       "      <th>Gaming</th>\n",
       "      <td>999</td>\n",
       "      <td>28469458228</td>\n",
       "      <td>111000000</td>\n",
       "    </tr>\n",
       "    <tr>\n",
       "      <th>Howto &amp; Style</th>\n",
       "      <td>976</td>\n",
       "      <td>23881457195</td>\n",
       "      <td>77100000</td>\n",
       "    </tr>\n",
       "    <tr>\n",
       "      <th>Movies</th>\n",
       "      <td>303</td>\n",
       "      <td>7908171009</td>\n",
       "      <td>24300000</td>\n",
       "    </tr>\n",
       "    <tr>\n",
       "      <th>Music</th>\n",
       "      <td>997</td>\n",
       "      <td>198459090822</td>\n",
       "      <td>222000000</td>\n",
       "    </tr>\n",
       "    <tr>\n",
       "      <th>News &amp; Politics</th>\n",
       "      <td>980</td>\n",
       "      <td>20204939173</td>\n",
       "      <td>52900000</td>\n",
       "    </tr>\n",
       "    <tr>\n",
       "      <th>Nonprofits &amp; Activism</th>\n",
       "      <td>867</td>\n",
       "      <td>6660397688</td>\n",
       "      <td>35900000</td>\n",
       "    </tr>\n",
       "    <tr>\n",
       "      <th>People &amp; Blogs</th>\n",
       "      <td>1000</td>\n",
       "      <td>81963845811</td>\n",
       "      <td>99700000</td>\n",
       "    </tr>\n",
       "    <tr>\n",
       "      <th>Pets &amp; Animals</th>\n",
       "      <td>930</td>\n",
       "      <td>10768365983</td>\n",
       "      <td>20300000</td>\n",
       "    </tr>\n",
       "    <tr>\n",
       "      <th>Science &amp; Technology</th>\n",
       "      <td>974</td>\n",
       "      <td>10089784164</td>\n",
       "      <td>26800000</td>\n",
       "    </tr>\n",
       "    <tr>\n",
       "      <th>Shows</th>\n",
       "      <td>914</td>\n",
       "      <td>125764252686</td>\n",
       "      <td>139000000</td>\n",
       "    </tr>\n",
       "    <tr>\n",
       "      <th>Sports</th>\n",
       "      <td>821</td>\n",
       "      <td>70544743313</td>\n",
       "      <td>90200000</td>\n",
       "    </tr>\n",
       "    <tr>\n",
       "      <th>Trailers</th>\n",
       "      <td>98</td>\n",
       "      <td>15508274562</td>\n",
       "      <td>37800000</td>\n",
       "    </tr>\n",
       "    <tr>\n",
       "      <th>Travel &amp; Events</th>\n",
       "      <td>822</td>\n",
       "      <td>2746045885</td>\n",
       "      <td>12100000</td>\n",
       "    </tr>\n",
       "  </tbody>\n",
       "</table>\n",
       "</div>"
      ],
      "text/plain": [
       "                       rank   video views  subscribers\n",
       "category                                              \n",
       "Autos & Vehicles        433    6530946230     16700000\n",
       "Comedy                  987   25787517689     43900000\n",
       "Education               994  135481339848    140000000\n",
       "Entertainment           993   66498762660    102000000\n",
       "Film & Animation        995   58839819120    154000000\n",
       "Gaming                  999   28469458228    111000000\n",
       "Howto & Style           976   23881457195     77100000\n",
       "Movies                  303    7908171009     24300000\n",
       "Music                   997  198459090822    222000000\n",
       "News & Politics         980   20204939173     52900000\n",
       "Nonprofits & Activism   867    6660397688     35900000\n",
       "People & Blogs         1000   81963845811     99700000\n",
       "Pets & Animals          930   10768365983     20300000\n",
       "Science & Technology    974   10089784164     26800000\n",
       "Shows                   914  125764252686    139000000\n",
       "Sports                  821   70544743313     90200000\n",
       "Trailers                 98   15508274562     37800000\n",
       "Travel & Events         822    2746045885     12100000"
      ]
     },
     "execution_count": 100,
     "metadata": {},
     "output_type": "execute_result"
    }
   ],
   "source": [
    "df.groupby('category')[['rank','video views','subscribers']].max()"
   ]
  },
  {
   "cell_type": "code",
   "execution_count": 101,
   "id": "ad537e5f",
   "metadata": {},
   "outputs": [
    {
     "data": {
      "text/plain": [
       "<Axes: xlabel='started'>"
      ]
     },
     "execution_count": 101,
     "metadata": {},
     "output_type": "execute_result"
    },
    {
     "data": {
      "image/png": "[encoded data removed]",
      "text/plain": [
       "<Figure size 1500x300 with 1 Axes>"
      ]
     },
     "metadata": {},
     "output_type": "display_data"
    }
   ],
   "source": [
    "plt.figure(figsize=(15,3))\n",
    "year = df['started'].value_counts()\n",
    "sns.pointplot(x=year.index,y=year.values)\n"
   ]
  },
  {
   "cell_type": "code",
   "execution_count": 102,
   "id": "4f0b85b3",
   "metadata": {},
   "outputs": [
    {
     "data": {
      "text/plain": [
       "Index(['rank', 'Youtuber', 'subscribers', 'video views', 'video count',\n",
       "       'category', 'started'],\n",
       "      dtype='object')"
      ]
     },
     "execution_count": 102,
     "metadata": {},
     "output_type": "execute_result"
    }
   ],
   "source": [
    "df.columns\n"
   ]
  },
  {
   "cell_type": "code",
   "execution_count": 103,
   "id": "24228a47",
   "metadata": {},
   "outputs": [
    {
     "data": {
      "application/vnd.microsoft.datawrangler.viewer.v0+json": {
       "columns": [
        {
         "name": "index",
         "rawType": "int64",
         "type": "integer"
        },
        {
         "name": "rank",
         "rawType": "int64",
         "type": "integer"
        },
        {
         "name": "Youtuber",
         "rawType": "object",
         "type": "string"
        },
        {
         "name": "subscribers",
         "rawType": "int64",
         "type": "integer"
        },
        {
         "name": "video views",
         "rawType": "int64",
         "type": "integer"
        },
        {
         "name": "video count",
         "rawType": "int64",
         "type": "integer"
        },
        {
         "name": "category",
         "rawType": "object",
         "type": "string"
        },
        {
         "name": "started",
         "rawType": "int64",
         "type": "integer"
        }
       ],
       "ref": "88065bfa-1624-45e3-a064-be3578d52c0c",
       "rows": [
        [
         "0",
         "1",
         "T-Series",
         "222000000",
         "198459090822",
         "17317",
         "Music",
         "2006"
        ],
        [
         "1",
         "2",
         "YouTube Movies",
         "154000000",
         "0",
         "0",
         "Film & Animation",
         "2015"
        ],
        [
         "2",
         "3",
         "Cocomelon - Nursery Rhymes",
         "140000000",
         "135481339848",
         "786",
         "Education",
         "2006"
        ],
        [
         "3",
         "4",
         "SET India",
         "139000000",
         "125764252686",
         "91271",
         "Shows",
         "2006"
        ],
        [
         "5",
         "6",
         "PewDiePie",
         "111000000",
         "28469458228",
         "4497",
         "Gaming",
         "2010"
        ],
        [
         "6",
         "7",
         "MrBeast",
         "102000000",
         "16832456681",
         "726",
         "Entertainment",
         "2012"
        ],
        [
         "7",
         "8",
         "✿ Kids Diana Show",
         "99700000",
         "79602288245",
         "1009",
         "People & Blogs",
         "2015"
        ],
        [
         "8",
         "9",
         "Like Nastya",
         "99200000",
         "81963845811",
         "702",
         "People & Blogs",
         "2016"
        ],
        [
         "10",
         "11",
         "WWE",
         "90200000",
         "70544743313",
         "63077",
         "Sports",
         "2007"
        ],
        [
         "11",
         "12",
         "Zee Music Company",
         "86700000",
         "49067711243",
         "6603",
         "Music",
         "2014"
        ],
        [
         "12",
         "13",
         "Vlad and Niki",
         "85100000",
         "66498762660",
         "472",
         "Entertainment",
         "2018"
        ],
        [
         "13",
         "14",
         "5-Minute Crafts",
         "77100000",
         "23881457195",
         "5581",
         "Howto & Style",
         "2016"
        ],
        [
         "14",
         "15",
         "BLACKPINK",
         "76200000",
         "24707415704",
         "397",
         "People & Blogs",
         "2016"
        ],
        [
         "16",
         "17",
         "Goldmines",
         "74100000",
         "18533088438",
         "3968",
         "Film & Animation",
         "2012"
        ],
        [
         "17",
         "18",
         "Sony SAB",
         "70600000",
         "82473581441",
         "56295",
         "Shows",
         "2007"
        ],
        [
         "18",
         "19",
         "BANGTANTV",
         "70000000",
         "17471090750",
         "1787",
         "Music",
         "2012"
        ],
        [
         "19",
         "20",
         "Justin Bieber",
         "69700000",
         "28567240999",
         "247",
         "Music",
         "2007"
        ],
        [
         "20",
         "21",
         "HYBE LABELS",
         "67800000",
         "24013849120",
         "971",
         "Music",
         "2008"
        ],
        [
         "21",
         "22",
         "Canal KondZilla",
         "65900000",
         "36576704790",
         "2313",
         "Music",
         "2012"
        ],
        [
         "22",
         "23",
         "Zee TV",
         "63000000",
         "17111576122",
         "60802",
         "Entertainment",
         "2005"
        ],
        [
         "23",
         "24",
         "Shemaroo Filmi Gaane",
         "61300000",
         "28579945247",
         "7884",
         "Music",
         "2010"
        ],
        [
         "24",
         "25",
         "Pinkfong Baby Shark - Kids' Songs & Stories",
         "59400000",
         "32107290522",
         "2374",
         "Education",
         "2011"
        ],
        [
         "25",
         "26",
         "Dude Perfect",
         "58100000",
         "14742860905",
         "297",
         "Sports",
         "2009"
        ],
        [
         "26",
         "27",
         "ChuChu TV Nursery Rhymes & Kids Songs",
         "57700000",
         "39266652127",
         "506",
         "Education",
         "2013"
        ],
        [
         "27",
         "28",
         "Movieclips",
         "57600000",
         "58839819120",
         "39202",
         "Film & Animation",
         "2006"
        ],
        [
         "28",
         "29",
         "Marshmello",
         "55700000",
         "13445424556",
         "401",
         "Entertainment",
         "2015"
        ],
        [
         "29",
         "30",
         "Colors TV",
         "55100000",
         "52611504230",
         "87427",
         "Shows",
         "2008"
        ],
        [
         "30",
         "31",
         "Wave Music",
         "53400000",
         "37230876862",
         "18622",
         "Music",
         "2014"
        ],
        [
         "31",
         "32",
         "EminemMusic",
         "53000000",
         "23717869724",
         "140",
         "Music",
         "2007"
        ],
        [
         "32",
         "33",
         "Aaj Tak",
         "52900000",
         "20204939173",
         "196497",
         "News & Politics",
         "2009"
        ],
        [
         "33",
         "34",
         "Tips Official",
         "52800000",
         "27883080973",
         "3612",
         "Music",
         "2007"
        ],
        [
         "34",
         "35",
         "T-Series Bhakti Sagar",
         "52500000",
         "24278576197",
         "23870",
         "Music",
         "2011"
        ],
        [
         "35",
         "36",
         "Sony Music India",
         "52400000",
         "24856641898",
         "3180",
         "Music",
         "2009"
        ],
        [
         "36",
         "37",
         "Ed Sheeran",
         "52200000",
         "27881781761",
         "253",
         "Music",
         "2006"
        ],
        [
         "37",
         "38",
         "El Reino Infantil",
         "51700000",
         "49895247456",
         "1309",
         "Music",
         "2011"
        ],
        [
         "38",
         "39",
         "Ariana Grande",
         "51600000",
         "22158094076",
         "146",
         "Music",
         "2007"
        ],
        [
         "39",
         "40",
         "LooLoo Kids - Nursery Rhymes and Children's Songs",
         "49800000",
         "29013984394",
         "553",
         "Music",
         "2014"
        ],
        [
         "40",
         "41",
         "YRF",
         "47600000",
         "29366788406",
         "3289",
         "Film & Animation",
         "2006"
        ],
        [
         "41",
         "42",
         "Taylor Swift",
         "47100000",
         "25563795998",
         "189",
         "Music",
         "2006"
        ],
        [
         "42",
         "43",
         "Billie Eilish",
         "46200000",
         "11999349578",
         "48",
         "Music",
         "2013"
        ],
        [
         "43",
         "44",
         "JuegaGerman",
         "46100000",
         "13698034536",
         "1959",
         "Gaming",
         "2013"
        ],
        [
         "44",
         "45",
         "BillionSurpriseToys - English Kids Songs & Cartoon",
         "45700000",
         "8590657189",
         "648",
         "Education",
         "2013"
        ],
        [
         "45",
         "46",
         "Infobells - Hindi",
         "45600000",
         "25635591765",
         "476",
         "Education",
         "2014"
        ],
        [
         "46",
         "47",
         "Badabun",
         "45600000",
         "18567925780",
         "13814",
         "Entertainment",
         "2014"
        ],
        [
         "47",
         "48",
         "Fernanfloo",
         "45100000",
         "9966728650",
         "541",
         "Gaming",
         "2011"
        ],
        [
         "48",
         "49",
         "Felipe Neto",
         "44300000",
         "15475571879",
         "3512",
         "Entertainment",
         "2006"
        ],
        [
         "49",
         "50",
         "BRIGHT SIDE",
         "43900000",
         "10058536263",
         "4540",
         "Howto & Style",
         "2017"
        ],
        [
         "50",
         "51",
         "whinderssonnunes",
         "43900000",
         "4120078906",
         "521",
         "Comedy",
         "2013"
        ],
        [
         "51",
         "52",
         "Você Sabia?",
         "43300000",
         "7284075395",
         "1315",
         "Entertainment",
         "2013"
        ],
        [
         "52",
         "53",
         "HolaSoyGerman.",
         "43300000",
         "4735959546",
         "136",
         "Entertainment",
         "2011"
        ]
       ],
       "shape": {
        "columns": 7,
        "rows": 972
       }
      },
      "text/html": [
       "<div>\n",
       "<style scoped>\n",
       "    .dataframe tbody tr th:only-of-type {\n",
       "        vertical-align: middle;\n",
       "    }\n",
       "\n",
       "    .dataframe tbody tr th {\n",
       "        vertical-align: top;\n",
       "    }\n",
       "\n",
       "    .dataframe thead th {\n",
       "        text-align: right;\n",
       "    }\n",
       "</style>\n",
       "<table border=\"1\" class=\"dataframe\">\n",
       "  <thead>\n",
       "    <tr style=\"text-align: right;\">\n",
       "      <th></th>\n",
       "      <th>rank</th>\n",
       "      <th>Youtuber</th>\n",
       "      <th>subscribers</th>\n",
       "      <th>video views</th>\n",
       "      <th>video count</th>\n",
       "      <th>category</th>\n",
       "      <th>started</th>\n",
       "    </tr>\n",
       "  </thead>\n",
       "  <tbody>\n",
       "    <tr>\n",
       "      <th>0</th>\n",
       "      <td>1</td>\n",
       "      <td>T-Series</td>\n",
       "      <td>222000000</td>\n",
       "      <td>198459090822</td>\n",
       "      <td>17317</td>\n",
       "      <td>Music</td>\n",
       "      <td>2006</td>\n",
       "    </tr>\n",
       "    <tr>\n",
       "      <th>1</th>\n",
       "      <td>2</td>\n",
       "      <td>YouTube Movies</td>\n",
       "      <td>154000000</td>\n",
       "      <td>0</td>\n",
       "      <td>0</td>\n",
       "      <td>Film &amp; Animation</td>\n",
       "      <td>2015</td>\n",
       "    </tr>\n",
       "    <tr>\n",
       "      <th>2</th>\n",
       "      <td>3</td>\n",
       "      <td>Cocomelon - Nursery Rhymes</td>\n",
       "      <td>140000000</td>\n",
       "      <td>135481339848</td>\n",
       "      <td>786</td>\n",
       "      <td>Education</td>\n",
       "      <td>2006</td>\n",
       "    </tr>\n",
       "    <tr>\n",
       "      <th>3</th>\n",
       "      <td>4</td>\n",
       "      <td>SET India</td>\n",
       "      <td>139000000</td>\n",
       "      <td>125764252686</td>\n",
       "      <td>91271</td>\n",
       "      <td>Shows</td>\n",
       "      <td>2006</td>\n",
       "    </tr>\n",
       "    <tr>\n",
       "      <th>5</th>\n",
       "      <td>6</td>\n",
       "      <td>PewDiePie</td>\n",
       "      <td>111000000</td>\n",
       "      <td>28469458228</td>\n",
       "      <td>4497</td>\n",
       "      <td>Gaming</td>\n",
       "      <td>2010</td>\n",
       "    </tr>\n",
       "    <tr>\n",
       "      <th>...</th>\n",
       "      <td>...</td>\n",
       "      <td>...</td>\n",
       "      <td>...</td>\n",
       "      <td>...</td>\n",
       "      <td>...</td>\n",
       "      <td>...</td>\n",
       "      <td>...</td>\n",
       "    </tr>\n",
       "    <tr>\n",
       "      <th>995</th>\n",
       "      <td>996</td>\n",
       "      <td>JP Plays</td>\n",
       "      <td>10900000</td>\n",
       "      <td>4609300218</td>\n",
       "      <td>3528</td>\n",
       "      <td>Gaming</td>\n",
       "      <td>2014</td>\n",
       "    </tr>\n",
       "    <tr>\n",
       "      <th>996</th>\n",
       "      <td>997</td>\n",
       "      <td>TrapMusicHDTV</td>\n",
       "      <td>10900000</td>\n",
       "      <td>4070521973</td>\n",
       "      <td>690</td>\n",
       "      <td>Music</td>\n",
       "      <td>2013</td>\n",
       "    </tr>\n",
       "    <tr>\n",
       "      <th>997</th>\n",
       "      <td>998</td>\n",
       "      <td>Games EduUu</td>\n",
       "      <td>10900000</td>\n",
       "      <td>3093784767</td>\n",
       "      <td>1006</td>\n",
       "      <td>Gaming</td>\n",
       "      <td>2011</td>\n",
       "    </tr>\n",
       "    <tr>\n",
       "      <th>998</th>\n",
       "      <td>999</td>\n",
       "      <td>Hueva</td>\n",
       "      <td>10900000</td>\n",
       "      <td>3040301750</td>\n",
       "      <td>831</td>\n",
       "      <td>Gaming</td>\n",
       "      <td>2012</td>\n",
       "    </tr>\n",
       "    <tr>\n",
       "      <th>999</th>\n",
       "      <td>1000</td>\n",
       "      <td>Dobre Brothers</td>\n",
       "      <td>10900000</td>\n",
       "      <td>2808411693</td>\n",
       "      <td>590</td>\n",
       "      <td>People &amp; Blogs</td>\n",
       "      <td>2017</td>\n",
       "    </tr>\n",
       "  </tbody>\n",
       "</table>\n",
       "<p>972 rows × 7 columns</p>\n",
       "</div>"
      ],
      "text/plain": [
       "     rank                    Youtuber  subscribers   video views  video count  \\\n",
       "0       1                    T-Series    222000000  198459090822        17317   \n",
       "1       2              YouTube Movies    154000000             0            0   \n",
       "2       3  Cocomelon - Nursery Rhymes    140000000  135481339848          786   \n",
       "3       4                   SET India    139000000  125764252686        91271   \n",
       "5       6                   PewDiePie    111000000   28469458228         4497   \n",
       "..    ...                         ...          ...           ...          ...   \n",
       "995   996                    JP Plays     10900000    4609300218         3528   \n",
       "996   997               TrapMusicHDTV     10900000    4070521973          690   \n",
       "997   998                 Games EduUu     10900000    3093784767         1006   \n",
       "998   999                       Hueva     10900000    3040301750          831   \n",
       "999  1000              Dobre Brothers     10900000    2808411693          590   \n",
       "\n",
       "             category  started  \n",
       "0               Music     2006  \n",
       "1    Film & Animation     2015  \n",
       "2           Education     2006  \n",
       "3               Shows     2006  \n",
       "5              Gaming     2010  \n",
       "..                ...      ...  \n",
       "995            Gaming     2014  \n",
       "996             Music     2013  \n",
       "997            Gaming     2011  \n",
       "998            Gaming     2012  \n",
       "999    People & Blogs     2017  \n",
       "\n",
       "[972 rows x 7 columns]"
      ]
     },
     "execution_count": 103,
     "metadata": {},
     "output_type": "execute_result"
    }
   ],
   "source": [
    "df"
   ]
  },
  {
   "cell_type": "markdown",
   "id": "9f89a13c",
   "metadata": {},
   "source": [
    "bivariate analysis"
   ]
  },
  {
   "cell_type": "code",
   "execution_count": null,
   "id": "89c228e5",
   "metadata": {},
   "outputs": [],
   "source": []
  },
  {
   "cell_type": "code",
   "execution_count": 108,
   "id": "7c74497e",
   "metadata": {},
   "outputs": [
    {
     "data": {
      "text/plain": [
       "6362200295"
      ]
     },
     "execution_count": 108,
     "metadata": {},
     "output_type": "execute_result"
    }
   ],
   "source": [
    "6362200295"
   ]
  },
  {
   "cell_type": "code",
   "execution_count": 121,
   "id": "51aa660c",
   "metadata": {},
   "outputs": [
    {
     "data": {
      "application/vnd.microsoft.datawrangler.viewer.v0+json": {
       "columns": [
        {
         "name": "index",
         "rawType": "int64",
         "type": "integer"
        },
        {
         "name": "rank",
         "rawType": "int64",
         "type": "integer"
        },
        {
         "name": "Youtuber",
         "rawType": "object",
         "type": "string"
        },
        {
         "name": "subscribers",
         "rawType": "int64",
         "type": "integer"
        },
        {
         "name": "video views",
         "rawType": "int64",
         "type": "integer"
        },
        {
         "name": "video count",
         "rawType": "int64",
         "type": "integer"
        },
        {
         "name": "category",
         "rawType": "object",
         "type": "string"
        },
        {
         "name": "started",
         "rawType": "int64",
         "type": "integer"
        }
       ],
       "ref": "df0595d1-8eab-4998-ab91-bea00b57baaf",
       "rows": [
        [
         "0",
         "1",
         "T-Series",
         "222000000",
         "198459090822",
         "17317",
         "Music",
         "2006"
        ],
        [
         "1",
         "2",
         "YouTube Movies",
         "154000000",
         "0",
         "0",
         "Film & Animation",
         "2015"
        ],
        [
         "2",
         "3",
         "Cocomelon - Nursery Rhymes",
         "140000000",
         "135481339848",
         "786",
         "Education",
         "2006"
        ],
        [
         "3",
         "4",
         "SET India",
         "139000000",
         "125764252686",
         "91271",
         "Shows",
         "2006"
        ],
        [
         "5",
         "6",
         "PewDiePie",
         "111000000",
         "28469458228",
         "4497",
         "Gaming",
         "2010"
        ],
        [
         "6",
         "7",
         "MrBeast",
         "102000000",
         "16832456681",
         "726",
         "Entertainment",
         "2012"
        ],
        [
         "7",
         "8",
         "✿ Kids Diana Show",
         "99700000",
         "79602288245",
         "1009",
         "People & Blogs",
         "2015"
        ],
        [
         "8",
         "9",
         "Like Nastya",
         "99200000",
         "81963845811",
         "702",
         "People & Blogs",
         "2016"
        ],
        [
         "10",
         "11",
         "WWE",
         "90200000",
         "70544743313",
         "63077",
         "Sports",
         "2007"
        ],
        [
         "11",
         "12",
         "Zee Music Company",
         "86700000",
         "49067711243",
         "6603",
         "Music",
         "2014"
        ],
        [
         "12",
         "13",
         "Vlad and Niki",
         "85100000",
         "66498762660",
         "472",
         "Entertainment",
         "2018"
        ],
        [
         "13",
         "14",
         "5-Minute Crafts",
         "77100000",
         "23881457195",
         "5581",
         "Howto & Style",
         "2016"
        ],
        [
         "14",
         "15",
         "BLACKPINK",
         "76200000",
         "24707415704",
         "397",
         "People & Blogs",
         "2016"
        ],
        [
         "16",
         "17",
         "Goldmines",
         "74100000",
         "18533088438",
         "3968",
         "Film & Animation",
         "2012"
        ],
        [
         "17",
         "18",
         "Sony SAB",
         "70600000",
         "82473581441",
         "56295",
         "Shows",
         "2007"
        ],
        [
         "18",
         "19",
         "BANGTANTV",
         "70000000",
         "17471090750",
         "1787",
         "Music",
         "2012"
        ],
        [
         "19",
         "20",
         "Justin Bieber",
         "69700000",
         "28567240999",
         "247",
         "Music",
         "2007"
        ],
        [
         "20",
         "21",
         "HYBE LABELS",
         "67800000",
         "24013849120",
         "971",
         "Music",
         "2008"
        ],
        [
         "21",
         "22",
         "Canal KondZilla",
         "65900000",
         "36576704790",
         "2313",
         "Music",
         "2012"
        ],
        [
         "22",
         "23",
         "Zee TV",
         "63000000",
         "17111576122",
         "60802",
         "Entertainment",
         "2005"
        ],
        [
         "23",
         "24",
         "Shemaroo Filmi Gaane",
         "61300000",
         "28579945247",
         "7884",
         "Music",
         "2010"
        ],
        [
         "24",
         "25",
         "Pinkfong Baby Shark - Kids' Songs & Stories",
         "59400000",
         "32107290522",
         "2374",
         "Education",
         "2011"
        ],
        [
         "25",
         "26",
         "Dude Perfect",
         "58100000",
         "14742860905",
         "297",
         "Sports",
         "2009"
        ],
        [
         "26",
         "27",
         "ChuChu TV Nursery Rhymes & Kids Songs",
         "57700000",
         "39266652127",
         "506",
         "Education",
         "2013"
        ],
        [
         "27",
         "28",
         "Movieclips",
         "57600000",
         "58839819120",
         "39202",
         "Film & Animation",
         "2006"
        ],
        [
         "28",
         "29",
         "Marshmello",
         "55700000",
         "13445424556",
         "401",
         "Entertainment",
         "2015"
        ],
        [
         "29",
         "30",
         "Colors TV",
         "55100000",
         "52611504230",
         "87427",
         "Shows",
         "2008"
        ],
        [
         "30",
         "31",
         "Wave Music",
         "53400000",
         "37230876862",
         "18622",
         "Music",
         "2014"
        ],
        [
         "31",
         "32",
         "EminemMusic",
         "53000000",
         "23717869724",
         "140",
         "Music",
         "2007"
        ],
        [
         "32",
         "33",
         "Aaj Tak",
         "52900000",
         "20204939173",
         "196497",
         "News & Politics",
         "2009"
        ],
        [
         "33",
         "34",
         "Tips Official",
         "52800000",
         "27883080973",
         "3612",
         "Music",
         "2007"
        ],
        [
         "34",
         "35",
         "T-Series Bhakti Sagar",
         "52500000",
         "24278576197",
         "23870",
         "Music",
         "2011"
        ],
        [
         "35",
         "36",
         "Sony Music India",
         "52400000",
         "24856641898",
         "3180",
         "Music",
         "2009"
        ],
        [
         "36",
         "37",
         "Ed Sheeran",
         "52200000",
         "27881781761",
         "253",
         "Music",
         "2006"
        ],
        [
         "37",
         "38",
         "El Reino Infantil",
         "51700000",
         "49895247456",
         "1309",
         "Music",
         "2011"
        ],
        [
         "38",
         "39",
         "Ariana Grande",
         "51600000",
         "22158094076",
         "146",
         "Music",
         "2007"
        ],
        [
         "39",
         "40",
         "LooLoo Kids - Nursery Rhymes and Children's Songs",
         "49800000",
         "29013984394",
         "553",
         "Music",
         "2014"
        ],
        [
         "40",
         "41",
         "YRF",
         "47600000",
         "29366788406",
         "3289",
         "Film & Animation",
         "2006"
        ],
        [
         "41",
         "42",
         "Taylor Swift",
         "47100000",
         "25563795998",
         "189",
         "Music",
         "2006"
        ],
        [
         "42",
         "43",
         "Billie Eilish",
         "46200000",
         "11999349578",
         "48",
         "Music",
         "2013"
        ],
        [
         "43",
         "44",
         "JuegaGerman",
         "46100000",
         "13698034536",
         "1959",
         "Gaming",
         "2013"
        ],
        [
         "44",
         "45",
         "BillionSurpriseToys - English Kids Songs & Cartoon",
         "45700000",
         "8590657189",
         "648",
         "Education",
         "2013"
        ],
        [
         "45",
         "46",
         "Infobells - Hindi",
         "45600000",
         "25635591765",
         "476",
         "Education",
         "2014"
        ],
        [
         "46",
         "47",
         "Badabun",
         "45600000",
         "18567925780",
         "13814",
         "Entertainment",
         "2014"
        ],
        [
         "47",
         "48",
         "Fernanfloo",
         "45100000",
         "9966728650",
         "541",
         "Gaming",
         "2011"
        ],
        [
         "48",
         "49",
         "Felipe Neto",
         "44300000",
         "15475571879",
         "3512",
         "Entertainment",
         "2006"
        ],
        [
         "49",
         "50",
         "BRIGHT SIDE",
         "43900000",
         "10058536263",
         "4540",
         "Howto & Style",
         "2017"
        ],
        [
         "50",
         "51",
         "whinderssonnunes",
         "43900000",
         "4120078906",
         "521",
         "Comedy",
         "2013"
        ],
        [
         "51",
         "52",
         "Você Sabia?",
         "43300000",
         "7284075395",
         "1315",
         "Entertainment",
         "2013"
        ],
        [
         "52",
         "53",
         "HolaSoyGerman.",
         "43300000",
         "4735959546",
         "136",
         "Entertainment",
         "2011"
        ]
       ],
       "shape": {
        "columns": 7,
        "rows": 972
       }
      },
      "text/html": [
       "<div>\n",
       "<style scoped>\n",
       "    .dataframe tbody tr th:only-of-type {\n",
       "        vertical-align: middle;\n",
       "    }\n",
       "\n",
       "    .dataframe tbody tr th {\n",
       "        vertical-align: top;\n",
       "    }\n",
       "\n",
       "    .dataframe thead th {\n",
       "        text-align: right;\n",
       "    }\n",
       "</style>\n",
       "<table border=\"1\" class=\"dataframe\">\n",
       "  <thead>\n",
       "    <tr style=\"text-align: right;\">\n",
       "      <th></th>\n",
       "      <th>rank</th>\n",
       "      <th>Youtuber</th>\n",
       "      <th>subscribers</th>\n",
       "      <th>video views</th>\n",
       "      <th>video count</th>\n",
       "      <th>category</th>\n",
       "      <th>started</th>\n",
       "    </tr>\n",
       "  </thead>\n",
       "  <tbody>\n",
       "    <tr>\n",
       "      <th>0</th>\n",
       "      <td>1</td>\n",
       "      <td>T-Series</td>\n",
       "      <td>222000000</td>\n",
       "      <td>198459090822</td>\n",
       "      <td>17317</td>\n",
       "      <td>Music</td>\n",
       "      <td>2006</td>\n",
       "    </tr>\n",
       "    <tr>\n",
       "      <th>1</th>\n",
       "      <td>2</td>\n",
       "      <td>YouTube Movies</td>\n",
       "      <td>154000000</td>\n",
       "      <td>0</td>\n",
       "      <td>0</td>\n",
       "      <td>Film &amp; Animation</td>\n",
       "      <td>2015</td>\n",
       "    </tr>\n",
       "    <tr>\n",
       "      <th>2</th>\n",
       "      <td>3</td>\n",
       "      <td>Cocomelon - Nursery Rhymes</td>\n",
       "      <td>140000000</td>\n",
       "      <td>135481339848</td>\n",
       "      <td>786</td>\n",
       "      <td>Education</td>\n",
       "      <td>2006</td>\n",
       "    </tr>\n",
       "    <tr>\n",
       "      <th>3</th>\n",
       "      <td>4</td>\n",
       "      <td>SET India</td>\n",
       "      <td>139000000</td>\n",
       "      <td>125764252686</td>\n",
       "      <td>91271</td>\n",
       "      <td>Shows</td>\n",
       "      <td>2006</td>\n",
       "    </tr>\n",
       "    <tr>\n",
       "      <th>5</th>\n",
       "      <td>6</td>\n",
       "      <td>PewDiePie</td>\n",
       "      <td>111000000</td>\n",
       "      <td>28469458228</td>\n",
       "      <td>4497</td>\n",
       "      <td>Gaming</td>\n",
       "      <td>2010</td>\n",
       "    </tr>\n",
       "    <tr>\n",
       "      <th>...</th>\n",
       "      <td>...</td>\n",
       "      <td>...</td>\n",
       "      <td>...</td>\n",
       "      <td>...</td>\n",
       "      <td>...</td>\n",
       "      <td>...</td>\n",
       "      <td>...</td>\n",
       "    </tr>\n",
       "    <tr>\n",
       "      <th>995</th>\n",
       "      <td>996</td>\n",
       "      <td>JP Plays</td>\n",
       "      <td>10900000</td>\n",
       "      <td>4609300218</td>\n",
       "      <td>3528</td>\n",
       "      <td>Gaming</td>\n",
       "      <td>2014</td>\n",
       "    </tr>\n",
       "    <tr>\n",
       "      <th>996</th>\n",
       "      <td>997</td>\n",
       "      <td>TrapMusicHDTV</td>\n",
       "      <td>10900000</td>\n",
       "      <td>4070521973</td>\n",
       "      <td>690</td>\n",
       "      <td>Music</td>\n",
       "      <td>2013</td>\n",
       "    </tr>\n",
       "    <tr>\n",
       "      <th>997</th>\n",
       "      <td>998</td>\n",
       "      <td>Games EduUu</td>\n",
       "      <td>10900000</td>\n",
       "      <td>3093784767</td>\n",
       "      <td>1006</td>\n",
       "      <td>Gaming</td>\n",
       "      <td>2011</td>\n",
       "    </tr>\n",
       "    <tr>\n",
       "      <th>998</th>\n",
       "      <td>999</td>\n",
       "      <td>Hueva</td>\n",
       "      <td>10900000</td>\n",
       "      <td>3040301750</td>\n",
       "      <td>831</td>\n",
       "      <td>Gaming</td>\n",
       "      <td>2012</td>\n",
       "    </tr>\n",
       "    <tr>\n",
       "      <th>999</th>\n",
       "      <td>1000</td>\n",
       "      <td>Dobre Brothers</td>\n",
       "      <td>10900000</td>\n",
       "      <td>2808411693</td>\n",
       "      <td>590</td>\n",
       "      <td>People &amp; Blogs</td>\n",
       "      <td>2017</td>\n",
       "    </tr>\n",
       "  </tbody>\n",
       "</table>\n",
       "<p>972 rows × 7 columns</p>\n",
       "</div>"
      ],
      "text/plain": [
       "     rank                    Youtuber  subscribers   video views  video count  \\\n",
       "0       1                    T-Series    222000000  198459090822        17317   \n",
       "1       2              YouTube Movies    154000000             0            0   \n",
       "2       3  Cocomelon - Nursery Rhymes    140000000  135481339848          786   \n",
       "3       4                   SET India    139000000  125764252686        91271   \n",
       "5       6                   PewDiePie    111000000   28469458228         4497   \n",
       "..    ...                         ...          ...           ...          ...   \n",
       "995   996                    JP Plays     10900000    4609300218         3528   \n",
       "996   997               TrapMusicHDTV     10900000    4070521973          690   \n",
       "997   998                 Games EduUu     10900000    3093784767         1006   \n",
       "998   999                       Hueva     10900000    3040301750          831   \n",
       "999  1000              Dobre Brothers     10900000    2808411693          590   \n",
       "\n",
       "             category  started  \n",
       "0               Music     2006  \n",
       "1    Film & Animation     2015  \n",
       "2           Education     2006  \n",
       "3               Shows     2006  \n",
       "5              Gaming     2010  \n",
       "..                ...      ...  \n",
       "995            Gaming     2014  \n",
       "996             Music     2013  \n",
       "997            Gaming     2011  \n",
       "998            Gaming     2012  \n",
       "999    People & Blogs     2017  \n",
       "\n",
       "[972 rows x 7 columns]"
      ]
     },
     "execution_count": 121,
     "metadata": {},
     "output_type": "execute_result"
    }
   ],
   "source": [
    "df"
   ]
  },
  {
   "cell_type": "code",
   "execution_count": 122,
   "id": "d79ddee0",
   "metadata": {},
   "outputs": [
    {
     "data": {
      "text/plain": [
       "<matplotlib.legend.Legend at 0x213057b3c50>"
      ]
     },
     "execution_count": 122,
     "metadata": {},
     "output_type": "execute_result"
    },
    {
     "data": {
      "image/png": "[encoded data removed]",
      "text/plain": [
       "<Figure size 1000x500 with 1 Axes>"
      ]
     },
     "metadata": {},
     "output_type": "display_data"
    }
   ],
   "source": [
    "plt.figure(figsize=(10,5))\n",
    "\n",
    "sns.scatterplot(data=df,y='video views',x='video count',hue='category',size='video views')\n",
    "plt.legend(bbox_to_anchor=(1.05, 1), loc='upper left', title='Category')"
   ]
  },
  {
   "cell_type": "code",
   "execution_count": 133,
   "id": "fb3ddccb",
   "metadata": {},
   "outputs": [
    {
     "data": {
      "image/png": "[encoded data removed]",
      "text/plain": [
       "<Figure size 1200x600 with 1 Axes>"
      ]
     },
     "metadata": {},
     "output_type": "display_data"
    }
   ],
   "source": [
    "plt.figure(figsize=(12,6))\n",
    "c =df['started'].value_counts()\n",
    "ax =sns.barplot(x=c.index,y=c.values,palette='Set1',edgecolor='black')\n",
    "\n",
    "\n",
    "for container in ax.containers:\n",
    "    ax.bar_label(container,fmt='%.0f',label_type='edge',padding=3)"
   ]
  },
  {
   "cell_type": "markdown",
   "id": "65f2e84b",
   "metadata": {},
   "source": [
    "#### What percentage of all channels were created "
   ]
  },
  {
   "cell_type": "code",
   "execution_count": 138,
   "id": "191a4f93",
   "metadata": {},
   "outputs": [
    {
     "data": {
      "text/plain": [
       "<Axes: ylabel='count'>"
      ]
     },
     "execution_count": 138,
     "metadata": {},
     "output_type": "execute_result"
    },
    {
     "data": {
      "image/png": "[encoded data removed]",
      "text/plain": [
       "<Figure size 640x480 with 1 Axes>"
      ]
     },
     "metadata": {},
     "output_type": "display_data"
    }
   ],
   "source": [
    "df['started'].value_counts().plot(kind='pie',autopct='%0.1f%%')"
   ]
  },
  {
   "cell_type": "markdown",
   "id": "f1841119",
   "metadata": {},
   "source": [
    "#### What percentage of all channels were created between 2015–2020?"
   ]
  },
  {
   "cell_type": "code",
   "execution_count": 157,
   "id": "9b541499",
   "metadata": {},
   "outputs": [],
   "source": [
    "year=df[(df['started']>=2015)& (df['started']<=2020)]"
   ]
  },
  {
   "cell_type": "code",
   "execution_count": 159,
   "id": "4a6d0d40",
   "metadata": {},
   "outputs": [
    {
     "data": {
      "text/plain": [
       "<Axes: ylabel='count'>"
      ]
     },
     "execution_count": 159,
     "metadata": {},
     "output_type": "execute_result"
    },
    {
     "data": {
      "image/png": "[encoded data removed]",
      "text/plain": [
       "<Figure size 640x480 with 1 Axes>"
      ]
     },
     "metadata": {},
     "output_type": "display_data"
    }
   ],
   "source": [
    "year['started'].value_counts().plot(kind='pie',autopct='%0.1f%%')"
   ]
  },
  {
   "cell_type": "markdown",
   "id": "74add04e",
   "metadata": {},
   "source": [
    "\n",
    "Which 5 years contributed the most to total channels?"
   ]
  },
  {
   "cell_type": "code",
   "execution_count": null,
   "id": "963be99a",
   "metadata": {},
   "outputs": [],
   "source": [
    "df['Youtuber']"
   ]
  },
  {
   "cell_type": "code",
   "execution_count": null,
   "id": "8d1ebed5",
   "metadata": {},
   "outputs": [],
   "source": []
  },
  {
   "cell_type": "markdown",
   "id": "7f5b52f7",
   "metadata": {},
   "source": [
    "🔹 Questions for You\n",
    "\n",
    "Which year had the maximum number of new channels created?\n",
    "\n",
    "How many channels were started before 2010 vs after 2010?\n",
    "\n",
    "What is the trend of channel creation over time – increasing or decreasing?\n",
    "\n",
    "Are there any years with a sudden spike or drop in channel creation? Identify them.\n",
    "\n",
    "Which 5 years contributed the most to total channels?\n",
    "\n",
    "What percentage of all channels were created between 2015–2020?\n",
    "\n",
    "Plot a line chart of channels created per year and interpret the trend.\n",
    "\n",
    "Is there any relationship between the year started and the average subscribers of those channels?\n",
    "(Hint: group by started and calculate mean subscribers)\n",
    "\n",
    "Do older channels (before 2010) have significantly more subscribers than newer ones (after 2015)?\n",
    "\n",
    "Can you identify “early adopters” (channels started before 2008) and compare their average video views with newer channels?"
   ]
  }
 ],
 "metadata": {
  "kernelspec": {
   "display_name": "Python 3",
   "language": "python",
   "name": "python3"
  },
  "language_info": {
   "codemirror_mode": {
    "name": "ipython",
    "version": 3
   },
   "file_extension": ".py",
   "mimetype": "text/x-python",
   "name": "python",
   "nbconvert_exporter": "python",
   "pygments_lexer": "ipython3",
   "version": "3.13.7"
  }
 },
 "nbformat": 4,
 "nbformat_minor": 5
}
