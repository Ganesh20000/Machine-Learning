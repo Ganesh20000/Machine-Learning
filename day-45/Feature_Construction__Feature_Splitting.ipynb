{
 "cells": [
  {
   "cell_type": "code",
   "execution_count": 1,
   "id": "fa8b6239",
   "metadata": {},
   "outputs": [],
   "source": [
    "\n",
    "import numpy as np\n",
    "import pandas as pd\n",
    "import seaborn as sns\n",
    "import matplotlib.pyplot as plt\n",
    "from sklearn.model_selection import train_test_split,cross_val_score\n",
    "from sklearn.linear_model import LogisticRegression\n",
    "import warnings\n",
    "warnings.filterwarnings('ignore')"
   ]
  },
  {
   "cell_type": "code",
   "execution_count": 2,
   "id": "69090c5e",
   "metadata": {},
   "outputs": [],
   "source": [
    "df=pd.read_csv('train.csv',usecols=['Age', 'SibSp', 'Parch','Pclass','Survived'])"
   ]
  },
  {
   "cell_type": "code",
   "execution_count": 3,
   "id": "2f98221a",
   "metadata": {},
   "outputs": [],
   "source": [
    "df.dropna(inplace=True)"
   ]
  },
  {
   "cell_type": "code",
   "execution_count": null,
   "id": "3e2525cf",
   "metadata": {},
   "outputs": [],
   "source": []
  },
  {
   "cell_type": "code",
   "execution_count": 4,
   "id": "750192e6",
   "metadata": {},
   "outputs": [
    {
     "data": {
      "text/plain": [
       "(714, 5)"
      ]
     },
     "execution_count": 4,
     "metadata": {},
     "output_type": "execute_result"
    }
   ],
   "source": [
    "df.shape"
   ]
  },
  {
   "cell_type": "code",
   "execution_count": 5,
   "id": "ba680fe1",
   "metadata": {},
   "outputs": [
    {
     "data": {
      "application/vnd.microsoft.datawrangler.viewer.v0+json": {
       "columns": [
        {
         "name": "index",
         "rawType": "int64",
         "type": "integer"
        },
        {
         "name": "Survived",
         "rawType": "int64",
         "type": "integer"
        },
        {
         "name": "Pclass",
         "rawType": "int64",
         "type": "integer"
        },
        {
         "name": "Age",
         "rawType": "float64",
         "type": "float"
        },
        {
         "name": "SibSp",
         "rawType": "int64",
         "type": "integer"
        },
        {
         "name": "Parch",
         "rawType": "int64",
         "type": "integer"
        }
       ],
       "ref": "bcfe4173-0c75-4975-9638-49b34500d089",
       "rows": [
        [
         "0",
         "0",
         "3",
         "22.0",
         "1",
         "0"
        ],
        [
         "1",
         "1",
         "1",
         "38.0",
         "1",
         "0"
        ],
        [
         "2",
         "1",
         "3",
         "26.0",
         "0",
         "0"
        ],
        [
         "3",
         "1",
         "1",
         "35.0",
         "1",
         "0"
        ],
        [
         "4",
         "0",
         "3",
         "35.0",
         "0",
         "0"
        ],
        [
         "6",
         "0",
         "1",
         "54.0",
         "0",
         "0"
        ],
        [
         "7",
         "0",
         "3",
         "2.0",
         "3",
         "1"
        ],
        [
         "8",
         "1",
         "3",
         "27.0",
         "0",
         "2"
        ],
        [
         "9",
         "1",
         "2",
         "14.0",
         "1",
         "0"
        ],
        [
         "10",
         "1",
         "3",
         "4.0",
         "1",
         "1"
        ],
        [
         "11",
         "1",
         "1",
         "58.0",
         "0",
         "0"
        ],
        [
         "12",
         "0",
         "3",
         "20.0",
         "0",
         "0"
        ],
        [
         "13",
         "0",
         "3",
         "39.0",
         "1",
         "5"
        ],
        [
         "14",
         "0",
         "3",
         "14.0",
         "0",
         "0"
        ],
        [
         "15",
         "1",
         "2",
         "55.0",
         "0",
         "0"
        ],
        [
         "16",
         "0",
         "3",
         "2.0",
         "4",
         "1"
        ],
        [
         "18",
         "0",
         "3",
         "31.0",
         "1",
         "0"
        ],
        [
         "20",
         "0",
         "2",
         "35.0",
         "0",
         "0"
        ],
        [
         "21",
         "1",
         "2",
         "34.0",
         "0",
         "0"
        ],
        [
         "22",
         "1",
         "3",
         "15.0",
         "0",
         "0"
        ],
        [
         "23",
         "1",
         "1",
         "28.0",
         "0",
         "0"
        ],
        [
         "24",
         "0",
         "3",
         "8.0",
         "3",
         "1"
        ],
        [
         "25",
         "1",
         "3",
         "38.0",
         "1",
         "5"
        ],
        [
         "27",
         "0",
         "1",
         "19.0",
         "3",
         "2"
        ],
        [
         "30",
         "0",
         "1",
         "40.0",
         "0",
         "0"
        ],
        [
         "33",
         "0",
         "2",
         "66.0",
         "0",
         "0"
        ],
        [
         "34",
         "0",
         "1",
         "28.0",
         "1",
         "0"
        ],
        [
         "35",
         "0",
         "1",
         "42.0",
         "1",
         "0"
        ],
        [
         "37",
         "0",
         "3",
         "21.0",
         "0",
         "0"
        ],
        [
         "38",
         "0",
         "3",
         "18.0",
         "2",
         "0"
        ],
        [
         "39",
         "1",
         "3",
         "14.0",
         "1",
         "0"
        ],
        [
         "40",
         "0",
         "3",
         "40.0",
         "1",
         "0"
        ],
        [
         "41",
         "0",
         "2",
         "27.0",
         "1",
         "0"
        ],
        [
         "43",
         "1",
         "2",
         "3.0",
         "1",
         "2"
        ],
        [
         "44",
         "1",
         "3",
         "19.0",
         "0",
         "0"
        ],
        [
         "49",
         "0",
         "3",
         "18.0",
         "1",
         "0"
        ],
        [
         "50",
         "0",
         "3",
         "7.0",
         "4",
         "1"
        ],
        [
         "51",
         "0",
         "3",
         "21.0",
         "0",
         "0"
        ],
        [
         "52",
         "1",
         "1",
         "49.0",
         "1",
         "0"
        ],
        [
         "53",
         "1",
         "2",
         "29.0",
         "1",
         "0"
        ],
        [
         "54",
         "0",
         "1",
         "65.0",
         "0",
         "1"
        ],
        [
         "56",
         "1",
         "2",
         "21.0",
         "0",
         "0"
        ],
        [
         "57",
         "0",
         "3",
         "28.5",
         "0",
         "0"
        ],
        [
         "58",
         "1",
         "2",
         "5.0",
         "1",
         "2"
        ],
        [
         "59",
         "0",
         "3",
         "11.0",
         "5",
         "2"
        ],
        [
         "60",
         "0",
         "3",
         "22.0",
         "0",
         "0"
        ],
        [
         "61",
         "1",
         "1",
         "38.0",
         "0",
         "0"
        ],
        [
         "62",
         "0",
         "1",
         "45.0",
         "1",
         "0"
        ],
        [
         "63",
         "0",
         "3",
         "4.0",
         "3",
         "2"
        ],
        [
         "66",
         "1",
         "2",
         "29.0",
         "0",
         "0"
        ]
       ],
       "shape": {
        "columns": 5,
        "rows": 714
       }
      },
      "text/html": [
       "<div>\n",
       "<style scoped>\n",
       "    .dataframe tbody tr th:only-of-type {\n",
       "        vertical-align: middle;\n",
       "    }\n",
       "\n",
       "    .dataframe tbody tr th {\n",
       "        vertical-align: top;\n",
       "    }\n",
       "\n",
       "    .dataframe thead th {\n",
       "        text-align: right;\n",
       "    }\n",
       "</style>\n",
       "<table border=\"1\" class=\"dataframe\">\n",
       "  <thead>\n",
       "    <tr style=\"text-align: right;\">\n",
       "      <th></th>\n",
       "      <th>Survived</th>\n",
       "      <th>Pclass</th>\n",
       "      <th>Age</th>\n",
       "      <th>SibSp</th>\n",
       "      <th>Parch</th>\n",
       "    </tr>\n",
       "  </thead>\n",
       "  <tbody>\n",
       "    <tr>\n",
       "      <th>0</th>\n",
       "      <td>0</td>\n",
       "      <td>3</td>\n",
       "      <td>22.0</td>\n",
       "      <td>1</td>\n",
       "      <td>0</td>\n",
       "    </tr>\n",
       "    <tr>\n",
       "      <th>1</th>\n",
       "      <td>1</td>\n",
       "      <td>1</td>\n",
       "      <td>38.0</td>\n",
       "      <td>1</td>\n",
       "      <td>0</td>\n",
       "    </tr>\n",
       "    <tr>\n",
       "      <th>2</th>\n",
       "      <td>1</td>\n",
       "      <td>3</td>\n",
       "      <td>26.0</td>\n",
       "      <td>0</td>\n",
       "      <td>0</td>\n",
       "    </tr>\n",
       "    <tr>\n",
       "      <th>3</th>\n",
       "      <td>1</td>\n",
       "      <td>1</td>\n",
       "      <td>35.0</td>\n",
       "      <td>1</td>\n",
       "      <td>0</td>\n",
       "    </tr>\n",
       "    <tr>\n",
       "      <th>4</th>\n",
       "      <td>0</td>\n",
       "      <td>3</td>\n",
       "      <td>35.0</td>\n",
       "      <td>0</td>\n",
       "      <td>0</td>\n",
       "    </tr>\n",
       "    <tr>\n",
       "      <th>...</th>\n",
       "      <td>...</td>\n",
       "      <td>...</td>\n",
       "      <td>...</td>\n",
       "      <td>...</td>\n",
       "      <td>...</td>\n",
       "    </tr>\n",
       "    <tr>\n",
       "      <th>885</th>\n",
       "      <td>0</td>\n",
       "      <td>3</td>\n",
       "      <td>39.0</td>\n",
       "      <td>0</td>\n",
       "      <td>5</td>\n",
       "    </tr>\n",
       "    <tr>\n",
       "      <th>886</th>\n",
       "      <td>0</td>\n",
       "      <td>2</td>\n",
       "      <td>27.0</td>\n",
       "      <td>0</td>\n",
       "      <td>0</td>\n",
       "    </tr>\n",
       "    <tr>\n",
       "      <th>887</th>\n",
       "      <td>1</td>\n",
       "      <td>1</td>\n",
       "      <td>19.0</td>\n",
       "      <td>0</td>\n",
       "      <td>0</td>\n",
       "    </tr>\n",
       "    <tr>\n",
       "      <th>889</th>\n",
       "      <td>1</td>\n",
       "      <td>1</td>\n",
       "      <td>26.0</td>\n",
       "      <td>0</td>\n",
       "      <td>0</td>\n",
       "    </tr>\n",
       "    <tr>\n",
       "      <th>890</th>\n",
       "      <td>0</td>\n",
       "      <td>3</td>\n",
       "      <td>32.0</td>\n",
       "      <td>0</td>\n",
       "      <td>0</td>\n",
       "    </tr>\n",
       "  </tbody>\n",
       "</table>\n",
       "<p>714 rows × 5 columns</p>\n",
       "</div>"
      ],
      "text/plain": [
       "     Survived  Pclass   Age  SibSp  Parch\n",
       "0           0       3  22.0      1      0\n",
       "1           1       1  38.0      1      0\n",
       "2           1       3  26.0      0      0\n",
       "3           1       1  35.0      1      0\n",
       "4           0       3  35.0      0      0\n",
       "..        ...     ...   ...    ...    ...\n",
       "885         0       3  39.0      0      5\n",
       "886         0       2  27.0      0      0\n",
       "887         1       1  19.0      0      0\n",
       "889         1       1  26.0      0      0\n",
       "890         0       3  32.0      0      0\n",
       "\n",
       "[714 rows x 5 columns]"
      ]
     },
     "execution_count": 5,
     "metadata": {},
     "output_type": "execute_result"
    }
   ],
   "source": [
    "df"
   ]
  },
  {
   "cell_type": "code",
   "execution_count": 6,
   "id": "c66b804a",
   "metadata": {},
   "outputs": [
    {
     "data": {
      "application/vnd.microsoft.datawrangler.viewer.v0+json": {
       "columns": [
        {
         "name": "index",
         "rawType": "int64",
         "type": "integer"
        },
        {
         "name": "Survived",
         "rawType": "int64",
         "type": "integer"
        },
        {
         "name": "Pclass",
         "rawType": "int64",
         "type": "integer"
        },
        {
         "name": "Age",
         "rawType": "float64",
         "type": "float"
        },
        {
         "name": "SibSp",
         "rawType": "int64",
         "type": "integer"
        },
        {
         "name": "Parch",
         "rawType": "int64",
         "type": "integer"
        }
       ],
       "ref": "242b13a0-5dd9-4d91-8eb7-703157ceab10",
       "rows": [
        [
         "0",
         "0",
         "3",
         "22.0",
         "1",
         "0"
        ],
        [
         "1",
         "1",
         "1",
         "38.0",
         "1",
         "0"
        ],
        [
         "2",
         "1",
         "3",
         "26.0",
         "0",
         "0"
        ],
        [
         "3",
         "1",
         "1",
         "35.0",
         "1",
         "0"
        ],
        [
         "4",
         "0",
         "3",
         "35.0",
         "0",
         "0"
        ],
        [
         "6",
         "0",
         "1",
         "54.0",
         "0",
         "0"
        ],
        [
         "7",
         "0",
         "3",
         "2.0",
         "3",
         "1"
        ],
        [
         "8",
         "1",
         "3",
         "27.0",
         "0",
         "2"
        ],
        [
         "9",
         "1",
         "2",
         "14.0",
         "1",
         "0"
        ],
        [
         "10",
         "1",
         "3",
         "4.0",
         "1",
         "1"
        ],
        [
         "11",
         "1",
         "1",
         "58.0",
         "0",
         "0"
        ],
        [
         "12",
         "0",
         "3",
         "20.0",
         "0",
         "0"
        ],
        [
         "13",
         "0",
         "3",
         "39.0",
         "1",
         "5"
        ],
        [
         "14",
         "0",
         "3",
         "14.0",
         "0",
         "0"
        ],
        [
         "15",
         "1",
         "2",
         "55.0",
         "0",
         "0"
        ],
        [
         "16",
         "0",
         "3",
         "2.0",
         "4",
         "1"
        ],
        [
         "18",
         "0",
         "3",
         "31.0",
         "1",
         "0"
        ],
        [
         "20",
         "0",
         "2",
         "35.0",
         "0",
         "0"
        ],
        [
         "21",
         "1",
         "2",
         "34.0",
         "0",
         "0"
        ],
        [
         "22",
         "1",
         "3",
         "15.0",
         "0",
         "0"
        ],
        [
         "23",
         "1",
         "1",
         "28.0",
         "0",
         "0"
        ],
        [
         "24",
         "0",
         "3",
         "8.0",
         "3",
         "1"
        ],
        [
         "25",
         "1",
         "3",
         "38.0",
         "1",
         "5"
        ],
        [
         "27",
         "0",
         "1",
         "19.0",
         "3",
         "2"
        ],
        [
         "30",
         "0",
         "1",
         "40.0",
         "0",
         "0"
        ],
        [
         "33",
         "0",
         "2",
         "66.0",
         "0",
         "0"
        ],
        [
         "34",
         "0",
         "1",
         "28.0",
         "1",
         "0"
        ],
        [
         "35",
         "0",
         "1",
         "42.0",
         "1",
         "0"
        ],
        [
         "37",
         "0",
         "3",
         "21.0",
         "0",
         "0"
        ],
        [
         "38",
         "0",
         "3",
         "18.0",
         "2",
         "0"
        ],
        [
         "39",
         "1",
         "3",
         "14.0",
         "1",
         "0"
        ],
        [
         "40",
         "0",
         "3",
         "40.0",
         "1",
         "0"
        ],
        [
         "41",
         "0",
         "2",
         "27.0",
         "1",
         "0"
        ],
        [
         "43",
         "1",
         "2",
         "3.0",
         "1",
         "2"
        ],
        [
         "44",
         "1",
         "3",
         "19.0",
         "0",
         "0"
        ],
        [
         "49",
         "0",
         "3",
         "18.0",
         "1",
         "0"
        ],
        [
         "50",
         "0",
         "3",
         "7.0",
         "4",
         "1"
        ],
        [
         "51",
         "0",
         "3",
         "21.0",
         "0",
         "0"
        ],
        [
         "52",
         "1",
         "1",
         "49.0",
         "1",
         "0"
        ],
        [
         "53",
         "1",
         "2",
         "29.0",
         "1",
         "0"
        ],
        [
         "54",
         "0",
         "1",
         "65.0",
         "0",
         "1"
        ],
        [
         "56",
         "1",
         "2",
         "21.0",
         "0",
         "0"
        ],
        [
         "57",
         "0",
         "3",
         "28.5",
         "0",
         "0"
        ],
        [
         "58",
         "1",
         "2",
         "5.0",
         "1",
         "2"
        ],
        [
         "59",
         "0",
         "3",
         "11.0",
         "5",
         "2"
        ],
        [
         "60",
         "0",
         "3",
         "22.0",
         "0",
         "0"
        ],
        [
         "61",
         "1",
         "1",
         "38.0",
         "0",
         "0"
        ],
        [
         "62",
         "0",
         "1",
         "45.0",
         "1",
         "0"
        ],
        [
         "63",
         "0",
         "3",
         "4.0",
         "3",
         "2"
        ],
        [
         "66",
         "1",
         "2",
         "29.0",
         "0",
         "0"
        ]
       ],
       "shape": {
        "columns": 5,
        "rows": 714
       }
      },
      "text/html": [
       "<div>\n",
       "<style scoped>\n",
       "    .dataframe tbody tr th:only-of-type {\n",
       "        vertical-align: middle;\n",
       "    }\n",
       "\n",
       "    .dataframe tbody tr th {\n",
       "        vertical-align: top;\n",
       "    }\n",
       "\n",
       "    .dataframe thead th {\n",
       "        text-align: right;\n",
       "    }\n",
       "</style>\n",
       "<table border=\"1\" class=\"dataframe\">\n",
       "  <thead>\n",
       "    <tr style=\"text-align: right;\">\n",
       "      <th></th>\n",
       "      <th>Survived</th>\n",
       "      <th>Pclass</th>\n",
       "      <th>Age</th>\n",
       "      <th>SibSp</th>\n",
       "      <th>Parch</th>\n",
       "    </tr>\n",
       "  </thead>\n",
       "  <tbody>\n",
       "    <tr>\n",
       "      <th>0</th>\n",
       "      <td>0</td>\n",
       "      <td>3</td>\n",
       "      <td>22.0</td>\n",
       "      <td>1</td>\n",
       "      <td>0</td>\n",
       "    </tr>\n",
       "    <tr>\n",
       "      <th>1</th>\n",
       "      <td>1</td>\n",
       "      <td>1</td>\n",
       "      <td>38.0</td>\n",
       "      <td>1</td>\n",
       "      <td>0</td>\n",
       "    </tr>\n",
       "    <tr>\n",
       "      <th>2</th>\n",
       "      <td>1</td>\n",
       "      <td>3</td>\n",
       "      <td>26.0</td>\n",
       "      <td>0</td>\n",
       "      <td>0</td>\n",
       "    </tr>\n",
       "    <tr>\n",
       "      <th>3</th>\n",
       "      <td>1</td>\n",
       "      <td>1</td>\n",
       "      <td>35.0</td>\n",
       "      <td>1</td>\n",
       "      <td>0</td>\n",
       "    </tr>\n",
       "    <tr>\n",
       "      <th>4</th>\n",
       "      <td>0</td>\n",
       "      <td>3</td>\n",
       "      <td>35.0</td>\n",
       "      <td>0</td>\n",
       "      <td>0</td>\n",
       "    </tr>\n",
       "    <tr>\n",
       "      <th>...</th>\n",
       "      <td>...</td>\n",
       "      <td>...</td>\n",
       "      <td>...</td>\n",
       "      <td>...</td>\n",
       "      <td>...</td>\n",
       "    </tr>\n",
       "    <tr>\n",
       "      <th>885</th>\n",
       "      <td>0</td>\n",
       "      <td>3</td>\n",
       "      <td>39.0</td>\n",
       "      <td>0</td>\n",
       "      <td>5</td>\n",
       "    </tr>\n",
       "    <tr>\n",
       "      <th>886</th>\n",
       "      <td>0</td>\n",
       "      <td>2</td>\n",
       "      <td>27.0</td>\n",
       "      <td>0</td>\n",
       "      <td>0</td>\n",
       "    </tr>\n",
       "    <tr>\n",
       "      <th>887</th>\n",
       "      <td>1</td>\n",
       "      <td>1</td>\n",
       "      <td>19.0</td>\n",
       "      <td>0</td>\n",
       "      <td>0</td>\n",
       "    </tr>\n",
       "    <tr>\n",
       "      <th>889</th>\n",
       "      <td>1</td>\n",
       "      <td>1</td>\n",
       "      <td>26.0</td>\n",
       "      <td>0</td>\n",
       "      <td>0</td>\n",
       "    </tr>\n",
       "    <tr>\n",
       "      <th>890</th>\n",
       "      <td>0</td>\n",
       "      <td>3</td>\n",
       "      <td>32.0</td>\n",
       "      <td>0</td>\n",
       "      <td>0</td>\n",
       "    </tr>\n",
       "  </tbody>\n",
       "</table>\n",
       "<p>714 rows × 5 columns</p>\n",
       "</div>"
      ],
      "text/plain": [
       "     Survived  Pclass   Age  SibSp  Parch\n",
       "0           0       3  22.0      1      0\n",
       "1           1       1  38.0      1      0\n",
       "2           1       3  26.0      0      0\n",
       "3           1       1  35.0      1      0\n",
       "4           0       3  35.0      0      0\n",
       "..        ...     ...   ...    ...    ...\n",
       "885         0       3  39.0      0      5\n",
       "886         0       2  27.0      0      0\n",
       "887         1       1  19.0      0      0\n",
       "889         1       1  26.0      0      0\n",
       "890         0       3  32.0      0      0\n",
       "\n",
       "[714 rows x 5 columns]"
      ]
     },
     "execution_count": 6,
     "metadata": {},
     "output_type": "execute_result"
    }
   ],
   "source": [
    "df"
   ]
  },
  {
   "cell_type": "code",
   "execution_count": 7,
   "id": "d04e5e5a",
   "metadata": {},
   "outputs": [],
   "source": [
    "x=df.iloc[:,1:5]\n",
    "y=df.iloc[:,0]"
   ]
  },
  {
   "cell_type": "code",
   "execution_count": 8,
   "id": "7a7b4e39",
   "metadata": {},
   "outputs": [
    {
     "data": {
      "application/vnd.microsoft.datawrangler.viewer.v0+json": {
       "columns": [
        {
         "name": "index",
         "rawType": "int64",
         "type": "integer"
        },
        {
         "name": "Pclass",
         "rawType": "int64",
         "type": "integer"
        },
        {
         "name": "Age",
         "rawType": "float64",
         "type": "float"
        },
        {
         "name": "SibSp",
         "rawType": "int64",
         "type": "integer"
        },
        {
         "name": "Parch",
         "rawType": "int64",
         "type": "integer"
        }
       ],
       "ref": "092f7576-a140-4145-bbca-383d0b8b6e15",
       "rows": [
        [
         "0",
         "3",
         "22.0",
         "1",
         "0"
        ],
        [
         "1",
         "1",
         "38.0",
         "1",
         "0"
        ],
        [
         "2",
         "3",
         "26.0",
         "0",
         "0"
        ],
        [
         "3",
         "1",
         "35.0",
         "1",
         "0"
        ],
        [
         "4",
         "3",
         "35.0",
         "0",
         "0"
        ],
        [
         "6",
         "1",
         "54.0",
         "0",
         "0"
        ],
        [
         "7",
         "3",
         "2.0",
         "3",
         "1"
        ],
        [
         "8",
         "3",
         "27.0",
         "0",
         "2"
        ],
        [
         "9",
         "2",
         "14.0",
         "1",
         "0"
        ],
        [
         "10",
         "3",
         "4.0",
         "1",
         "1"
        ],
        [
         "11",
         "1",
         "58.0",
         "0",
         "0"
        ],
        [
         "12",
         "3",
         "20.0",
         "0",
         "0"
        ],
        [
         "13",
         "3",
         "39.0",
         "1",
         "5"
        ],
        [
         "14",
         "3",
         "14.0",
         "0",
         "0"
        ],
        [
         "15",
         "2",
         "55.0",
         "0",
         "0"
        ],
        [
         "16",
         "3",
         "2.0",
         "4",
         "1"
        ],
        [
         "18",
         "3",
         "31.0",
         "1",
         "0"
        ],
        [
         "20",
         "2",
         "35.0",
         "0",
         "0"
        ],
        [
         "21",
         "2",
         "34.0",
         "0",
         "0"
        ],
        [
         "22",
         "3",
         "15.0",
         "0",
         "0"
        ],
        [
         "23",
         "1",
         "28.0",
         "0",
         "0"
        ],
        [
         "24",
         "3",
         "8.0",
         "3",
         "1"
        ],
        [
         "25",
         "3",
         "38.0",
         "1",
         "5"
        ],
        [
         "27",
         "1",
         "19.0",
         "3",
         "2"
        ],
        [
         "30",
         "1",
         "40.0",
         "0",
         "0"
        ],
        [
         "33",
         "2",
         "66.0",
         "0",
         "0"
        ],
        [
         "34",
         "1",
         "28.0",
         "1",
         "0"
        ],
        [
         "35",
         "1",
         "42.0",
         "1",
         "0"
        ],
        [
         "37",
         "3",
         "21.0",
         "0",
         "0"
        ],
        [
         "38",
         "3",
         "18.0",
         "2",
         "0"
        ],
        [
         "39",
         "3",
         "14.0",
         "1",
         "0"
        ],
        [
         "40",
         "3",
         "40.0",
         "1",
         "0"
        ],
        [
         "41",
         "2",
         "27.0",
         "1",
         "0"
        ],
        [
         "43",
         "2",
         "3.0",
         "1",
         "2"
        ],
        [
         "44",
         "3",
         "19.0",
         "0",
         "0"
        ],
        [
         "49",
         "3",
         "18.0",
         "1",
         "0"
        ],
        [
         "50",
         "3",
         "7.0",
         "4",
         "1"
        ],
        [
         "51",
         "3",
         "21.0",
         "0",
         "0"
        ],
        [
         "52",
         "1",
         "49.0",
         "1",
         "0"
        ],
        [
         "53",
         "2",
         "29.0",
         "1",
         "0"
        ],
        [
         "54",
         "1",
         "65.0",
         "0",
         "1"
        ],
        [
         "56",
         "2",
         "21.0",
         "0",
         "0"
        ],
        [
         "57",
         "3",
         "28.5",
         "0",
         "0"
        ],
        [
         "58",
         "2",
         "5.0",
         "1",
         "2"
        ],
        [
         "59",
         "3",
         "11.0",
         "5",
         "2"
        ],
        [
         "60",
         "3",
         "22.0",
         "0",
         "0"
        ],
        [
         "61",
         "1",
         "38.0",
         "0",
         "0"
        ],
        [
         "62",
         "1",
         "45.0",
         "1",
         "0"
        ],
        [
         "63",
         "3",
         "4.0",
         "3",
         "2"
        ],
        [
         "66",
         "2",
         "29.0",
         "0",
         "0"
        ]
       ],
       "shape": {
        "columns": 4,
        "rows": 714
       }
      },
      "text/html": [
       "<div>\n",
       "<style scoped>\n",
       "    .dataframe tbody tr th:only-of-type {\n",
       "        vertical-align: middle;\n",
       "    }\n",
       "\n",
       "    .dataframe tbody tr th {\n",
       "        vertical-align: top;\n",
       "    }\n",
       "\n",
       "    .dataframe thead th {\n",
       "        text-align: right;\n",
       "    }\n",
       "</style>\n",
       "<table border=\"1\" class=\"dataframe\">\n",
       "  <thead>\n",
       "    <tr style=\"text-align: right;\">\n",
       "      <th></th>\n",
       "      <th>Pclass</th>\n",
       "      <th>Age</th>\n",
       "      <th>SibSp</th>\n",
       "      <th>Parch</th>\n",
       "    </tr>\n",
       "  </thead>\n",
       "  <tbody>\n",
       "    <tr>\n",
       "      <th>0</th>\n",
       "      <td>3</td>\n",
       "      <td>22.0</td>\n",
       "      <td>1</td>\n",
       "      <td>0</td>\n",
       "    </tr>\n",
       "    <tr>\n",
       "      <th>1</th>\n",
       "      <td>1</td>\n",
       "      <td>38.0</td>\n",
       "      <td>1</td>\n",
       "      <td>0</td>\n",
       "    </tr>\n",
       "    <tr>\n",
       "      <th>2</th>\n",
       "      <td>3</td>\n",
       "      <td>26.0</td>\n",
       "      <td>0</td>\n",
       "      <td>0</td>\n",
       "    </tr>\n",
       "    <tr>\n",
       "      <th>3</th>\n",
       "      <td>1</td>\n",
       "      <td>35.0</td>\n",
       "      <td>1</td>\n",
       "      <td>0</td>\n",
       "    </tr>\n",
       "    <tr>\n",
       "      <th>4</th>\n",
       "      <td>3</td>\n",
       "      <td>35.0</td>\n",
       "      <td>0</td>\n",
       "      <td>0</td>\n",
       "    </tr>\n",
       "    <tr>\n",
       "      <th>...</th>\n",
       "      <td>...</td>\n",
       "      <td>...</td>\n",
       "      <td>...</td>\n",
       "      <td>...</td>\n",
       "    </tr>\n",
       "    <tr>\n",
       "      <th>885</th>\n",
       "      <td>3</td>\n",
       "      <td>39.0</td>\n",
       "      <td>0</td>\n",
       "      <td>5</td>\n",
       "    </tr>\n",
       "    <tr>\n",
       "      <th>886</th>\n",
       "      <td>2</td>\n",
       "      <td>27.0</td>\n",
       "      <td>0</td>\n",
       "      <td>0</td>\n",
       "    </tr>\n",
       "    <tr>\n",
       "      <th>887</th>\n",
       "      <td>1</td>\n",
       "      <td>19.0</td>\n",
       "      <td>0</td>\n",
       "      <td>0</td>\n",
       "    </tr>\n",
       "    <tr>\n",
       "      <th>889</th>\n",
       "      <td>1</td>\n",
       "      <td>26.0</td>\n",
       "      <td>0</td>\n",
       "      <td>0</td>\n",
       "    </tr>\n",
       "    <tr>\n",
       "      <th>890</th>\n",
       "      <td>3</td>\n",
       "      <td>32.0</td>\n",
       "      <td>0</td>\n",
       "      <td>0</td>\n",
       "    </tr>\n",
       "  </tbody>\n",
       "</table>\n",
       "<p>714 rows × 4 columns</p>\n",
       "</div>"
      ],
      "text/plain": [
       "     Pclass   Age  SibSp  Parch\n",
       "0         3  22.0      1      0\n",
       "1         1  38.0      1      0\n",
       "2         3  26.0      0      0\n",
       "3         1  35.0      1      0\n",
       "4         3  35.0      0      0\n",
       "..      ...   ...    ...    ...\n",
       "885       3  39.0      0      5\n",
       "886       2  27.0      0      0\n",
       "887       1  19.0      0      0\n",
       "889       1  26.0      0      0\n",
       "890       3  32.0      0      0\n",
       "\n",
       "[714 rows x 4 columns]"
      ]
     },
     "execution_count": 8,
     "metadata": {},
     "output_type": "execute_result"
    }
   ],
   "source": [
    "x"
   ]
  },
  {
   "cell_type": "code",
   "execution_count": 9,
   "id": "bad15f86",
   "metadata": {},
   "outputs": [
    {
     "data": {
      "text/plain": [
       "np.float64(0.693)"
      ]
     },
     "execution_count": 9,
     "metadata": {},
     "output_type": "execute_result"
    }
   ],
   "source": [
    "round(np.mean(cross_val_score(LogisticRegression(),x,y,scoring='accuracy',cv=20,)),3)"
   ]
  },
  {
   "cell_type": "code",
   "execution_count": null,
   "id": "1ec73027",
   "metadata": {},
   "outputs": [],
   "source": []
  },
  {
   "cell_type": "code",
   "execution_count": 10,
   "id": "f1ef50af",
   "metadata": {},
   "outputs": [
    {
     "name": "stdout",
     "output_type": "stream",
     "text": [
      "0.6878433208489388\n"
     ]
    }
   ],
   "source": [
    "\n",
    "scores = cross_val_score( LogisticRegression(), x, y, scoring='accuracy', cv=8)\n",
    "print(np.mean(scores))"
   ]
  },
  {
   "cell_type": "markdown",
   "id": "65ec59ee",
   "metadata": {},
   "source": [
    "### apply feature construction \n"
   ]
  },
  {
   "cell_type": "code",
   "execution_count": 11,
   "id": "42b43c4d",
   "metadata": {},
   "outputs": [],
   "source": [
    "x['family size']=df['SibSp']+df['Parch']+1"
   ]
  },
  {
   "cell_type": "code",
   "execution_count": 12,
   "id": "74ca818c",
   "metadata": {},
   "outputs": [
    {
     "data": {
      "application/vnd.microsoft.datawrangler.viewer.v0+json": {
       "columns": [
        {
         "name": "index",
         "rawType": "int64",
         "type": "integer"
        },
        {
         "name": "Pclass",
         "rawType": "int64",
         "type": "integer"
        },
        {
         "name": "Age",
         "rawType": "float64",
         "type": "float"
        },
        {
         "name": "SibSp",
         "rawType": "int64",
         "type": "integer"
        },
        {
         "name": "Parch",
         "rawType": "int64",
         "type": "integer"
        },
        {
         "name": "family size",
         "rawType": "int64",
         "type": "integer"
        }
       ],
       "ref": "4705aedc-a3a3-4da7-98e3-e6609b483eba",
       "rows": [
        [
         "0",
         "3",
         "22.0",
         "1",
         "0",
         "2"
        ],
        [
         "1",
         "1",
         "38.0",
         "1",
         "0",
         "2"
        ],
        [
         "2",
         "3",
         "26.0",
         "0",
         "0",
         "1"
        ],
        [
         "3",
         "1",
         "35.0",
         "1",
         "0",
         "2"
        ],
        [
         "4",
         "3",
         "35.0",
         "0",
         "0",
         "1"
        ],
        [
         "6",
         "1",
         "54.0",
         "0",
         "0",
         "1"
        ],
        [
         "7",
         "3",
         "2.0",
         "3",
         "1",
         "5"
        ],
        [
         "8",
         "3",
         "27.0",
         "0",
         "2",
         "3"
        ],
        [
         "9",
         "2",
         "14.0",
         "1",
         "0",
         "2"
        ],
        [
         "10",
         "3",
         "4.0",
         "1",
         "1",
         "3"
        ],
        [
         "11",
         "1",
         "58.0",
         "0",
         "0",
         "1"
        ],
        [
         "12",
         "3",
         "20.0",
         "0",
         "0",
         "1"
        ],
        [
         "13",
         "3",
         "39.0",
         "1",
         "5",
         "7"
        ],
        [
         "14",
         "3",
         "14.0",
         "0",
         "0",
         "1"
        ],
        [
         "15",
         "2",
         "55.0",
         "0",
         "0",
         "1"
        ],
        [
         "16",
         "3",
         "2.0",
         "4",
         "1",
         "6"
        ],
        [
         "18",
         "3",
         "31.0",
         "1",
         "0",
         "2"
        ],
        [
         "20",
         "2",
         "35.0",
         "0",
         "0",
         "1"
        ],
        [
         "21",
         "2",
         "34.0",
         "0",
         "0",
         "1"
        ],
        [
         "22",
         "3",
         "15.0",
         "0",
         "0",
         "1"
        ],
        [
         "23",
         "1",
         "28.0",
         "0",
         "0",
         "1"
        ],
        [
         "24",
         "3",
         "8.0",
         "3",
         "1",
         "5"
        ],
        [
         "25",
         "3",
         "38.0",
         "1",
         "5",
         "7"
        ],
        [
         "27",
         "1",
         "19.0",
         "3",
         "2",
         "6"
        ],
        [
         "30",
         "1",
         "40.0",
         "0",
         "0",
         "1"
        ],
        [
         "33",
         "2",
         "66.0",
         "0",
         "0",
         "1"
        ],
        [
         "34",
         "1",
         "28.0",
         "1",
         "0",
         "2"
        ],
        [
         "35",
         "1",
         "42.0",
         "1",
         "0",
         "2"
        ],
        [
         "37",
         "3",
         "21.0",
         "0",
         "0",
         "1"
        ],
        [
         "38",
         "3",
         "18.0",
         "2",
         "0",
         "3"
        ],
        [
         "39",
         "3",
         "14.0",
         "1",
         "0",
         "2"
        ],
        [
         "40",
         "3",
         "40.0",
         "1",
         "0",
         "2"
        ],
        [
         "41",
         "2",
         "27.0",
         "1",
         "0",
         "2"
        ],
        [
         "43",
         "2",
         "3.0",
         "1",
         "2",
         "4"
        ],
        [
         "44",
         "3",
         "19.0",
         "0",
         "0",
         "1"
        ],
        [
         "49",
         "3",
         "18.0",
         "1",
         "0",
         "2"
        ],
        [
         "50",
         "3",
         "7.0",
         "4",
         "1",
         "6"
        ],
        [
         "51",
         "3",
         "21.0",
         "0",
         "0",
         "1"
        ],
        [
         "52",
         "1",
         "49.0",
         "1",
         "0",
         "2"
        ],
        [
         "53",
         "2",
         "29.0",
         "1",
         "0",
         "2"
        ],
        [
         "54",
         "1",
         "65.0",
         "0",
         "1",
         "2"
        ],
        [
         "56",
         "2",
         "21.0",
         "0",
         "0",
         "1"
        ],
        [
         "57",
         "3",
         "28.5",
         "0",
         "0",
         "1"
        ],
        [
         "58",
         "2",
         "5.0",
         "1",
         "2",
         "4"
        ],
        [
         "59",
         "3",
         "11.0",
         "5",
         "2",
         "8"
        ],
        [
         "60",
         "3",
         "22.0",
         "0",
         "0",
         "1"
        ],
        [
         "61",
         "1",
         "38.0",
         "0",
         "0",
         "1"
        ],
        [
         "62",
         "1",
         "45.0",
         "1",
         "0",
         "2"
        ],
        [
         "63",
         "3",
         "4.0",
         "3",
         "2",
         "6"
        ],
        [
         "66",
         "2",
         "29.0",
         "0",
         "0",
         "1"
        ]
       ],
       "shape": {
        "columns": 5,
        "rows": 714
       }
      },
      "text/html": [
       "<div>\n",
       "<style scoped>\n",
       "    .dataframe tbody tr th:only-of-type {\n",
       "        vertical-align: middle;\n",
       "    }\n",
       "\n",
       "    .dataframe tbody tr th {\n",
       "        vertical-align: top;\n",
       "    }\n",
       "\n",
       "    .dataframe thead th {\n",
       "        text-align: right;\n",
       "    }\n",
       "</style>\n",
       "<table border=\"1\" class=\"dataframe\">\n",
       "  <thead>\n",
       "    <tr style=\"text-align: right;\">\n",
       "      <th></th>\n",
       "      <th>Pclass</th>\n",
       "      <th>Age</th>\n",
       "      <th>SibSp</th>\n",
       "      <th>Parch</th>\n",
       "      <th>family size</th>\n",
       "    </tr>\n",
       "  </thead>\n",
       "  <tbody>\n",
       "    <tr>\n",
       "      <th>0</th>\n",
       "      <td>3</td>\n",
       "      <td>22.0</td>\n",
       "      <td>1</td>\n",
       "      <td>0</td>\n",
       "      <td>2</td>\n",
       "    </tr>\n",
       "    <tr>\n",
       "      <th>1</th>\n",
       "      <td>1</td>\n",
       "      <td>38.0</td>\n",
       "      <td>1</td>\n",
       "      <td>0</td>\n",
       "      <td>2</td>\n",
       "    </tr>\n",
       "    <tr>\n",
       "      <th>2</th>\n",
       "      <td>3</td>\n",
       "      <td>26.0</td>\n",
       "      <td>0</td>\n",
       "      <td>0</td>\n",
       "      <td>1</td>\n",
       "    </tr>\n",
       "    <tr>\n",
       "      <th>3</th>\n",
       "      <td>1</td>\n",
       "      <td>35.0</td>\n",
       "      <td>1</td>\n",
       "      <td>0</td>\n",
       "      <td>2</td>\n",
       "    </tr>\n",
       "    <tr>\n",
       "      <th>4</th>\n",
       "      <td>3</td>\n",
       "      <td>35.0</td>\n",
       "      <td>0</td>\n",
       "      <td>0</td>\n",
       "      <td>1</td>\n",
       "    </tr>\n",
       "    <tr>\n",
       "      <th>...</th>\n",
       "      <td>...</td>\n",
       "      <td>...</td>\n",
       "      <td>...</td>\n",
       "      <td>...</td>\n",
       "      <td>...</td>\n",
       "    </tr>\n",
       "    <tr>\n",
       "      <th>885</th>\n",
       "      <td>3</td>\n",
       "      <td>39.0</td>\n",
       "      <td>0</td>\n",
       "      <td>5</td>\n",
       "      <td>6</td>\n",
       "    </tr>\n",
       "    <tr>\n",
       "      <th>886</th>\n",
       "      <td>2</td>\n",
       "      <td>27.0</td>\n",
       "      <td>0</td>\n",
       "      <td>0</td>\n",
       "      <td>1</td>\n",
       "    </tr>\n",
       "    <tr>\n",
       "      <th>887</th>\n",
       "      <td>1</td>\n",
       "      <td>19.0</td>\n",
       "      <td>0</td>\n",
       "      <td>0</td>\n",
       "      <td>1</td>\n",
       "    </tr>\n",
       "    <tr>\n",
       "      <th>889</th>\n",
       "      <td>1</td>\n",
       "      <td>26.0</td>\n",
       "      <td>0</td>\n",
       "      <td>0</td>\n",
       "      <td>1</td>\n",
       "    </tr>\n",
       "    <tr>\n",
       "      <th>890</th>\n",
       "      <td>3</td>\n",
       "      <td>32.0</td>\n",
       "      <td>0</td>\n",
       "      <td>0</td>\n",
       "      <td>1</td>\n",
       "    </tr>\n",
       "  </tbody>\n",
       "</table>\n",
       "<p>714 rows × 5 columns</p>\n",
       "</div>"
      ],
      "text/plain": [
       "     Pclass   Age  SibSp  Parch  family size\n",
       "0         3  22.0      1      0            2\n",
       "1         1  38.0      1      0            2\n",
       "2         3  26.0      0      0            1\n",
       "3         1  35.0      1      0            2\n",
       "4         3  35.0      0      0            1\n",
       "..      ...   ...    ...    ...          ...\n",
       "885       3  39.0      0      5            6\n",
       "886       2  27.0      0      0            1\n",
       "887       1  19.0      0      0            1\n",
       "889       1  26.0      0      0            1\n",
       "890       3  32.0      0      0            1\n",
       "\n",
       "[714 rows x 5 columns]"
      ]
     },
     "execution_count": 12,
     "metadata": {},
     "output_type": "execute_result"
    }
   ],
   "source": [
    "x"
   ]
  },
  {
   "cell_type": "code",
   "execution_count": 13,
   "id": "44b33791",
   "metadata": {},
   "outputs": [],
   "source": [
    "def num(f):\n",
    "\n",
    "\n",
    "    if f==1:\n",
    "        return 0\n",
    "    \n",
    "    elif f>1 and f<=4:\n",
    "        return 1\n",
    "    \n",
    "    else:\n",
    "        return 2\n"
   ]
  },
  {
   "cell_type": "code",
   "execution_count": 14,
   "id": "5195bf8e",
   "metadata": {},
   "outputs": [],
   "source": [
    "x['family type']= x['family size'].apply(num)"
   ]
  },
  {
   "cell_type": "code",
   "execution_count": 15,
   "id": "7276b4c1",
   "metadata": {},
   "outputs": [
    {
     "data": {
      "application/vnd.microsoft.datawrangler.viewer.v0+json": {
       "columns": [
        {
         "name": "index",
         "rawType": "int64",
         "type": "integer"
        },
        {
         "name": "Pclass",
         "rawType": "int64",
         "type": "integer"
        },
        {
         "name": "Age",
         "rawType": "float64",
         "type": "float"
        },
        {
         "name": "SibSp",
         "rawType": "int64",
         "type": "integer"
        },
        {
         "name": "Parch",
         "rawType": "int64",
         "type": "integer"
        },
        {
         "name": "family size",
         "rawType": "int64",
         "type": "integer"
        },
        {
         "name": "family type",
         "rawType": "int64",
         "type": "integer"
        }
       ],
       "ref": "034c079e-c216-449d-9079-52ecf2305f82",
       "rows": [
        [
         "730",
         "1",
         "29.0",
         "0",
         "0",
         "1",
         "0"
        ],
        [
         "762",
         "3",
         "20.0",
         "0",
         "0",
         "1",
         "0"
        ],
        [
         "289",
         "3",
         "22.0",
         "0",
         "0",
         "1",
         "0"
        ],
        [
         "714",
         "2",
         "52.0",
         "0",
         "0",
         "1",
         "0"
        ],
        [
         "621",
         "1",
         "42.0",
         "1",
         "0",
         "2",
         "1"
        ],
        [
         "419",
         "3",
         "10.0",
         "0",
         "2",
         "3",
         "1"
        ]
       ],
       "shape": {
        "columns": 6,
        "rows": 6
       }
      },
      "text/html": [
       "<div>\n",
       "<style scoped>\n",
       "    .dataframe tbody tr th:only-of-type {\n",
       "        vertical-align: middle;\n",
       "    }\n",
       "\n",
       "    .dataframe tbody tr th {\n",
       "        vertical-align: top;\n",
       "    }\n",
       "\n",
       "    .dataframe thead th {\n",
       "        text-align: right;\n",
       "    }\n",
       "</style>\n",
       "<table border=\"1\" class=\"dataframe\">\n",
       "  <thead>\n",
       "    <tr style=\"text-align: right;\">\n",
       "      <th></th>\n",
       "      <th>Pclass</th>\n",
       "      <th>Age</th>\n",
       "      <th>SibSp</th>\n",
       "      <th>Parch</th>\n",
       "      <th>family size</th>\n",
       "      <th>family type</th>\n",
       "    </tr>\n",
       "  </thead>\n",
       "  <tbody>\n",
       "    <tr>\n",
       "      <th>730</th>\n",
       "      <td>1</td>\n",
       "      <td>29.0</td>\n",
       "      <td>0</td>\n",
       "      <td>0</td>\n",
       "      <td>1</td>\n",
       "      <td>0</td>\n",
       "    </tr>\n",
       "    <tr>\n",
       "      <th>762</th>\n",
       "      <td>3</td>\n",
       "      <td>20.0</td>\n",
       "      <td>0</td>\n",
       "      <td>0</td>\n",
       "      <td>1</td>\n",
       "      <td>0</td>\n",
       "    </tr>\n",
       "    <tr>\n",
       "      <th>289</th>\n",
       "      <td>3</td>\n",
       "      <td>22.0</td>\n",
       "      <td>0</td>\n",
       "      <td>0</td>\n",
       "      <td>1</td>\n",
       "      <td>0</td>\n",
       "    </tr>\n",
       "    <tr>\n",
       "      <th>714</th>\n",
       "      <td>2</td>\n",
       "      <td>52.0</td>\n",
       "      <td>0</td>\n",
       "      <td>0</td>\n",
       "      <td>1</td>\n",
       "      <td>0</td>\n",
       "    </tr>\n",
       "    <tr>\n",
       "      <th>621</th>\n",
       "      <td>1</td>\n",
       "      <td>42.0</td>\n",
       "      <td>1</td>\n",
       "      <td>0</td>\n",
       "      <td>2</td>\n",
       "      <td>1</td>\n",
       "    </tr>\n",
       "    <tr>\n",
       "      <th>419</th>\n",
       "      <td>3</td>\n",
       "      <td>10.0</td>\n",
       "      <td>0</td>\n",
       "      <td>2</td>\n",
       "      <td>3</td>\n",
       "      <td>1</td>\n",
       "    </tr>\n",
       "  </tbody>\n",
       "</table>\n",
       "</div>"
      ],
      "text/plain": [
       "     Pclass   Age  SibSp  Parch  family size  family type\n",
       "730       1  29.0      0      0            1            0\n",
       "762       3  20.0      0      0            1            0\n",
       "289       3  22.0      0      0            1            0\n",
       "714       2  52.0      0      0            1            0\n",
       "621       1  42.0      1      0            2            1\n",
       "419       3  10.0      0      2            3            1"
      ]
     },
     "execution_count": 15,
     "metadata": {},
     "output_type": "execute_result"
    }
   ],
   "source": [
    "x.sample(6)"
   ]
  },
  {
   "cell_type": "code",
   "execution_count": 16,
   "id": "396ce9d7",
   "metadata": {},
   "outputs": [],
   "source": [
    "x.drop(columns=[\n",
    "'SibSp'\n",
    ",\n",
    "'Parch'\n",
    ",\n",
    "'family size'],inplace=True)"
   ]
  },
  {
   "cell_type": "code",
   "execution_count": 17,
   "id": "f8d1ec24",
   "metadata": {},
   "outputs": [
    {
     "data": {
      "application/vnd.microsoft.datawrangler.viewer.v0+json": {
       "columns": [
        {
         "name": "index",
         "rawType": "int64",
         "type": "integer"
        },
        {
         "name": "Pclass",
         "rawType": "int64",
         "type": "integer"
        },
        {
         "name": "Age",
         "rawType": "float64",
         "type": "float"
        },
        {
         "name": "family type",
         "rawType": "int64",
         "type": "integer"
        }
       ],
       "ref": "e2f30800-571c-4d33-b29b-49b38eead3c0",
       "rows": [
        [
         "221",
         "2",
         "27.0",
         "0"
        ],
        [
         "638",
         "3",
         "41.0",
         "2"
        ],
        [
         "807",
         "3",
         "18.0",
         "0"
        ],
        [
         "383",
         "1",
         "35.0",
         "1"
        ],
        [
         "212",
         "3",
         "22.0",
         "0"
        ]
       ],
       "shape": {
        "columns": 3,
        "rows": 5
       }
      },
      "text/html": [
       "<div>\n",
       "<style scoped>\n",
       "    .dataframe tbody tr th:only-of-type {\n",
       "        vertical-align: middle;\n",
       "    }\n",
       "\n",
       "    .dataframe tbody tr th {\n",
       "        vertical-align: top;\n",
       "    }\n",
       "\n",
       "    .dataframe thead th {\n",
       "        text-align: right;\n",
       "    }\n",
       "</style>\n",
       "<table border=\"1\" class=\"dataframe\">\n",
       "  <thead>\n",
       "    <tr style=\"text-align: right;\">\n",
       "      <th></th>\n",
       "      <th>Pclass</th>\n",
       "      <th>Age</th>\n",
       "      <th>family type</th>\n",
       "    </tr>\n",
       "  </thead>\n",
       "  <tbody>\n",
       "    <tr>\n",
       "      <th>221</th>\n",
       "      <td>2</td>\n",
       "      <td>27.0</td>\n",
       "      <td>0</td>\n",
       "    </tr>\n",
       "    <tr>\n",
       "      <th>638</th>\n",
       "      <td>3</td>\n",
       "      <td>41.0</td>\n",
       "      <td>2</td>\n",
       "    </tr>\n",
       "    <tr>\n",
       "      <th>807</th>\n",
       "      <td>3</td>\n",
       "      <td>18.0</td>\n",
       "      <td>0</td>\n",
       "    </tr>\n",
       "    <tr>\n",
       "      <th>383</th>\n",
       "      <td>1</td>\n",
       "      <td>35.0</td>\n",
       "      <td>1</td>\n",
       "    </tr>\n",
       "    <tr>\n",
       "      <th>212</th>\n",
       "      <td>3</td>\n",
       "      <td>22.0</td>\n",
       "      <td>0</td>\n",
       "    </tr>\n",
       "  </tbody>\n",
       "</table>\n",
       "</div>"
      ],
      "text/plain": [
       "     Pclass   Age  family type\n",
       "221       2  27.0            0\n",
       "638       3  41.0            2\n",
       "807       3  18.0            0\n",
       "383       1  35.0            1\n",
       "212       3  22.0            0"
      ]
     },
     "execution_count": 17,
     "metadata": {},
     "output_type": "execute_result"
    }
   ],
   "source": [
    "x.sample(5)"
   ]
  },
  {
   "cell_type": "code",
   "execution_count": 18,
   "id": "fdc27bcf",
   "metadata": {},
   "outputs": [
    {
     "data": {
      "text/plain": [
       "np.float64(0.7003174603174602)"
      ]
     },
     "execution_count": 18,
     "metadata": {},
     "output_type": "execute_result"
    }
   ],
   "source": [
    "np.mean(cross_val_score(LogisticRegression(),x,y,cv=20))"
   ]
  },
  {
   "cell_type": "markdown",
   "id": "bb185fef",
   "metadata": {},
   "source": [
    "## feature splitting"
   ]
  },
  {
   "cell_type": "code",
   "execution_count": 19,
   "id": "23b76a9f",
   "metadata": {},
   "outputs": [],
   "source": [
    "titanic =pd.read_csv('train.csv')"
   ]
  },
  {
   "cell_type": "code",
   "execution_count": 20,
   "id": "5e104925",
   "metadata": {},
   "outputs": [
    {
     "data": {
      "application/vnd.microsoft.datawrangler.viewer.v0+json": {
       "columns": [
        {
         "name": "index",
         "rawType": "int64",
         "type": "integer"
        },
        {
         "name": "1",
         "rawType": "object",
         "type": "string"
        }
       ],
       "ref": "18f0f78e-7d3d-401d-a82e-c1d5e43dbf9f",
       "rows": [
        [
         "0",
         " Mr. Owen Harris"
        ],
        [
         "1",
         " Mrs. John Bradley (Florence Briggs Thayer)"
        ],
        [
         "2",
         " Miss. Laina"
        ],
        [
         "3",
         " Mrs. Jacques Heath (Lily May Peel)"
        ],
        [
         "4",
         " Mr. William Henry"
        ],
        [
         "5",
         " Mr. James"
        ],
        [
         "6",
         " Mr. Timothy J"
        ],
        [
         "7",
         " Master. Gosta Leonard"
        ],
        [
         "8",
         " Mrs. Oscar W (Elisabeth Vilhelmina Berg)"
        ],
        [
         "9",
         " Mrs. Nicholas (Adele Achem)"
        ],
        [
         "10",
         " Miss. Marguerite Rut"
        ],
        [
         "11",
         " Miss. Elizabeth"
        ],
        [
         "12",
         " Mr. William Henry"
        ],
        [
         "13",
         " Mr. Anders Johan"
        ],
        [
         "14",
         " Miss. Hulda Amanda Adolfina"
        ],
        [
         "15",
         " Mrs. (Mary D Kingcome) "
        ],
        [
         "16",
         " Master. Eugene"
        ],
        [
         "17",
         " Mr. Charles Eugene"
        ],
        [
         "18",
         " Mrs. Julius (Emelia Maria Vandemoortele)"
        ],
        [
         "19",
         " Mrs. Fatima"
        ],
        [
         "20",
         " Mr. Joseph J"
        ],
        [
         "21",
         " Mr. Lawrence"
        ],
        [
         "22",
         " Miss. Anna \"Annie\""
        ],
        [
         "23",
         " Mr. William Thompson"
        ],
        [
         "24",
         " Miss. Torborg Danira"
        ],
        [
         "25",
         " Mrs. Carl Oscar (Selma Augusta Emilia Johansson)"
        ],
        [
         "26",
         " Mr. Farred Chehab"
        ],
        [
         "27",
         " Mr. Charles Alexander"
        ],
        [
         "28",
         " Miss. Ellen \"Nellie\""
        ],
        [
         "29",
         " Mr. Lalio"
        ],
        [
         "30",
         " Don. Manuel E"
        ],
        [
         "31",
         " Mrs. William Augustus (Marie Eugenie)"
        ],
        [
         "32",
         " Miss. Mary Agatha"
        ],
        [
         "33",
         " Mr. Edward H"
        ],
        [
         "34",
         " Mr. Edgar Joseph"
        ],
        [
         "35",
         " Mr. Alexander Oskar"
        ],
        [
         "36",
         " Mr. Hanna"
        ],
        [
         "37",
         " Mr. Ernest Charles"
        ],
        [
         "38",
         " Miss. Augusta Maria"
        ],
        [
         "39",
         " Miss. Jamila"
        ],
        [
         "40",
         " Mrs. Johan (Johanna Persdotter Larsson)"
        ],
        [
         "41",
         " Mrs. William John Robert (Dorothy Ann Wonnacott)"
        ],
        [
         "42",
         " Mr. Theodor"
        ],
        [
         "43",
         " Miss. Simonne Marie Anne Andree"
        ],
        [
         "44",
         " Miss. Margaret Delia"
        ],
        [
         "45",
         " Mr. William John"
        ],
        [
         "46",
         " Mr. Denis"
        ],
        [
         "47",
         " Miss. Bridget"
        ],
        [
         "48",
         " Mr. Youssef"
        ],
        [
         "49",
         " Mrs. Josef (Josefine Franchi)"
        ]
       ],
       "shape": {
        "columns": 1,
        "rows": 891
       }
      },
      "text/plain": [
       "0                                  Mr. Owen Harris\n",
       "1       Mrs. John Bradley (Florence Briggs Thayer)\n",
       "2                                      Miss. Laina\n",
       "3               Mrs. Jacques Heath (Lily May Peel)\n",
       "4                                Mr. William Henry\n",
       "                          ...                     \n",
       "886                                    Rev. Juozas\n",
       "887                           Miss. Margaret Edith\n",
       "888                 Miss. Catherine Helen \"Carrie\"\n",
       "889                                Mr. Karl Howell\n",
       "890                                    Mr. Patrick\n",
       "Name: 1, Length: 891, dtype: object"
      ]
     },
     "execution_count": 20,
     "metadata": {},
     "output_type": "execute_result"
    }
   ],
   "source": [
    "titanic['Name'].str.split(',',expand=True)[1]"
   ]
  },
  {
   "cell_type": "code",
   "execution_count": 21,
   "id": "5b997f38",
   "metadata": {},
   "outputs": [],
   "source": [
    "df['title']=titanic['Name'].str.split(',',expand=True)[1].str.split('.').str.get(0)"
   ]
  },
  {
   "cell_type": "code",
   "execution_count": 22,
   "id": "59bcc710",
   "metadata": {},
   "outputs": [
    {
     "data": {
      "application/vnd.microsoft.datawrangler.viewer.v0+json": {
       "columns": [
        {
         "name": "index",
         "rawType": "int64",
         "type": "integer"
        },
        {
         "name": "Survived",
         "rawType": "int64",
         "type": "integer"
        },
        {
         "name": "Pclass",
         "rawType": "int64",
         "type": "integer"
        },
        {
         "name": "Age",
         "rawType": "float64",
         "type": "float"
        },
        {
         "name": "SibSp",
         "rawType": "int64",
         "type": "integer"
        },
        {
         "name": "Parch",
         "rawType": "int64",
         "type": "integer"
        },
        {
         "name": "title",
         "rawType": "object",
         "type": "string"
        }
       ],
       "ref": "9dc15fdc-d82d-42ff-8655-9eb857e7ed84",
       "rows": [
        [
         "0",
         "0",
         "3",
         "22.0",
         "1",
         "0",
         " Mr"
        ],
        [
         "1",
         "1",
         "1",
         "38.0",
         "1",
         "0",
         " Mrs"
        ],
        [
         "2",
         "1",
         "3",
         "26.0",
         "0",
         "0",
         " Miss"
        ],
        [
         "3",
         "1",
         "1",
         "35.0",
         "1",
         "0",
         " Mrs"
        ],
        [
         "4",
         "0",
         "3",
         "35.0",
         "0",
         "0",
         " Mr"
        ],
        [
         "6",
         "0",
         "1",
         "54.0",
         "0",
         "0",
         " Mr"
        ],
        [
         "7",
         "0",
         "3",
         "2.0",
         "3",
         "1",
         " Master"
        ],
        [
         "8",
         "1",
         "3",
         "27.0",
         "0",
         "2",
         " Mrs"
        ],
        [
         "9",
         "1",
         "2",
         "14.0",
         "1",
         "0",
         " Mrs"
        ],
        [
         "10",
         "1",
         "3",
         "4.0",
         "1",
         "1",
         " Miss"
        ],
        [
         "11",
         "1",
         "1",
         "58.0",
         "0",
         "0",
         " Miss"
        ],
        [
         "12",
         "0",
         "3",
         "20.0",
         "0",
         "0",
         " Mr"
        ],
        [
         "13",
         "0",
         "3",
         "39.0",
         "1",
         "5",
         " Mr"
        ],
        [
         "14",
         "0",
         "3",
         "14.0",
         "0",
         "0",
         " Miss"
        ],
        [
         "15",
         "1",
         "2",
         "55.0",
         "0",
         "0",
         " Mrs"
        ],
        [
         "16",
         "0",
         "3",
         "2.0",
         "4",
         "1",
         " Master"
        ],
        [
         "18",
         "0",
         "3",
         "31.0",
         "1",
         "0",
         " Mrs"
        ],
        [
         "20",
         "0",
         "2",
         "35.0",
         "0",
         "0",
         " Mr"
        ],
        [
         "21",
         "1",
         "2",
         "34.0",
         "0",
         "0",
         " Mr"
        ],
        [
         "22",
         "1",
         "3",
         "15.0",
         "0",
         "0",
         " Miss"
        ],
        [
         "23",
         "1",
         "1",
         "28.0",
         "0",
         "0",
         " Mr"
        ],
        [
         "24",
         "0",
         "3",
         "8.0",
         "3",
         "1",
         " Miss"
        ],
        [
         "25",
         "1",
         "3",
         "38.0",
         "1",
         "5",
         " Mrs"
        ],
        [
         "27",
         "0",
         "1",
         "19.0",
         "3",
         "2",
         " Mr"
        ],
        [
         "30",
         "0",
         "1",
         "40.0",
         "0",
         "0",
         " Don"
        ],
        [
         "33",
         "0",
         "2",
         "66.0",
         "0",
         "0",
         " Mr"
        ],
        [
         "34",
         "0",
         "1",
         "28.0",
         "1",
         "0",
         " Mr"
        ],
        [
         "35",
         "0",
         "1",
         "42.0",
         "1",
         "0",
         " Mr"
        ],
        [
         "37",
         "0",
         "3",
         "21.0",
         "0",
         "0",
         " Mr"
        ],
        [
         "38",
         "0",
         "3",
         "18.0",
         "2",
         "0",
         " Miss"
        ],
        [
         "39",
         "1",
         "3",
         "14.0",
         "1",
         "0",
         " Miss"
        ],
        [
         "40",
         "0",
         "3",
         "40.0",
         "1",
         "0",
         " Mrs"
        ],
        [
         "41",
         "0",
         "2",
         "27.0",
         "1",
         "0",
         " Mrs"
        ],
        [
         "43",
         "1",
         "2",
         "3.0",
         "1",
         "2",
         " Miss"
        ],
        [
         "44",
         "1",
         "3",
         "19.0",
         "0",
         "0",
         " Miss"
        ],
        [
         "49",
         "0",
         "3",
         "18.0",
         "1",
         "0",
         " Mrs"
        ],
        [
         "50",
         "0",
         "3",
         "7.0",
         "4",
         "1",
         " Master"
        ],
        [
         "51",
         "0",
         "3",
         "21.0",
         "0",
         "0",
         " Mr"
        ],
        [
         "52",
         "1",
         "1",
         "49.0",
         "1",
         "0",
         " Mrs"
        ],
        [
         "53",
         "1",
         "2",
         "29.0",
         "1",
         "0",
         " Mrs"
        ],
        [
         "54",
         "0",
         "1",
         "65.0",
         "0",
         "1",
         " Mr"
        ],
        [
         "56",
         "1",
         "2",
         "21.0",
         "0",
         "0",
         " Miss"
        ],
        [
         "57",
         "0",
         "3",
         "28.5",
         "0",
         "0",
         " Mr"
        ],
        [
         "58",
         "1",
         "2",
         "5.0",
         "1",
         "2",
         " Miss"
        ],
        [
         "59",
         "0",
         "3",
         "11.0",
         "5",
         "2",
         " Master"
        ],
        [
         "60",
         "0",
         "3",
         "22.0",
         "0",
         "0",
         " Mr"
        ],
        [
         "61",
         "1",
         "1",
         "38.0",
         "0",
         "0",
         " Miss"
        ],
        [
         "62",
         "0",
         "1",
         "45.0",
         "1",
         "0",
         " Mr"
        ],
        [
         "63",
         "0",
         "3",
         "4.0",
         "3",
         "2",
         " Master"
        ],
        [
         "66",
         "1",
         "2",
         "29.0",
         "0",
         "0",
         " Mrs"
        ]
       ],
       "shape": {
        "columns": 6,
        "rows": 714
       }
      },
      "text/html": [
       "<div>\n",
       "<style scoped>\n",
       "    .dataframe tbody tr th:only-of-type {\n",
       "        vertical-align: middle;\n",
       "    }\n",
       "\n",
       "    .dataframe tbody tr th {\n",
       "        vertical-align: top;\n",
       "    }\n",
       "\n",
       "    .dataframe thead th {\n",
       "        text-align: right;\n",
       "    }\n",
       "</style>\n",
       "<table border=\"1\" class=\"dataframe\">\n",
       "  <thead>\n",
       "    <tr style=\"text-align: right;\">\n",
       "      <th></th>\n",
       "      <th>Survived</th>\n",
       "      <th>Pclass</th>\n",
       "      <th>Age</th>\n",
       "      <th>SibSp</th>\n",
       "      <th>Parch</th>\n",
       "      <th>title</th>\n",
       "    </tr>\n",
       "  </thead>\n",
       "  <tbody>\n",
       "    <tr>\n",
       "      <th>0</th>\n",
       "      <td>0</td>\n",
       "      <td>3</td>\n",
       "      <td>22.0</td>\n",
       "      <td>1</td>\n",
       "      <td>0</td>\n",
       "      <td>Mr</td>\n",
       "    </tr>\n",
       "    <tr>\n",
       "      <th>1</th>\n",
       "      <td>1</td>\n",
       "      <td>1</td>\n",
       "      <td>38.0</td>\n",
       "      <td>1</td>\n",
       "      <td>0</td>\n",
       "      <td>Mrs</td>\n",
       "    </tr>\n",
       "    <tr>\n",
       "      <th>2</th>\n",
       "      <td>1</td>\n",
       "      <td>3</td>\n",
       "      <td>26.0</td>\n",
       "      <td>0</td>\n",
       "      <td>0</td>\n",
       "      <td>Miss</td>\n",
       "    </tr>\n",
       "    <tr>\n",
       "      <th>3</th>\n",
       "      <td>1</td>\n",
       "      <td>1</td>\n",
       "      <td>35.0</td>\n",
       "      <td>1</td>\n",
       "      <td>0</td>\n",
       "      <td>Mrs</td>\n",
       "    </tr>\n",
       "    <tr>\n",
       "      <th>4</th>\n",
       "      <td>0</td>\n",
       "      <td>3</td>\n",
       "      <td>35.0</td>\n",
       "      <td>0</td>\n",
       "      <td>0</td>\n",
       "      <td>Mr</td>\n",
       "    </tr>\n",
       "    <tr>\n",
       "      <th>...</th>\n",
       "      <td>...</td>\n",
       "      <td>...</td>\n",
       "      <td>...</td>\n",
       "      <td>...</td>\n",
       "      <td>...</td>\n",
       "      <td>...</td>\n",
       "    </tr>\n",
       "    <tr>\n",
       "      <th>885</th>\n",
       "      <td>0</td>\n",
       "      <td>3</td>\n",
       "      <td>39.0</td>\n",
       "      <td>0</td>\n",
       "      <td>5</td>\n",
       "      <td>Mrs</td>\n",
       "    </tr>\n",
       "    <tr>\n",
       "      <th>886</th>\n",
       "      <td>0</td>\n",
       "      <td>2</td>\n",
       "      <td>27.0</td>\n",
       "      <td>0</td>\n",
       "      <td>0</td>\n",
       "      <td>Rev</td>\n",
       "    </tr>\n",
       "    <tr>\n",
       "      <th>887</th>\n",
       "      <td>1</td>\n",
       "      <td>1</td>\n",
       "      <td>19.0</td>\n",
       "      <td>0</td>\n",
       "      <td>0</td>\n",
       "      <td>Miss</td>\n",
       "    </tr>\n",
       "    <tr>\n",
       "      <th>889</th>\n",
       "      <td>1</td>\n",
       "      <td>1</td>\n",
       "      <td>26.0</td>\n",
       "      <td>0</td>\n",
       "      <td>0</td>\n",
       "      <td>Mr</td>\n",
       "    </tr>\n",
       "    <tr>\n",
       "      <th>890</th>\n",
       "      <td>0</td>\n",
       "      <td>3</td>\n",
       "      <td>32.0</td>\n",
       "      <td>0</td>\n",
       "      <td>0</td>\n",
       "      <td>Mr</td>\n",
       "    </tr>\n",
       "  </tbody>\n",
       "</table>\n",
       "<p>714 rows × 6 columns</p>\n",
       "</div>"
      ],
      "text/plain": [
       "     Survived  Pclass   Age  SibSp  Parch  title\n",
       "0           0       3  22.0      1      0     Mr\n",
       "1           1       1  38.0      1      0    Mrs\n",
       "2           1       3  26.0      0      0   Miss\n",
       "3           1       1  35.0      1      0    Mrs\n",
       "4           0       3  35.0      0      0     Mr\n",
       "..        ...     ...   ...    ...    ...    ...\n",
       "885         0       3  39.0      0      5    Mrs\n",
       "886         0       2  27.0      0      0    Rev\n",
       "887         1       1  19.0      0      0   Miss\n",
       "889         1       1  26.0      0      0     Mr\n",
       "890         0       3  32.0      0      0     Mr\n",
       "\n",
       "[714 rows x 6 columns]"
      ]
     },
     "execution_count": 22,
     "metadata": {},
     "output_type": "execute_result"
    }
   ],
   "source": [
    "df"
   ]
  },
  {
   "cell_type": "code",
   "execution_count": 23,
   "id": "6f0ef33b",
   "metadata": {},
   "outputs": [
    {
     "data": {
      "application/vnd.microsoft.datawrangler.viewer.v0+json": {
       "columns": [
        {
         "name": "title",
         "rawType": "object",
         "type": "string"
        },
        {
         "name": "Survived",
         "rawType": "float64",
         "type": "float"
        }
       ],
       "ref": "466be4dd-4b65-47cb-b9b4-7d780e767b37",
       "rows": [
        [
         " Capt",
         "0.0"
        ],
        [
         " Col",
         "0.5"
        ],
        [
         " Don",
         "0.0"
        ],
        [
         " Dr",
         "0.5"
        ],
        [
         " Jonkheer",
         "0.0"
        ],
        [
         " Lady",
         "1.0"
        ],
        [
         " Major",
         "0.5"
        ],
        [
         " Master",
         "0.5833"
        ],
        [
         " Miss",
         "0.7192"
        ],
        [
         " Mlle",
         "1.0"
        ],
        [
         " Mme",
         "1.0"
        ],
        [
         " Mr",
         "0.1683"
        ],
        [
         " Mrs",
         "0.787"
        ],
        [
         " Ms",
         "1.0"
        ],
        [
         " Rev",
         "0.0"
        ],
        [
         " Sir",
         "1.0"
        ],
        [
         " the Countess",
         "1.0"
        ]
       ],
       "shape": {
        "columns": 1,
        "rows": 17
       }
      },
      "text/plain": [
       "title\n",
       "Capt            0.0000\n",
       "Col             0.5000\n",
       "Don             0.0000\n",
       "Dr              0.5000\n",
       "Jonkheer        0.0000\n",
       "Lady            1.0000\n",
       "Major           0.5000\n",
       "Master          0.5833\n",
       "Miss            0.7192\n",
       "Mlle            1.0000\n",
       "Mme             1.0000\n",
       "Mr              0.1683\n",
       "Mrs             0.7870\n",
       "Ms              1.0000\n",
       "Rev             0.0000\n",
       "Sir             1.0000\n",
       "the Countess    1.0000\n",
       "Name: Survived, dtype: float64"
      ]
     },
     "execution_count": 23,
     "metadata": {},
     "output_type": "execute_result"
    }
   ],
   "source": [
    "round(df.groupby('title')['Survived'].mean(),4)\n"
   ]
  },
  {
   "cell_type": "code",
   "execution_count": 24,
   "id": "24e336ee",
   "metadata": {},
   "outputs": [],
   "source": [
    "flip = pd.read_csv('flipcart.csv')"
   ]
  },
  {
   "cell_type": "code",
   "execution_count": 25,
   "id": "b77f99fb",
   "metadata": {},
   "outputs": [],
   "source": [
    "f= flip.copy()"
   ]
  },
  {
   "cell_type": "code",
   "execution_count": 26,
   "id": "31bb6c73",
   "metadata": {},
   "outputs": [
    {
     "data": {
      "application/vnd.microsoft.datawrangler.viewer.v0+json": {
       "columns": [
        {
         "name": "index",
         "rawType": "int64",
         "type": "integer"
        },
        {
         "name": "total_review",
         "rawType": "object",
         "type": "unknown"
        }
       ],
       "ref": "f430984e-60d6-4b21-be50-0e28833ca2ac",
       "rows": [
        [
         "0",
         "174 Ratings & 15 Reviews"
        ],
        [
         "1",
         "2,367 Ratings & 212 Reviews"
        ],
        [
         "2",
         "7,146 Ratings & 709 Reviews"
        ],
        [
         "3",
         "12,735 Ratings & 1,018 Reviews"
        ],
        [
         "4",
         "347 Ratings & 26 Reviews"
        ],
        [
         "5",
         "12,735 Ratings & 1,018 Reviews"
        ],
        [
         "6",
         "879 Ratings & 60 Reviews"
        ],
        [
         "7",
         "1,142 Ratings & 80 Reviews"
        ],
        [
         "8",
         "79 Ratings & 3 Reviews"
        ],
        [
         "9",
         "1,855 Ratings & 121 Reviews"
        ],
        [
         "10",
         "41 Ratings & 6 Reviews"
        ],
        [
         "11",
         "4,529 Ratings & 344 Reviews"
        ],
        [
         "12",
         "623 Ratings & 32 Reviews"
        ],
        [
         "13",
         "1,855 Ratings & 121 Reviews"
        ],
        [
         "14",
         "489 Ratings & 52 Reviews"
        ],
        [
         "15",
         "102 Ratings & 7 Reviews"
        ],
        [
         "16",
         "1,855 Ratings & 121 Reviews"
        ],
        [
         "17",
         "344 Ratings & 33 Reviews"
        ],
        [
         "18",
         "857 Ratings & 48 Reviews"
        ],
        [
         "19",
         "16 Ratings & 1 Reviews"
        ],
        [
         "20",
         "2,363 Ratings & 268 Reviews"
        ],
        [
         "21",
         "13 Ratings & 1 Reviews"
        ],
        [
         "22",
         "355 Ratings & 13 Reviews"
        ],
        [
         "23",
         "1,855 Ratings & 121 Reviews"
        ],
        [
         "24",
         "76 Ratings & 10 Reviews"
        ],
        [
         "25",
         "857 Ratings & 48 Reviews"
        ],
        [
         "26",
         "7,146 Ratings & 709 Reviews"
        ],
        [
         "27",
         "12,735 Ratings & 1,018 Reviews"
        ],
        [
         "28",
         "139 Ratings & 7 Reviews"
        ],
        [
         "29",
         "6,692 Ratings & 557 Reviews"
        ],
        [
         "30",
         "800 Ratings & 41 Reviews"
        ],
        [
         "31",
         "15 Ratings & 2 Reviews"
        ],
        [
         "32",
         "879 Ratings & 60 Reviews"
        ],
        [
         "33",
         "1,142 Ratings & 80 Reviews"
        ],
        [
         "34",
         "148 Ratings & 15 Reviews"
        ],
        [
         "35",
         "875 Ratings & 68 Reviews"
        ],
        [
         "36",
         "623 Ratings & 32 Reviews"
        ],
        [
         "37",
         "1,855 Ratings & 121 Reviews"
        ],
        [
         "38",
         "312 Ratings & 14 Reviews"
        ],
        [
         "39",
         "4,529 Ratings & 344 Reviews"
        ],
        [
         "40",
         "21 Ratings & 1 Reviews"
        ],
        [
         "41",
         "101 Ratings & 7 Reviews"
        ],
        [
         "42",
         "1,855 Ratings & 121 Reviews"
        ],
        [
         "43",
         "344 Ratings & 33 Reviews"
        ],
        [
         "44",
         "471 Ratings & 32 Reviews"
        ],
        [
         "45",
         "72 Ratings & 5 Reviews"
        ],
        [
         "46",
         "355 Ratings & 13 Reviews"
        ],
        [
         "47",
         "1,855 Ratings & 121 Reviews"
        ],
        [
         "48",
         "2,111 Ratings & 165 Reviews"
        ],
        [
         "49",
         "6,246 Ratings & 376 Reviews"
        ]
       ],
       "shape": {
        "columns": 1,
        "rows": 960
       }
      },
      "text/plain": [
       "0            174 Ratings & 15 Reviews\n",
       "1         2,367 Ratings & 212 Reviews\n",
       "2         7,146 Ratings & 709 Reviews\n",
       "3      12,735 Ratings & 1,018 Reviews\n",
       "4            347 Ratings & 26 Reviews\n",
       "                    ...              \n",
       "955            17 Ratings & 0 Reviews\n",
       "956          344 Ratings & 33 Reviews\n",
       "957          355 Ratings & 13 Reviews\n",
       "958          546 Ratings & 36 Reviews\n",
       "959       1,111 Ratings & 141 Reviews\n",
       "Name: total_review, Length: 960, dtype: object"
      ]
     },
     "execution_count": 26,
     "metadata": {},
     "output_type": "execute_result"
    }
   ],
   "source": [
    "flip['total_review']"
   ]
  },
  {
   "cell_type": "code",
   "execution_count": 27,
   "id": "77a05ee5",
   "metadata": {},
   "outputs": [],
   "source": [
    "# rating"
   ]
  },
  {
   "cell_type": "code",
   "execution_count": 28,
   "id": "7d46c551",
   "metadata": {},
   "outputs": [],
   "source": [
    "flip['rating']=flip['total_review'].str.split(' ',expand=True)[0]"
   ]
  },
  {
   "cell_type": "code",
   "execution_count": 29,
   "id": "fdf2bbb5",
   "metadata": {},
   "outputs": [
    {
     "data": {
      "application/vnd.microsoft.datawrangler.viewer.v0+json": {
       "columns": [
        {
         "name": "index",
         "rawType": "int64",
         "type": "integer"
        },
        {
         "name": "rating",
         "rawType": "object",
         "type": "unknown"
        }
       ],
       "ref": "e5b4020d-d20a-4f6d-b9c6-0b15db73219a",
       "rows": [
        [
         "0",
         "174"
        ],
        [
         "1",
         "2,367"
        ],
        [
         "2",
         "7,146"
        ],
        [
         "3",
         "12,735"
        ],
        [
         "4",
         "347"
        ],
        [
         "5",
         "12,735"
        ],
        [
         "6",
         "879"
        ],
        [
         "7",
         "1,142"
        ],
        [
         "8",
         "79"
        ],
        [
         "9",
         "1,855"
        ],
        [
         "10",
         "41"
        ],
        [
         "11",
         "4,529"
        ],
        [
         "12",
         "623"
        ],
        [
         "13",
         "1,855"
        ],
        [
         "14",
         "489"
        ],
        [
         "15",
         "102"
        ],
        [
         "16",
         "1,855"
        ],
        [
         "17",
         "344"
        ],
        [
         "18",
         "857"
        ],
        [
         "19",
         "16"
        ],
        [
         "20",
         "2,363"
        ],
        [
         "21",
         "13"
        ],
        [
         "22",
         "355"
        ],
        [
         "23",
         "1,855"
        ],
        [
         "24",
         "76"
        ],
        [
         "25",
         "857"
        ],
        [
         "26",
         "7,146"
        ],
        [
         "27",
         "12,735"
        ],
        [
         "28",
         "139"
        ],
        [
         "29",
         "6,692"
        ],
        [
         "30",
         "800"
        ],
        [
         "31",
         "15"
        ],
        [
         "32",
         "879"
        ],
        [
         "33",
         "1,142"
        ],
        [
         "34",
         "148"
        ],
        [
         "35",
         "875"
        ],
        [
         "36",
         "623"
        ],
        [
         "37",
         "1,855"
        ],
        [
         "38",
         "312"
        ],
        [
         "39",
         "4,529"
        ],
        [
         "40",
         "21"
        ],
        [
         "41",
         "101"
        ],
        [
         "42",
         "1,855"
        ],
        [
         "43",
         "344"
        ],
        [
         "44",
         "471"
        ],
        [
         "45",
         "72"
        ],
        [
         "46",
         "355"
        ],
        [
         "47",
         "1,855"
        ],
        [
         "48",
         "2,111"
        ],
        [
         "49",
         "6,246"
        ]
       ],
       "shape": {
        "columns": 1,
        "rows": 960
       }
      },
      "text/plain": [
       "0         174\n",
       "1       2,367\n",
       "2       7,146\n",
       "3      12,735\n",
       "4         347\n",
       "        ...  \n",
       "955        17\n",
       "956       344\n",
       "957       355\n",
       "958       546\n",
       "959     1,111\n",
       "Name: rating, Length: 960, dtype: object"
      ]
     },
     "execution_count": 29,
     "metadata": {},
     "output_type": "execute_result"
    }
   ],
   "source": [
    "flip['rating']"
   ]
  },
  {
   "cell_type": "code",
   "execution_count": 30,
   "id": "e148fb82",
   "metadata": {},
   "outputs": [],
   "source": [
    "#flip review"
   ]
  },
  {
   "cell_type": "code",
   "execution_count": 31,
   "id": "725d6e7e",
   "metadata": {},
   "outputs": [],
   "source": [
    "flip['review']=flip['total_review'].str.split(' ',expand=True)[1].str.split('&',expand=True)[1]"
   ]
  },
  {
   "cell_type": "code",
   "execution_count": 32,
   "id": "1cc5bd90",
   "metadata": {},
   "outputs": [],
   "source": [
    "\n",
    "# flip['total_review'].str.split('&',expand=True)[0].str.split(' ',expand=True)[0]\n",
    "#\n"
   ]
  },
  {
   "cell_type": "code",
   "execution_count": 33,
   "id": "2d1aa2cc",
   "metadata": {},
   "outputs": [
    {
     "data": {
      "application/vnd.microsoft.datawrangler.viewer.v0+json": {
       "columns": [
        {
         "name": "index",
         "rawType": "int64",
         "type": "integer"
        },
        {
         "name": "Unnamed: 0",
         "rawType": "int64",
         "type": "integer"
        },
        {
         "name": "name",
         "rawType": "object",
         "type": "string"
        },
        {
         "name": "price",
         "rawType": "object",
         "type": "string"
        },
        {
         "name": "discount",
         "rawType": "object",
         "type": "unknown"
        },
        {
         "name": "rating",
         "rawType": "object",
         "type": "unknown"
        },
        {
         "name": "bank",
         "rawType": "object",
         "type": "string"
        },
        {
         "name": "total_review",
         "rawType": "object",
         "type": "unknown"
        },
        {
         "name": "review",
         "rawType": "object",
         "type": "unknown"
        }
       ],
       "ref": "1d8e91f5-893e-472b-a5d7-93551872549d",
       "rows": [
        [
         "0",
         "0",
         "Samsung Galaxy Book5 AI Metal Intel Core Ultra 5 225U - (16 GB/512 GB SSD/Windows 11 Home) NP750XHD Th...",
         "₹76,689",
         "23% off",
         "174",
         "Upto",
         "174 Ratings & 15 Reviews",
         " 15"
        ],
        [
         "1",
         "1",
         "ASUS Expertbook P1 Intel Core i3 13th Gen 1315U - (8 GB/512 GB SSD/Windows 11 Home) P1503CVA-S70501WS ...",
         "₹33,990",
         "51% off",
         "2,367",
         "Upto",
         "2,367 Ratings & 212 Reviews",
         " 212"
        ],
        [
         "2",
         "2",
         "Samsung Galaxy Book4 Metal Intel Core i3 13th Gen 1315U - (8 GB/512 GB SSD/Windows 11 Home) NP750XGJ-L...",
         "₹35,990",
         "37% off",
         "7,146",
         "Upto",
         "7,146 Ratings & 709 Reviews",
         " 709"
        ],
        [
         "3",
         "3",
         "Samsung Galaxy Book4 Metal Intel Core i5 13th Gen 1335U - (8 GB/512 GB SSD/Windows 11 Home) NP750XGJ-K...",
         "₹47,690",
         "39% off",
         "12,735",
         "Upto",
         "12,735 Ratings & 1,018 Reviews",
         " 1,018"
        ],
        [
         "4",
         "4",
         "ASUS Vivobook S14 (2025) with Office 2024 + M365 Basic*, AI PC, Backlit Keyboard, Qualcomm Snapdragon ...",
         "₹54,990",
         "40% off",
         "347",
         "Top Discount of the Sale",
         "347 Ratings & 26 Reviews",
         " 26"
        ],
        [
         "5",
         "5",
         "Samsung Galaxy Book4 Metal Intel Core i5 13th Gen 1335U - (16 GB/512 GB SSD/Windows 11 Home) NP750XGJ-...",
         "₹51,890",
         "37% off",
         "12,735",
         "Only 3 left",
         "12,735 Ratings & 1,018 Reviews",
         " 1,018"
        ],
        [
         "6",
         "6",
         "ASUS Vivobook Go 15 AMD Ryzen 3 Quad Core 7320U - (8 GB/512 GB SSD/Windows 11 Home) E1504FA-NJ130WS | ...",
         "₹29,240",
         "35% off",
         "879",
         "Top Discount of the Sale",
         "879 Ratings & 60 Reviews",
         " 60"
        ],
        [
         "7",
         "7",
         "DELL 15 AMD Ryzen 5 Hexa Core 7530U - (16 GB/512 GB SSD/Windows 11 Home) 3535 Thin and Light Laptop",
         "₹40,990",
         "27% off",
         "1,142",
         "Top Discount of the Sale",
         "1,142 Ratings & 80 Reviews",
         " 80"
        ],
        [
         "8",
         "8",
         "ASUS Vivobook S14 (2025) with Office 2024 + M365 Basic*, Backlit Keyboard, Intel Core i7 13th Gen 1362...",
         "₹58,990",
         "40% off",
         "79",
         "Only 2 left",
         "79 Ratings & 3 Reviews",
         " 3"
        ],
        [
         "9",
         "9",
         "ASUS Vivobook 14 (2025) with Office 2024 + M365 Basic*, Intel Core i3 13th Gen 1315U - (8 GB/512 GB SS...",
         "₹32,990",
         "35% off",
         "1,855",
         "Top Discount of the Sale",
         "1,855 Ratings & 121 Reviews",
         " 121"
        ],
        [
         "10",
         "10",
         "GIGABYTE G Series Intel Core i7 13th Gen 13620H - (16 GB/1 TB SSD/Windows 11 Home/8 GB Graphics/NVIDIA...",
         "₹78,990",
         "51% off",
         "41",
         "Only few left",
         "41 Ratings & 6 Reviews",
         " 6"
        ],
        [
         "11",
         "11",
         "Acer Aspire 3 Intel Core i3 12th Gen 1215U - (8 GB/512 GB SSD/Windows 11 Home) A324-51 Thin and Light ...",
         "₹25,990",
         "39% off",
         "4,529",
         "Upto",
         "4,529 Ratings & 344 Reviews",
         " 344"
        ],
        [
         "12",
         "12",
         "ASUS Vivobook Go 15 AMD Ryzen 5 Quad Core 7520U - (16 GB/512 GB SSD/Windows 11 Home) E1504FA-NJ5542WS ...",
         "₹37,579",
         "32% off",
         "623",
         "Top Discount of the Sale",
         "623 Ratings & 32 Reviews",
         " 32"
        ],
        [
         "13",
         "13",
         "ASUS Vivobook 15 (2025) with Office 2024 + M365 Basic*, Backlit Keyboard, Intel Core i3 13th Gen 1315U...",
         "₹32,990",
         "34% off",
         "1,855",
         "Top Discount of the Sale",
         "1,855 Ratings & 121 Reviews",
         " 121"
        ],
        [
         "14",
         "14",
         "Lenovo Yoga Slim 6 WUXGA OLED Intel Core i5 13th Gen 13500H - (16 GB/512 GB SSD/Windows 11 Home) 14IRH...",
         "₹67,990",
         "39% off",
         "489",
         "Upto",
         "489 Ratings & 52 Reviews",
         " 52"
        ],
        [
         "15",
         "15",
         "MSI Thin A15 AMD Ryzen 5 Hexa Core 7535HS - (16 GB/512 GB SSD/Windows 11 Home/4 GB Graphics/NVIDIA GeF...",
         "₹49,990",
         "36% off",
         "102",
         "Top Discount of the Sale",
         "102 Ratings & 7 Reviews",
         " 7"
        ],
        [
         "16",
         "16",
         "ASUS Vivobook 15 (2025) with Office 2024 + M365 Basic*, Intel Core i3 13th Gen 1315U - (8 GB/512 GB SS...",
         "₹32,990",
         "36% off",
         "1,855",
         "Top Discount of the Sale",
         "1,855 Ratings & 121 Reviews",
         " 121"
        ],
        [
         "17",
         "17",
         "MSI Thin A15 AMD Ryzen 5 Hexa Core 7535HS - (16 GB/512 GB SSD/Windows 11 Home/4 GB Graphics/NVIDIA GeF...",
         "₹47,990",
         "34% off",
         "344",
         "Top Discount of the Sale",
         "344 Ratings & 33 Reviews",
         " 33"
        ],
        [
         "18",
         "18",
         "ASUS Vivobook 15, with Backlit Keyboard, Intel Core i5 13th Gen 1334U - (16 GB/512 GB SSD/Windows 11 H...",
         "₹45,985",
         "35% off",
         "857",
         "Top Discount of the Sale",
         "857 Ratings & 48 Reviews",
         " 48"
        ],
        [
         "19",
         "19",
         "Lenovo IdeaPad Slim 5 WUXGA OLED Full Metal Body Intel Core i5 13th Gen 13420H - (16 GB/1 TB SSD/Windo...",
         "₹64,990",
         "33% off",
         "16",
         "Top Discount of the Sale",
         "16 Ratings & 1 Reviews",
         " 1"
        ],
        [
         "20",
         "20",
         "Acer Aspire AMD Ryzen 5 Hexa Core 7430U - (16 GB/1 TB SSD/Windows 11 Home) AS15-42 Thin and Light Lapt...",
         "₹37,990",
         "30% off",
         "2,363",
         "Top Discount of the Sale",
         "2,363 Ratings & 268 Reviews",
         " 268"
        ],
        [
         "21",
         "21",
         "Acer Aspire 3 (2025) Intel Core i5 13th Gen 1334U - (16 GB/512 GB SSD/Windows 11 Home) Aspire 3 A325-5...",
         "₹41,390",
         "51% off",
         "13",
         "Top Discount of the Sale",
         "13 Ratings & 1 Reviews",
         " 1"
        ],
        [
         "22",
         "22",
         "DELL Intel Core i3 13th Gen 1305U - (8 GB/512 GB SSD/Windows 11 Home) Vostro 3530,Vostro 3530 RPL Thin...",
         "₹32,990",
         "29% off",
         "355",
         "Top Discount of the Sale",
         "355 Ratings & 13 Reviews",
         " 13"
        ],
        [
         "23",
         "23",
         "ASUS Vivobook 14 (2025) with Office 2024 + M365 Basic*, Backlit Keyboard, Intel Core i3 13th Gen 1315U...",
         "₹32,990",
         "35% off",
         "1,855",
         "Top Discount of the Sale",
         "1,855 Ratings & 121 Reviews",
         " 121"
        ],
        [
         "24",
         "24",
         "Infinix X Air Pro+ Intel Core i5 13th Gen 1334U - (16 GB/512 GB SSD/Windows 11 Home) XL434 Thin and Li...",
         "₹36,990",
         "47% off",
         "76",
         "Top Discount of the Sale",
         "76 Ratings & 10 Reviews",
         " 10"
        ],
        [
         "25",
         "25",
         "ASUS Vivobook 15 (2025) with Office 2024 + M365 Basic*, Backlit Keyboard, Intel Core i5 13th Gen 1335U...",
         "₹45,990",
         "33% off",
         "857",
         "Upto",
         "857 Ratings & 48 Reviews",
         " 48"
        ],
        [
         "26",
         "26",
         "Samsung Galaxy Book4 Metal Intel Core i3 13th Gen 1315U - (8 GB/512 GB SSD/Windows 11 Home) NP750XGJ-L...",
         "₹35,990",
         "37% off",
         "7,146",
         "Upto",
         "7,146 Ratings & 709 Reviews",
         " 709"
        ],
        [
         "27",
         "27",
         "Samsung Galaxy Book4 Metal Intel Core i5 13th Gen 1335U - (8 GB/512 GB SSD/Windows 11 Home) NP750XGJ-K...",
         "₹47,690",
         "39% off",
         "12,735",
         "Upto",
         "12,735 Ratings & 1,018 Reviews",
         " 1,018"
        ],
        [
         "28",
         "28",
         "HP 15 (2025) AMD Athlon Dual Core 7120U - (8 GB/256 GB SSD/Windows 11 Home) 15 Thin and Light Laptop",
         "₹24,990",
         "44% off",
         "139",
         "Only few left",
         "139 Ratings & 7 Reviews",
         " 7"
        ],
        [
         "29",
         "29",
         "Lenovo IdeaPad Slim 1 AMD Ryzen 5 Hexa Core 5500U - (16 GB/512 GB SSD/Windows 11 Home) 15ALC7 Thin and...",
         "₹36,999",
         "55% off",
         "6,692",
         "Only few left",
         "6,692 Ratings & 557 Reviews",
         " 557"
        ],
        [
         "30",
         "30",
         "ASUS Vivobook 16X (2025) with Office 2024 + M365 Basic* Intel Core i5 13th Gen 13420H - (16 GB/512 GB ...",
         "₹59,990",
         "33% off",
         "800",
         "Top Discount of the Sale",
         "800 Ratings & 41 Reviews",
         " 41"
        ],
        [
         "31",
         "31",
         "MSI Modern 14 C13M Intel Core i3 13th Gen 1315U - (8 GB/512 GB SSD/Windows 11 Home) Modern 14 C13M-115...",
         "₹27,990",
         "52% off",
         "15",
         "Top Discount of the Sale",
         "15 Ratings & 2 Reviews",
         " 2"
        ],
        [
         "32",
         "32",
         "ASUS Vivobook Go 15 AMD Ryzen 3 Quad Core 7320U - (8 GB/512 GB SSD/Windows 11 Home) E1504FA-NJ130WS | ...",
         "₹29,240",
         "35% off",
         "879",
         "Top Discount of the Sale",
         "879 Ratings & 60 Reviews",
         " 60"
        ],
        [
         "33",
         "33",
         "DELL 15 AMD Ryzen 5 Hexa Core 7530U - (16 GB/512 GB SSD/Windows 11 Home) 3535 Thin and Light Laptop",
         "₹40,990",
         "27% off",
         "1,142",
         "Top Discount of the Sale",
         "1,142 Ratings & 80 Reviews",
         " 80"
        ],
        [
         "34",
         "34",
         "ASUS Vivobook 14 (2025) with Office 2024 + M365 Basic*, Backlit Keyboard, Qualcomm Snapdragon X - (16 ...",
         "₹49,999",
         "39% off",
         "148",
         "Top Discount of the Sale",
         "148 Ratings & 15 Reviews",
         " 15"
        ],
        [
         "35",
         "35",
         "Acer Aspire Lite AMD Ryzen 3 Quad Core 5300U - (16 GB/512 GB SSD/Windows 11 Home) AL15-41 Thin and Lig...",
         "₹27,490",
         "46% off",
         "875",
         "Only few left",
         "875 Ratings & 68 Reviews",
         " 68"
        ],
        [
         "36",
         "36",
         "ASUS Vivobook Go 15 AMD Ryzen 5 Quad Core 7520U - (16 GB/512 GB SSD/Windows 11 Home) E1504FA-NJ5542WS ...",
         "₹37,579",
         "32% off",
         "623",
         "Top Discount of the Sale",
         "623 Ratings & 32 Reviews",
         " 32"
        ],
        [
         "37",
         "37",
         "ASUS Vivobook 15 (2025) with Office 2024 + M365 Basic*, Backlit Keyboard, Intel Core i3 13th Gen 1315U...",
         "₹32,990",
         "34% off",
         "1,855",
         "Top Discount of the Sale",
         "1,855 Ratings & 121 Reviews",
         " 121"
        ],
        [
         "38",
         "38",
         "DELL Inspiron 15 MSO'24 with Backlit KB Intel Core i5 13th Gen 1334U - (16 GB/1 TB SSD/Windows 11 Home...",
         "₹54,990",
         "31% off",
         "312",
         "Upto",
         "312 Ratings & 14 Reviews",
         " 14"
        ],
        [
         "39",
         "39",
         "Acer Intel Core i3 12th Gen 1215U - (16 GB/512 GB SSD/Windows 11 Home) A324-51 Thin and Light Laptop",
         "₹29,990",
         "37% off",
         "4,529",
         "Upto",
         "4,529 Ratings & 344 Reviews",
         " 344"
        ],
        [
         "40",
         "40",
         "Lenovo IdeaPad Slim 3 Backlit Keyboard with MSO'2024 Intel Core i5 13th Gen 13420H - (24 GB/1 TB SSD/W...",
         "₹57,990",
         "34% off",
         "21",
         "Top Discount of the Sale",
         "21 Ratings & 1 Reviews",
         " 1"
        ],
        [
         "41",
         "41",
         "Lenovo IdeaPad Slim 3 Next Gen AI PC WUXGA IPS Copilot + PC Qualcomm Snapdragon X - (16 GB/512 GB SSD/...",
         "₹49,999",
         "46% off",
         "101",
         "Top Discount of the Sale",
         "101 Ratings & 7 Reviews",
         " 7"
        ],
        [
         "42",
         "42",
         "ASUS Vivobook 15 (2025) with Office 2024 + M365 Basic*, Intel Core i3 13th Gen 1315U - (8 GB/512 GB SS...",
         "₹32,990",
         "36% off",
         "1,855",
         "Top Discount of the Sale",
         "1,855 Ratings & 121 Reviews",
         " 121"
        ],
        [
         "43",
         "43",
         "MSI Thin A15 AMD Ryzen 5 Hexa Core 7535HS - (16 GB/512 GB SSD/Windows 11 Home/4 GB Graphics/NVIDIA GeF...",
         "₹47,990",
         "34% off",
         "344",
         "Top Discount of the Sale",
         "344 Ratings & 33 Reviews",
         " 33"
        ],
        [
         "44",
         "44",
         "ASUS Vivobook 15 (2025) (i5 14th Gen) with MSO 2024 + M365 Basic*, Backlit Keyboard, Intel Core 5 120U...",
         "₹43,990",
         "32% off",
         "471",
         "Top Discount of the Sale",
         "471 Ratings & 32 Reviews",
         " 32"
        ],
        [
         "45",
         "45",
         "Neopticon BrowseBook Intel Celeron Dual Core N4020 - (8 GB/256 GB SSD/Windows 11 Home) BBN40825614 Lap...",
         "₹16,990",
         "51% off",
         "72",
         "Bank Offer",
         "72 Ratings & 5 Reviews",
         " 5"
        ],
        [
         "46",
         "46",
         "DELL Intel Core i3 13th Gen 1305U - (8 GB/512 GB SSD/Windows 11 Home) Vostro 3530,Vostro 3530 RPL Thin...",
         "₹32,990",
         "29% off",
         "355",
         "Top Discount of the Sale",
         "355 Ratings & 13 Reviews",
         " 13"
        ],
        [
         "47",
         "47",
         "ASUS Vivobook 14 (2025) with Office 2024 + M365 Basic*, Backlit Keyboard, Intel Core i3 13th Gen 1315U...",
         "₹32,990",
         "35% off",
         "1,855",
         "Top Discount of the Sale",
         "1,855 Ratings & 121 Reviews",
         " 121"
        ],
        [
         "48",
         "48",
         "Acer Aspire Lite AMD Ryzen 5 Hexa Core 5625U - (8 GB/512 GB SSD/Windows 11 Home) AL15-41 Thin and Ligh...",
         "₹29,990",
         "47% off",
         "2,111",
         "Top Discount of the Sale",
         "2,111 Ratings & 165 Reviews",
         " 165"
        ],
        [
         "49",
         "49",
         "Apple MacBook AIR Apple M2 - (16 GB/256 GB SSD/macOS Sequoia) MC7W4HN/A",
         "₹64,999",
         "24% off",
         "6,246",
         "Top Discount of the Sale",
         "6,246 Ratings & 376 Reviews",
         " 376"
        ]
       ],
       "shape": {
        "columns": 8,
        "rows": 960
       }
      },
      "text/html": [
       "<div>\n",
       "<style scoped>\n",
       "    .dataframe tbody tr th:only-of-type {\n",
       "        vertical-align: middle;\n",
       "    }\n",
       "\n",
       "    .dataframe tbody tr th {\n",
       "        vertical-align: top;\n",
       "    }\n",
       "\n",
       "    .dataframe thead th {\n",
       "        text-align: right;\n",
       "    }\n",
       "</style>\n",
       "<table border=\"1\" class=\"dataframe\">\n",
       "  <thead>\n",
       "    <tr style=\"text-align: right;\">\n",
       "      <th></th>\n",
       "      <th>Unnamed: 0</th>\n",
       "      <th>name</th>\n",
       "      <th>price</th>\n",
       "      <th>discount</th>\n",
       "      <th>rating</th>\n",
       "      <th>bank</th>\n",
       "      <th>total_review</th>\n",
       "      <th>review</th>\n",
       "    </tr>\n",
       "  </thead>\n",
       "  <tbody>\n",
       "    <tr>\n",
       "      <th>0</th>\n",
       "      <td>0</td>\n",
       "      <td>Samsung Galaxy Book5 AI Metal Intel Core Ultra...</td>\n",
       "      <td>₹76,689</td>\n",
       "      <td>23% off</td>\n",
       "      <td>174</td>\n",
       "      <td>Upto</td>\n",
       "      <td>174 Ratings &amp; 15 Reviews</td>\n",
       "      <td>15</td>\n",
       "    </tr>\n",
       "    <tr>\n",
       "      <th>1</th>\n",
       "      <td>1</td>\n",
       "      <td>ASUS Expertbook P1 Intel Core i3 13th Gen 1315...</td>\n",
       "      <td>₹33,990</td>\n",
       "      <td>51% off</td>\n",
       "      <td>2,367</td>\n",
       "      <td>Upto</td>\n",
       "      <td>2,367 Ratings &amp; 212 Reviews</td>\n",
       "      <td>212</td>\n",
       "    </tr>\n",
       "    <tr>\n",
       "      <th>2</th>\n",
       "      <td>2</td>\n",
       "      <td>Samsung Galaxy Book4 Metal Intel Core i3 13th ...</td>\n",
       "      <td>₹35,990</td>\n",
       "      <td>37% off</td>\n",
       "      <td>7,146</td>\n",
       "      <td>Upto</td>\n",
       "      <td>7,146 Ratings &amp; 709 Reviews</td>\n",
       "      <td>709</td>\n",
       "    </tr>\n",
       "    <tr>\n",
       "      <th>3</th>\n",
       "      <td>3</td>\n",
       "      <td>Samsung Galaxy Book4 Metal Intel Core i5 13th ...</td>\n",
       "      <td>₹47,690</td>\n",
       "      <td>39% off</td>\n",
       "      <td>12,735</td>\n",
       "      <td>Upto</td>\n",
       "      <td>12,735 Ratings &amp; 1,018 Reviews</td>\n",
       "      <td>1,018</td>\n",
       "    </tr>\n",
       "    <tr>\n",
       "      <th>4</th>\n",
       "      <td>4</td>\n",
       "      <td>ASUS Vivobook S14 (2025) with Office 2024 + M3...</td>\n",
       "      <td>₹54,990</td>\n",
       "      <td>40% off</td>\n",
       "      <td>347</td>\n",
       "      <td>Top Discount of the Sale</td>\n",
       "      <td>347 Ratings &amp; 26 Reviews</td>\n",
       "      <td>26</td>\n",
       "    </tr>\n",
       "    <tr>\n",
       "      <th>...</th>\n",
       "      <td>...</td>\n",
       "      <td>...</td>\n",
       "      <td>...</td>\n",
       "      <td>...</td>\n",
       "      <td>...</td>\n",
       "      <td>...</td>\n",
       "      <td>...</td>\n",
       "      <td>...</td>\n",
       "    </tr>\n",
       "    <tr>\n",
       "      <th>955</th>\n",
       "      <td>955</td>\n",
       "      <td>Infinix Intel Core i7 11th Gen 1195G7 - (16 GB...</td>\n",
       "      <td>₹39,990</td>\n",
       "      <td>55% off</td>\n",
       "      <td>17</td>\n",
       "      <td>Top Discount of the Sale</td>\n",
       "      <td>17 Ratings &amp; 0 Reviews</td>\n",
       "      <td>0</td>\n",
       "    </tr>\n",
       "    <tr>\n",
       "      <th>956</th>\n",
       "      <td>956</td>\n",
       "      <td>MSI Thin A15 AMD Ryzen 5 Hexa Core 7535HS - (1...</td>\n",
       "      <td>₹47,990</td>\n",
       "      <td>34% off</td>\n",
       "      <td>344</td>\n",
       "      <td>Top Discount of the Sale</td>\n",
       "      <td>344 Ratings &amp; 33 Reviews</td>\n",
       "      <td>33</td>\n",
       "    </tr>\n",
       "    <tr>\n",
       "      <th>957</th>\n",
       "      <td>957</td>\n",
       "      <td>DELL Intel Core i3 13th Gen 1305U - (8 GB/512 ...</td>\n",
       "      <td>₹32,990</td>\n",
       "      <td>29% off</td>\n",
       "      <td>355</td>\n",
       "      <td>Top Discount of the Sale</td>\n",
       "      <td>355 Ratings &amp; 13 Reviews</td>\n",
       "      <td>13</td>\n",
       "    </tr>\n",
       "    <tr>\n",
       "      <th>958</th>\n",
       "      <td>958</td>\n",
       "      <td>Lenovo IdeaPad 1 AMD Ryzen 7 Octa Core 5700U -...</td>\n",
       "      <td>₹44,000</td>\n",
       "      <td>32% off</td>\n",
       "      <td>546</td>\n",
       "      <td>Bank Offer</td>\n",
       "      <td>546 Ratings &amp; 36 Reviews</td>\n",
       "      <td>36</td>\n",
       "    </tr>\n",
       "    <tr>\n",
       "      <th>959</th>\n",
       "      <td>959</td>\n",
       "      <td>ZEBRONICS Pro Series Z Intel Core i5 12th Gen ...</td>\n",
       "      <td>₹36,990</td>\n",
       "      <td>39% off</td>\n",
       "      <td>1,111</td>\n",
       "      <td>Top Discount of the Sale</td>\n",
       "      <td>1,111 Ratings &amp; 141 Reviews</td>\n",
       "      <td>141</td>\n",
       "    </tr>\n",
       "  </tbody>\n",
       "</table>\n",
       "<p>960 rows × 8 columns</p>\n",
       "</div>"
      ],
      "text/plain": [
       "     Unnamed: 0                                               name    price  \\\n",
       "0             0  Samsung Galaxy Book5 AI Metal Intel Core Ultra...  ₹76,689   \n",
       "1             1  ASUS Expertbook P1 Intel Core i3 13th Gen 1315...  ₹33,990   \n",
       "2             2  Samsung Galaxy Book4 Metal Intel Core i3 13th ...  ₹35,990   \n",
       "3             3  Samsung Galaxy Book4 Metal Intel Core i5 13th ...  ₹47,690   \n",
       "4             4  ASUS Vivobook S14 (2025) with Office 2024 + M3...  ₹54,990   \n",
       "..          ...                                                ...      ...   \n",
       "955         955  Infinix Intel Core i7 11th Gen 1195G7 - (16 GB...  ₹39,990   \n",
       "956         956  MSI Thin A15 AMD Ryzen 5 Hexa Core 7535HS - (1...  ₹47,990   \n",
       "957         957  DELL Intel Core i3 13th Gen 1305U - (8 GB/512 ...  ₹32,990   \n",
       "958         958  Lenovo IdeaPad 1 AMD Ryzen 7 Octa Core 5700U -...  ₹44,000   \n",
       "959         959  ZEBRONICS Pro Series Z Intel Core i5 12th Gen ...  ₹36,990   \n",
       "\n",
       "    discount  rating                      bank  \\\n",
       "0    23% off     174                      Upto   \n",
       "1    51% off   2,367                      Upto   \n",
       "2    37% off   7,146                      Upto   \n",
       "3    39% off  12,735                      Upto   \n",
       "4    40% off     347  Top Discount of the Sale   \n",
       "..       ...     ...                       ...   \n",
       "955  55% off      17  Top Discount of the Sale   \n",
       "956  34% off     344  Top Discount of the Sale   \n",
       "957  29% off     355  Top Discount of the Sale   \n",
       "958  32% off     546                Bank Offer   \n",
       "959  39% off   1,111  Top Discount of the Sale   \n",
       "\n",
       "                       total_review  review  \n",
       "0          174 Ratings & 15 Reviews      15  \n",
       "1       2,367 Ratings & 212 Reviews     212  \n",
       "2       7,146 Ratings & 709 Reviews     709  \n",
       "3    12,735 Ratings & 1,018 Reviews   1,018  \n",
       "4          347 Ratings & 26 Reviews      26  \n",
       "..                              ...     ...  \n",
       "955          17 Ratings & 0 Reviews       0  \n",
       "956        344 Ratings & 33 Reviews      33  \n",
       "957        355 Ratings & 13 Reviews      13  \n",
       "958        546 Ratings & 36 Reviews      36  \n",
       "959     1,111 Ratings & 141 Reviews     141  \n",
       "\n",
       "[960 rows x 8 columns]"
      ]
     },
     "execution_count": 33,
     "metadata": {},
     "output_type": "execute_result"
    }
   ],
   "source": [
    "flip"
   ]
  },
  {
   "cell_type": "code",
   "execution_count": 34,
   "id": "acc4d281",
   "metadata": {},
   "outputs": [
    {
     "data": {
      "application/vnd.microsoft.datawrangler.viewer.v0+json": {
       "columns": [
        {
         "name": "index",
         "rawType": "int64",
         "type": "integer"
        },
        {
         "name": "bank",
         "rawType": "object",
         "type": "string"
        }
       ],
       "ref": "97def5ca-4a6f-42c9-bc07-9324bd7edf69",
       "rows": [
        [
         "407",
         "Top Discount of the Sale"
        ],
        [
         "124",
         "Only few left"
        ],
        [
         "46",
         "Top Discount of the Sale"
        ],
        [
         "194",
         "Top Discount of the Sale"
        ],
        [
         "406",
         "Top Discount of the Sale"
        ],
        [
         "372",
         "Top Discount of the Sale"
        ],
        [
         "195",
         "Upto"
        ],
        [
         "953",
         "Top Discount of the Sale"
        ],
        [
         "650",
         "Top Discount of the Sale"
        ],
        [
         "814",
         "Top Discount of the Sale"
        ]
       ],
       "shape": {
        "columns": 1,
        "rows": 10
       }
      },
      "text/plain": [
       "407    Top Discount of the Sale\n",
       "124               Only few left\n",
       "46     Top Discount of the Sale\n",
       "194    Top Discount of the Sale\n",
       "406    Top Discount of the Sale\n",
       "372    Top Discount of the Sale\n",
       "195                        Upto\n",
       "953    Top Discount of the Sale\n",
       "650    Top Discount of the Sale\n",
       "814    Top Discount of the Sale\n",
       "Name: bank, dtype: object"
      ]
     },
     "execution_count": 34,
     "metadata": {},
     "output_type": "execute_result"
    }
   ],
   "source": [
    "flip['bank'].sample(10)"
   ]
  },
  {
   "cell_type": "code",
   "execution_count": 35,
   "id": "26af7185",
   "metadata": {},
   "outputs": [],
   "source": [
    "def bank(s):\n",
    "\n",
    "    if 'Upto' in s and 'Bank Offer':\n",
    "        return 'BANK Offer available '\n",
    "    elif s=='Top Discount of the Sale':\n",
    "        return \"top discount\"\n",
    "    \n",
    "    elif 'Only few left' in s and 'Only 2 left':\n",
    "        return \"left product\"\n",
    "    else:\n",
    "        return \"Lowest price in the year\""
   ]
  },
  {
   "cell_type": "code",
   "execution_count": 36,
   "id": "32b5a18d",
   "metadata": {},
   "outputs": [],
   "source": [
    "flip['banks']= flip['bank'].apply(bank)"
   ]
  },
  {
   "cell_type": "code",
   "execution_count": 37,
   "id": "dbfb1394",
   "metadata": {},
   "outputs": [
    {
     "data": {
      "application/vnd.microsoft.datawrangler.viewer.v0+json": {
       "columns": [
        {
         "name": "index",
         "rawType": "int64",
         "type": "integer"
        },
        {
         "name": "banks",
         "rawType": "object",
         "type": "string"
        }
       ],
       "ref": "92f50702-f7cc-4942-9841-de9979b1902c",
       "rows": [
        [
         "664",
         "Lowest price in the year"
        ],
        [
         "816",
         "BANK Offer available "
        ],
        [
         "19",
         "top discount"
        ],
        [
         "663",
         "top discount"
        ],
        [
         "433",
         "BANK Offer available "
        ],
        [
         "199",
         "left product"
        ],
        [
         "626",
         "BANK Offer available "
        ],
        [
         "890",
         "Lowest price in the year"
        ],
        [
         "57",
         "top discount"
        ],
        [
         "793",
         "BANK Offer available "
        ]
       ],
       "shape": {
        "columns": 1,
        "rows": 10
       }
      },
      "text/plain": [
       "664    Lowest price in the year\n",
       "816       BANK Offer available \n",
       "19                 top discount\n",
       "663                top discount\n",
       "433       BANK Offer available \n",
       "199                left product\n",
       "626       BANK Offer available \n",
       "890    Lowest price in the year\n",
       "57                 top discount\n",
       "793       BANK Offer available \n",
       "Name: banks, dtype: object"
      ]
     },
     "execution_count": 37,
     "metadata": {},
     "output_type": "execute_result"
    }
   ],
   "source": [
    "flip['banks'].sample(10)"
   ]
  },
  {
   "cell_type": "code",
   "execution_count": 38,
   "id": "852f04e1",
   "metadata": {},
   "outputs": [],
   "source": [
    "flip.drop(columns=['total_review','bank'],inplace=True)"
   ]
  },
  {
   "cell_type": "code",
   "execution_count": 39,
   "id": "fc1da087",
   "metadata": {},
   "outputs": [],
   "source": [
    "flip.rename(columns={'Unnamed: 0':'drop'},inplace=True)"
   ]
  },
  {
   "cell_type": "code",
   "execution_count": 40,
   "id": "322b87cf",
   "metadata": {},
   "outputs": [],
   "source": [
    "flip.drop(columns=['drop'],inplace=True)"
   ]
  },
  {
   "cell_type": "code",
   "execution_count": 41,
   "id": "22a67704",
   "metadata": {},
   "outputs": [
    {
     "data": {
      "application/vnd.microsoft.datawrangler.viewer.v0+json": {
       "columns": [
        {
         "name": "index",
         "rawType": "int64",
         "type": "integer"
        },
        {
         "name": "name",
         "rawType": "object",
         "type": "string"
        },
        {
         "name": "price",
         "rawType": "object",
         "type": "string"
        },
        {
         "name": "discount",
         "rawType": "object",
         "type": "unknown"
        },
        {
         "name": "rating",
         "rawType": "object",
         "type": "unknown"
        },
        {
         "name": "review",
         "rawType": "object",
         "type": "unknown"
        },
        {
         "name": "banks",
         "rawType": "object",
         "type": "string"
        }
       ],
       "ref": "27d81e89-d837-444f-b963-b689e9ef2d4c",
       "rows": [
        [
         "0",
         "Samsung Galaxy Book5 AI Metal Intel Core Ultra 5 225U - (16 GB/512 GB SSD/Windows 11 Home) NP750XHD Th...",
         "₹76,689",
         "23% off",
         "174",
         " 15",
         "BANK Offer available "
        ],
        [
         "1",
         "ASUS Expertbook P1 Intel Core i3 13th Gen 1315U - (8 GB/512 GB SSD/Windows 11 Home) P1503CVA-S70501WS ...",
         "₹33,990",
         "51% off",
         "2,367",
         " 212",
         "BANK Offer available "
        ],
        [
         "2",
         "Samsung Galaxy Book4 Metal Intel Core i3 13th Gen 1315U - (8 GB/512 GB SSD/Windows 11 Home) NP750XGJ-L...",
         "₹35,990",
         "37% off",
         "7,146",
         " 709",
         "BANK Offer available "
        ],
        [
         "3",
         "Samsung Galaxy Book4 Metal Intel Core i5 13th Gen 1335U - (8 GB/512 GB SSD/Windows 11 Home) NP750XGJ-K...",
         "₹47,690",
         "39% off",
         "12,735",
         " 1,018",
         "BANK Offer available "
        ],
        [
         "4",
         "ASUS Vivobook S14 (2025) with Office 2024 + M365 Basic*, AI PC, Backlit Keyboard, Qualcomm Snapdragon ...",
         "₹54,990",
         "40% off",
         "347",
         " 26",
         "top discount"
        ],
        [
         "5",
         "Samsung Galaxy Book4 Metal Intel Core i5 13th Gen 1335U - (16 GB/512 GB SSD/Windows 11 Home) NP750XGJ-...",
         "₹51,890",
         "37% off",
         "12,735",
         " 1,018",
         "Lowest price in the year"
        ],
        [
         "6",
         "ASUS Vivobook Go 15 AMD Ryzen 3 Quad Core 7320U - (8 GB/512 GB SSD/Windows 11 Home) E1504FA-NJ130WS | ...",
         "₹29,240",
         "35% off",
         "879",
         " 60",
         "top discount"
        ],
        [
         "7",
         "DELL 15 AMD Ryzen 5 Hexa Core 7530U - (16 GB/512 GB SSD/Windows 11 Home) 3535 Thin and Light Laptop",
         "₹40,990",
         "27% off",
         "1,142",
         " 80",
         "top discount"
        ],
        [
         "8",
         "ASUS Vivobook S14 (2025) with Office 2024 + M365 Basic*, Backlit Keyboard, Intel Core i7 13th Gen 1362...",
         "₹58,990",
         "40% off",
         "79",
         " 3",
         "Lowest price in the year"
        ],
        [
         "9",
         "ASUS Vivobook 14 (2025) with Office 2024 + M365 Basic*, Intel Core i3 13th Gen 1315U - (8 GB/512 GB SS...",
         "₹32,990",
         "35% off",
         "1,855",
         " 121",
         "top discount"
        ],
        [
         "10",
         "GIGABYTE G Series Intel Core i7 13th Gen 13620H - (16 GB/1 TB SSD/Windows 11 Home/8 GB Graphics/NVIDIA...",
         "₹78,990",
         "51% off",
         "41",
         " 6",
         "left product"
        ],
        [
         "11",
         "Acer Aspire 3 Intel Core i3 12th Gen 1215U - (8 GB/512 GB SSD/Windows 11 Home) A324-51 Thin and Light ...",
         "₹25,990",
         "39% off",
         "4,529",
         " 344",
         "BANK Offer available "
        ],
        [
         "12",
         "ASUS Vivobook Go 15 AMD Ryzen 5 Quad Core 7520U - (16 GB/512 GB SSD/Windows 11 Home) E1504FA-NJ5542WS ...",
         "₹37,579",
         "32% off",
         "623",
         " 32",
         "top discount"
        ],
        [
         "13",
         "ASUS Vivobook 15 (2025) with Office 2024 + M365 Basic*, Backlit Keyboard, Intel Core i3 13th Gen 1315U...",
         "₹32,990",
         "34% off",
         "1,855",
         " 121",
         "top discount"
        ],
        [
         "14",
         "Lenovo Yoga Slim 6 WUXGA OLED Intel Core i5 13th Gen 13500H - (16 GB/512 GB SSD/Windows 11 Home) 14IRH...",
         "₹67,990",
         "39% off",
         "489",
         " 52",
         "BANK Offer available "
        ],
        [
         "15",
         "MSI Thin A15 AMD Ryzen 5 Hexa Core 7535HS - (16 GB/512 GB SSD/Windows 11 Home/4 GB Graphics/NVIDIA GeF...",
         "₹49,990",
         "36% off",
         "102",
         " 7",
         "top discount"
        ],
        [
         "16",
         "ASUS Vivobook 15 (2025) with Office 2024 + M365 Basic*, Intel Core i3 13th Gen 1315U - (8 GB/512 GB SS...",
         "₹32,990",
         "36% off",
         "1,855",
         " 121",
         "top discount"
        ],
        [
         "17",
         "MSI Thin A15 AMD Ryzen 5 Hexa Core 7535HS - (16 GB/512 GB SSD/Windows 11 Home/4 GB Graphics/NVIDIA GeF...",
         "₹47,990",
         "34% off",
         "344",
         " 33",
         "top discount"
        ],
        [
         "18",
         "ASUS Vivobook 15, with Backlit Keyboard, Intel Core i5 13th Gen 1334U - (16 GB/512 GB SSD/Windows 11 H...",
         "₹45,985",
         "35% off",
         "857",
         " 48",
         "top discount"
        ],
        [
         "19",
         "Lenovo IdeaPad Slim 5 WUXGA OLED Full Metal Body Intel Core i5 13th Gen 13420H - (16 GB/1 TB SSD/Windo...",
         "₹64,990",
         "33% off",
         "16",
         " 1",
         "top discount"
        ],
        [
         "20",
         "Acer Aspire AMD Ryzen 5 Hexa Core 7430U - (16 GB/1 TB SSD/Windows 11 Home) AS15-42 Thin and Light Lapt...",
         "₹37,990",
         "30% off",
         "2,363",
         " 268",
         "top discount"
        ],
        [
         "21",
         "Acer Aspire 3 (2025) Intel Core i5 13th Gen 1334U - (16 GB/512 GB SSD/Windows 11 Home) Aspire 3 A325-5...",
         "₹41,390",
         "51% off",
         "13",
         " 1",
         "top discount"
        ],
        [
         "22",
         "DELL Intel Core i3 13th Gen 1305U - (8 GB/512 GB SSD/Windows 11 Home) Vostro 3530,Vostro 3530 RPL Thin...",
         "₹32,990",
         "29% off",
         "355",
         " 13",
         "top discount"
        ],
        [
         "23",
         "ASUS Vivobook 14 (2025) with Office 2024 + M365 Basic*, Backlit Keyboard, Intel Core i3 13th Gen 1315U...",
         "₹32,990",
         "35% off",
         "1,855",
         " 121",
         "top discount"
        ],
        [
         "24",
         "Infinix X Air Pro+ Intel Core i5 13th Gen 1334U - (16 GB/512 GB SSD/Windows 11 Home) XL434 Thin and Li...",
         "₹36,990",
         "47% off",
         "76",
         " 10",
         "top discount"
        ],
        [
         "25",
         "ASUS Vivobook 15 (2025) with Office 2024 + M365 Basic*, Backlit Keyboard, Intel Core i5 13th Gen 1335U...",
         "₹45,990",
         "33% off",
         "857",
         " 48",
         "BANK Offer available "
        ],
        [
         "26",
         "Samsung Galaxy Book4 Metal Intel Core i3 13th Gen 1315U - (8 GB/512 GB SSD/Windows 11 Home) NP750XGJ-L...",
         "₹35,990",
         "37% off",
         "7,146",
         " 709",
         "BANK Offer available "
        ],
        [
         "27",
         "Samsung Galaxy Book4 Metal Intel Core i5 13th Gen 1335U - (8 GB/512 GB SSD/Windows 11 Home) NP750XGJ-K...",
         "₹47,690",
         "39% off",
         "12,735",
         " 1,018",
         "BANK Offer available "
        ],
        [
         "28",
         "HP 15 (2025) AMD Athlon Dual Core 7120U - (8 GB/256 GB SSD/Windows 11 Home) 15 Thin and Light Laptop",
         "₹24,990",
         "44% off",
         "139",
         " 7",
         "left product"
        ],
        [
         "29",
         "Lenovo IdeaPad Slim 1 AMD Ryzen 5 Hexa Core 5500U - (16 GB/512 GB SSD/Windows 11 Home) 15ALC7 Thin and...",
         "₹36,999",
         "55% off",
         "6,692",
         " 557",
         "left product"
        ],
        [
         "30",
         "ASUS Vivobook 16X (2025) with Office 2024 + M365 Basic* Intel Core i5 13th Gen 13420H - (16 GB/512 GB ...",
         "₹59,990",
         "33% off",
         "800",
         " 41",
         "top discount"
        ],
        [
         "31",
         "MSI Modern 14 C13M Intel Core i3 13th Gen 1315U - (8 GB/512 GB SSD/Windows 11 Home) Modern 14 C13M-115...",
         "₹27,990",
         "52% off",
         "15",
         " 2",
         "top discount"
        ],
        [
         "32",
         "ASUS Vivobook Go 15 AMD Ryzen 3 Quad Core 7320U - (8 GB/512 GB SSD/Windows 11 Home) E1504FA-NJ130WS | ...",
         "₹29,240",
         "35% off",
         "879",
         " 60",
         "top discount"
        ],
        [
         "33",
         "DELL 15 AMD Ryzen 5 Hexa Core 7530U - (16 GB/512 GB SSD/Windows 11 Home) 3535 Thin and Light Laptop",
         "₹40,990",
         "27% off",
         "1,142",
         " 80",
         "top discount"
        ],
        [
         "34",
         "ASUS Vivobook 14 (2025) with Office 2024 + M365 Basic*, Backlit Keyboard, Qualcomm Snapdragon X - (16 ...",
         "₹49,999",
         "39% off",
         "148",
         " 15",
         "top discount"
        ],
        [
         "35",
         "Acer Aspire Lite AMD Ryzen 3 Quad Core 5300U - (16 GB/512 GB SSD/Windows 11 Home) AL15-41 Thin and Lig...",
         "₹27,490",
         "46% off",
         "875",
         " 68",
         "left product"
        ],
        [
         "36",
         "ASUS Vivobook Go 15 AMD Ryzen 5 Quad Core 7520U - (16 GB/512 GB SSD/Windows 11 Home) E1504FA-NJ5542WS ...",
         "₹37,579",
         "32% off",
         "623",
         " 32",
         "top discount"
        ],
        [
         "37",
         "ASUS Vivobook 15 (2025) with Office 2024 + M365 Basic*, Backlit Keyboard, Intel Core i3 13th Gen 1315U...",
         "₹32,990",
         "34% off",
         "1,855",
         " 121",
         "top discount"
        ],
        [
         "38",
         "DELL Inspiron 15 MSO'24 with Backlit KB Intel Core i5 13th Gen 1334U - (16 GB/1 TB SSD/Windows 11 Home...",
         "₹54,990",
         "31% off",
         "312",
         " 14",
         "BANK Offer available "
        ],
        [
         "39",
         "Acer Intel Core i3 12th Gen 1215U - (16 GB/512 GB SSD/Windows 11 Home) A324-51 Thin and Light Laptop",
         "₹29,990",
         "37% off",
         "4,529",
         " 344",
         "BANK Offer available "
        ],
        [
         "40",
         "Lenovo IdeaPad Slim 3 Backlit Keyboard with MSO'2024 Intel Core i5 13th Gen 13420H - (24 GB/1 TB SSD/W...",
         "₹57,990",
         "34% off",
         "21",
         " 1",
         "top discount"
        ],
        [
         "41",
         "Lenovo IdeaPad Slim 3 Next Gen AI PC WUXGA IPS Copilot + PC Qualcomm Snapdragon X - (16 GB/512 GB SSD/...",
         "₹49,999",
         "46% off",
         "101",
         " 7",
         "top discount"
        ],
        [
         "42",
         "ASUS Vivobook 15 (2025) with Office 2024 + M365 Basic*, Intel Core i3 13th Gen 1315U - (8 GB/512 GB SS...",
         "₹32,990",
         "36% off",
         "1,855",
         " 121",
         "top discount"
        ],
        [
         "43",
         "MSI Thin A15 AMD Ryzen 5 Hexa Core 7535HS - (16 GB/512 GB SSD/Windows 11 Home/4 GB Graphics/NVIDIA GeF...",
         "₹47,990",
         "34% off",
         "344",
         " 33",
         "top discount"
        ],
        [
         "44",
         "ASUS Vivobook 15 (2025) (i5 14th Gen) with MSO 2024 + M365 Basic*, Backlit Keyboard, Intel Core 5 120U...",
         "₹43,990",
         "32% off",
         "471",
         " 32",
         "top discount"
        ],
        [
         "45",
         "Neopticon BrowseBook Intel Celeron Dual Core N4020 - (8 GB/256 GB SSD/Windows 11 Home) BBN40825614 Lap...",
         "₹16,990",
         "51% off",
         "72",
         " 5",
         "Lowest price in the year"
        ],
        [
         "46",
         "DELL Intel Core i3 13th Gen 1305U - (8 GB/512 GB SSD/Windows 11 Home) Vostro 3530,Vostro 3530 RPL Thin...",
         "₹32,990",
         "29% off",
         "355",
         " 13",
         "top discount"
        ],
        [
         "47",
         "ASUS Vivobook 14 (2025) with Office 2024 + M365 Basic*, Backlit Keyboard, Intel Core i3 13th Gen 1315U...",
         "₹32,990",
         "35% off",
         "1,855",
         " 121",
         "top discount"
        ],
        [
         "48",
         "Acer Aspire Lite AMD Ryzen 5 Hexa Core 5625U - (8 GB/512 GB SSD/Windows 11 Home) AL15-41 Thin and Ligh...",
         "₹29,990",
         "47% off",
         "2,111",
         " 165",
         "top discount"
        ],
        [
         "49",
         "Apple MacBook AIR Apple M2 - (16 GB/256 GB SSD/macOS Sequoia) MC7W4HN/A",
         "₹64,999",
         "24% off",
         "6,246",
         " 376",
         "top discount"
        ]
       ],
       "shape": {
        "columns": 6,
        "rows": 960
       }
      },
      "text/html": [
       "<div>\n",
       "<style scoped>\n",
       "    .dataframe tbody tr th:only-of-type {\n",
       "        vertical-align: middle;\n",
       "    }\n",
       "\n",
       "    .dataframe tbody tr th {\n",
       "        vertical-align: top;\n",
       "    }\n",
       "\n",
       "    .dataframe thead th {\n",
       "        text-align: right;\n",
       "    }\n",
       "</style>\n",
       "<table border=\"1\" class=\"dataframe\">\n",
       "  <thead>\n",
       "    <tr style=\"text-align: right;\">\n",
       "      <th></th>\n",
       "      <th>name</th>\n",
       "      <th>price</th>\n",
       "      <th>discount</th>\n",
       "      <th>rating</th>\n",
       "      <th>review</th>\n",
       "      <th>banks</th>\n",
       "    </tr>\n",
       "  </thead>\n",
       "  <tbody>\n",
       "    <tr>\n",
       "      <th>0</th>\n",
       "      <td>Samsung Galaxy Book5 AI Metal Intel Core Ultra...</td>\n",
       "      <td>₹76,689</td>\n",
       "      <td>23% off</td>\n",
       "      <td>174</td>\n",
       "      <td>15</td>\n",
       "      <td>BANK Offer available</td>\n",
       "    </tr>\n",
       "    <tr>\n",
       "      <th>1</th>\n",
       "      <td>ASUS Expertbook P1 Intel Core i3 13th Gen 1315...</td>\n",
       "      <td>₹33,990</td>\n",
       "      <td>51% off</td>\n",
       "      <td>2,367</td>\n",
       "      <td>212</td>\n",
       "      <td>BANK Offer available</td>\n",
       "    </tr>\n",
       "    <tr>\n",
       "      <th>2</th>\n",
       "      <td>Samsung Galaxy Book4 Metal Intel Core i3 13th ...</td>\n",
       "      <td>₹35,990</td>\n",
       "      <td>37% off</td>\n",
       "      <td>7,146</td>\n",
       "      <td>709</td>\n",
       "      <td>BANK Offer available</td>\n",
       "    </tr>\n",
       "    <tr>\n",
       "      <th>3</th>\n",
       "      <td>Samsung Galaxy Book4 Metal Intel Core i5 13th ...</td>\n",
       "      <td>₹47,690</td>\n",
       "      <td>39% off</td>\n",
       "      <td>12,735</td>\n",
       "      <td>1,018</td>\n",
       "      <td>BANK Offer available</td>\n",
       "    </tr>\n",
       "    <tr>\n",
       "      <th>4</th>\n",
       "      <td>ASUS Vivobook S14 (2025) with Office 2024 + M3...</td>\n",
       "      <td>₹54,990</td>\n",
       "      <td>40% off</td>\n",
       "      <td>347</td>\n",
       "      <td>26</td>\n",
       "      <td>top discount</td>\n",
       "    </tr>\n",
       "    <tr>\n",
       "      <th>...</th>\n",
       "      <td>...</td>\n",
       "      <td>...</td>\n",
       "      <td>...</td>\n",
       "      <td>...</td>\n",
       "      <td>...</td>\n",
       "      <td>...</td>\n",
       "    </tr>\n",
       "    <tr>\n",
       "      <th>955</th>\n",
       "      <td>Infinix Intel Core i7 11th Gen 1195G7 - (16 GB...</td>\n",
       "      <td>₹39,990</td>\n",
       "      <td>55% off</td>\n",
       "      <td>17</td>\n",
       "      <td>0</td>\n",
       "      <td>top discount</td>\n",
       "    </tr>\n",
       "    <tr>\n",
       "      <th>956</th>\n",
       "      <td>MSI Thin A15 AMD Ryzen 5 Hexa Core 7535HS - (1...</td>\n",
       "      <td>₹47,990</td>\n",
       "      <td>34% off</td>\n",
       "      <td>344</td>\n",
       "      <td>33</td>\n",
       "      <td>top discount</td>\n",
       "    </tr>\n",
       "    <tr>\n",
       "      <th>957</th>\n",
       "      <td>DELL Intel Core i3 13th Gen 1305U - (8 GB/512 ...</td>\n",
       "      <td>₹32,990</td>\n",
       "      <td>29% off</td>\n",
       "      <td>355</td>\n",
       "      <td>13</td>\n",
       "      <td>top discount</td>\n",
       "    </tr>\n",
       "    <tr>\n",
       "      <th>958</th>\n",
       "      <td>Lenovo IdeaPad 1 AMD Ryzen 7 Octa Core 5700U -...</td>\n",
       "      <td>₹44,000</td>\n",
       "      <td>32% off</td>\n",
       "      <td>546</td>\n",
       "      <td>36</td>\n",
       "      <td>Lowest price in the year</td>\n",
       "    </tr>\n",
       "    <tr>\n",
       "      <th>959</th>\n",
       "      <td>ZEBRONICS Pro Series Z Intel Core i5 12th Gen ...</td>\n",
       "      <td>₹36,990</td>\n",
       "      <td>39% off</td>\n",
       "      <td>1,111</td>\n",
       "      <td>141</td>\n",
       "      <td>top discount</td>\n",
       "    </tr>\n",
       "  </tbody>\n",
       "</table>\n",
       "<p>960 rows × 6 columns</p>\n",
       "</div>"
      ],
      "text/plain": [
       "                                                  name    price discount  \\\n",
       "0    Samsung Galaxy Book5 AI Metal Intel Core Ultra...  ₹76,689  23% off   \n",
       "1    ASUS Expertbook P1 Intel Core i3 13th Gen 1315...  ₹33,990  51% off   \n",
       "2    Samsung Galaxy Book4 Metal Intel Core i3 13th ...  ₹35,990  37% off   \n",
       "3    Samsung Galaxy Book4 Metal Intel Core i5 13th ...  ₹47,690  39% off   \n",
       "4    ASUS Vivobook S14 (2025) with Office 2024 + M3...  ₹54,990  40% off   \n",
       "..                                                 ...      ...      ...   \n",
       "955  Infinix Intel Core i7 11th Gen 1195G7 - (16 GB...  ₹39,990  55% off   \n",
       "956  MSI Thin A15 AMD Ryzen 5 Hexa Core 7535HS - (1...  ₹47,990  34% off   \n",
       "957  DELL Intel Core i3 13th Gen 1305U - (8 GB/512 ...  ₹32,990  29% off   \n",
       "958  Lenovo IdeaPad 1 AMD Ryzen 7 Octa Core 5700U -...  ₹44,000  32% off   \n",
       "959  ZEBRONICS Pro Series Z Intel Core i5 12th Gen ...  ₹36,990  39% off   \n",
       "\n",
       "     rating  review                     banks  \n",
       "0       174      15     BANK Offer available   \n",
       "1     2,367     212     BANK Offer available   \n",
       "2     7,146     709     BANK Offer available   \n",
       "3    12,735   1,018     BANK Offer available   \n",
       "4       347      26              top discount  \n",
       "..      ...     ...                       ...  \n",
       "955      17       0              top discount  \n",
       "956     344      33              top discount  \n",
       "957     355      13              top discount  \n",
       "958     546      36  Lowest price in the year  \n",
       "959   1,111     141              top discount  \n",
       "\n",
       "[960 rows x 6 columns]"
      ]
     },
     "execution_count": 41,
     "metadata": {},
     "output_type": "execute_result"
    }
   ],
   "source": [
    "flip"
   ]
  },
  {
   "cell_type": "code",
   "execution_count": 42,
   "id": "db3ef15b",
   "metadata": {},
   "outputs": [],
   "source": [
    "flip['discount%']=flip['discount'].str.split('%',expand=True)[0]"
   ]
  },
  {
   "cell_type": "code",
   "execution_count": 43,
   "id": "06916535",
   "metadata": {},
   "outputs": [],
   "source": [
    "flip.drop(columns=['discount'],inplace=True)"
   ]
  },
  {
   "cell_type": "code",
   "execution_count": 44,
   "id": "935838c4",
   "metadata": {},
   "outputs": [
    {
     "data": {
      "application/vnd.microsoft.datawrangler.viewer.v0+json": {
       "columns": [
        {
         "name": "index",
         "rawType": "int64",
         "type": "integer"
        },
        {
         "name": "name",
         "rawType": "object",
         "type": "string"
        },
        {
         "name": "price",
         "rawType": "object",
         "type": "string"
        },
        {
         "name": "rating",
         "rawType": "object",
         "type": "unknown"
        },
        {
         "name": "review",
         "rawType": "object",
         "type": "unknown"
        },
        {
         "name": "banks",
         "rawType": "object",
         "type": "string"
        },
        {
         "name": "discount%",
         "rawType": "object",
         "type": "unknown"
        }
       ],
       "ref": "a36c40fa-84e7-4de3-a24f-caaf7ccdbcf4",
       "rows": [
        [
         "0",
         "Samsung Galaxy Book5 AI Metal Intel Core Ultra 5 225U - (16 GB/512 GB SSD/Windows 11 Home) NP750XHD Th...",
         "₹76,689",
         "174",
         " 15",
         "BANK Offer available ",
         "23"
        ],
        [
         "1",
         "ASUS Expertbook P1 Intel Core i3 13th Gen 1315U - (8 GB/512 GB SSD/Windows 11 Home) P1503CVA-S70501WS ...",
         "₹33,990",
         "2,367",
         " 212",
         "BANK Offer available ",
         "51"
        ],
        [
         "2",
         "Samsung Galaxy Book4 Metal Intel Core i3 13th Gen 1315U - (8 GB/512 GB SSD/Windows 11 Home) NP750XGJ-L...",
         "₹35,990",
         "7,146",
         " 709",
         "BANK Offer available ",
         "37"
        ],
        [
         "3",
         "Samsung Galaxy Book4 Metal Intel Core i5 13th Gen 1335U - (8 GB/512 GB SSD/Windows 11 Home) NP750XGJ-K...",
         "₹47,690",
         "12,735",
         " 1,018",
         "BANK Offer available ",
         "39"
        ],
        [
         "4",
         "ASUS Vivobook S14 (2025) with Office 2024 + M365 Basic*, AI PC, Backlit Keyboard, Qualcomm Snapdragon ...",
         "₹54,990",
         "347",
         " 26",
         "top discount",
         "40"
        ],
        [
         "5",
         "Samsung Galaxy Book4 Metal Intel Core i5 13th Gen 1335U - (16 GB/512 GB SSD/Windows 11 Home) NP750XGJ-...",
         "₹51,890",
         "12,735",
         " 1,018",
         "Lowest price in the year",
         "37"
        ],
        [
         "6",
         "ASUS Vivobook Go 15 AMD Ryzen 3 Quad Core 7320U - (8 GB/512 GB SSD/Windows 11 Home) E1504FA-NJ130WS | ...",
         "₹29,240",
         "879",
         " 60",
         "top discount",
         "35"
        ],
        [
         "7",
         "DELL 15 AMD Ryzen 5 Hexa Core 7530U - (16 GB/512 GB SSD/Windows 11 Home) 3535 Thin and Light Laptop",
         "₹40,990",
         "1,142",
         " 80",
         "top discount",
         "27"
        ],
        [
         "8",
         "ASUS Vivobook S14 (2025) with Office 2024 + M365 Basic*, Backlit Keyboard, Intel Core i7 13th Gen 1362...",
         "₹58,990",
         "79",
         " 3",
         "Lowest price in the year",
         "40"
        ],
        [
         "9",
         "ASUS Vivobook 14 (2025) with Office 2024 + M365 Basic*, Intel Core i3 13th Gen 1315U - (8 GB/512 GB SS...",
         "₹32,990",
         "1,855",
         " 121",
         "top discount",
         "35"
        ],
        [
         "10",
         "GIGABYTE G Series Intel Core i7 13th Gen 13620H - (16 GB/1 TB SSD/Windows 11 Home/8 GB Graphics/NVIDIA...",
         "₹78,990",
         "41",
         " 6",
         "left product",
         "51"
        ],
        [
         "11",
         "Acer Aspire 3 Intel Core i3 12th Gen 1215U - (8 GB/512 GB SSD/Windows 11 Home) A324-51 Thin and Light ...",
         "₹25,990",
         "4,529",
         " 344",
         "BANK Offer available ",
         "39"
        ],
        [
         "12",
         "ASUS Vivobook Go 15 AMD Ryzen 5 Quad Core 7520U - (16 GB/512 GB SSD/Windows 11 Home) E1504FA-NJ5542WS ...",
         "₹37,579",
         "623",
         " 32",
         "top discount",
         "32"
        ],
        [
         "13",
         "ASUS Vivobook 15 (2025) with Office 2024 + M365 Basic*, Backlit Keyboard, Intel Core i3 13th Gen 1315U...",
         "₹32,990",
         "1,855",
         " 121",
         "top discount",
         "34"
        ],
        [
         "14",
         "Lenovo Yoga Slim 6 WUXGA OLED Intel Core i5 13th Gen 13500H - (16 GB/512 GB SSD/Windows 11 Home) 14IRH...",
         "₹67,990",
         "489",
         " 52",
         "BANK Offer available ",
         "39"
        ],
        [
         "15",
         "MSI Thin A15 AMD Ryzen 5 Hexa Core 7535HS - (16 GB/512 GB SSD/Windows 11 Home/4 GB Graphics/NVIDIA GeF...",
         "₹49,990",
         "102",
         " 7",
         "top discount",
         "36"
        ],
        [
         "16",
         "ASUS Vivobook 15 (2025) with Office 2024 + M365 Basic*, Intel Core i3 13th Gen 1315U - (8 GB/512 GB SS...",
         "₹32,990",
         "1,855",
         " 121",
         "top discount",
         "36"
        ],
        [
         "17",
         "MSI Thin A15 AMD Ryzen 5 Hexa Core 7535HS - (16 GB/512 GB SSD/Windows 11 Home/4 GB Graphics/NVIDIA GeF...",
         "₹47,990",
         "344",
         " 33",
         "top discount",
         "34"
        ],
        [
         "18",
         "ASUS Vivobook 15, with Backlit Keyboard, Intel Core i5 13th Gen 1334U - (16 GB/512 GB SSD/Windows 11 H...",
         "₹45,985",
         "857",
         " 48",
         "top discount",
         "35"
        ],
        [
         "19",
         "Lenovo IdeaPad Slim 5 WUXGA OLED Full Metal Body Intel Core i5 13th Gen 13420H - (16 GB/1 TB SSD/Windo...",
         "₹64,990",
         "16",
         " 1",
         "top discount",
         "33"
        ],
        [
         "20",
         "Acer Aspire AMD Ryzen 5 Hexa Core 7430U - (16 GB/1 TB SSD/Windows 11 Home) AS15-42 Thin and Light Lapt...",
         "₹37,990",
         "2,363",
         " 268",
         "top discount",
         "30"
        ],
        [
         "21",
         "Acer Aspire 3 (2025) Intel Core i5 13th Gen 1334U - (16 GB/512 GB SSD/Windows 11 Home) Aspire 3 A325-5...",
         "₹41,390",
         "13",
         " 1",
         "top discount",
         "51"
        ],
        [
         "22",
         "DELL Intel Core i3 13th Gen 1305U - (8 GB/512 GB SSD/Windows 11 Home) Vostro 3530,Vostro 3530 RPL Thin...",
         "₹32,990",
         "355",
         " 13",
         "top discount",
         "29"
        ],
        [
         "23",
         "ASUS Vivobook 14 (2025) with Office 2024 + M365 Basic*, Backlit Keyboard, Intel Core i3 13th Gen 1315U...",
         "₹32,990",
         "1,855",
         " 121",
         "top discount",
         "35"
        ],
        [
         "24",
         "Infinix X Air Pro+ Intel Core i5 13th Gen 1334U - (16 GB/512 GB SSD/Windows 11 Home) XL434 Thin and Li...",
         "₹36,990",
         "76",
         " 10",
         "top discount",
         "47"
        ],
        [
         "25",
         "ASUS Vivobook 15 (2025) with Office 2024 + M365 Basic*, Backlit Keyboard, Intel Core i5 13th Gen 1335U...",
         "₹45,990",
         "857",
         " 48",
         "BANK Offer available ",
         "33"
        ],
        [
         "26",
         "Samsung Galaxy Book4 Metal Intel Core i3 13th Gen 1315U - (8 GB/512 GB SSD/Windows 11 Home) NP750XGJ-L...",
         "₹35,990",
         "7,146",
         " 709",
         "BANK Offer available ",
         "37"
        ],
        [
         "27",
         "Samsung Galaxy Book4 Metal Intel Core i5 13th Gen 1335U - (8 GB/512 GB SSD/Windows 11 Home) NP750XGJ-K...",
         "₹47,690",
         "12,735",
         " 1,018",
         "BANK Offer available ",
         "39"
        ],
        [
         "28",
         "HP 15 (2025) AMD Athlon Dual Core 7120U - (8 GB/256 GB SSD/Windows 11 Home) 15 Thin and Light Laptop",
         "₹24,990",
         "139",
         " 7",
         "left product",
         "44"
        ],
        [
         "29",
         "Lenovo IdeaPad Slim 1 AMD Ryzen 5 Hexa Core 5500U - (16 GB/512 GB SSD/Windows 11 Home) 15ALC7 Thin and...",
         "₹36,999",
         "6,692",
         " 557",
         "left product",
         "55"
        ],
        [
         "30",
         "ASUS Vivobook 16X (2025) with Office 2024 + M365 Basic* Intel Core i5 13th Gen 13420H - (16 GB/512 GB ...",
         "₹59,990",
         "800",
         " 41",
         "top discount",
         "33"
        ],
        [
         "31",
         "MSI Modern 14 C13M Intel Core i3 13th Gen 1315U - (8 GB/512 GB SSD/Windows 11 Home) Modern 14 C13M-115...",
         "₹27,990",
         "15",
         " 2",
         "top discount",
         "52"
        ],
        [
         "32",
         "ASUS Vivobook Go 15 AMD Ryzen 3 Quad Core 7320U - (8 GB/512 GB SSD/Windows 11 Home) E1504FA-NJ130WS | ...",
         "₹29,240",
         "879",
         " 60",
         "top discount",
         "35"
        ],
        [
         "33",
         "DELL 15 AMD Ryzen 5 Hexa Core 7530U - (16 GB/512 GB SSD/Windows 11 Home) 3535 Thin and Light Laptop",
         "₹40,990",
         "1,142",
         " 80",
         "top discount",
         "27"
        ],
        [
         "34",
         "ASUS Vivobook 14 (2025) with Office 2024 + M365 Basic*, Backlit Keyboard, Qualcomm Snapdragon X - (16 ...",
         "₹49,999",
         "148",
         " 15",
         "top discount",
         "39"
        ],
        [
         "35",
         "Acer Aspire Lite AMD Ryzen 3 Quad Core 5300U - (16 GB/512 GB SSD/Windows 11 Home) AL15-41 Thin and Lig...",
         "₹27,490",
         "875",
         " 68",
         "left product",
         "46"
        ],
        [
         "36",
         "ASUS Vivobook Go 15 AMD Ryzen 5 Quad Core 7520U - (16 GB/512 GB SSD/Windows 11 Home) E1504FA-NJ5542WS ...",
         "₹37,579",
         "623",
         " 32",
         "top discount",
         "32"
        ],
        [
         "37",
         "ASUS Vivobook 15 (2025) with Office 2024 + M365 Basic*, Backlit Keyboard, Intel Core i3 13th Gen 1315U...",
         "₹32,990",
         "1,855",
         " 121",
         "top discount",
         "34"
        ],
        [
         "38",
         "DELL Inspiron 15 MSO'24 with Backlit KB Intel Core i5 13th Gen 1334U - (16 GB/1 TB SSD/Windows 11 Home...",
         "₹54,990",
         "312",
         " 14",
         "BANK Offer available ",
         "31"
        ],
        [
         "39",
         "Acer Intel Core i3 12th Gen 1215U - (16 GB/512 GB SSD/Windows 11 Home) A324-51 Thin and Light Laptop",
         "₹29,990",
         "4,529",
         " 344",
         "BANK Offer available ",
         "37"
        ],
        [
         "40",
         "Lenovo IdeaPad Slim 3 Backlit Keyboard with MSO'2024 Intel Core i5 13th Gen 13420H - (24 GB/1 TB SSD/W...",
         "₹57,990",
         "21",
         " 1",
         "top discount",
         "34"
        ],
        [
         "41",
         "Lenovo IdeaPad Slim 3 Next Gen AI PC WUXGA IPS Copilot + PC Qualcomm Snapdragon X - (16 GB/512 GB SSD/...",
         "₹49,999",
         "101",
         " 7",
         "top discount",
         "46"
        ],
        [
         "42",
         "ASUS Vivobook 15 (2025) with Office 2024 + M365 Basic*, Intel Core i3 13th Gen 1315U - (8 GB/512 GB SS...",
         "₹32,990",
         "1,855",
         " 121",
         "top discount",
         "36"
        ],
        [
         "43",
         "MSI Thin A15 AMD Ryzen 5 Hexa Core 7535HS - (16 GB/512 GB SSD/Windows 11 Home/4 GB Graphics/NVIDIA GeF...",
         "₹47,990",
         "344",
         " 33",
         "top discount",
         "34"
        ],
        [
         "44",
         "ASUS Vivobook 15 (2025) (i5 14th Gen) with MSO 2024 + M365 Basic*, Backlit Keyboard, Intel Core 5 120U...",
         "₹43,990",
         "471",
         " 32",
         "top discount",
         "32"
        ],
        [
         "45",
         "Neopticon BrowseBook Intel Celeron Dual Core N4020 - (8 GB/256 GB SSD/Windows 11 Home) BBN40825614 Lap...",
         "₹16,990",
         "72",
         " 5",
         "Lowest price in the year",
         "51"
        ],
        [
         "46",
         "DELL Intel Core i3 13th Gen 1305U - (8 GB/512 GB SSD/Windows 11 Home) Vostro 3530,Vostro 3530 RPL Thin...",
         "₹32,990",
         "355",
         " 13",
         "top discount",
         "29"
        ],
        [
         "47",
         "ASUS Vivobook 14 (2025) with Office 2024 + M365 Basic*, Backlit Keyboard, Intel Core i3 13th Gen 1315U...",
         "₹32,990",
         "1,855",
         " 121",
         "top discount",
         "35"
        ],
        [
         "48",
         "Acer Aspire Lite AMD Ryzen 5 Hexa Core 5625U - (8 GB/512 GB SSD/Windows 11 Home) AL15-41 Thin and Ligh...",
         "₹29,990",
         "2,111",
         " 165",
         "top discount",
         "47"
        ],
        [
         "49",
         "Apple MacBook AIR Apple M2 - (16 GB/256 GB SSD/macOS Sequoia) MC7W4HN/A",
         "₹64,999",
         "6,246",
         " 376",
         "top discount",
         "24"
        ]
       ],
       "shape": {
        "columns": 6,
        "rows": 960
       }
      },
      "text/html": [
       "<div>\n",
       "<style scoped>\n",
       "    .dataframe tbody tr th:only-of-type {\n",
       "        vertical-align: middle;\n",
       "    }\n",
       "\n",
       "    .dataframe tbody tr th {\n",
       "        vertical-align: top;\n",
       "    }\n",
       "\n",
       "    .dataframe thead th {\n",
       "        text-align: right;\n",
       "    }\n",
       "</style>\n",
       "<table border=\"1\" class=\"dataframe\">\n",
       "  <thead>\n",
       "    <tr style=\"text-align: right;\">\n",
       "      <th></th>\n",
       "      <th>name</th>\n",
       "      <th>price</th>\n",
       "      <th>rating</th>\n",
       "      <th>review</th>\n",
       "      <th>banks</th>\n",
       "      <th>discount%</th>\n",
       "    </tr>\n",
       "  </thead>\n",
       "  <tbody>\n",
       "    <tr>\n",
       "      <th>0</th>\n",
       "      <td>Samsung Galaxy Book5 AI Metal Intel Core Ultra...</td>\n",
       "      <td>₹76,689</td>\n",
       "      <td>174</td>\n",
       "      <td>15</td>\n",
       "      <td>BANK Offer available</td>\n",
       "      <td>23</td>\n",
       "    </tr>\n",
       "    <tr>\n",
       "      <th>1</th>\n",
       "      <td>ASUS Expertbook P1 Intel Core i3 13th Gen 1315...</td>\n",
       "      <td>₹33,990</td>\n",
       "      <td>2,367</td>\n",
       "      <td>212</td>\n",
       "      <td>BANK Offer available</td>\n",
       "      <td>51</td>\n",
       "    </tr>\n",
       "    <tr>\n",
       "      <th>2</th>\n",
       "      <td>Samsung Galaxy Book4 Metal Intel Core i3 13th ...</td>\n",
       "      <td>₹35,990</td>\n",
       "      <td>7,146</td>\n",
       "      <td>709</td>\n",
       "      <td>BANK Offer available</td>\n",
       "      <td>37</td>\n",
       "    </tr>\n",
       "    <tr>\n",
       "      <th>3</th>\n",
       "      <td>Samsung Galaxy Book4 Metal Intel Core i5 13th ...</td>\n",
       "      <td>₹47,690</td>\n",
       "      <td>12,735</td>\n",
       "      <td>1,018</td>\n",
       "      <td>BANK Offer available</td>\n",
       "      <td>39</td>\n",
       "    </tr>\n",
       "    <tr>\n",
       "      <th>4</th>\n",
       "      <td>ASUS Vivobook S14 (2025) with Office 2024 + M3...</td>\n",
       "      <td>₹54,990</td>\n",
       "      <td>347</td>\n",
       "      <td>26</td>\n",
       "      <td>top discount</td>\n",
       "      <td>40</td>\n",
       "    </tr>\n",
       "    <tr>\n",
       "      <th>...</th>\n",
       "      <td>...</td>\n",
       "      <td>...</td>\n",
       "      <td>...</td>\n",
       "      <td>...</td>\n",
       "      <td>...</td>\n",
       "      <td>...</td>\n",
       "    </tr>\n",
       "    <tr>\n",
       "      <th>955</th>\n",
       "      <td>Infinix Intel Core i7 11th Gen 1195G7 - (16 GB...</td>\n",
       "      <td>₹39,990</td>\n",
       "      <td>17</td>\n",
       "      <td>0</td>\n",
       "      <td>top discount</td>\n",
       "      <td>55</td>\n",
       "    </tr>\n",
       "    <tr>\n",
       "      <th>956</th>\n",
       "      <td>MSI Thin A15 AMD Ryzen 5 Hexa Core 7535HS - (1...</td>\n",
       "      <td>₹47,990</td>\n",
       "      <td>344</td>\n",
       "      <td>33</td>\n",
       "      <td>top discount</td>\n",
       "      <td>34</td>\n",
       "    </tr>\n",
       "    <tr>\n",
       "      <th>957</th>\n",
       "      <td>DELL Intel Core i3 13th Gen 1305U - (8 GB/512 ...</td>\n",
       "      <td>₹32,990</td>\n",
       "      <td>355</td>\n",
       "      <td>13</td>\n",
       "      <td>top discount</td>\n",
       "      <td>29</td>\n",
       "    </tr>\n",
       "    <tr>\n",
       "      <th>958</th>\n",
       "      <td>Lenovo IdeaPad 1 AMD Ryzen 7 Octa Core 5700U -...</td>\n",
       "      <td>₹44,000</td>\n",
       "      <td>546</td>\n",
       "      <td>36</td>\n",
       "      <td>Lowest price in the year</td>\n",
       "      <td>32</td>\n",
       "    </tr>\n",
       "    <tr>\n",
       "      <th>959</th>\n",
       "      <td>ZEBRONICS Pro Series Z Intel Core i5 12th Gen ...</td>\n",
       "      <td>₹36,990</td>\n",
       "      <td>1,111</td>\n",
       "      <td>141</td>\n",
       "      <td>top discount</td>\n",
       "      <td>39</td>\n",
       "    </tr>\n",
       "  </tbody>\n",
       "</table>\n",
       "<p>960 rows × 6 columns</p>\n",
       "</div>"
      ],
      "text/plain": [
       "                                                  name    price  rating  \\\n",
       "0    Samsung Galaxy Book5 AI Metal Intel Core Ultra...  ₹76,689     174   \n",
       "1    ASUS Expertbook P1 Intel Core i3 13th Gen 1315...  ₹33,990   2,367   \n",
       "2    Samsung Galaxy Book4 Metal Intel Core i3 13th ...  ₹35,990   7,146   \n",
       "3    Samsung Galaxy Book4 Metal Intel Core i5 13th ...  ₹47,690  12,735   \n",
       "4    ASUS Vivobook S14 (2025) with Office 2024 + M3...  ₹54,990     347   \n",
       "..                                                 ...      ...     ...   \n",
       "955  Infinix Intel Core i7 11th Gen 1195G7 - (16 GB...  ₹39,990      17   \n",
       "956  MSI Thin A15 AMD Ryzen 5 Hexa Core 7535HS - (1...  ₹47,990     344   \n",
       "957  DELL Intel Core i3 13th Gen 1305U - (8 GB/512 ...  ₹32,990     355   \n",
       "958  Lenovo IdeaPad 1 AMD Ryzen 7 Octa Core 5700U -...  ₹44,000     546   \n",
       "959  ZEBRONICS Pro Series Z Intel Core i5 12th Gen ...  ₹36,990   1,111   \n",
       "\n",
       "     review                     banks discount%  \n",
       "0        15     BANK Offer available         23  \n",
       "1       212     BANK Offer available         51  \n",
       "2       709     BANK Offer available         37  \n",
       "3     1,018     BANK Offer available         39  \n",
       "4        26              top discount        40  \n",
       "..      ...                       ...       ...  \n",
       "955       0              top discount        55  \n",
       "956      33              top discount        34  \n",
       "957      13              top discount        29  \n",
       "958      36  Lowest price in the year        32  \n",
       "959     141              top discount        39  \n",
       "\n",
       "[960 rows x 6 columns]"
      ]
     },
     "execution_count": 44,
     "metadata": {},
     "output_type": "execute_result"
    }
   ],
   "source": [
    "flip"
   ]
  },
  {
   "cell_type": "code",
   "execution_count": 45,
   "id": "c9366b80",
   "metadata": {},
   "outputs": [],
   "source": [
    "flip['price']=flip['price'].str.split('₹',expand=True)[1]"
   ]
  },
  {
   "cell_type": "code",
   "execution_count": 46,
   "id": "a1710c97",
   "metadata": {},
   "outputs": [
    {
     "data": {
      "application/vnd.microsoft.datawrangler.viewer.v0+json": {
       "columns": [
        {
         "name": "index",
         "rawType": "int64",
         "type": "integer"
        },
        {
         "name": "name",
         "rawType": "object",
         "type": "string"
        },
        {
         "name": "price",
         "rawType": "object",
         "type": "string"
        },
        {
         "name": "rating",
         "rawType": "object",
         "type": "unknown"
        },
        {
         "name": "review",
         "rawType": "object",
         "type": "unknown"
        },
        {
         "name": "banks",
         "rawType": "object",
         "type": "string"
        },
        {
         "name": "discount%",
         "rawType": "object",
         "type": "string"
        }
       ],
       "ref": "82bc8c31-7667-47d4-9412-1463ce12f654",
       "rows": [
        [
         "229",
         "Lenovo IdeaPad Slim 3 Intel Core i5 12th Gen 12450H - (8 GB/512 GB SSD/Windows 11 Home) 14IAH8 Thin an...",
         "44,490",
         "2,565",
         " 130",
         "top discount",
         "32"
        ],
        [
         "454",
         "MSI Intel Core i5 12th Gen 1235U - (8 GB/512 GB SSD/Windows 11 Home) Modern 14 C12MO-1400IN Business L...",
         "38,990",
         "336",
         " 33",
         "top discount",
         "30"
        ],
        [
         "345",
         "Lenovo IdeaPad Slim 3 Intel Core i3 13th Gen 1305U - (8 GB/512 GB SSD/Windows 11 Home) 14IRU8 Thin and...",
         "38,990",
         "110",
         " 9",
         "Lowest price in the year",
         "29"
        ],
        [
         "875",
         "HP 255 G10 AMD Ryzen 3 Octa Core 13th Gen AMD Ryzen™ 3 7320U (up to 4.1 GHz, 4 cores, 8 threads) - (8 ...",
         "30,780",
         "180",
         " 18",
         "Lowest price in the year",
         "26"
        ],
        [
         "224",
         "HP Victus AI 31 TOPS AMD Ryzen 5 Hexa Core 8645HS - (16 GB/512 GB SSD/Windows 11 Home/4 GB Graphics/NV...",
         "57,990",
         "287",
         " 27",
         "BANK Offer available ",
         "21"
        ],
        [
         "772",
         "Samsung Galaxy Book4 Metal Intel Core i3 13th Gen 1315U - (8 GB/512 GB SSD/Windows 11 Home) NP750XGJ-L...",
         "35,990",
         "7,146",
         " 709",
         "BANK Offer available ",
         "37"
        ],
        [
         "616",
         "ASUS Vivobook Go 15 AMD Ryzen 5 Quad Core 7520U - (16 GB/512 GB SSD/Windows 11 Home) E1504FA-NJ5542WS ...",
         "37,579",
         "623",
         " 32",
         "top discount",
         "32"
        ],
        [
         "121",
         "HP MS Office 2024 Intel Core i5 13th Gen 1334U - (8 GB/512 GB SSD/Windows 11 Home) fd0466TU Thin and L...",
         "48,199",
         "496",
         " 20",
         "left product",
         "23"
        ],
        [
         "444",
         "Apple Apple M3 - (16 GB/256 GB SSD/macOS Sequoia) MC8G4HN/A",
         "84,990",
         "622",
         " 41",
         "top discount",
         "26"
        ],
        [
         "654",
         "HP Professional 240 G10 (2025) Intel Core i5 13th Gen 1334U - (16 GB/512 GB SSD/Windows 11 Pro) 240 G1...",
         "53,236",
         null,
         null,
         "Lowest price in the year",
         "43"
        ]
       ],
       "shape": {
        "columns": 6,
        "rows": 10
       }
      },
      "text/html": [
       "<div>\n",
       "<style scoped>\n",
       "    .dataframe tbody tr th:only-of-type {\n",
       "        vertical-align: middle;\n",
       "    }\n",
       "\n",
       "    .dataframe tbody tr th {\n",
       "        vertical-align: top;\n",
       "    }\n",
       "\n",
       "    .dataframe thead th {\n",
       "        text-align: right;\n",
       "    }\n",
       "</style>\n",
       "<table border=\"1\" class=\"dataframe\">\n",
       "  <thead>\n",
       "    <tr style=\"text-align: right;\">\n",
       "      <th></th>\n",
       "      <th>name</th>\n",
       "      <th>price</th>\n",
       "      <th>rating</th>\n",
       "      <th>review</th>\n",
       "      <th>banks</th>\n",
       "      <th>discount%</th>\n",
       "    </tr>\n",
       "  </thead>\n",
       "  <tbody>\n",
       "    <tr>\n",
       "      <th>229</th>\n",
       "      <td>Lenovo IdeaPad Slim 3 Intel Core i5 12th Gen 1...</td>\n",
       "      <td>44,490</td>\n",
       "      <td>2,565</td>\n",
       "      <td>130</td>\n",
       "      <td>top discount</td>\n",
       "      <td>32</td>\n",
       "    </tr>\n",
       "    <tr>\n",
       "      <th>454</th>\n",
       "      <td>MSI Intel Core i5 12th Gen 1235U - (8 GB/512 G...</td>\n",
       "      <td>38,990</td>\n",
       "      <td>336</td>\n",
       "      <td>33</td>\n",
       "      <td>top discount</td>\n",
       "      <td>30</td>\n",
       "    </tr>\n",
       "    <tr>\n",
       "      <th>345</th>\n",
       "      <td>Lenovo IdeaPad Slim 3 Intel Core i3 13th Gen 1...</td>\n",
       "      <td>38,990</td>\n",
       "      <td>110</td>\n",
       "      <td>9</td>\n",
       "      <td>Lowest price in the year</td>\n",
       "      <td>29</td>\n",
       "    </tr>\n",
       "    <tr>\n",
       "      <th>875</th>\n",
       "      <td>HP 255 G10 AMD Ryzen 3 Octa Core 13th Gen AMD ...</td>\n",
       "      <td>30,780</td>\n",
       "      <td>180</td>\n",
       "      <td>18</td>\n",
       "      <td>Lowest price in the year</td>\n",
       "      <td>26</td>\n",
       "    </tr>\n",
       "    <tr>\n",
       "      <th>224</th>\n",
       "      <td>HP Victus AI 31 TOPS AMD Ryzen 5 Hexa Core 864...</td>\n",
       "      <td>57,990</td>\n",
       "      <td>287</td>\n",
       "      <td>27</td>\n",
       "      <td>BANK Offer available</td>\n",
       "      <td>21</td>\n",
       "    </tr>\n",
       "    <tr>\n",
       "      <th>772</th>\n",
       "      <td>Samsung Galaxy Book4 Metal Intel Core i3 13th ...</td>\n",
       "      <td>35,990</td>\n",
       "      <td>7,146</td>\n",
       "      <td>709</td>\n",
       "      <td>BANK Offer available</td>\n",
       "      <td>37</td>\n",
       "    </tr>\n",
       "    <tr>\n",
       "      <th>616</th>\n",
       "      <td>ASUS Vivobook Go 15 AMD Ryzen 5 Quad Core 7520...</td>\n",
       "      <td>37,579</td>\n",
       "      <td>623</td>\n",
       "      <td>32</td>\n",
       "      <td>top discount</td>\n",
       "      <td>32</td>\n",
       "    </tr>\n",
       "    <tr>\n",
       "      <th>121</th>\n",
       "      <td>HP MS Office 2024 Intel Core i5 13th Gen 1334U...</td>\n",
       "      <td>48,199</td>\n",
       "      <td>496</td>\n",
       "      <td>20</td>\n",
       "      <td>left product</td>\n",
       "      <td>23</td>\n",
       "    </tr>\n",
       "    <tr>\n",
       "      <th>444</th>\n",
       "      <td>Apple Apple M3 - (16 GB/256 GB SSD/macOS Sequo...</td>\n",
       "      <td>84,990</td>\n",
       "      <td>622</td>\n",
       "      <td>41</td>\n",
       "      <td>top discount</td>\n",
       "      <td>26</td>\n",
       "    </tr>\n",
       "    <tr>\n",
       "      <th>654</th>\n",
       "      <td>HP Professional 240 G10 (2025) Intel Core i5 1...</td>\n",
       "      <td>53,236</td>\n",
       "      <td>NaN</td>\n",
       "      <td>NaN</td>\n",
       "      <td>Lowest price in the year</td>\n",
       "      <td>43</td>\n",
       "    </tr>\n",
       "  </tbody>\n",
       "</table>\n",
       "</div>"
      ],
      "text/plain": [
       "                                                  name   price rating review  \\\n",
       "229  Lenovo IdeaPad Slim 3 Intel Core i5 12th Gen 1...  44,490  2,565    130   \n",
       "454  MSI Intel Core i5 12th Gen 1235U - (8 GB/512 G...  38,990    336     33   \n",
       "345  Lenovo IdeaPad Slim 3 Intel Core i3 13th Gen 1...  38,990    110      9   \n",
       "875  HP 255 G10 AMD Ryzen 3 Octa Core 13th Gen AMD ...  30,780    180     18   \n",
       "224  HP Victus AI 31 TOPS AMD Ryzen 5 Hexa Core 864...  57,990    287     27   \n",
       "772  Samsung Galaxy Book4 Metal Intel Core i3 13th ...  35,990  7,146    709   \n",
       "616  ASUS Vivobook Go 15 AMD Ryzen 5 Quad Core 7520...  37,579    623     32   \n",
       "121  HP MS Office 2024 Intel Core i5 13th Gen 1334U...  48,199    496     20   \n",
       "444  Apple Apple M3 - (16 GB/256 GB SSD/macOS Sequo...  84,990    622     41   \n",
       "654  HP Professional 240 G10 (2025) Intel Core i5 1...  53,236    NaN    NaN   \n",
       "\n",
       "                        banks discount%  \n",
       "229              top discount        32  \n",
       "454              top discount        30  \n",
       "345  Lowest price in the year        29  \n",
       "875  Lowest price in the year        26  \n",
       "224     BANK Offer available         21  \n",
       "772     BANK Offer available         37  \n",
       "616              top discount        32  \n",
       "121              left product        23  \n",
       "444              top discount        26  \n",
       "654  Lowest price in the year        43  "
      ]
     },
     "execution_count": 46,
     "metadata": {},
     "output_type": "execute_result"
    }
   ],
   "source": [
    "flip.sample(10)"
   ]
  },
  {
   "cell_type": "code",
   "execution_count": 47,
   "id": "9e391260",
   "metadata": {},
   "outputs": [
    {
     "data": {
      "application/vnd.microsoft.datawrangler.viewer.v0+json": {
       "columns": [
        {
         "name": "index",
         "rawType": "object",
         "type": "string"
        },
        {
         "name": "0",
         "rawType": "int64",
         "type": "integer"
        }
       ],
       "ref": "c6c894ca-95a2-4cc8-a21e-f41360c9f16f",
       "rows": [
        [
         "name",
         "0"
        ],
        [
         "price",
         "0"
        ],
        [
         "rating",
         "39"
        ],
        [
         "review",
         "39"
        ],
        [
         "banks",
         "0"
        ],
        [
         "discount%",
         "9"
        ]
       ],
       "shape": {
        "columns": 1,
        "rows": 6
       }
      },
      "text/plain": [
       "name          0\n",
       "price         0\n",
       "rating       39\n",
       "review       39\n",
       "banks         0\n",
       "discount%     9\n",
       "dtype: int64"
      ]
     },
     "execution_count": 47,
     "metadata": {},
     "output_type": "execute_result"
    }
   ],
   "source": [
    "flip.isnull().sum()"
   ]
  },
  {
   "cell_type": "code",
   "execution_count": 48,
   "id": "01f0c1bc",
   "metadata": {},
   "outputs": [
    {
     "name": "stdout",
     "output_type": "stream",
     "text": [
      "<class 'pandas.core.frame.DataFrame'>\n",
      "RangeIndex: 960 entries, 0 to 959\n",
      "Data columns (total 6 columns):\n",
      " #   Column     Non-Null Count  Dtype \n",
      "---  ------     --------------  ----- \n",
      " 0   name       960 non-null    object\n",
      " 1   price      960 non-null    object\n",
      " 2   rating     921 non-null    object\n",
      " 3   review     921 non-null    object\n",
      " 4   banks      960 non-null    object\n",
      " 5   discount%  951 non-null    object\n",
      "dtypes: object(6)\n",
      "memory usage: 45.1+ KB\n"
     ]
    }
   ],
   "source": [
    "flip.info()"
   ]
  },
  {
   "cell_type": "code",
   "execution_count": 49,
   "id": "8c639e41",
   "metadata": {},
   "outputs": [],
   "source": [
    "flip['price'] = pd.to_numeric(flip['price'].str.replace(',', ''), errors='coerce').astype('Int64')\n"
   ]
  },
  {
   "cell_type": "code",
   "execution_count": 50,
   "id": "3949462e",
   "metadata": {},
   "outputs": [],
   "source": [
    "flip['discount%'] = pd.to_numeric(flip['discount%'], errors='coerce').astype('Int64')"
   ]
  },
  {
   "cell_type": "code",
   "execution_count": 51,
   "id": "9fa16745",
   "metadata": {},
   "outputs": [],
   "source": [
    "flip['laptop_brand']=flip['name'].str.split(' ',expand=True)[0]"
   ]
  },
  {
   "cell_type": "code",
   "execution_count": 52,
   "id": "09450819",
   "metadata": {},
   "outputs": [
    {
     "name": "stdout",
     "output_type": "stream",
     "text": [
      "<class 'pandas.core.frame.DataFrame'>\n",
      "RangeIndex: 960 entries, 0 to 959\n",
      "Data columns (total 7 columns):\n",
      " #   Column        Non-Null Count  Dtype \n",
      "---  ------        --------------  ----- \n",
      " 0   name          960 non-null    object\n",
      " 1   price         960 non-null    Int64 \n",
      " 2   rating        921 non-null    object\n",
      " 3   review        921 non-null    object\n",
      " 4   banks         960 non-null    object\n",
      " 5   discount%     951 non-null    Int64 \n",
      " 6   laptop_brand  960 non-null    object\n",
      "dtypes: Int64(2), object(5)\n",
      "memory usage: 54.5+ KB\n"
     ]
    }
   ],
   "source": [
    "flip.info()"
   ]
  },
  {
   "cell_type": "code",
   "execution_count": 53,
   "id": "a5ff2bc6",
   "metadata": {},
   "outputs": [
    {
     "data": {
      "text/plain": [
       "<Axes: xlabel='laptop_brand'>"
      ]
     },
     "execution_count": 53,
     "metadata": {},
     "output_type": "execute_result"
    },
    {
     "data": {
      "image/png": "[encoded data removed]",
      "text/plain": [
       "<Figure size 640x480 with 1 Axes>"
      ]
     },
     "metadata": {},
     "output_type": "display_data"
    }
   ],
   "source": [
    "flip.groupby('laptop_brand')['discount%'].mean().sort_values(ascending=0).plot(kind='bar',width=0.8,color='red')"
   ]
  },
  {
   "cell_type": "code",
   "execution_count": 54,
   "id": "fa6cd62a",
   "metadata": {},
   "outputs": [
    {
     "data": {
      "application/vnd.microsoft.datawrangler.viewer.v0+json": {
       "columns": [
        {
         "name": "laptop_brand",
         "rawType": "object",
         "type": "string"
        },
        {
         "name": "price",
         "rawType": "Int64",
         "type": "integer"
        }
       ],
       "ref": "67d144c2-8d10-4da3-a596-7bb816ef482c",
       "rows": [
        [
         "ASUS",
         "13094651"
        ],
        [
         "Acer",
         "3583489"
        ],
        [
         "Apple",
         "2913419"
        ],
        [
         "Avita",
         "35980"
        ],
        [
         "CHUWI",
         "35980"
        ],
        [
         "DELL",
         "6265002"
        ],
        [
         "GIGABYTE",
         "224970"
        ],
        [
         "HP",
         "5831246"
        ],
        [
         "Infinix",
         "525254"
        ],
        [
         "Lenovo",
         "6728580"
        ],
        [
         "MOTOROLA",
         "64990"
        ],
        [
         "MSI",
         "4130008"
        ],
        [
         "Neopticon",
         "31980"
        ],
        [
         "PiBook",
         "13498"
        ],
        [
         "Primebook",
         "86450"
        ],
        [
         "Samsung",
         "4501618"
        ],
        [
         "Thomson",
         "28990"
        ],
        [
         "WINGS",
         "63980"
        ],
        [
         "ZEBRONICS",
         "165469"
        ]
       ],
       "shape": {
        "columns": 1,
        "rows": 19
       }
      },
      "text/plain": [
       "laptop_brand\n",
       "ASUS         13094651\n",
       "Acer          3583489\n",
       "Apple         2913419\n",
       "Avita           35980\n",
       "CHUWI           35980\n",
       "DELL          6265002\n",
       "GIGABYTE       224970\n",
       "HP            5831246\n",
       "Infinix        525254\n",
       "Lenovo        6728580\n",
       "MOTOROLA        64990\n",
       "MSI           4130008\n",
       "Neopticon       31980\n",
       "PiBook          13498\n",
       "Primebook       86450\n",
       "Samsung       4501618\n",
       "Thomson         28990\n",
       "WINGS           63980\n",
       "ZEBRONICS      165469\n",
       "Name: price, dtype: Int64"
      ]
     },
     "execution_count": 54,
     "metadata": {},
     "output_type": "execute_result"
    }
   ],
   "source": [
    "flip.groupby('laptop_brand')['price'].sum()"
   ]
  },
  {
   "cell_type": "code",
   "execution_count": 55,
   "id": "5912a5e0",
   "metadata": {},
   "outputs": [
    {
     "data": {
      "text/plain": [
       "<Axes: xlabel='laptop_brand'>"
      ]
     },
     "execution_count": 55,
     "metadata": {},
     "output_type": "execute_result"
    },
    {
     "data": {
      "image/png": "[encoded data removed]",
      "text/plain": [
       "<Figure size 640x480 with 1 Axes>"
      ]
     },
     "metadata": {},
     "output_type": "display_data"
    }
   ],
   "source": [
    "flip.groupby('laptop_brand')['price'].sum().sort_values(ascending=0).plot(kind='bar')"
   ]
  },
  {
   "cell_type": "code",
   "execution_count": 56,
   "id": "c0fec769",
   "metadata": {},
   "outputs": [
    {
     "data": {
      "text/plain": [
       "<Axes: ylabel='price'>"
      ]
     },
     "execution_count": 56,
     "metadata": {},
     "output_type": "execute_result"
    },
    {
     "data": {
      "image/png": "[encoded data removed]",
      "text/plain": [
       "<Figure size 640x480 with 1 Axes>"
      ]
     },
     "metadata": {},
     "output_type": "display_data"
    }
   ],
   "source": [
    "sns.boxplot(flip['price'])"
   ]
  },
  {
   "cell_type": "code",
   "execution_count": 57,
   "id": "b5f4ee8f",
   "metadata": {},
   "outputs": [],
   "source": [
    "q1 = flip['price'].quantile(0.25)\n",
    "q3 = flip['price'].quantile(0.75)\n",
    "\n",
    "iqr= q3-q1\n",
    "\n",
    "\n",
    "lower = q1-1.5* iqr\n",
    "upper =q3+1.5*iqr"
   ]
  },
  {
   "cell_type": "code",
   "execution_count": 58,
   "id": "72cbd363",
   "metadata": {},
   "outputs": [
    {
     "data": {
      "text/plain": [
       "np.float64(-10.0)"
      ]
     },
     "execution_count": 58,
     "metadata": {},
     "output_type": "execute_result"
    }
   ],
   "source": [
    "lower"
   ]
  },
  {
   "cell_type": "code",
   "execution_count": 59,
   "id": "3d2a73c6",
   "metadata": {},
   "outputs": [
    {
     "data": {
      "text/plain": [
       "np.float64(87990.0)"
      ]
     },
     "execution_count": 59,
     "metadata": {},
     "output_type": "execute_result"
    }
   ],
   "source": [
    "upper"
   ]
  },
  {
   "cell_type": "code",
   "execution_count": 60,
   "id": "9d21271f",
   "metadata": {},
   "outputs": [],
   "source": [
    "# flip[(flip['price'] >upper ) | (flip['price']<lowr)]"
   ]
  },
  {
   "cell_type": "code",
   "execution_count": 61,
   "id": "ad115412",
   "metadata": {},
   "outputs": [],
   "source": [
    "flip_clean = flip[(flip['price'] >= upper) & (flip['price'] <= lower)]\n"
   ]
  },
  {
   "cell_type": "code",
   "execution_count": 62,
   "id": "91d10523",
   "metadata": {},
   "outputs": [],
   "source": [
    "new=flip[(flip['price'] >lower ) & (flip['price']<upper)]"
   ]
  },
  {
   "cell_type": "code",
   "execution_count": 63,
   "id": "764081ed",
   "metadata": {},
   "outputs": [
    {
     "data": {
      "text/plain": [
       "<Axes: >"
      ]
     },
     "execution_count": 63,
     "metadata": {},
     "output_type": "execute_result"
    },
    {
     "data": {
      "image/png": "[encoded data removed]",
      "text/plain": [
       "<Figure size 640x480 with 1 Axes>"
      ]
     },
     "metadata": {},
     "output_type": "display_data"
    }
   ],
   "source": [
    "new['price'].plot(kind='box')"
   ]
  },
  {
   "cell_type": "markdown",
   "id": "145b8466",
   "metadata": {},
   "source": [
    "### capping"
   ]
  },
  {
   "cell_type": "code",
   "execution_count": 64,
   "id": "0d62971f",
   "metadata": {},
   "outputs": [],
   "source": [
    "# flip['price']=np.where(\n",
    "\n",
    "\n",
    "#     flip['price']>upper,\n",
    "#     upper,\n",
    "#     np.where(\n",
    "\n",
    "\n",
    "#         flip['price']<lower,\n",
    "#         lower,\n",
    "#         flip['price']\n",
    "#     )\n",
    "\n",
    "# )"
   ]
  },
  {
   "cell_type": "code",
   "execution_count": 65,
   "id": "2887c65b",
   "metadata": {},
   "outputs": [],
   "source": [
    "flip['price'] = np.where(\n",
    "    flip['price'] > upper,\n",
    "    upper,\n",
    "    np.where(\n",
    "        flip['price'] < lower,\n",
    "        lower,\n",
    "        flip['price']\n",
    "    )\n",
    ")"
   ]
  },
  {
   "cell_type": "code",
   "execution_count": 69,
   "id": "9b253f1c",
   "metadata": {},
   "outputs": [
    {
     "data": {
      "text/plain": [
       "<Axes: ylabel='price'>"
      ]
     },
     "execution_count": 69,
     "metadata": {},
     "output_type": "execute_result"
    },
    {
     "data": {
      "image/png": "[encoded data removed]",
      "text/plain": [
       "<Figure size 640x480 with 1 Axes>"
      ]
     },
     "metadata": {},
     "output_type": "display_data"
    }
   ],
   "source": [
    "sns.boxplot(flip['price'],color='red')"
   ]
  },
  {
   "cell_type": "code",
   "execution_count": 76,
   "id": "f8c8b4a8",
   "metadata": {},
   "outputs": [],
   "source": [
    "q1 = flip['price'].quantile(0.25)\n",
    "q3 = flip['price'].quantile(0.75)\n",
    "iqr = q3 - q1\n",
    "\n",
    "lower = q1 - 1.5 * iqr\n",
    "upper = q3 + 1.5 * iqr\n",
    "\n",
    "flip['price'] = np.where(\n",
    "    flip['price'] > upper, upper,\n",
    "    np.where(flip['price'] < lower, lower, flip['price'])\n",
    ")\n"
   ]
  },
  {
   "cell_type": "code",
   "execution_count": 77,
   "id": "27cfc870",
   "metadata": {},
   "outputs": [
    {
     "data": {
      "text/plain": [
       "<Axes: ylabel='price'>"
      ]
     },
     "execution_count": 77,
     "metadata": {},
     "output_type": "execute_result"
    },
    {
     "data": {
      "image/png": "[encoded data removed]",
      "text/plain": [
       "<Figure size 640x480 with 1 Axes>"
      ]
     },
     "metadata": {},
     "output_type": "display_data"
    }
   ],
   "source": [
    "# sns.histplot(flip['price'],kde=True)\n",
    "sns.boxplot(flip['price'])"
   ]
  }
 ],
 "metadata": {
  "kernelspec": {
   "display_name": "base",
   "language": "python",
   "name": "python3"
  },
  "language_info": {
   "codemirror_mode": {
    "name": "ipython",
    "version": 3
   },
   "file_extension": ".py",
   "mimetype": "text/x-python",
   "name": "python",
   "nbconvert_exporter": "python",
   "pygments_lexer": "ipython3",
   "version": "3.13.5"
  }
 },
 "nbformat": 4,
 "nbformat_minor": 5
}
