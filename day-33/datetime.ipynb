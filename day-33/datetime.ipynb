{
 "cells": [
  {
   "cell_type": "code",
   "execution_count": 1,
   "id": "dc59d913",
   "metadata": {},
   "outputs": [],
   "source": [
    "import pandas as pd\n",
    "import numpy as np\n",
    "from sklearn.impute import SimpleImputer\n",
    "from sklearn.compose import ColumnTransformer\n",
    "from sklearn.preprocessing import MinMaxScaler,OrdinalEncoder,OneHotEncoder,FunctionTransformer,KBinsDiscretizer\n",
    "from sklearn.tree import DecisionTreeClassifier\n",
    "from sklearn.pipeline import Pipeline ,make_pipeline\n",
    "from sklearn.metrics import accuracy_score,r2_score,mean_squared_error,root_mean_squared_error\n",
    "from sklearn.feature_selection import SelectKBest,chi2\n",
    "from sklearn.linear_model import LogisticRegression,LinearRegression   \n",
    "import seaborn as sns\n",
    "import matplotlib.pyplot as plt\n",
    "from sklearn.model_selection import cross_val_score\n",
    "import scipy.stats as stats\n",
    "from sklearn.model_selection import train_test_split\n",
    "import warnings\n",
    "warnings.filterwarnings('ignore')"
   ]
  },
  {
   "cell_type": "code",
   "execution_count": 2,
   "id": "3c619599",
   "metadata": {},
   "outputs": [],
   "source": [
    "df= pd.read_csv('titanic.csv',usecols=['Cabin','Ticket','Survived'])"
   ]
  },
  {
   "cell_type": "code",
   "execution_count": null,
   "id": "45e4b2c1",
   "metadata": {},
   "outputs": [],
   "source": []
  },
  {
   "cell_type": "code",
   "execution_count": 3,
   "id": "802c5118",
   "metadata": {},
   "outputs": [
    {
     "data": {
      "application/vnd.microsoft.datawrangler.viewer.v0+json": {
       "columns": [
        {
         "name": "index",
         "rawType": "int64",
         "type": "integer"
        },
        {
         "name": "Survived",
         "rawType": "int64",
         "type": "integer"
        },
        {
         "name": "Ticket",
         "rawType": "object",
         "type": "string"
        },
        {
         "name": "Cabin",
         "rawType": "object",
         "type": "unknown"
        }
       ],
       "ref": "7b9fc5db-1215-4c08-86a7-e940431525dd",
       "rows": [
        [
         "0",
         "0",
         "A/5 21171",
         null
        ],
        [
         "1",
         "1",
         "PC 17599",
         "C85"
        ],
        [
         "2",
         "1",
         "STON/O2. 3101282",
         null
        ],
        [
         "3",
         "1",
         "113803",
         "C123"
        ],
        [
         "4",
         "0",
         "373450",
         null
        ],
        [
         "5",
         "0",
         "330877",
         null
        ],
        [
         "6",
         "0",
         "17463",
         "E46"
        ],
        [
         "7",
         "0",
         "349909",
         null
        ],
        [
         "8",
         "1",
         "347742",
         null
        ],
        [
         "9",
         "1",
         "237736",
         null
        ],
        [
         "10",
         "1",
         "PP 9549",
         "G6"
        ],
        [
         "11",
         "1",
         "113783",
         "C103"
        ],
        [
         "12",
         "0",
         "A/5. 2151",
         null
        ],
        [
         "13",
         "0",
         "347082",
         null
        ],
        [
         "14",
         "0",
         "350406",
         null
        ],
        [
         "15",
         "1",
         "248706",
         null
        ],
        [
         "16",
         "0",
         "382652",
         null
        ],
        [
         "17",
         "1",
         "244373",
         null
        ],
        [
         "18",
         "0",
         "345763",
         null
        ],
        [
         "19",
         "1",
         "2649",
         null
        ],
        [
         "20",
         "0",
         "239865",
         null
        ],
        [
         "21",
         "1",
         "248698",
         "D56"
        ],
        [
         "22",
         "1",
         "330923",
         null
        ],
        [
         "23",
         "1",
         "113788",
         "A6"
        ],
        [
         "24",
         "0",
         "349909",
         null
        ],
        [
         "25",
         "1",
         "347077",
         null
        ],
        [
         "26",
         "0",
         "2631",
         null
        ],
        [
         "27",
         "0",
         "19950",
         "C23 C25 C27"
        ],
        [
         "28",
         "1",
         "330959",
         null
        ],
        [
         "29",
         "0",
         "349216",
         null
        ],
        [
         "30",
         "0",
         "PC 17601",
         null
        ],
        [
         "31",
         "1",
         "PC 17569",
         "B78"
        ],
        [
         "32",
         "1",
         "335677",
         null
        ],
        [
         "33",
         "0",
         "C.A. 24579",
         null
        ],
        [
         "34",
         "0",
         "PC 17604",
         null
        ],
        [
         "35",
         "0",
         "113789",
         null
        ],
        [
         "36",
         "1",
         "2677",
         null
        ],
        [
         "37",
         "0",
         "A./5. 2152",
         null
        ],
        [
         "38",
         "0",
         "345764",
         null
        ],
        [
         "39",
         "1",
         "2651",
         null
        ],
        [
         "40",
         "0",
         "7546",
         null
        ],
        [
         "41",
         "0",
         "11668",
         null
        ],
        [
         "42",
         "0",
         "349253",
         null
        ],
        [
         "43",
         "1",
         "SC/Paris 2123",
         null
        ],
        [
         "44",
         "1",
         "330958",
         null
        ],
        [
         "45",
         "0",
         "S.C./A.4. 23567",
         null
        ],
        [
         "46",
         "0",
         "370371",
         null
        ],
        [
         "47",
         "1",
         "14311",
         null
        ],
        [
         "48",
         "0",
         "2662",
         null
        ],
        [
         "49",
         "0",
         "349237",
         null
        ]
       ],
       "shape": {
        "columns": 3,
        "rows": 891
       }
      },
      "text/html": [
       "<div>\n",
       "<style scoped>\n",
       "    .dataframe tbody tr th:only-of-type {\n",
       "        vertical-align: middle;\n",
       "    }\n",
       "\n",
       "    .dataframe tbody tr th {\n",
       "        vertical-align: top;\n",
       "    }\n",
       "\n",
       "    .dataframe thead th {\n",
       "        text-align: right;\n",
       "    }\n",
       "</style>\n",
       "<table border=\"1\" class=\"dataframe\">\n",
       "  <thead>\n",
       "    <tr style=\"text-align: right;\">\n",
       "      <th></th>\n",
       "      <th>Survived</th>\n",
       "      <th>Ticket</th>\n",
       "      <th>Cabin</th>\n",
       "    </tr>\n",
       "  </thead>\n",
       "  <tbody>\n",
       "    <tr>\n",
       "      <th>0</th>\n",
       "      <td>0</td>\n",
       "      <td>A/5 21171</td>\n",
       "      <td>NaN</td>\n",
       "    </tr>\n",
       "    <tr>\n",
       "      <th>1</th>\n",
       "      <td>1</td>\n",
       "      <td>PC 17599</td>\n",
       "      <td>C85</td>\n",
       "    </tr>\n",
       "    <tr>\n",
       "      <th>2</th>\n",
       "      <td>1</td>\n",
       "      <td>STON/O2. 3101282</td>\n",
       "      <td>NaN</td>\n",
       "    </tr>\n",
       "    <tr>\n",
       "      <th>3</th>\n",
       "      <td>1</td>\n",
       "      <td>113803</td>\n",
       "      <td>C123</td>\n",
       "    </tr>\n",
       "    <tr>\n",
       "      <th>4</th>\n",
       "      <td>0</td>\n",
       "      <td>373450</td>\n",
       "      <td>NaN</td>\n",
       "    </tr>\n",
       "    <tr>\n",
       "      <th>...</th>\n",
       "      <td>...</td>\n",
       "      <td>...</td>\n",
       "      <td>...</td>\n",
       "    </tr>\n",
       "    <tr>\n",
       "      <th>886</th>\n",
       "      <td>0</td>\n",
       "      <td>211536</td>\n",
       "      <td>NaN</td>\n",
       "    </tr>\n",
       "    <tr>\n",
       "      <th>887</th>\n",
       "      <td>1</td>\n",
       "      <td>112053</td>\n",
       "      <td>B42</td>\n",
       "    </tr>\n",
       "    <tr>\n",
       "      <th>888</th>\n",
       "      <td>0</td>\n",
       "      <td>W./C. 6607</td>\n",
       "      <td>NaN</td>\n",
       "    </tr>\n",
       "    <tr>\n",
       "      <th>889</th>\n",
       "      <td>1</td>\n",
       "      <td>111369</td>\n",
       "      <td>C148</td>\n",
       "    </tr>\n",
       "    <tr>\n",
       "      <th>890</th>\n",
       "      <td>0</td>\n",
       "      <td>370376</td>\n",
       "      <td>NaN</td>\n",
       "    </tr>\n",
       "  </tbody>\n",
       "</table>\n",
       "<p>891 rows × 3 columns</p>\n",
       "</div>"
      ],
      "text/plain": [
       "     Survived            Ticket Cabin\n",
       "0           0         A/5 21171   NaN\n",
       "1           1          PC 17599   C85\n",
       "2           1  STON/O2. 3101282   NaN\n",
       "3           1            113803  C123\n",
       "4           0            373450   NaN\n",
       "..        ...               ...   ...\n",
       "886         0            211536   NaN\n",
       "887         1            112053   B42\n",
       "888         0        W./C. 6607   NaN\n",
       "889         1            111369  C148\n",
       "890         0            370376   NaN\n",
       "\n",
       "[891 rows x 3 columns]"
      ]
     },
     "execution_count": 3,
     "metadata": {},
     "output_type": "execute_result"
    }
   ],
   "source": [
    "df"
   ]
  },
  {
   "cell_type": "code",
   "execution_count": 4,
   "id": "a2a92ea7",
   "metadata": {},
   "outputs": [
    {
     "data": {
      "text/plain": [
       "array(['A/5 21171', 'PC 17599', 'STON/O2. 3101282', '113803', '373450',\n",
       "       '330877', '17463', '349909', '347742', '237736', 'PP 9549',\n",
       "       '113783', 'A/5. 2151', '347082', '350406', '248706', '382652',\n",
       "       '244373', '345763', '2649', '239865', '248698', '330923', '113788',\n",
       "       '347077', '2631', '19950', '330959', '349216', 'PC 17601',\n",
       "       'PC 17569', '335677', 'C.A. 24579', 'PC 17604', '113789', '2677',\n",
       "       'A./5. 2152', '345764', '2651', '7546', '11668', '349253',\n",
       "       'SC/Paris 2123', '330958', 'S.C./A.4. 23567', '370371', '14311',\n",
       "       '2662', '349237', '3101295', 'A/4. 39886', 'PC 17572', '2926',\n",
       "       '113509', '19947', 'C.A. 31026', '2697', 'C.A. 34651', 'CA 2144',\n",
       "       '2669', '113572', '36973', '347088', 'PC 17605', '2661',\n",
       "       'C.A. 29395', 'S.P. 3464', '3101281', '315151', 'C.A. 33111',\n",
       "       'S.O.C. 14879', '2680', '1601', '348123', '349208', '374746',\n",
       "       '248738', '364516', '345767', '345779', '330932', '113059',\n",
       "       'SO/C 14885', '3101278', 'W./C. 6608', 'SOTON/OQ 392086', '343275',\n",
       "       '343276', '347466', 'W.E.P. 5734', 'C.A. 2315', '364500', '374910',\n",
       "       'PC 17754', 'PC 17759', '231919', '244367', '349245', '349215',\n",
       "       '35281', '7540', '3101276', '349207', '343120', '312991', '349249',\n",
       "       '371110', '110465', '2665', '324669', '4136', '2627',\n",
       "       'STON/O 2. 3101294', '370369', 'PC 17558', 'A4. 54510', '27267',\n",
       "       '370372', 'C 17369', '2668', '347061', '349241',\n",
       "       'SOTON/O.Q. 3101307', 'A/5. 3337', '228414', 'C.A. 29178',\n",
       "       'SC/PARIS 2133', '11752', '7534', 'PC 17593', '2678', '347081',\n",
       "       'STON/O2. 3101279', '365222', '231945', 'C.A. 33112', '350043',\n",
       "       '230080', '244310', 'S.O.P. 1166', '113776', 'A.5. 11206',\n",
       "       'A/5. 851', 'Fa 265302', 'PC 17597', '35851', 'SOTON/OQ 392090',\n",
       "       '315037', 'CA. 2343', '371362', 'C.A. 33595', '347068', '315093',\n",
       "       '363291', '113505', 'PC 17318', '111240', 'STON/O 2. 3101280',\n",
       "       '17764', '350404', '4133', 'PC 17595', '250653', 'LINE',\n",
       "       'SC/PARIS 2131', '230136', '315153', '113767', '370365', '111428',\n",
       "       '364849', '349247', '234604', '28424', '350046', 'PC 17610',\n",
       "       '368703', '4579', '370370', '248747', '345770', '3101264', '2628',\n",
       "       'A/5 3540', '347054', '2699', '367231', '112277',\n",
       "       'SOTON/O.Q. 3101311', 'F.C.C. 13528', 'A/5 21174', '250646',\n",
       "       '367229', '35273', 'STON/O2. 3101283', '243847', '11813',\n",
       "       'W/C 14208', 'SOTON/OQ 392089', '220367', '21440', '349234',\n",
       "       '19943', 'PP 4348', 'SW/PP 751', 'A/5 21173', '236171', '347067',\n",
       "       '237442', 'C.A. 29566', 'W./C. 6609', '26707', 'C.A. 31921',\n",
       "       '28665', 'SCO/W 1585', '367230', 'W./C. 14263',\n",
       "       'STON/O 2. 3101275', '2694', '19928', '347071', '250649', '11751',\n",
       "       '244252', '362316', '113514', 'A/5. 3336', '370129', '2650',\n",
       "       'PC 17585', '110152', 'PC 17755', '230433', '384461', '110413',\n",
       "       '112059', '382649', 'C.A. 17248', '347083', 'PC 17582', 'PC 17760',\n",
       "       '113798', '250644', 'PC 17596', '370375', '13502', '347073',\n",
       "       '239853', 'C.A. 2673', '336439', '347464', '345778', 'A/5. 10482',\n",
       "       '113056', '349239', '345774', '349206', '237798', '370373',\n",
       "       '19877', '11967', 'SC/Paris 2163', '349236', '349233', 'PC 17612',\n",
       "       '2693', '113781', '19988', '9234', '367226', '226593', 'A/5 2466',\n",
       "       '17421', 'PC 17758', 'P/PP 3381', 'PC 17485', '11767', 'PC 17608',\n",
       "       '250651', '349243', 'F.C.C. 13529', '347470', '29011', '36928',\n",
       "       '16966', 'A/5 21172', '349219', '234818', '345364', '28551',\n",
       "       '111361', '113043', 'PC 17611', '349225', '7598', '113784',\n",
       "       '248740', '244361', '229236', '248733', '31418', '386525',\n",
       "       'C.A. 37671', '315088', '7267', '113510', '2695', '2647', '345783',\n",
       "       '237671', '330931', '330980', 'SC/PARIS 2167', '2691',\n",
       "       'SOTON/O.Q. 3101310', 'C 7076', '110813', '2626', '14313',\n",
       "       'PC 17477', '11765', '3101267', '323951', 'C 7077', '113503',\n",
       "       '2648', '347069', 'PC 17757', '2653', 'STON/O 2. 3101293',\n",
       "       '349227', '27849', '367655', 'SC 1748', '113760', '350034',\n",
       "       '3101277', '350052', '350407', '28403', '244278', '240929',\n",
       "       'STON/O 2. 3101289', '341826', '4137', '315096', '28664', '347064',\n",
       "       '29106', '312992', '349222', '394140', 'STON/O 2. 3101269',\n",
       "       '343095', '28220', '250652', '28228', '345773', '349254',\n",
       "       'A/5. 13032', '315082', '347080', 'A/4. 34244', '2003', '250655',\n",
       "       '364851', 'SOTON/O.Q. 392078', '110564', '376564', 'SC/AH 3085',\n",
       "       'STON/O 2. 3101274', '13507', 'C.A. 18723', '345769', '347076',\n",
       "       '230434', '65306', '33638', '113794', '2666', '113786', '65303',\n",
       "       '113051', '17453', 'A/5 2817', '349240', '13509', '17464',\n",
       "       'F.C.C. 13531', '371060', '19952', '364506', '111320', '234360',\n",
       "       'A/S 2816', 'SOTON/O.Q. 3101306', '113792', '36209', '323592',\n",
       "       '315089', 'SC/AH Basle 541', '7553', '31027', '3460', '350060',\n",
       "       '3101298', '239854', 'A/5 3594', '4134', '11771', 'A.5. 18509',\n",
       "       '65304', 'SOTON/OQ 3101317', '113787', 'PC 17609', 'A/4 45380',\n",
       "       '36947', 'C.A. 6212', '350035', '315086', '364846', '330909',\n",
       "       '4135', '26360', '111427', 'C 4001', '382651', 'SOTON/OQ 3101316',\n",
       "       'PC 17473', 'PC 17603', '349209', '36967', 'C.A. 34260', '226875',\n",
       "       '349242', '12749', '349252', '2624', '2700', '367232',\n",
       "       'W./C. 14258', 'PC 17483', '3101296', '29104', '2641', '2690',\n",
       "       '315084', '113050', 'PC 17761', '364498', '13568', 'WE/P 5735',\n",
       "       '2908', '693', 'SC/PARIS 2146', '244358', '330979', '2620',\n",
       "       '347085', '113807', '11755', '345572', '372622', '349251',\n",
       "       '218629', 'SOTON/OQ 392082', 'SOTON/O.Q. 392087', 'A/4 48871',\n",
       "       '349205', '2686', '350417', 'S.W./PP 752', '11769', 'PC 17474',\n",
       "       '14312', 'A/4. 20589', '358585', '243880', '2689',\n",
       "       'STON/O 2. 3101286', '237789', '13049', '3411', '237565', '13567',\n",
       "       '14973', 'A./5. 3235', 'STON/O 2. 3101273', 'A/5 3902', '364848',\n",
       "       'SC/AH 29037', '248727', '2664', '349214', '113796', '364511',\n",
       "       '111426', '349910', '349246', '113804', 'SOTON/O.Q. 3101305',\n",
       "       '370377', '364512', '220845', '31028', '2659', '11753', '350029',\n",
       "       '54636', '36963', '219533', '349224', '334912', '27042', '347743',\n",
       "       '13214', '112052', '237668', 'STON/O 2. 3101292', '350050',\n",
       "       '349231', '13213', 'S.O./P.P. 751', 'CA. 2314', '349221', '8475',\n",
       "       '330919', '365226', '349223', '29751', '2623', '5727', '349210',\n",
       "       'STON/O 2. 3101285', '234686', '312993', 'A/5 3536', '19996',\n",
       "       '29750', 'F.C. 12750', 'C.A. 24580', '244270', '239856', '349912',\n",
       "       '342826', '4138', '330935', '6563', '349228', '350036', '24160',\n",
       "       '17474', '349256', '2672', '113800', '248731', '363592', '35852',\n",
       "       '348121', 'PC 17475', '36864', '350025', '223596', 'PC 17476',\n",
       "       'PC 17482', '113028', '7545', '250647', '348124', '34218', '36568',\n",
       "       '347062', '350048', '12233', '250643', '113806', '315094', '36866',\n",
       "       '236853', 'STON/O2. 3101271', '239855', '28425', '233639',\n",
       "       '349201', '349218', '16988', '376566', 'STON/O 2. 3101288',\n",
       "       '250648', '113773', '335097', '29103', '392096', '345780',\n",
       "       '349204', '350042', '29108', '363294', 'SOTON/O2 3101272', '2663',\n",
       "       '347074', '112379', '364850', '8471', '345781', '350047',\n",
       "       'S.O./P.P. 3', '2674', '29105', '347078', '383121', '36865',\n",
       "       '2687', '113501', 'W./C. 6607', 'SOTON/O.Q. 3101312', '374887',\n",
       "       '3101265', '12460', 'PC 17600', '349203', '28213', '17465',\n",
       "       '349244', '2685', '2625', '347089', '347063', '112050', '347087',\n",
       "       '248723', '3474', '28206', '364499', '112058', 'STON/O2. 3101290',\n",
       "       'S.C./PARIS 2079', 'C 7075', '315098', '19972', '368323', '367228',\n",
       "       '2671', '347468', '2223', 'PC 17756', '315097', '392092', '11774',\n",
       "       'SOTON/O2 3101287', '2683', '315090', 'C.A. 5547', '349213',\n",
       "       '347060', 'PC 17592', '392091', '113055', '2629', '350026',\n",
       "       '28134', '17466', '233866', '236852', 'SC/PARIS 2149', 'PC 17590',\n",
       "       '345777', '349248', '695', '345765', '2667', '349212', '349217',\n",
       "       '349257', '7552', 'C.A./SOTON 34068', 'SOTON/OQ 392076', '211536',\n",
       "       '112053', '111369', '370376'], dtype=object)"
      ]
     },
     "execution_count": 4,
     "metadata": {},
     "output_type": "execute_result"
    }
   ],
   "source": [
    "df['Ticket'].unique()"
   ]
  },
  {
   "cell_type": "code",
   "execution_count": 5,
   "id": "e5d5b222",
   "metadata": {},
   "outputs": [
    {
     "data": {
      "text/plain": [
       "array([nan, 'C85', 'C123', 'E46', 'G6', 'C103', 'D56', 'A6',\n",
       "       'C23 C25 C27', 'B78', 'D33', 'B30', 'C52', 'B28', 'C83', 'F33',\n",
       "       'F G73', 'E31', 'A5', 'D10 D12', 'D26', 'C110', 'B58 B60', 'E101',\n",
       "       'F E69', 'D47', 'B86', 'F2', 'C2', 'E33', 'B19', 'A7', 'C49', 'F4',\n",
       "       'A32', 'B4', 'B80', 'A31', 'D36', 'D15', 'C93', 'C78', 'D35',\n",
       "       'C87', 'B77', 'E67', 'B94', 'C125', 'C99', 'C118', 'D7', 'A19',\n",
       "       'B49', 'D', 'C22 C26', 'C106', 'C65', 'E36', 'C54',\n",
       "       'B57 B59 B63 B66', 'C7', 'E34', 'C32', 'B18', 'C124', 'C91', 'E40',\n",
       "       'T', 'C128', 'D37', 'B35', 'E50', 'C82', 'B96 B98', 'E10', 'E44',\n",
       "       'A34', 'C104', 'C111', 'C92', 'E38', 'D21', 'E12', 'E63', 'A14',\n",
       "       'B37', 'C30', 'D20', 'B79', 'E25', 'D46', 'B73', 'C95', 'B38',\n",
       "       'B39', 'B22', 'C86', 'C70', 'A16', 'C101', 'C68', 'A10', 'E68',\n",
       "       'B41', 'A20', 'D19', 'D50', 'D9', 'A23', 'B50', 'A26', 'D48',\n",
       "       'E58', 'C126', 'B71', 'B51 B53 B55', 'D49', 'B5', 'B20', 'F G63',\n",
       "       'C62 C64', 'E24', 'C90', 'C45', 'E8', 'B101', 'D45', 'C46', 'D30',\n",
       "       'E121', 'D11', 'E77', 'F38', 'B3', 'D6', 'B82 B84', 'D17', 'A36',\n",
       "       'B102', 'B69', 'E49', 'C47', 'D28', 'E17', 'A24', 'C50', 'B42',\n",
       "       'C148'], dtype=object)"
      ]
     },
     "execution_count": 5,
     "metadata": {},
     "output_type": "execute_result"
    }
   ],
   "source": [
    "df['Cabin'].unique()"
   ]
  },
  {
   "cell_type": "code",
   "execution_count": 6,
   "id": "033b8f6c",
   "metadata": {},
   "outputs": [],
   "source": [
    "\n",
    "##! for numerical data extracting \n",
    "df['cabin_num']= df['Cabin'].str.extract('(\\d+)')\n",
    "\n",
    "\n",
    "##* for alphabet col extract\n",
    "df['cabin_alphabet']=df['Cabin'].str.get(0)"
   ]
  },
  {
   "cell_type": "code",
   "execution_count": 7,
   "id": "37f08941",
   "metadata": {},
   "outputs": [
    {
     "data": {
      "application/vnd.microsoft.datawrangler.viewer.v0+json": {
       "columns": [
        {
         "name": "index",
         "rawType": "int64",
         "type": "integer"
        },
        {
         "name": "Survived",
         "rawType": "int64",
         "type": "integer"
        },
        {
         "name": "Ticket",
         "rawType": "object",
         "type": "string"
        },
        {
         "name": "Cabin",
         "rawType": "object",
         "type": "unknown"
        },
        {
         "name": "cabin_num",
         "rawType": "object",
         "type": "unknown"
        },
        {
         "name": "cabin_alphabet",
         "rawType": "object",
         "type": "unknown"
        }
       ],
       "ref": "4d4cfc31-b809-48c5-bb4a-5741358b236c",
       "rows": [
        [
         "0",
         "0",
         "A/5 21171",
         null,
         null,
         null
        ],
        [
         "1",
         "1",
         "PC 17599",
         "C85",
         "85",
         "C"
        ],
        [
         "2",
         "1",
         "STON/O2. 3101282",
         null,
         null,
         null
        ],
        [
         "3",
         "1",
         "113803",
         "C123",
         "123",
         "C"
        ],
        [
         "4",
         "0",
         "373450",
         null,
         null,
         null
        ],
        [
         "5",
         "0",
         "330877",
         null,
         null,
         null
        ],
        [
         "6",
         "0",
         "17463",
         "E46",
         "46",
         "E"
        ],
        [
         "7",
         "0",
         "349909",
         null,
         null,
         null
        ],
        [
         "8",
         "1",
         "347742",
         null,
         null,
         null
        ],
        [
         "9",
         "1",
         "237736",
         null,
         null,
         null
        ],
        [
         "10",
         "1",
         "PP 9549",
         "G6",
         "6",
         "G"
        ],
        [
         "11",
         "1",
         "113783",
         "C103",
         "103",
         "C"
        ],
        [
         "12",
         "0",
         "A/5. 2151",
         null,
         null,
         null
        ],
        [
         "13",
         "0",
         "347082",
         null,
         null,
         null
        ],
        [
         "14",
         "0",
         "350406",
         null,
         null,
         null
        ],
        [
         "15",
         "1",
         "248706",
         null,
         null,
         null
        ],
        [
         "16",
         "0",
         "382652",
         null,
         null,
         null
        ],
        [
         "17",
         "1",
         "244373",
         null,
         null,
         null
        ],
        [
         "18",
         "0",
         "345763",
         null,
         null,
         null
        ],
        [
         "19",
         "1",
         "2649",
         null,
         null,
         null
        ],
        [
         "20",
         "0",
         "239865",
         null,
         null,
         null
        ],
        [
         "21",
         "1",
         "248698",
         "D56",
         "56",
         "D"
        ],
        [
         "22",
         "1",
         "330923",
         null,
         null,
         null
        ],
        [
         "23",
         "1",
         "113788",
         "A6",
         "6",
         "A"
        ],
        [
         "24",
         "0",
         "349909",
         null,
         null,
         null
        ],
        [
         "25",
         "1",
         "347077",
         null,
         null,
         null
        ],
        [
         "26",
         "0",
         "2631",
         null,
         null,
         null
        ],
        [
         "27",
         "0",
         "19950",
         "C23 C25 C27",
         "23",
         "C"
        ],
        [
         "28",
         "1",
         "330959",
         null,
         null,
         null
        ],
        [
         "29",
         "0",
         "349216",
         null,
         null,
         null
        ],
        [
         "30",
         "0",
         "PC 17601",
         null,
         null,
         null
        ],
        [
         "31",
         "1",
         "PC 17569",
         "B78",
         "78",
         "B"
        ],
        [
         "32",
         "1",
         "335677",
         null,
         null,
         null
        ],
        [
         "33",
         "0",
         "C.A. 24579",
         null,
         null,
         null
        ],
        [
         "34",
         "0",
         "PC 17604",
         null,
         null,
         null
        ],
        [
         "35",
         "0",
         "113789",
         null,
         null,
         null
        ],
        [
         "36",
         "1",
         "2677",
         null,
         null,
         null
        ],
        [
         "37",
         "0",
         "A./5. 2152",
         null,
         null,
         null
        ],
        [
         "38",
         "0",
         "345764",
         null,
         null,
         null
        ],
        [
         "39",
         "1",
         "2651",
         null,
         null,
         null
        ],
        [
         "40",
         "0",
         "7546",
         null,
         null,
         null
        ],
        [
         "41",
         "0",
         "11668",
         null,
         null,
         null
        ],
        [
         "42",
         "0",
         "349253",
         null,
         null,
         null
        ],
        [
         "43",
         "1",
         "SC/Paris 2123",
         null,
         null,
         null
        ],
        [
         "44",
         "1",
         "330958",
         null,
         null,
         null
        ],
        [
         "45",
         "0",
         "S.C./A.4. 23567",
         null,
         null,
         null
        ],
        [
         "46",
         "0",
         "370371",
         null,
         null,
         null
        ],
        [
         "47",
         "1",
         "14311",
         null,
         null,
         null
        ],
        [
         "48",
         "0",
         "2662",
         null,
         null,
         null
        ],
        [
         "49",
         "0",
         "349237",
         null,
         null,
         null
        ]
       ],
       "shape": {
        "columns": 5,
        "rows": 891
       }
      },
      "text/html": [
       "<div>\n",
       "<style scoped>\n",
       "    .dataframe tbody tr th:only-of-type {\n",
       "        vertical-align: middle;\n",
       "    }\n",
       "\n",
       "    .dataframe tbody tr th {\n",
       "        vertical-align: top;\n",
       "    }\n",
       "\n",
       "    .dataframe thead th {\n",
       "        text-align: right;\n",
       "    }\n",
       "</style>\n",
       "<table border=\"1\" class=\"dataframe\">\n",
       "  <thead>\n",
       "    <tr style=\"text-align: right;\">\n",
       "      <th></th>\n",
       "      <th>Survived</th>\n",
       "      <th>Ticket</th>\n",
       "      <th>Cabin</th>\n",
       "      <th>cabin_num</th>\n",
       "      <th>cabin_alphabet</th>\n",
       "    </tr>\n",
       "  </thead>\n",
       "  <tbody>\n",
       "    <tr>\n",
       "      <th>0</th>\n",
       "      <td>0</td>\n",
       "      <td>A/5 21171</td>\n",
       "      <td>NaN</td>\n",
       "      <td>NaN</td>\n",
       "      <td>NaN</td>\n",
       "    </tr>\n",
       "    <tr>\n",
       "      <th>1</th>\n",
       "      <td>1</td>\n",
       "      <td>PC 17599</td>\n",
       "      <td>C85</td>\n",
       "      <td>85</td>\n",
       "      <td>C</td>\n",
       "    </tr>\n",
       "    <tr>\n",
       "      <th>2</th>\n",
       "      <td>1</td>\n",
       "      <td>STON/O2. 3101282</td>\n",
       "      <td>NaN</td>\n",
       "      <td>NaN</td>\n",
       "      <td>NaN</td>\n",
       "    </tr>\n",
       "    <tr>\n",
       "      <th>3</th>\n",
       "      <td>1</td>\n",
       "      <td>113803</td>\n",
       "      <td>C123</td>\n",
       "      <td>123</td>\n",
       "      <td>C</td>\n",
       "    </tr>\n",
       "    <tr>\n",
       "      <th>4</th>\n",
       "      <td>0</td>\n",
       "      <td>373450</td>\n",
       "      <td>NaN</td>\n",
       "      <td>NaN</td>\n",
       "      <td>NaN</td>\n",
       "    </tr>\n",
       "    <tr>\n",
       "      <th>...</th>\n",
       "      <td>...</td>\n",
       "      <td>...</td>\n",
       "      <td>...</td>\n",
       "      <td>...</td>\n",
       "      <td>...</td>\n",
       "    </tr>\n",
       "    <tr>\n",
       "      <th>886</th>\n",
       "      <td>0</td>\n",
       "      <td>211536</td>\n",
       "      <td>NaN</td>\n",
       "      <td>NaN</td>\n",
       "      <td>NaN</td>\n",
       "    </tr>\n",
       "    <tr>\n",
       "      <th>887</th>\n",
       "      <td>1</td>\n",
       "      <td>112053</td>\n",
       "      <td>B42</td>\n",
       "      <td>42</td>\n",
       "      <td>B</td>\n",
       "    </tr>\n",
       "    <tr>\n",
       "      <th>888</th>\n",
       "      <td>0</td>\n",
       "      <td>W./C. 6607</td>\n",
       "      <td>NaN</td>\n",
       "      <td>NaN</td>\n",
       "      <td>NaN</td>\n",
       "    </tr>\n",
       "    <tr>\n",
       "      <th>889</th>\n",
       "      <td>1</td>\n",
       "      <td>111369</td>\n",
       "      <td>C148</td>\n",
       "      <td>148</td>\n",
       "      <td>C</td>\n",
       "    </tr>\n",
       "    <tr>\n",
       "      <th>890</th>\n",
       "      <td>0</td>\n",
       "      <td>370376</td>\n",
       "      <td>NaN</td>\n",
       "      <td>NaN</td>\n",
       "      <td>NaN</td>\n",
       "    </tr>\n",
       "  </tbody>\n",
       "</table>\n",
       "<p>891 rows × 5 columns</p>\n",
       "</div>"
      ],
      "text/plain": [
       "     Survived            Ticket Cabin cabin_num cabin_alphabet\n",
       "0           0         A/5 21171   NaN       NaN            NaN\n",
       "1           1          PC 17599   C85        85              C\n",
       "2           1  STON/O2. 3101282   NaN       NaN            NaN\n",
       "3           1            113803  C123       123              C\n",
       "4           0            373450   NaN       NaN            NaN\n",
       "..        ...               ...   ...       ...            ...\n",
       "886         0            211536   NaN       NaN            NaN\n",
       "887         1            112053   B42        42              B\n",
       "888         0        W./C. 6607   NaN       NaN            NaN\n",
       "889         1            111369  C148       148              C\n",
       "890         0            370376   NaN       NaN            NaN\n",
       "\n",
       "[891 rows x 5 columns]"
      ]
     },
     "execution_count": 7,
     "metadata": {},
     "output_type": "execute_result"
    }
   ],
   "source": [
    "df"
   ]
  },
  {
   "cell_type": "code",
   "execution_count": 8,
   "id": "5360f089",
   "metadata": {},
   "outputs": [
    {
     "data": {
      "text/plain": [
       "<Axes: xlabel='cabin_alphabet'>"
      ]
     },
     "execution_count": 8,
     "metadata": {},
     "output_type": "execute_result"
    },
    {
     "data": {
      "image/png": "[encoded data removed]",
      "text/plain": [
       "<Figure size 380x400 with 1 Axes>"
      ]
     },
     "metadata": {},
     "output_type": "display_data"
    }
   ],
   "source": [
    "df['cabin_alphabet'].value_counts().plot(kind='bar',figsize=(3.8,4),color='green')"
   ]
  },
  {
   "cell_type": "code",
   "execution_count": 9,
   "id": "45464920",
   "metadata": {},
   "outputs": [],
   "source": [
    "\n",
    "#! ticket \n",
    "\n",
    "df['ticket_numerical']= df['Ticket'].str.split( )"
   ]
  },
  {
   "cell_type": "code",
   "execution_count": 10,
   "id": "521c9a85",
   "metadata": {},
   "outputs": [
    {
     "data": {
      "application/vnd.microsoft.datawrangler.viewer.v0+json": {
       "columns": [
        {
         "name": "index",
         "rawType": "int64",
         "type": "integer"
        },
        {
         "name": "Survived",
         "rawType": "int64",
         "type": "integer"
        },
        {
         "name": "Ticket",
         "rawType": "object",
         "type": "string"
        },
        {
         "name": "Cabin",
         "rawType": "object",
         "type": "unknown"
        },
        {
         "name": "cabin_num",
         "rawType": "object",
         "type": "unknown"
        },
        {
         "name": "cabin_alphabet",
         "rawType": "object",
         "type": "unknown"
        },
        {
         "name": "ticket_numerical",
         "rawType": "object",
         "type": "unknown"
        }
       ],
       "ref": "b30c8070-d1f4-4c5f-bfc1-879ae57955d6",
       "rows": [
        [
         "0",
         "0",
         "A/5 21171",
         null,
         null,
         null,
         "['A/5', '21171']"
        ],
        [
         "1",
         "1",
         "PC 17599",
         "C85",
         "85",
         "C",
         "['PC', '17599']"
        ],
        [
         "2",
         "1",
         "STON/O2. 3101282",
         null,
         null,
         null,
         "['STON/O2.', '3101282']"
        ],
        [
         "3",
         "1",
         "113803",
         "C123",
         "123",
         "C",
         "['113803']"
        ],
        [
         "4",
         "0",
         "373450",
         null,
         null,
         null,
         "['373450']"
        ],
        [
         "5",
         "0",
         "330877",
         null,
         null,
         null,
         "['330877']"
        ],
        [
         "6",
         "0",
         "17463",
         "E46",
         "46",
         "E",
         "['17463']"
        ],
        [
         "7",
         "0",
         "349909",
         null,
         null,
         null,
         "['349909']"
        ],
        [
         "8",
         "1",
         "347742",
         null,
         null,
         null,
         "['347742']"
        ],
        [
         "9",
         "1",
         "237736",
         null,
         null,
         null,
         "['237736']"
        ],
        [
         "10",
         "1",
         "PP 9549",
         "G6",
         "6",
         "G",
         "['PP', '9549']"
        ],
        [
         "11",
         "1",
         "113783",
         "C103",
         "103",
         "C",
         "['113783']"
        ],
        [
         "12",
         "0",
         "A/5. 2151",
         null,
         null,
         null,
         "['A/5.', '2151']"
        ],
        [
         "13",
         "0",
         "347082",
         null,
         null,
         null,
         "['347082']"
        ],
        [
         "14",
         "0",
         "350406",
         null,
         null,
         null,
         "['350406']"
        ],
        [
         "15",
         "1",
         "248706",
         null,
         null,
         null,
         "['248706']"
        ],
        [
         "16",
         "0",
         "382652",
         null,
         null,
         null,
         "['382652']"
        ],
        [
         "17",
         "1",
         "244373",
         null,
         null,
         null,
         "['244373']"
        ],
        [
         "18",
         "0",
         "345763",
         null,
         null,
         null,
         "['345763']"
        ],
        [
         "19",
         "1",
         "2649",
         null,
         null,
         null,
         "['2649']"
        ],
        [
         "20",
         "0",
         "239865",
         null,
         null,
         null,
         "['239865']"
        ],
        [
         "21",
         "1",
         "248698",
         "D56",
         "56",
         "D",
         "['248698']"
        ],
        [
         "22",
         "1",
         "330923",
         null,
         null,
         null,
         "['330923']"
        ],
        [
         "23",
         "1",
         "113788",
         "A6",
         "6",
         "A",
         "['113788']"
        ],
        [
         "24",
         "0",
         "349909",
         null,
         null,
         null,
         "['349909']"
        ],
        [
         "25",
         "1",
         "347077",
         null,
         null,
         null,
         "['347077']"
        ],
        [
         "26",
         "0",
         "2631",
         null,
         null,
         null,
         "['2631']"
        ],
        [
         "27",
         "0",
         "19950",
         "C23 C25 C27",
         "23",
         "C",
         "['19950']"
        ],
        [
         "28",
         "1",
         "330959",
         null,
         null,
         null,
         "['330959']"
        ],
        [
         "29",
         "0",
         "349216",
         null,
         null,
         null,
         "['349216']"
        ],
        [
         "30",
         "0",
         "PC 17601",
         null,
         null,
         null,
         "['PC', '17601']"
        ],
        [
         "31",
         "1",
         "PC 17569",
         "B78",
         "78",
         "B",
         "['PC', '17569']"
        ],
        [
         "32",
         "1",
         "335677",
         null,
         null,
         null,
         "['335677']"
        ],
        [
         "33",
         "0",
         "C.A. 24579",
         null,
         null,
         null,
         "['C.A.', '24579']"
        ],
        [
         "34",
         "0",
         "PC 17604",
         null,
         null,
         null,
         "['PC', '17604']"
        ],
        [
         "35",
         "0",
         "113789",
         null,
         null,
         null,
         "['113789']"
        ],
        [
         "36",
         "1",
         "2677",
         null,
         null,
         null,
         "['2677']"
        ],
        [
         "37",
         "0",
         "A./5. 2152",
         null,
         null,
         null,
         "['A./5.', '2152']"
        ],
        [
         "38",
         "0",
         "345764",
         null,
         null,
         null,
         "['345764']"
        ],
        [
         "39",
         "1",
         "2651",
         null,
         null,
         null,
         "['2651']"
        ],
        [
         "40",
         "0",
         "7546",
         null,
         null,
         null,
         "['7546']"
        ],
        [
         "41",
         "0",
         "11668",
         null,
         null,
         null,
         "['11668']"
        ],
        [
         "42",
         "0",
         "349253",
         null,
         null,
         null,
         "['349253']"
        ],
        [
         "43",
         "1",
         "SC/Paris 2123",
         null,
         null,
         null,
         "['SC/Paris', '2123']"
        ],
        [
         "44",
         "1",
         "330958",
         null,
         null,
         null,
         "['330958']"
        ],
        [
         "45",
         "0",
         "S.C./A.4. 23567",
         null,
         null,
         null,
         "['S.C./A.4.', '23567']"
        ],
        [
         "46",
         "0",
         "370371",
         null,
         null,
         null,
         "['370371']"
        ],
        [
         "47",
         "1",
         "14311",
         null,
         null,
         null,
         "['14311']"
        ],
        [
         "48",
         "0",
         "2662",
         null,
         null,
         null,
         "['2662']"
        ],
        [
         "49",
         "0",
         "349237",
         null,
         null,
         null,
         "['349237']"
        ]
       ],
       "shape": {
        "columns": 6,
        "rows": 891
       }
      },
      "text/html": [
       "<div>\n",
       "<style scoped>\n",
       "    .dataframe tbody tr th:only-of-type {\n",
       "        vertical-align: middle;\n",
       "    }\n",
       "\n",
       "    .dataframe tbody tr th {\n",
       "        vertical-align: top;\n",
       "    }\n",
       "\n",
       "    .dataframe thead th {\n",
       "        text-align: right;\n",
       "    }\n",
       "</style>\n",
       "<table border=\"1\" class=\"dataframe\">\n",
       "  <thead>\n",
       "    <tr style=\"text-align: right;\">\n",
       "      <th></th>\n",
       "      <th>Survived</th>\n",
       "      <th>Ticket</th>\n",
       "      <th>Cabin</th>\n",
       "      <th>cabin_num</th>\n",
       "      <th>cabin_alphabet</th>\n",
       "      <th>ticket_numerical</th>\n",
       "    </tr>\n",
       "  </thead>\n",
       "  <tbody>\n",
       "    <tr>\n",
       "      <th>0</th>\n",
       "      <td>0</td>\n",
       "      <td>A/5 21171</td>\n",
       "      <td>NaN</td>\n",
       "      <td>NaN</td>\n",
       "      <td>NaN</td>\n",
       "      <td>[A/5, 21171]</td>\n",
       "    </tr>\n",
       "    <tr>\n",
       "      <th>1</th>\n",
       "      <td>1</td>\n",
       "      <td>PC 17599</td>\n",
       "      <td>C85</td>\n",
       "      <td>85</td>\n",
       "      <td>C</td>\n",
       "      <td>[PC, 17599]</td>\n",
       "    </tr>\n",
       "    <tr>\n",
       "      <th>2</th>\n",
       "      <td>1</td>\n",
       "      <td>STON/O2. 3101282</td>\n",
       "      <td>NaN</td>\n",
       "      <td>NaN</td>\n",
       "      <td>NaN</td>\n",
       "      <td>[STON/O2., 3101282]</td>\n",
       "    </tr>\n",
       "    <tr>\n",
       "      <th>3</th>\n",
       "      <td>1</td>\n",
       "      <td>113803</td>\n",
       "      <td>C123</td>\n",
       "      <td>123</td>\n",
       "      <td>C</td>\n",
       "      <td>[113803]</td>\n",
       "    </tr>\n",
       "    <tr>\n",
       "      <th>4</th>\n",
       "      <td>0</td>\n",
       "      <td>373450</td>\n",
       "      <td>NaN</td>\n",
       "      <td>NaN</td>\n",
       "      <td>NaN</td>\n",
       "      <td>[373450]</td>\n",
       "    </tr>\n",
       "    <tr>\n",
       "      <th>...</th>\n",
       "      <td>...</td>\n",
       "      <td>...</td>\n",
       "      <td>...</td>\n",
       "      <td>...</td>\n",
       "      <td>...</td>\n",
       "      <td>...</td>\n",
       "    </tr>\n",
       "    <tr>\n",
       "      <th>886</th>\n",
       "      <td>0</td>\n",
       "      <td>211536</td>\n",
       "      <td>NaN</td>\n",
       "      <td>NaN</td>\n",
       "      <td>NaN</td>\n",
       "      <td>[211536]</td>\n",
       "    </tr>\n",
       "    <tr>\n",
       "      <th>887</th>\n",
       "      <td>1</td>\n",
       "      <td>112053</td>\n",
       "      <td>B42</td>\n",
       "      <td>42</td>\n",
       "      <td>B</td>\n",
       "      <td>[112053]</td>\n",
       "    </tr>\n",
       "    <tr>\n",
       "      <th>888</th>\n",
       "      <td>0</td>\n",
       "      <td>W./C. 6607</td>\n",
       "      <td>NaN</td>\n",
       "      <td>NaN</td>\n",
       "      <td>NaN</td>\n",
       "      <td>[W./C., 6607]</td>\n",
       "    </tr>\n",
       "    <tr>\n",
       "      <th>889</th>\n",
       "      <td>1</td>\n",
       "      <td>111369</td>\n",
       "      <td>C148</td>\n",
       "      <td>148</td>\n",
       "      <td>C</td>\n",
       "      <td>[111369]</td>\n",
       "    </tr>\n",
       "    <tr>\n",
       "      <th>890</th>\n",
       "      <td>0</td>\n",
       "      <td>370376</td>\n",
       "      <td>NaN</td>\n",
       "      <td>NaN</td>\n",
       "      <td>NaN</td>\n",
       "      <td>[370376]</td>\n",
       "    </tr>\n",
       "  </tbody>\n",
       "</table>\n",
       "<p>891 rows × 6 columns</p>\n",
       "</div>"
      ],
      "text/plain": [
       "     Survived            Ticket Cabin cabin_num cabin_alphabet  \\\n",
       "0           0         A/5 21171   NaN       NaN            NaN   \n",
       "1           1          PC 17599   C85        85              C   \n",
       "2           1  STON/O2. 3101282   NaN       NaN            NaN   \n",
       "3           1            113803  C123       123              C   \n",
       "4           0            373450   NaN       NaN            NaN   \n",
       "..        ...               ...   ...       ...            ...   \n",
       "886         0            211536   NaN       NaN            NaN   \n",
       "887         1            112053   B42        42              B   \n",
       "888         0        W./C. 6607   NaN       NaN            NaN   \n",
       "889         1            111369  C148       148              C   \n",
       "890         0            370376   NaN       NaN            NaN   \n",
       "\n",
       "        ticket_numerical  \n",
       "0           [A/5, 21171]  \n",
       "1            [PC, 17599]  \n",
       "2    [STON/O2., 3101282]  \n",
       "3               [113803]  \n",
       "4               [373450]  \n",
       "..                   ...  \n",
       "886             [211536]  \n",
       "887             [112053]  \n",
       "888        [W./C., 6607]  \n",
       "889             [111369]  \n",
       "890             [370376]  \n",
       "\n",
       "[891 rows x 6 columns]"
      ]
     },
     "execution_count": 10,
     "metadata": {},
     "output_type": "execute_result"
    }
   ],
   "source": [
    "df"
   ]
  },
  {
   "cell_type": "code",
   "execution_count": 11,
   "id": "a45b0139",
   "metadata": {},
   "outputs": [
    {
     "ename": "ValueError",
     "evalue": "pattern contains no capture groups",
     "output_type": "error",
     "traceback": [
      "\u001b[31m---------------------------------------------------------------------------\u001b[39m",
      "\u001b[31mValueError\u001b[39m                                Traceback (most recent call last)",
      "\u001b[36mCell\u001b[39m\u001b[36m \u001b[39m\u001b[32mIn[11]\u001b[39m\u001b[32m, line 1\u001b[39m\n\u001b[32m----> \u001b[39m\u001b[32m1\u001b[39m df[\u001b[33m'\u001b[39m\u001b[33mcat\u001b[39m\u001b[33m'\u001b[39m]=\u001b[43mdf\u001b[49m\u001b[43m[\u001b[49m\u001b[33;43m'\u001b[39;49m\u001b[33;43mticket_numerical\u001b[39;49m\u001b[33;43m'\u001b[39;49m\u001b[43m]\u001b[49m\u001b[43m.\u001b[49m\u001b[43mstr\u001b[49m\u001b[43m.\u001b[49m\u001b[43mextract\u001b[49m\u001b[43m(\u001b[49m\u001b[33;43mr\u001b[39;49m\u001b[33;43m'\u001b[39;49m\u001b[33;43m'\u001b[39;49m\u001b[43m)\u001b[49m\n",
      "\u001b[36mFile \u001b[39m\u001b[32m~\\AppData\\Local\\Packages\\PythonSoftwareFoundation.Python.3.13_qbz5n2kfra8p0\\LocalCache\\local-packages\\Python313\\site-packages\\pandas\\core\\strings\\accessor.py:140\u001b[39m, in \u001b[36mforbid_nonstring_types.<locals>._forbid_nonstring_types.<locals>.wrapper\u001b[39m\u001b[34m(self, *args, **kwargs)\u001b[39m\n\u001b[32m    135\u001b[39m     msg = (\n\u001b[32m    136\u001b[39m         \u001b[33mf\u001b[39m\u001b[33m\"\u001b[39m\u001b[33mCannot use .str.\u001b[39m\u001b[38;5;132;01m{\u001b[39;00mfunc_name\u001b[38;5;132;01m}\u001b[39;00m\u001b[33m with values of \u001b[39m\u001b[33m\"\u001b[39m\n\u001b[32m    137\u001b[39m         \u001b[33mf\u001b[39m\u001b[33m\"\u001b[39m\u001b[33minferred dtype \u001b[39m\u001b[33m'\u001b[39m\u001b[38;5;132;01m{\u001b[39;00m\u001b[38;5;28mself\u001b[39m._inferred_dtype\u001b[38;5;132;01m}\u001b[39;00m\u001b[33m'\u001b[39m\u001b[33m.\u001b[39m\u001b[33m\"\u001b[39m\n\u001b[32m    138\u001b[39m     )\n\u001b[32m    139\u001b[39m     \u001b[38;5;28;01mraise\u001b[39;00m \u001b[38;5;167;01mTypeError\u001b[39;00m(msg)\n\u001b[32m--> \u001b[39m\u001b[32m140\u001b[39m \u001b[38;5;28;01mreturn\u001b[39;00m \u001b[43mfunc\u001b[49m\u001b[43m(\u001b[49m\u001b[38;5;28;43mself\u001b[39;49m\u001b[43m,\u001b[49m\u001b[43m \u001b[49m\u001b[43m*\u001b[49m\u001b[43margs\u001b[49m\u001b[43m,\u001b[49m\u001b[43m \u001b[49m\u001b[43m*\u001b[49m\u001b[43m*\u001b[49m\u001b[43mkwargs\u001b[49m\u001b[43m)\u001b[49m\n",
      "\u001b[36mFile \u001b[39m\u001b[32m~\\AppData\\Local\\Packages\\PythonSoftwareFoundation.Python.3.13_qbz5n2kfra8p0\\LocalCache\\local-packages\\Python313\\site-packages\\pandas\\core\\strings\\accessor.py:2768\u001b[39m, in \u001b[36mStringMethods.extract\u001b[39m\u001b[34m(self, pat, flags, expand)\u001b[39m\n\u001b[32m   2766\u001b[39m regex = re.compile(pat, flags=flags)\n\u001b[32m   2767\u001b[39m \u001b[38;5;28;01mif\u001b[39;00m regex.groups == \u001b[32m0\u001b[39m:\n\u001b[32m-> \u001b[39m\u001b[32m2768\u001b[39m     \u001b[38;5;28;01mraise\u001b[39;00m \u001b[38;5;167;01mValueError\u001b[39;00m(\u001b[33m\"\u001b[39m\u001b[33mpattern contains no capture groups\u001b[39m\u001b[33m\"\u001b[39m)\n\u001b[32m   2770\u001b[39m \u001b[38;5;28;01mif\u001b[39;00m \u001b[38;5;129;01mnot\u001b[39;00m expand \u001b[38;5;129;01mand\u001b[39;00m regex.groups > \u001b[32m1\u001b[39m \u001b[38;5;129;01mand\u001b[39;00m \u001b[38;5;28misinstance\u001b[39m(\u001b[38;5;28mself\u001b[39m._data, ABCIndex):\n\u001b[32m   2771\u001b[39m     \u001b[38;5;28;01mraise\u001b[39;00m \u001b[38;5;167;01mValueError\u001b[39;00m(\u001b[33m\"\u001b[39m\u001b[33monly one regex group is supported with Index\u001b[39m\u001b[33m\"\u001b[39m)\n",
      "\u001b[31mValueError\u001b[39m: pattern contains no capture groups"
     ]
    }
   ],
   "source": [
    "df['cat']=df['ticket_numerical'].str.extract(r'')"
   ]
  },
  {
   "cell_type": "code",
   "execution_count": null,
   "id": "7b9fa086",
   "metadata": {},
   "outputs": [
    {
     "data": {
      "application/vnd.microsoft.datawrangler.viewer.v0+json": {
       "columns": [
        {
         "name": "index",
         "rawType": "int64",
         "type": "integer"
        },
        {
         "name": "Survived",
         "rawType": "int64",
         "type": "integer"
        },
        {
         "name": "Ticket",
         "rawType": "object",
         "type": "string"
        },
        {
         "name": "Cabin",
         "rawType": "object",
         "type": "unknown"
        },
        {
         "name": "cabin_num",
         "rawType": "object",
         "type": "unknown"
        },
        {
         "name": "cabin_alphabet",
         "rawType": "object",
         "type": "unknown"
        },
        {
         "name": "ticket_numerical",
         "rawType": "object",
         "type": "unknown"
        }
       ],
       "ref": "00c91ae6-74ef-418d-bbe9-e8817f509562",
       "rows": [
        [
         "0",
         "0",
         "A/5 21171",
         null,
         null,
         null,
         "['A/5', '21171']"
        ],
        [
         "1",
         "1",
         "PC 17599",
         "C85",
         "85",
         "C",
         "['PC', '17599']"
        ],
        [
         "2",
         "1",
         "STON/O2. 3101282",
         null,
         null,
         null,
         "['STON/O2.', '3101282']"
        ],
        [
         "3",
         "1",
         "113803",
         "C123",
         "123",
         "C",
         "['113803']"
        ],
        [
         "4",
         "0",
         "373450",
         null,
         null,
         null,
         "['373450']"
        ],
        [
         "5",
         "0",
         "330877",
         null,
         null,
         null,
         "['330877']"
        ],
        [
         "6",
         "0",
         "17463",
         "E46",
         "46",
         "E",
         "['17463']"
        ],
        [
         "7",
         "0",
         "349909",
         null,
         null,
         null,
         "['349909']"
        ],
        [
         "8",
         "1",
         "347742",
         null,
         null,
         null,
         "['347742']"
        ],
        [
         "9",
         "1",
         "237736",
         null,
         null,
         null,
         "['237736']"
        ],
        [
         "10",
         "1",
         "PP 9549",
         "G6",
         "6",
         "G",
         "['PP', '9549']"
        ],
        [
         "11",
         "1",
         "113783",
         "C103",
         "103",
         "C",
         "['113783']"
        ],
        [
         "12",
         "0",
         "A/5. 2151",
         null,
         null,
         null,
         "['A/5.', '2151']"
        ],
        [
         "13",
         "0",
         "347082",
         null,
         null,
         null,
         "['347082']"
        ],
        [
         "14",
         "0",
         "350406",
         null,
         null,
         null,
         "['350406']"
        ],
        [
         "15",
         "1",
         "248706",
         null,
         null,
         null,
         "['248706']"
        ],
        [
         "16",
         "0",
         "382652",
         null,
         null,
         null,
         "['382652']"
        ],
        [
         "17",
         "1",
         "244373",
         null,
         null,
         null,
         "['244373']"
        ],
        [
         "18",
         "0",
         "345763",
         null,
         null,
         null,
         "['345763']"
        ],
        [
         "19",
         "1",
         "2649",
         null,
         null,
         null,
         "['2649']"
        ],
        [
         "20",
         "0",
         "239865",
         null,
         null,
         null,
         "['239865']"
        ],
        [
         "21",
         "1",
         "248698",
         "D56",
         "56",
         "D",
         "['248698']"
        ],
        [
         "22",
         "1",
         "330923",
         null,
         null,
         null,
         "['330923']"
        ],
        [
         "23",
         "1",
         "113788",
         "A6",
         "6",
         "A",
         "['113788']"
        ],
        [
         "24",
         "0",
         "349909",
         null,
         null,
         null,
         "['349909']"
        ],
        [
         "25",
         "1",
         "347077",
         null,
         null,
         null,
         "['347077']"
        ],
        [
         "26",
         "0",
         "2631",
         null,
         null,
         null,
         "['2631']"
        ],
        [
         "27",
         "0",
         "19950",
         "C23 C25 C27",
         "23",
         "C",
         "['19950']"
        ],
        [
         "28",
         "1",
         "330959",
         null,
         null,
         null,
         "['330959']"
        ],
        [
         "29",
         "0",
         "349216",
         null,
         null,
         null,
         "['349216']"
        ],
        [
         "30",
         "0",
         "PC 17601",
         null,
         null,
         null,
         "['PC', '17601']"
        ],
        [
         "31",
         "1",
         "PC 17569",
         "B78",
         "78",
         "B",
         "['PC', '17569']"
        ],
        [
         "32",
         "1",
         "335677",
         null,
         null,
         null,
         "['335677']"
        ],
        [
         "33",
         "0",
         "C.A. 24579",
         null,
         null,
         null,
         "['C.A.', '24579']"
        ],
        [
         "34",
         "0",
         "PC 17604",
         null,
         null,
         null,
         "['PC', '17604']"
        ],
        [
         "35",
         "0",
         "113789",
         null,
         null,
         null,
         "['113789']"
        ],
        [
         "36",
         "1",
         "2677",
         null,
         null,
         null,
         "['2677']"
        ],
        [
         "37",
         "0",
         "A./5. 2152",
         null,
         null,
         null,
         "['A./5.', '2152']"
        ],
        [
         "38",
         "0",
         "345764",
         null,
         null,
         null,
         "['345764']"
        ],
        [
         "39",
         "1",
         "2651",
         null,
         null,
         null,
         "['2651']"
        ],
        [
         "40",
         "0",
         "7546",
         null,
         null,
         null,
         "['7546']"
        ],
        [
         "41",
         "0",
         "11668",
         null,
         null,
         null,
         "['11668']"
        ],
        [
         "42",
         "0",
         "349253",
         null,
         null,
         null,
         "['349253']"
        ],
        [
         "43",
         "1",
         "SC/Paris 2123",
         null,
         null,
         null,
         "['SC/Paris', '2123']"
        ],
        [
         "44",
         "1",
         "330958",
         null,
         null,
         null,
         "['330958']"
        ],
        [
         "45",
         "0",
         "S.C./A.4. 23567",
         null,
         null,
         null,
         "['S.C./A.4.', '23567']"
        ],
        [
         "46",
         "0",
         "370371",
         null,
         null,
         null,
         "['370371']"
        ],
        [
         "47",
         "1",
         "14311",
         null,
         null,
         null,
         "['14311']"
        ],
        [
         "48",
         "0",
         "2662",
         null,
         null,
         null,
         "['2662']"
        ],
        [
         "49",
         "0",
         "349237",
         null,
         null,
         null,
         "['349237']"
        ]
       ],
       "shape": {
        "columns": 6,
        "rows": 891
       }
      },
      "text/html": [
       "<div>\n",
       "<style scoped>\n",
       "    .dataframe tbody tr th:only-of-type {\n",
       "        vertical-align: middle;\n",
       "    }\n",
       "\n",
       "    .dataframe tbody tr th {\n",
       "        vertical-align: top;\n",
       "    }\n",
       "\n",
       "    .dataframe thead th {\n",
       "        text-align: right;\n",
       "    }\n",
       "</style>\n",
       "<table border=\"1\" class=\"dataframe\">\n",
       "  <thead>\n",
       "    <tr style=\"text-align: right;\">\n",
       "      <th></th>\n",
       "      <th>Survived</th>\n",
       "      <th>Ticket</th>\n",
       "      <th>Cabin</th>\n",
       "      <th>cabin_num</th>\n",
       "      <th>cabin_alphabet</th>\n",
       "      <th>ticket_numerical</th>\n",
       "    </tr>\n",
       "  </thead>\n",
       "  <tbody>\n",
       "    <tr>\n",
       "      <th>0</th>\n",
       "      <td>0</td>\n",
       "      <td>A/5 21171</td>\n",
       "      <td>NaN</td>\n",
       "      <td>NaN</td>\n",
       "      <td>NaN</td>\n",
       "      <td>[A/5, 21171]</td>\n",
       "    </tr>\n",
       "    <tr>\n",
       "      <th>1</th>\n",
       "      <td>1</td>\n",
       "      <td>PC 17599</td>\n",
       "      <td>C85</td>\n",
       "      <td>85</td>\n",
       "      <td>C</td>\n",
       "      <td>[PC, 17599]</td>\n",
       "    </tr>\n",
       "    <tr>\n",
       "      <th>2</th>\n",
       "      <td>1</td>\n",
       "      <td>STON/O2. 3101282</td>\n",
       "      <td>NaN</td>\n",
       "      <td>NaN</td>\n",
       "      <td>NaN</td>\n",
       "      <td>[STON/O2., 3101282]</td>\n",
       "    </tr>\n",
       "    <tr>\n",
       "      <th>3</th>\n",
       "      <td>1</td>\n",
       "      <td>113803</td>\n",
       "      <td>C123</td>\n",
       "      <td>123</td>\n",
       "      <td>C</td>\n",
       "      <td>[113803]</td>\n",
       "    </tr>\n",
       "    <tr>\n",
       "      <th>4</th>\n",
       "      <td>0</td>\n",
       "      <td>373450</td>\n",
       "      <td>NaN</td>\n",
       "      <td>NaN</td>\n",
       "      <td>NaN</td>\n",
       "      <td>[373450]</td>\n",
       "    </tr>\n",
       "    <tr>\n",
       "      <th>...</th>\n",
       "      <td>...</td>\n",
       "      <td>...</td>\n",
       "      <td>...</td>\n",
       "      <td>...</td>\n",
       "      <td>...</td>\n",
       "      <td>...</td>\n",
       "    </tr>\n",
       "    <tr>\n",
       "      <th>886</th>\n",
       "      <td>0</td>\n",
       "      <td>211536</td>\n",
       "      <td>NaN</td>\n",
       "      <td>NaN</td>\n",
       "      <td>NaN</td>\n",
       "      <td>[211536]</td>\n",
       "    </tr>\n",
       "    <tr>\n",
       "      <th>887</th>\n",
       "      <td>1</td>\n",
       "      <td>112053</td>\n",
       "      <td>B42</td>\n",
       "      <td>42</td>\n",
       "      <td>B</td>\n",
       "      <td>[112053]</td>\n",
       "    </tr>\n",
       "    <tr>\n",
       "      <th>888</th>\n",
       "      <td>0</td>\n",
       "      <td>W./C. 6607</td>\n",
       "      <td>NaN</td>\n",
       "      <td>NaN</td>\n",
       "      <td>NaN</td>\n",
       "      <td>[W./C., 6607]</td>\n",
       "    </tr>\n",
       "    <tr>\n",
       "      <th>889</th>\n",
       "      <td>1</td>\n",
       "      <td>111369</td>\n",
       "      <td>C148</td>\n",
       "      <td>148</td>\n",
       "      <td>C</td>\n",
       "      <td>[111369]</td>\n",
       "    </tr>\n",
       "    <tr>\n",
       "      <th>890</th>\n",
       "      <td>0</td>\n",
       "      <td>370376</td>\n",
       "      <td>NaN</td>\n",
       "      <td>NaN</td>\n",
       "      <td>NaN</td>\n",
       "      <td>[370376]</td>\n",
       "    </tr>\n",
       "  </tbody>\n",
       "</table>\n",
       "<p>891 rows × 6 columns</p>\n",
       "</div>"
      ],
      "text/plain": [
       "     Survived            Ticket Cabin cabin_num cabin_alphabet  \\\n",
       "0           0         A/5 21171   NaN       NaN            NaN   \n",
       "1           1          PC 17599   C85        85              C   \n",
       "2           1  STON/O2. 3101282   NaN       NaN            NaN   \n",
       "3           1            113803  C123       123              C   \n",
       "4           0            373450   NaN       NaN            NaN   \n",
       "..        ...               ...   ...       ...            ...   \n",
       "886         0            211536   NaN       NaN            NaN   \n",
       "887         1            112053   B42        42              B   \n",
       "888         0        W./C. 6607   NaN       NaN            NaN   \n",
       "889         1            111369  C148       148              C   \n",
       "890         0            370376   NaN       NaN            NaN   \n",
       "\n",
       "        ticket_numerical  \n",
       "0           [A/5, 21171]  \n",
       "1            [PC, 17599]  \n",
       "2    [STON/O2., 3101282]  \n",
       "3               [113803]  \n",
       "4               [373450]  \n",
       "..                   ...  \n",
       "886             [211536]  \n",
       "887             [112053]  \n",
       "888        [W./C., 6607]  \n",
       "889             [111369]  \n",
       "890             [370376]  \n",
       "\n",
       "[891 rows x 6 columns]"
      ]
     },
     "execution_count": 59,
     "metadata": {},
     "output_type": "execute_result"
    }
   ],
   "source": [
    "df"
   ]
  }
 ],
 "metadata": {
  "kernelspec": {
   "display_name": "Python 3",
   "language": "python",
   "name": "python3"
  },
  "language_info": {
   "codemirror_mode": {
    "name": "ipython",
    "version": 3
   },
   "file_extension": ".py",
   "mimetype": "text/x-python",
   "name": "python",
   "nbconvert_exporter": "python",
   "pygments_lexer": "ipython3",
   "version": "3.13.7"
  }
 },
 "nbformat": 4,
 "nbformat_minor": 5
}
