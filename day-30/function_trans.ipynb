{
 "cells": [
  {
   "cell_type": "code",
   "execution_count": 1,
   "id": "c9f9f744",
   "metadata": {},
   "outputs": [],
   "source": [
    "import pandas as pd\n",
    "import numpy as np\n",
    "from sklearn.impute import SimpleImputer\n",
    "from sklearn.compose import ColumnTransformer\n",
    "from sklearn.preprocessing import MinMaxScaler,OrdinalEncoder,OneHotEncoder,FunctionTransformer\n",
    "from sklearn.tree import DecisionTreeClassifier\n",
    "from sklearn.pipeline import Pipeline ,make_pipeline\n",
    "from sklearn.metrics import accuracy_score\n",
    "from sklearn.feature_selection import SelectKBest,chi2\n",
    "from sklearn.linear_model import LogisticRegression   \n",
    "import seaborn as sns\n",
    "import matplotlib.pyplot as plt\n",
    "from sklearn.model_selection import cross_val_score\n",
    "import scipy.stats as stats\n",
    "from sklearn.model_selection import train_test_split\n",
    "import warnings\n",
    "warnings.filterwarnings('ignore')"
   ]
  },
  {
   "cell_type": "code",
   "execution_count": 6,
   "id": "12b4ac03",
   "metadata": {},
   "outputs": [],
   "source": [
    "df= pd.read_csv(r\"titanic.csv\",usecols=['Age','Fare','Survived'])"
   ]
  },
  {
   "cell_type": "code",
   "execution_count": 7,
   "id": "1a322286",
   "metadata": {},
   "outputs": [
    {
     "data": {
      "application/vnd.microsoft.datawrangler.viewer.v0+json": {
       "columns": [
        {
         "name": "index",
         "rawType": "int64",
         "type": "integer"
        },
        {
         "name": "Survived",
         "rawType": "int64",
         "type": "integer"
        },
        {
         "name": "Age",
         "rawType": "float64",
         "type": "float"
        },
        {
         "name": "Fare",
         "rawType": "float64",
         "type": "float"
        }
       ],
       "ref": "514e86c2-1415-452e-a7de-8b1b46cf1cd5",
       "rows": [
        [
         "0",
         "0",
         "22.0",
         "7.25"
        ],
        [
         "1",
         "1",
         "38.0",
         "71.2833"
        ],
        [
         "2",
         "1",
         "26.0",
         "7.925"
        ],
        [
         "3",
         "1",
         "35.0",
         "53.1"
        ],
        [
         "4",
         "0",
         "35.0",
         "8.05"
        ],
        [
         "5",
         "0",
         null,
         "8.4583"
        ],
        [
         "6",
         "0",
         "54.0",
         "51.8625"
        ],
        [
         "7",
         "0",
         "2.0",
         "21.075"
        ],
        [
         "8",
         "1",
         "27.0",
         "11.1333"
        ],
        [
         "9",
         "1",
         "14.0",
         "30.0708"
        ],
        [
         "10",
         "1",
         "4.0",
         "16.7"
        ],
        [
         "11",
         "1",
         "58.0",
         "26.55"
        ],
        [
         "12",
         "0",
         "20.0",
         "8.05"
        ],
        [
         "13",
         "0",
         "39.0",
         "31.275"
        ],
        [
         "14",
         "0",
         "14.0",
         "7.8542"
        ],
        [
         "15",
         "1",
         "55.0",
         "16.0"
        ],
        [
         "16",
         "0",
         "2.0",
         "29.125"
        ],
        [
         "17",
         "1",
         null,
         "13.0"
        ],
        [
         "18",
         "0",
         "31.0",
         "18.0"
        ],
        [
         "19",
         "1",
         null,
         "7.225"
        ],
        [
         "20",
         "0",
         "35.0",
         "26.0"
        ],
        [
         "21",
         "1",
         "34.0",
         "13.0"
        ],
        [
         "22",
         "1",
         "15.0",
         "8.0292"
        ],
        [
         "23",
         "1",
         "28.0",
         "35.5"
        ],
        [
         "24",
         "0",
         "8.0",
         "21.075"
        ],
        [
         "25",
         "1",
         "38.0",
         "31.3875"
        ],
        [
         "26",
         "0",
         null,
         "7.225"
        ],
        [
         "27",
         "0",
         "19.0",
         "263.0"
        ],
        [
         "28",
         "1",
         null,
         "7.8792"
        ],
        [
         "29",
         "0",
         null,
         "7.8958"
        ],
        [
         "30",
         "0",
         "40.0",
         "27.7208"
        ],
        [
         "31",
         "1",
         null,
         "146.5208"
        ],
        [
         "32",
         "1",
         null,
         "7.75"
        ],
        [
         "33",
         "0",
         "66.0",
         "10.5"
        ],
        [
         "34",
         "0",
         "28.0",
         "82.1708"
        ],
        [
         "35",
         "0",
         "42.0",
         "52.0"
        ],
        [
         "36",
         "1",
         null,
         "7.2292"
        ],
        [
         "37",
         "0",
         "21.0",
         "8.05"
        ],
        [
         "38",
         "0",
         "18.0",
         "18.0"
        ],
        [
         "39",
         "1",
         "14.0",
         "11.2417"
        ],
        [
         "40",
         "0",
         "40.0",
         "9.475"
        ],
        [
         "41",
         "0",
         "27.0",
         "21.0"
        ],
        [
         "42",
         "0",
         null,
         "7.8958"
        ],
        [
         "43",
         "1",
         "3.0",
         "41.5792"
        ],
        [
         "44",
         "1",
         "19.0",
         "7.8792"
        ],
        [
         "45",
         "0",
         null,
         "8.05"
        ],
        [
         "46",
         "0",
         null,
         "15.5"
        ],
        [
         "47",
         "1",
         null,
         "7.75"
        ],
        [
         "48",
         "0",
         null,
         "21.6792"
        ],
        [
         "49",
         "0",
         "18.0",
         "17.8"
        ]
       ],
       "shape": {
        "columns": 3,
        "rows": 891
       }
      },
      "text/html": [
       "<div>\n",
       "<style scoped>\n",
       "    .dataframe tbody tr th:only-of-type {\n",
       "        vertical-align: middle;\n",
       "    }\n",
       "\n",
       "    .dataframe tbody tr th {\n",
       "        vertical-align: top;\n",
       "    }\n",
       "\n",
       "    .dataframe thead th {\n",
       "        text-align: right;\n",
       "    }\n",
       "</style>\n",
       "<table border=\"1\" class=\"dataframe\">\n",
       "  <thead>\n",
       "    <tr style=\"text-align: right;\">\n",
       "      <th></th>\n",
       "      <th>Survived</th>\n",
       "      <th>Age</th>\n",
       "      <th>Fare</th>\n",
       "    </tr>\n",
       "  </thead>\n",
       "  <tbody>\n",
       "    <tr>\n",
       "      <th>0</th>\n",
       "      <td>0</td>\n",
       "      <td>22.0</td>\n",
       "      <td>7.2500</td>\n",
       "    </tr>\n",
       "    <tr>\n",
       "      <th>1</th>\n",
       "      <td>1</td>\n",
       "      <td>38.0</td>\n",
       "      <td>71.2833</td>\n",
       "    </tr>\n",
       "    <tr>\n",
       "      <th>2</th>\n",
       "      <td>1</td>\n",
       "      <td>26.0</td>\n",
       "      <td>7.9250</td>\n",
       "    </tr>\n",
       "    <tr>\n",
       "      <th>3</th>\n",
       "      <td>1</td>\n",
       "      <td>35.0</td>\n",
       "      <td>53.1000</td>\n",
       "    </tr>\n",
       "    <tr>\n",
       "      <th>4</th>\n",
       "      <td>0</td>\n",
       "      <td>35.0</td>\n",
       "      <td>8.0500</td>\n",
       "    </tr>\n",
       "    <tr>\n",
       "      <th>...</th>\n",
       "      <td>...</td>\n",
       "      <td>...</td>\n",
       "      <td>...</td>\n",
       "    </tr>\n",
       "    <tr>\n",
       "      <th>886</th>\n",
       "      <td>0</td>\n",
       "      <td>27.0</td>\n",
       "      <td>13.0000</td>\n",
       "    </tr>\n",
       "    <tr>\n",
       "      <th>887</th>\n",
       "      <td>1</td>\n",
       "      <td>19.0</td>\n",
       "      <td>30.0000</td>\n",
       "    </tr>\n",
       "    <tr>\n",
       "      <th>888</th>\n",
       "      <td>0</td>\n",
       "      <td>NaN</td>\n",
       "      <td>23.4500</td>\n",
       "    </tr>\n",
       "    <tr>\n",
       "      <th>889</th>\n",
       "      <td>1</td>\n",
       "      <td>26.0</td>\n",
       "      <td>30.0000</td>\n",
       "    </tr>\n",
       "    <tr>\n",
       "      <th>890</th>\n",
       "      <td>0</td>\n",
       "      <td>32.0</td>\n",
       "      <td>7.7500</td>\n",
       "    </tr>\n",
       "  </tbody>\n",
       "</table>\n",
       "<p>891 rows × 3 columns</p>\n",
       "</div>"
      ],
      "text/plain": [
       "     Survived   Age     Fare\n",
       "0           0  22.0   7.2500\n",
       "1           1  38.0  71.2833\n",
       "2           1  26.0   7.9250\n",
       "3           1  35.0  53.1000\n",
       "4           0  35.0   8.0500\n",
       "..        ...   ...      ...\n",
       "886         0  27.0  13.0000\n",
       "887         1  19.0  30.0000\n",
       "888         0   NaN  23.4500\n",
       "889         1  26.0  30.0000\n",
       "890         0  32.0   7.7500\n",
       "\n",
       "[891 rows x 3 columns]"
      ]
     },
     "execution_count": 7,
     "metadata": {},
     "output_type": "execute_result"
    }
   ],
   "source": [
    "df"
   ]
  },
  {
   "cell_type": "code",
   "execution_count": 8,
   "id": "8677a357",
   "metadata": {},
   "outputs": [],
   "source": [
    "df['Age'] = df['Age'].fillna(df['Age'].mean())\n"
   ]
  },
  {
   "cell_type": "code",
   "execution_count": 9,
   "id": "3f97d698",
   "metadata": {},
   "outputs": [
    {
     "data": {
      "application/vnd.microsoft.datawrangler.viewer.v0+json": {
       "columns": [
        {
         "name": "index",
         "rawType": "int64",
         "type": "integer"
        },
        {
         "name": "Survived",
         "rawType": "int64",
         "type": "integer"
        },
        {
         "name": "Age",
         "rawType": "float64",
         "type": "float"
        },
        {
         "name": "Fare",
         "rawType": "float64",
         "type": "float"
        }
       ],
       "ref": "5eef0341-34df-4089-971b-be87b5252ac8",
       "rows": [
        [
         "565",
         "0",
         "24.0",
         "24.15"
        ],
        [
         "444",
         "1",
         "29.69911764705882",
         "8.1125"
        ],
        [
         "350",
         "0",
         "23.0",
         "9.225"
        ],
        [
         "43",
         "1",
         "3.0",
         "41.5792"
        ],
        [
         "382",
         "0",
         "32.0",
         "7.925"
        ]
       ],
       "shape": {
        "columns": 3,
        "rows": 5
       }
      },
      "text/html": [
       "<div>\n",
       "<style scoped>\n",
       "    .dataframe tbody tr th:only-of-type {\n",
       "        vertical-align: middle;\n",
       "    }\n",
       "\n",
       "    .dataframe tbody tr th {\n",
       "        vertical-align: top;\n",
       "    }\n",
       "\n",
       "    .dataframe thead th {\n",
       "        text-align: right;\n",
       "    }\n",
       "</style>\n",
       "<table border=\"1\" class=\"dataframe\">\n",
       "  <thead>\n",
       "    <tr style=\"text-align: right;\">\n",
       "      <th></th>\n",
       "      <th>Survived</th>\n",
       "      <th>Age</th>\n",
       "      <th>Fare</th>\n",
       "    </tr>\n",
       "  </thead>\n",
       "  <tbody>\n",
       "    <tr>\n",
       "      <th>565</th>\n",
       "      <td>0</td>\n",
       "      <td>24.000000</td>\n",
       "      <td>24.1500</td>\n",
       "    </tr>\n",
       "    <tr>\n",
       "      <th>444</th>\n",
       "      <td>1</td>\n",
       "      <td>29.699118</td>\n",
       "      <td>8.1125</td>\n",
       "    </tr>\n",
       "    <tr>\n",
       "      <th>350</th>\n",
       "      <td>0</td>\n",
       "      <td>23.000000</td>\n",
       "      <td>9.2250</td>\n",
       "    </tr>\n",
       "    <tr>\n",
       "      <th>43</th>\n",
       "      <td>1</td>\n",
       "      <td>3.000000</td>\n",
       "      <td>41.5792</td>\n",
       "    </tr>\n",
       "    <tr>\n",
       "      <th>382</th>\n",
       "      <td>0</td>\n",
       "      <td>32.000000</td>\n",
       "      <td>7.9250</td>\n",
       "    </tr>\n",
       "  </tbody>\n",
       "</table>\n",
       "</div>"
      ],
      "text/plain": [
       "     Survived        Age     Fare\n",
       "565         0  24.000000  24.1500\n",
       "444         1  29.699118   8.1125\n",
       "350         0  23.000000   9.2250\n",
       "43          1   3.000000  41.5792\n",
       "382         0  32.000000   7.9250"
      ]
     },
     "execution_count": 9,
     "metadata": {},
     "output_type": "execute_result"
    }
   ],
   "source": [
    "df.sample(5)"
   ]
  },
  {
   "cell_type": "code",
   "execution_count": 10,
   "id": "1e300562",
   "metadata": {},
   "outputs": [],
   "source": [
    "X= df.drop(columns=['Survived'])\n",
    "Y = df['Survived']\n",
    "x_train,x_test,y_train,y_test=train_test_split(X,Y,test_size=0.2,random_state=42)\n"
   ]
  },
  {
   "cell_type": "code",
   "execution_count": 11,
   "id": "fcb79032",
   "metadata": {},
   "outputs": [
    {
     "data": {
      "text/plain": [
       "((712, 2), (179, 2))"
      ]
     },
     "execution_count": 11,
     "metadata": {},
     "output_type": "execute_result"
    }
   ],
   "source": [
    "x_train.shape ,x_test.shape"
   ]
  },
  {
   "cell_type": "code",
   "execution_count": 12,
   "id": "f6586194",
   "metadata": {},
   "outputs": [
    {
     "data": {
      "text/plain": [
       "((712,), (179,))"
      ]
     },
     "execution_count": 12,
     "metadata": {},
     "output_type": "execute_result"
    }
   ],
   "source": [
    "y_train.shape,y_test.shape"
   ]
  },
  {
   "cell_type": "code",
   "execution_count": 13,
   "id": "81587786",
   "metadata": {},
   "outputs": [
    {
     "data": {
      "image/png": "[encoded data removed]",
      "text/plain": [
       "<Figure size 1000x400 with 2 Axes>"
      ]
     },
     "metadata": {},
     "output_type": "display_data"
    }
   ],
   "source": [
    "\n",
    "fig, (ax1,ax2)= plt.subplots(ncols=2,figsize=(10,4))\n",
    "\n",
    "stats.probplot(x_train['Age'],plot=ax1)\n",
    "sns.histplot(x_train['Age'],color='Red')\n",
    "plt.show()"
   ]
  },
  {
   "cell_type": "code",
   "execution_count": 14,
   "id": "73e33133",
   "metadata": {},
   "outputs": [
    {
     "data": {
      "image/png": "[encoded data removed]",
      "text/plain": [
       "<Figure size 1000x400 with 2 Axes>"
      ]
     },
     "metadata": {},
     "output_type": "display_data"
    }
   ],
   "source": [
    "\n",
    "fig,(ax1,ax2) = plt.subplots(ncols=2,figsize=(10,4))\n",
    "sns.histplot(x_train['Fare'],kde=True,color='red',bins=30,ax=ax1)\n",
    "stats.probplot(x_train['Fare'],dist='norm',plot=ax2)\n",
    "plt.show()"
   ]
  },
  {
   "cell_type": "code",
   "execution_count": 15,
   "id": "3639264b",
   "metadata": {},
   "outputs": [],
   "source": [
    "alg1 = DecisionTreeClassifier()\n",
    "alg2= LogisticRegression()"
   ]
  },
  {
   "cell_type": "code",
   "execution_count": 16,
   "id": "86b57693",
   "metadata": {},
   "outputs": [
    {
     "name": "stdout",
     "output_type": "stream",
     "text": [
      "Decison 0.6480446927374302\n",
      "Logistic 0.6480446927374302\n"
     ]
    }
   ],
   "source": [
    "alg1.fit(x_train,y_train)\n",
    "alg2.fit(x_train,y_train)\n",
    "\n",
    "Y_pred1 = alg2.predict(x_test)\n",
    "Y_pred2=alg2.predict(x_test)\n",
    "\n",
    "print(\"Decison\",accuracy_score(y_test,Y_pred1))\n",
    "print(\"Logistic\",accuracy_score(y_test,Y_pred2))"
   ]
  },
  {
   "cell_type": "markdown",
   "id": "ffca4c18",
   "metadata": {},
   "source": [
    "#### functional transformer"
   ]
  },
  {
   "cell_type": "code",
   "execution_count": 17,
   "id": "184bf7ee",
   "metadata": {},
   "outputs": [],
   "source": [
    "function = FunctionTransformer(func=np.log1p)"
   ]
  },
  {
   "cell_type": "code",
   "execution_count": 18,
   "id": "94828063",
   "metadata": {},
   "outputs": [],
   "source": [
    "\n",
    "\n",
    "al= LogisticRegression()\n",
    "all= DecisionTreeClassifier()\n",
    "\n",
    "x_train_transform = function.fit_transform(x_train)\n",
    "x_test_transform = function.transform(x_test)\n",
    "\n",
    "\n",
    "al.fit(x_train_transform,y_train)\n",
    "all.fit(x_train_transform,y_train)\n",
    "\n",
    "\n",
    "y_pred12 = al.predict(x_test_transform)\n",
    "y_pred22 = all.predict(x_test_transform)"
   ]
  },
  {
   "cell_type": "code",
   "execution_count": 19,
   "id": "6926d0d5",
   "metadata": {},
   "outputs": [
    {
     "name": "stdout",
     "output_type": "stream",
     "text": [
      "lr  0.6815642458100558\n",
      "de  0.6759776536312849\n"
     ]
    }
   ],
   "source": [
    "print(\"lr \", accuracy_score(y_test,y_pred12))\n",
    "print(\"de \", accuracy_score(y_test,y_pred22))"
   ]
  },
  {
   "cell_type": "markdown",
   "id": "f3c02b6d",
   "metadata": {},
   "source": [
    "#### cross validation"
   ]
  },
  {
   "cell_type": "code",
   "execution_count": 20,
   "id": "cdb128d1",
   "metadata": {},
   "outputs": [
    {
     "name": "stdout",
     "output_type": "stream",
     "text": [
      "lr 0.678027465667915\n",
      "de 0.6577403245942571\n"
     ]
    }
   ],
   "source": [
    "x_transform= function.fit_transform(X)\n",
    "\n",
    "lr = LogisticRegression()\n",
    "de= DecisionTreeClassifier()\n",
    "\n",
    "print(\"lr\" , np.mean(cross_val_score(lr,x_transform,Y,scoring='accuracy',cv=10)))\n",
    "\n",
    "print(\"de\" , np.mean(cross_val_score(de,x_transform,Y,scoring='accuracy',cv=10)))"
   ]
  },
  {
   "cell_type": "markdown",
   "id": "83245b38",
   "metadata": {},
   "source": [
    "#### before and after fare transform "
   ]
  },
  {
   "cell_type": "code",
   "execution_count": 21,
   "id": "2c0a83ed",
   "metadata": {},
   "outputs": [
    {
     "data": {
      "image/png": "[encoded data removed]",
      "text/plain": [
       "<Figure size 1400x400 with 4 Axes>"
      ]
     },
     "metadata": {},
     "output_type": "display_data"
    }
   ],
   "source": [
    "fig, (ax1,ax2,ax3,ax4) = plt.subplots(ncols=4,figsize=(14,4))\n",
    "\n",
    "stats.probplot(x_train['Fare'],dist='norm',plot=ax1)\n",
    "ax1.set_title(\"before transform fare\")\n",
    "\n",
    "stats.probplot(x_train_transform['Fare'],dist='norm',plot=ax2)\n",
    "ax2.set_title(\"after transform\")\n",
    "sns.histplot(x_train['Fare'],kde=True,ax=ax3)\n",
    "ax3.set_title(\"before\")\n",
    "sns.histplot(x_train_transform['Fare'],kde=True,ax=ax4)\n",
    "ax4.set_title(\"after\")\n",
    "plt.show()\n"
   ]
  },
  {
   "cell_type": "code",
   "execution_count": 22,
   "id": "b22c749f",
   "metadata": {},
   "outputs": [
    {
     "data": {
      "image/png": "[encoded data removed]",
      "text/plain": [
       "<Figure size 1500x430 with 4 Axes>"
      ]
     },
     "metadata": {},
     "output_type": "display_data"
    }
   ],
   "source": [
    "fig, (ax1,ax2,ax3,ax4)= plt.subplots(ncols=4,figsize=(15,4.3))\n",
    "stats.probplot(x_train['Age'],dist='norm',plot=ax1)\n",
    "ax1.set_title(\"before transform age\")\n",
    "\n",
    "stats.probplot(x_train_transform['Age'],dist='norm',plot=ax2)\n",
    "ax2.set_title(\"after transform\")\n",
    "sns.histplot(x_train['Age'],kde=True,ax=ax3)\n",
    "ax3.set_title(\"before\")\n",
    "sns.histplot(x_train_transform['Age'],kde=True,ax=ax4)\n",
    "ax4.set_title(\"after\")\n",
    "plt.show()"
   ]
  },
  {
   "cell_type": "markdown",
   "id": "9dd91fbf",
   "metadata": {},
   "source": [
    "#### instead of applying both apply only on fare"
   ]
  },
  {
   "cell_type": "code",
   "execution_count": 23,
   "id": "e56b2c20",
   "metadata": {},
   "outputs": [],
   "source": [
    "func2= ColumnTransformer([\n",
    "    \n",
    "    ('log',FunctionTransformer(func=np.log1p),['Fare'])\n",
    "    ],remainder='passthrough')"
   ]
  },
  {
   "cell_type": "code",
   "execution_count": 24,
   "id": "f3e8042c",
   "metadata": {},
   "outputs": [
    {
     "name": "stdout",
     "output_type": "stream",
     "text": [
      "lr 0.6703910614525139\n",
      "de 0.664804469273743\n"
     ]
    }
   ],
   "source": [
    "lr= LogisticRegression()\n",
    "de=DecisionTreeClassifier()\n",
    "\n",
    "\n",
    "x_train_transform2 = func2.fit_transform(x_train)\n",
    "x_test_transform2 = func2.transform(x_test)\n",
    "\n",
    "lr.fit(x_train_transform2,y_train)\n",
    "de.fit(x_train_transform2,y_train)\n",
    "\n",
    "\n",
    "y_p= lr.predict(x_test_transform2)\n",
    "y_p2 = de.predict(x_test_transform2)\n",
    "\n",
    "print(\"lr\" ,accuracy_score(y_p,y_test))\n",
    "print(\"de\",accuracy_score(y_p2,y_test))"
   ]
  },
  {
   "cell_type": "markdown",
   "id": "8f622a54",
   "metadata": {},
   "source": [
    "#### again cross validation "
   ]
  },
  {
   "cell_type": "code",
   "execution_count": 25,
   "id": "a0903a34",
   "metadata": {},
   "outputs": [
    {
     "name": "stdout",
     "output_type": "stream",
     "text": [
      "lr 0.6712609238451936\n",
      "de 0.6610736579275905\n"
     ]
    }
   ],
   "source": [
    "x_transform= func2.fit_transform(X)\n",
    "\n",
    "lr = LogisticRegression()\n",
    "de= DecisionTreeClassifier()\n",
    "\n",
    "print(\"lr\" , np.mean(cross_val_score(lr,x_transform,Y,scoring='accuracy',cv=10)))\n",
    "\n",
    "print(\"de\" , np.mean(cross_val_score(de,x_transform,Y,scoring='accuracy',cv=10)))"
   ]
  },
  {
   "cell_type": "markdown",
   "id": "f769ba50",
   "metadata": {},
   "source": [
    "#### function to write everything in one "
   ]
  },
  {
   "cell_type": "code",
   "execution_count": null,
   "id": "902c636d",
   "metadata": {},
   "outputs": [],
   "source": []
  },
  {
   "cell_type": "code",
   "execution_count": 34,
   "id": "e4595c6d",
   "metadata": {},
   "outputs": [
    {
     "data": {
      "application/vnd.microsoft.datawrangler.viewer.v0+json": {
       "columns": [
        {
         "name": "index",
         "rawType": "int64",
         "type": "integer"
        },
        {
         "name": "Survived",
         "rawType": "int64",
         "type": "integer"
        },
        {
         "name": "Age",
         "rawType": "float64",
         "type": "float"
        },
        {
         "name": "Fare",
         "rawType": "float64",
         "type": "float"
        }
       ],
       "ref": "05b929ad-8127-4d0b-b269-f367a68f7e2d",
       "rows": [
        [
         "0",
         "0",
         "22.0",
         "7.25"
        ],
        [
         "1",
         "1",
         "38.0",
         "71.2833"
        ],
        [
         "2",
         "1",
         "26.0",
         "7.925"
        ],
        [
         "3",
         "1",
         "35.0",
         "53.1"
        ],
        [
         "4",
         "0",
         "35.0",
         "8.05"
        ],
        [
         "5",
         "0",
         "29.69911764705882",
         "8.4583"
        ],
        [
         "6",
         "0",
         "54.0",
         "51.8625"
        ],
        [
         "7",
         "0",
         "2.0",
         "21.075"
        ],
        [
         "8",
         "1",
         "27.0",
         "11.1333"
        ],
        [
         "9",
         "1",
         "14.0",
         "30.0708"
        ],
        [
         "10",
         "1",
         "4.0",
         "16.7"
        ],
        [
         "11",
         "1",
         "58.0",
         "26.55"
        ],
        [
         "12",
         "0",
         "20.0",
         "8.05"
        ],
        [
         "13",
         "0",
         "39.0",
         "31.275"
        ],
        [
         "14",
         "0",
         "14.0",
         "7.8542"
        ],
        [
         "15",
         "1",
         "55.0",
         "16.0"
        ],
        [
         "16",
         "0",
         "2.0",
         "29.125"
        ],
        [
         "17",
         "1",
         "29.69911764705882",
         "13.0"
        ],
        [
         "18",
         "0",
         "31.0",
         "18.0"
        ],
        [
         "19",
         "1",
         "29.69911764705882",
         "7.225"
        ],
        [
         "20",
         "0",
         "35.0",
         "26.0"
        ],
        [
         "21",
         "1",
         "34.0",
         "13.0"
        ],
        [
         "22",
         "1",
         "15.0",
         "8.0292"
        ],
        [
         "23",
         "1",
         "28.0",
         "35.5"
        ],
        [
         "24",
         "0",
         "8.0",
         "21.075"
        ],
        [
         "25",
         "1",
         "38.0",
         "31.3875"
        ],
        [
         "26",
         "0",
         "29.69911764705882",
         "7.225"
        ],
        [
         "27",
         "0",
         "19.0",
         "263.0"
        ],
        [
         "28",
         "1",
         "29.69911764705882",
         "7.8792"
        ],
        [
         "29",
         "0",
         "29.69911764705882",
         "7.8958"
        ],
        [
         "30",
         "0",
         "40.0",
         "27.7208"
        ],
        [
         "31",
         "1",
         "29.69911764705882",
         "146.5208"
        ],
        [
         "32",
         "1",
         "29.69911764705882",
         "7.75"
        ],
        [
         "33",
         "0",
         "66.0",
         "10.5"
        ],
        [
         "34",
         "0",
         "28.0",
         "82.1708"
        ],
        [
         "35",
         "0",
         "42.0",
         "52.0"
        ],
        [
         "36",
         "1",
         "29.69911764705882",
         "7.2292"
        ],
        [
         "37",
         "0",
         "21.0",
         "8.05"
        ],
        [
         "38",
         "0",
         "18.0",
         "18.0"
        ],
        [
         "39",
         "1",
         "14.0",
         "11.2417"
        ],
        [
         "40",
         "0",
         "40.0",
         "9.475"
        ],
        [
         "41",
         "0",
         "27.0",
         "21.0"
        ],
        [
         "42",
         "0",
         "29.69911764705882",
         "7.8958"
        ],
        [
         "43",
         "1",
         "3.0",
         "41.5792"
        ],
        [
         "44",
         "1",
         "19.0",
         "7.8792"
        ],
        [
         "45",
         "0",
         "29.69911764705882",
         "8.05"
        ],
        [
         "46",
         "0",
         "29.69911764705882",
         "15.5"
        ],
        [
         "47",
         "1",
         "29.69911764705882",
         "7.75"
        ],
        [
         "48",
         "0",
         "29.69911764705882",
         "21.6792"
        ],
        [
         "49",
         "0",
         "18.0",
         "17.8"
        ]
       ],
       "shape": {
        "columns": 3,
        "rows": 891
       }
      },
      "text/html": [
       "<div>\n",
       "<style scoped>\n",
       "    .dataframe tbody tr th:only-of-type {\n",
       "        vertical-align: middle;\n",
       "    }\n",
       "\n",
       "    .dataframe tbody tr th {\n",
       "        vertical-align: top;\n",
       "    }\n",
       "\n",
       "    .dataframe thead th {\n",
       "        text-align: right;\n",
       "    }\n",
       "</style>\n",
       "<table border=\"1\" class=\"dataframe\">\n",
       "  <thead>\n",
       "    <tr style=\"text-align: right;\">\n",
       "      <th></th>\n",
       "      <th>Survived</th>\n",
       "      <th>Age</th>\n",
       "      <th>Fare</th>\n",
       "    </tr>\n",
       "  </thead>\n",
       "  <tbody>\n",
       "    <tr>\n",
       "      <th>0</th>\n",
       "      <td>0</td>\n",
       "      <td>22.000000</td>\n",
       "      <td>7.2500</td>\n",
       "    </tr>\n",
       "    <tr>\n",
       "      <th>1</th>\n",
       "      <td>1</td>\n",
       "      <td>38.000000</td>\n",
       "      <td>71.2833</td>\n",
       "    </tr>\n",
       "    <tr>\n",
       "      <th>2</th>\n",
       "      <td>1</td>\n",
       "      <td>26.000000</td>\n",
       "      <td>7.9250</td>\n",
       "    </tr>\n",
       "    <tr>\n",
       "      <th>3</th>\n",
       "      <td>1</td>\n",
       "      <td>35.000000</td>\n",
       "      <td>53.1000</td>\n",
       "    </tr>\n",
       "    <tr>\n",
       "      <th>4</th>\n",
       "      <td>0</td>\n",
       "      <td>35.000000</td>\n",
       "      <td>8.0500</td>\n",
       "    </tr>\n",
       "    <tr>\n",
       "      <th>...</th>\n",
       "      <td>...</td>\n",
       "      <td>...</td>\n",
       "      <td>...</td>\n",
       "    </tr>\n",
       "    <tr>\n",
       "      <th>886</th>\n",
       "      <td>0</td>\n",
       "      <td>27.000000</td>\n",
       "      <td>13.0000</td>\n",
       "    </tr>\n",
       "    <tr>\n",
       "      <th>887</th>\n",
       "      <td>1</td>\n",
       "      <td>19.000000</td>\n",
       "      <td>30.0000</td>\n",
       "    </tr>\n",
       "    <tr>\n",
       "      <th>888</th>\n",
       "      <td>0</td>\n",
       "      <td>29.699118</td>\n",
       "      <td>23.4500</td>\n",
       "    </tr>\n",
       "    <tr>\n",
       "      <th>889</th>\n",
       "      <td>1</td>\n",
       "      <td>26.000000</td>\n",
       "      <td>30.0000</td>\n",
       "    </tr>\n",
       "    <tr>\n",
       "      <th>890</th>\n",
       "      <td>0</td>\n",
       "      <td>32.000000</td>\n",
       "      <td>7.7500</td>\n",
       "    </tr>\n",
       "  </tbody>\n",
       "</table>\n",
       "<p>891 rows × 3 columns</p>\n",
       "</div>"
      ],
      "text/plain": [
       "     Survived        Age     Fare\n",
       "0           0  22.000000   7.2500\n",
       "1           1  38.000000  71.2833\n",
       "2           1  26.000000   7.9250\n",
       "3           1  35.000000  53.1000\n",
       "4           0  35.000000   8.0500\n",
       "..        ...        ...      ...\n",
       "886         0  27.000000  13.0000\n",
       "887         1  19.000000  30.0000\n",
       "888         0  29.699118  23.4500\n",
       "889         1  26.000000  30.0000\n",
       "890         0  32.000000   7.7500\n",
       "\n",
       "[891 rows x 3 columns]"
      ]
     },
     "execution_count": 34,
     "metadata": {},
     "output_type": "execute_result"
    }
   ],
   "source": [
    "df"
   ]
  },
  {
   "cell_type": "code",
   "execution_count": 44,
   "id": "e25476e0",
   "metadata": {},
   "outputs": [
    {
     "data": {
      "application/vnd.microsoft.datawrangler.viewer.v0+json": {
       "columns": [
        {
         "name": "index",
         "rawType": "int64",
         "type": "integer"
        },
        {
         "name": "Survived",
         "rawType": "int64",
         "type": "integer"
        }
       ],
       "ref": "2935d042-5d33-40ea-b3d0-dd71cbd8b1fa",
       "rows": [
        [
         "0",
         "0"
        ],
        [
         "1",
         "1"
        ],
        [
         "2",
         "1"
        ],
        [
         "3",
         "1"
        ],
        [
         "4",
         "0"
        ],
        [
         "5",
         "0"
        ],
        [
         "6",
         "0"
        ],
        [
         "7",
         "0"
        ],
        [
         "8",
         "1"
        ],
        [
         "9",
         "1"
        ],
        [
         "10",
         "1"
        ],
        [
         "11",
         "1"
        ],
        [
         "12",
         "0"
        ],
        [
         "13",
         "0"
        ],
        [
         "14",
         "0"
        ],
        [
         "15",
         "1"
        ],
        [
         "16",
         "0"
        ],
        [
         "17",
         "1"
        ],
        [
         "18",
         "0"
        ],
        [
         "19",
         "1"
        ],
        [
         "20",
         "0"
        ],
        [
         "21",
         "1"
        ],
        [
         "22",
         "1"
        ],
        [
         "23",
         "1"
        ],
        [
         "24",
         "0"
        ],
        [
         "25",
         "1"
        ],
        [
         "26",
         "0"
        ],
        [
         "27",
         "0"
        ],
        [
         "28",
         "1"
        ],
        [
         "29",
         "0"
        ],
        [
         "30",
         "0"
        ],
        [
         "31",
         "1"
        ],
        [
         "32",
         "1"
        ],
        [
         "33",
         "0"
        ],
        [
         "34",
         "0"
        ],
        [
         "35",
         "0"
        ],
        [
         "36",
         "1"
        ],
        [
         "37",
         "0"
        ],
        [
         "38",
         "0"
        ],
        [
         "39",
         "1"
        ],
        [
         "40",
         "0"
        ],
        [
         "41",
         "0"
        ],
        [
         "42",
         "0"
        ],
        [
         "43",
         "1"
        ],
        [
         "44",
         "1"
        ],
        [
         "45",
         "0"
        ],
        [
         "46",
         "0"
        ],
        [
         "47",
         "1"
        ],
        [
         "48",
         "0"
        ],
        [
         "49",
         "0"
        ]
       ],
       "shape": {
        "columns": 1,
        "rows": 891
       }
      },
      "text/plain": [
       "0      0\n",
       "1      1\n",
       "2      1\n",
       "3      1\n",
       "4      0\n",
       "      ..\n",
       "886    0\n",
       "887    1\n",
       "888    0\n",
       "889    1\n",
       "890    0\n",
       "Name: Survived, Length: 891, dtype: int64"
      ]
     },
     "execution_count": 44,
     "metadata": {},
     "output_type": "execute_result"
    }
   ],
   "source": [
    "Y"
   ]
  },
  {
   "cell_type": "code",
   "execution_count": 45,
   "id": "191f5967",
   "metadata": {},
   "outputs": [],
   "source": [
    "def fun(trans):\n",
    "    X =df.iloc[:,1:3]\n",
    "    Y=df.iloc[:,0]\n",
    "\n",
    "    function= ColumnTransformer([ ('log',FunctionTransformer(trans),['Fare'])],remainder='passthrough')\n",
    "\n",
    "    x_transform= function.fit_transform(X)\n",
    "\n",
    "    lr = LogisticRegression()\n",
    "\n",
    "\n",
    "    print(\"accuracy of lr :=\",np.mean(cross_val_score(lr,x_transform,Y,scoring='accuracy',cv=10))  )   \n",
    "\n",
    "\n",
    "    fig, (ax1,ax2)= plt.subplots(ncols=2,figsize=(13,5))\n",
    "    stats.probplot(X['Fare'],dist='norm',plot=ax1)\n",
    "    plt.show()\n",
    "    ax1.set_title(\"x_fare\")\n",
    "    ax1.set_title(\"before\")\n",
    "\n",
    "    stats.probplot(x_transform[:,0],dist='norm',plot=ax2)\n",
    "    plt.show()\n",
    "    ax2.set_title(\"after\")\n",
    "\n",
    "    \n",
    "    \n",
    "\n"
   ]
  },
  {
   "cell_type": "code",
   "execution_count": 46,
   "id": "b520a976",
   "metadata": {},
   "outputs": [
    {
     "name": "stdout",
     "output_type": "stream",
     "text": [
      "accuracy of lr := 0.6589013732833957\n"
     ]
    },
    {
     "data": {
      "image/png": "[encoded data removed]",
      "text/plain": [
       "<Figure size 1300x500 with 2 Axes>"
      ]
     },
     "metadata": {},
     "output_type": "display_data"
    }
   ],
   "source": [
    "\n",
    "fun(lambda x:x)"
   ]
  },
  {
   "cell_type": "code",
   "execution_count": 28,
   "id": "6f396703",
   "metadata": {},
   "outputs": [],
   "source": [
    "def fun(trans):\n",
    "    # Features and target\n",
    "    X = trans[['Fare']]\n",
    "    Y = trans['Survived']   # 1D series\n",
    "    \n",
    "    # Transformation\n",
    "    function = ColumnTransformer(\n",
    "        [('log', FunctionTransformer(func=np.log1p), ['Fare'])],\n",
    "        remainder='passthrough'\n",
    "    )\n",
    "    \n",
    "    x_transform = function.fit_transform(X)\n",
    "    \n",
    "    # Model\n",
    "    lr = LogisticRegression(max_iter=1000)\n",
    "    print(\"accuracy of lr :=\", np.mean(cross_val_score(lr, x_transform, Y, scoring='accuracy', cv=10)))\n",
    "    \n",
    "    # Plot\n",
    "    fig, (ax1, ax2) = plt.subplots(ncols=2, figsize=(13, 5))\n",
    "    \n",
    "    stats.probplot(X['Fare'], dist='norm', plot=ax1)\n",
    "    ax1.set_title(\"Before\")\n",
    "    \n",
    "    stats.probplot(x_transform[:, 0], dist='norm', plot=ax2)\n",
    "    ax2.set_title(\"After\")\n",
    "    \n",
    "    plt.show()\n"
   ]
  },
  {
   "cell_type": "code",
   "execution_count": 30,
   "id": "3dec2aab",
   "metadata": {},
   "outputs": [
    {
     "ename": "IndentationError",
     "evalue": "unindent does not match any outer indentation level (<string>, line 10)",
     "output_type": "error",
     "traceback": [
      "  \u001b[36mFile \u001b[39m\u001b[32m<string>:10\u001b[39m\n\u001b[31m    \u001b[39m\u001b[31mfunction = ColumnTransformer(\u001b[39m\n                                 ^\n\u001b[31mIndentationError\u001b[39m\u001b[31m:\u001b[39m unindent does not match any outer indentation level\n"
     ]
    }
   ],
   "source": [
    "\n",
    "\n",
    "def fun(df):\n",
    "    # Split features and target\n",
    "    # X= df[['Fare']]\n",
    "    # Y=df[['Survived']]\n",
    "      X=df.iloc[:,1:3]\n",
    "      Y=df.iloc[:,1]\n",
    "      \n",
    "    \n",
    "    # Transform 'Fare' with log1p\n",
    "    function = ColumnTransformer(\n",
    "        [('log', FunctionTransformer(np.log1p), ['Fare'])],\n",
    "        remainder='passthrough'\n",
    "    )\n",
    "    \n",
    "    x_transform = function.fit_transform(X)\n",
    "    \n",
    "    # Model\n",
    "    lr = LogisticRegression(max_iter=1000)\n",
    "    print(\"accuracy of lr := \", \n",
    "          np.mean(cross_val_score(lr, x_transform, Y, scoring='accuracy', cv=10)))\n",
    "    \n",
    "    # Plot before vs after\n",
    "    fig, (ax1, ax2) = plt.subplots(ncols=2, figsize=(13, 5))\n",
    "    \n",
    "    stats.probplot(X['Fare'], dist=\"norm\", plot=ax1)\n",
    "    ax1.set_title(\"Before\")\n",
    "    \n",
    "    # After: 'Fare' becomes column 0 after transformation\n",
    "    stats.probplot(x_transform[:, 0], dist=\"norm\", plot=ax2)\n",
    "    ax2.set_title(\"After\")\n",
    "    \n",
    "    plt.show()\n",
    "\n",
    "\n",
    "fun(lambda x:x**2)"
   ]
  },
  {
   "cell_type": "code",
   "execution_count": null,
   "id": "b52ac5f6",
   "metadata": {},
   "outputs": [],
   "source": []
  },
  {
   "cell_type": "code",
   "execution_count": null,
   "id": "2a22d6db",
   "metadata": {},
   "outputs": [],
   "source": []
  },
  {
   "cell_type": "code",
   "execution_count": null,
   "id": "ff801574",
   "metadata": {},
   "outputs": [
    {
     "data": {
      "image/png": "[encoded data removed]",
      "text/plain": [
       "<Figure size 800x300 with 2 Axes>"
      ]
     },
     "metadata": {},
     "output_type": "display_data"
    },
    {
     "data": {
      "image/png": "[encoded data removed]",
      "text/plain": [
       "<Figure size 800x300 with 2 Axes>"
      ]
     },
     "metadata": {},
     "output_type": "display_data"
    }
   ],
   "source": [
    "for col in x_train.columns:\n",
    "    fig, (ax1,ax2)= plt.subplots(ncols=2,figsize=(8,3))\n",
    "    sns.histplot(x_train[col],ax=ax1,color='Red',kde=True)\n",
    "\n",
    "    ax1.set_title(x_train[col].name)\n",
    "    stats.probplot(x_train[col],dist='norm',plot=ax2)\n",
    "    plt.show()\n",
    "    ax1.set_title(x_train[col].name)   \n",
    "    "
   ]
  }
 ],
 "metadata": {
  "kernelspec": {
   "display_name": "base",
   "language": "python",
   "name": "python3"
  },
  "language_info": {
   "codemirror_mode": {
    "name": "ipython",
    "version": 3
   },
   "file_extension": ".py",
   "mimetype": "text/x-python",
   "name": "python",
   "nbconvert_exporter": "python",
   "pygments_lexer": "ipython3",
   "version": "3.13.5"
  }
 },
 "nbformat": 4,
 "nbformat_minor": 5
}
