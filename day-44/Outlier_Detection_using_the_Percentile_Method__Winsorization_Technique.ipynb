{
 "cells": [
  {
   "cell_type": "code",
   "execution_count": 1,
   "id": "1a837246",
   "metadata": {},
   "outputs": [],
   "source": [
    "import pandas as pd\n",
    "import numpy as np\n",
    "import seaborn as sns\n",
    "import matplotlib.pyplot as plt\n",
    "import scipy.stats as stats\n",
    "import warnings\n",
    "warnings.filterwarnings('ignore')"
   ]
  },
  {
   "cell_type": "code",
   "execution_count": 3,
   "id": "1a0b6549",
   "metadata": {},
   "outputs": [],
   "source": [
    "df=pd.read_csv('bmi.csv')"
   ]
  },
  {
   "cell_type": "code",
   "execution_count": 5,
   "id": "9ea71b2e",
   "metadata": {},
   "outputs": [
    {
     "data": {
      "text/plain": [
       "(10000, 3)"
      ]
     },
     "execution_count": 5,
     "metadata": {},
     "output_type": "execute_result"
    }
   ],
   "source": [
    "df.shape"
   ]
  },
  {
   "cell_type": "code",
   "execution_count": 6,
   "id": "cb6ec1b3",
   "metadata": {},
   "outputs": [
    {
     "data": {
      "text/plain": [
       "<bound method DataFrame.info of       Gender     Height      Weight\n",
       "0       Male  73.847017  241.893563\n",
       "1       Male  68.781904  162.310473\n",
       "2       Male  74.110105  212.740856\n",
       "3       Male  71.730978  220.042470\n",
       "4       Male  69.881796  206.349801\n",
       "...      ...        ...         ...\n",
       "9995  Female  66.172652  136.777454\n",
       "9996  Female  67.067155  170.867906\n",
       "9997  Female  63.867992  128.475319\n",
       "9998  Female  69.034243  163.852461\n",
       "9999  Female  61.944246  113.649103\n",
       "\n",
       "[10000 rows x 3 columns]>"
      ]
     },
     "execution_count": 6,
     "metadata": {},
     "output_type": "execute_result"
    }
   ],
   "source": [
    "df.info"
   ]
  },
  {
   "cell_type": "code",
   "execution_count": 8,
   "id": "e18d15e8",
   "metadata": {},
   "outputs": [
    {
     "data": {
      "application/vnd.microsoft.datawrangler.viewer.v0+json": {
       "columns": [
        {
         "name": "index",
         "rawType": "object",
         "type": "string"
        },
        {
         "name": "Height",
         "rawType": "float64",
         "type": "float"
        },
        {
         "name": "Weight",
         "rawType": "float64",
         "type": "float"
        }
       ],
       "ref": "d2e79cf5-021b-4d42-bde0-ce220611ffba",
       "rows": [
        [
         "count",
         "10000.0",
         "10000.0"
        ],
        [
         "mean",
         "66.36755975482124",
         "161.44035683283076"
        ],
        [
         "std",
         "3.8475281207732324",
         "32.108439006519546"
        ],
        [
         "min",
         "54.2631333250971",
         "64.700126712753"
        ],
        [
         "25%",
         "63.505620481218955",
         "135.8180513055015"
        ],
        [
         "50%",
         "66.31807008178464",
         "161.21292769948298"
        ],
        [
         "75%",
         "69.1742617268347",
         "187.16952486868348"
        ],
        [
         "max",
         "78.9987423463896",
         "269.989698505106"
        ]
       ],
       "shape": {
        "columns": 2,
        "rows": 8
       }
      },
      "text/html": [
       "<div>\n",
       "<style scoped>\n",
       "    .dataframe tbody tr th:only-of-type {\n",
       "        vertical-align: middle;\n",
       "    }\n",
       "\n",
       "    .dataframe tbody tr th {\n",
       "        vertical-align: top;\n",
       "    }\n",
       "\n",
       "    .dataframe thead th {\n",
       "        text-align: right;\n",
       "    }\n",
       "</style>\n",
       "<table border=\"1\" class=\"dataframe\">\n",
       "  <thead>\n",
       "    <tr style=\"text-align: right;\">\n",
       "      <th></th>\n",
       "      <th>Height</th>\n",
       "      <th>Weight</th>\n",
       "    </tr>\n",
       "  </thead>\n",
       "  <tbody>\n",
       "    <tr>\n",
       "      <th>count</th>\n",
       "      <td>10000.000000</td>\n",
       "      <td>10000.000000</td>\n",
       "    </tr>\n",
       "    <tr>\n",
       "      <th>mean</th>\n",
       "      <td>66.367560</td>\n",
       "      <td>161.440357</td>\n",
       "    </tr>\n",
       "    <tr>\n",
       "      <th>std</th>\n",
       "      <td>3.847528</td>\n",
       "      <td>32.108439</td>\n",
       "    </tr>\n",
       "    <tr>\n",
       "      <th>min</th>\n",
       "      <td>54.263133</td>\n",
       "      <td>64.700127</td>\n",
       "    </tr>\n",
       "    <tr>\n",
       "      <th>25%</th>\n",
       "      <td>63.505620</td>\n",
       "      <td>135.818051</td>\n",
       "    </tr>\n",
       "    <tr>\n",
       "      <th>50%</th>\n",
       "      <td>66.318070</td>\n",
       "      <td>161.212928</td>\n",
       "    </tr>\n",
       "    <tr>\n",
       "      <th>75%</th>\n",
       "      <td>69.174262</td>\n",
       "      <td>187.169525</td>\n",
       "    </tr>\n",
       "    <tr>\n",
       "      <th>max</th>\n",
       "      <td>78.998742</td>\n",
       "      <td>269.989699</td>\n",
       "    </tr>\n",
       "  </tbody>\n",
       "</table>\n",
       "</div>"
      ],
      "text/plain": [
       "             Height        Weight\n",
       "count  10000.000000  10000.000000\n",
       "mean      66.367560    161.440357\n",
       "std        3.847528     32.108439\n",
       "min       54.263133     64.700127\n",
       "25%       63.505620    135.818051\n",
       "50%       66.318070    161.212928\n",
       "75%       69.174262    187.169525\n",
       "max       78.998742    269.989699"
      ]
     },
     "execution_count": 8,
     "metadata": {},
     "output_type": "execute_result"
    }
   ],
   "source": [
    "df.describe()"
   ]
  },
  {
   "cell_type": "code",
   "execution_count": 14,
   "id": "723d8765",
   "metadata": {},
   "outputs": [
    {
     "data": {
      "image/png": "[encoded data removed]",
      "text/plain": [
       "<Figure size 1000x600 with 4 Axes>"
      ]
     },
     "metadata": {},
     "output_type": "display_data"
    }
   ],
   "source": [
    "fig, ((ax1, ax2), (ax3,ax4)) = plt.subplots(ncols=2, nrows=2, figsize=(10, 6))\n",
    "sns.histplot(df['Height'],ax=ax1,color='green',kde=True)\n",
    "sns.boxplot(df['Height'],ax=ax2,color='violet')\n",
    "sns.histplot(df['Weight'],ax=ax3,color='red',kde=True)\n",
    "sns.boxplot(df['Weight'],ax=ax4,color='red')\n",
    "plt.show()"
   ]
  },
  {
   "cell_type": "code",
   "execution_count": 34,
   "id": "dfc08bb9",
   "metadata": {},
   "outputs": [
    {
     "data": {
      "application/vnd.microsoft.datawrangler.viewer.v0+json": {
       "columns": [
        {
         "name": "index",
         "rawType": "int64",
         "type": "integer"
        },
        {
         "name": "Gender",
         "rawType": "object",
         "type": "string"
        },
        {
         "name": "Height",
         "rawType": "float64",
         "type": "float"
        },
        {
         "name": "Weight",
         "rawType": "float64",
         "type": "float"
        }
       ],
       "ref": "e67c5487-4f3e-4b75-ac3d-dfd43d2cb411",
       "rows": [
        [
         "0",
         "Male",
         "73.847017017515",
         "241.893563180437"
        ],
        [
         "23",
         "Male",
         "75.2059736142212",
         "228.761780615196"
        ],
        [
         "82",
         "Male",
         "73.8261270026308",
         "237.916735863185"
        ],
        [
         "190",
         "Male",
         "76.7098348578592",
         "235.035418820022"
        ],
        [
         "191",
         "Male",
         "72.5711213712958",
         "230.560534959742"
        ],
        [
         "197",
         "Male",
         "75.9444603760016",
         "231.92474850911"
        ],
        [
         "215",
         "Male",
         "74.7953750218274",
         "232.63540284736"
        ],
        [
         "232",
         "Male",
         "76.0213474760963",
         "235.926060648678"
        ],
        [
         "248",
         "Male",
         "73.8153856882339",
         "231.374508117238"
        ],
        [
         "263",
         "Male",
         "74.2211748776249",
         "231.130189759308"
        ],
        [
         "290",
         "Male",
         "74.7857143190925",
         "239.464342902696"
        ],
        [
         "430",
         "Male",
         "76.0270818630512",
         "232.313470969478"
        ],
        [
         "473",
         "Male",
         "71.295194595564",
         "228.800516094148"
        ],
        [
         "540",
         "Male",
         "74.4016718853099",
         "228.838395801115"
        ],
        [
         "554",
         "Male",
         "74.6495078833149",
         "227.500645068307"
        ],
        [
         "632",
         "Male",
         "75.0338894406835",
         "232.886117051993"
        ],
        [
         "683",
         "Male",
         "73.7596357420018",
         "231.608670942233"
        ],
        [
         "741",
         "Male",
         "76.0123000122601",
         "235.437966081368"
        ],
        [
         "819",
         "Male",
         "76.4345587137262",
         "228.872990637662"
        ],
        [
         "900",
         "Male",
         "74.216430944514",
         "238.569450876454"
        ],
        [
         "912",
         "Male",
         "77.1608008945486",
         "228.707300850029"
        ],
        [
         "994",
         "Male",
         "78.0958674715774",
         "255.690834836788"
        ],
        [
         "1030",
         "Male",
         "73.3030102192602",
         "232.250643278525"
        ],
        [
         "1105",
         "Male",
         "74.6691968221783",
         "227.460303839897"
        ],
        [
         "1115",
         "Male",
         "72.8715387429678",
         "229.740753102393"
        ],
        [
         "1154",
         "Male",
         "73.611985368161",
         "236.780537487324"
        ],
        [
         "1213",
         "Male",
         "72.4258059659707",
         "228.974646724056"
        ],
        [
         "1235",
         "Male",
         "71.9674817033336",
         "229.514503000297"
        ],
        [
         "1328",
         "Male",
         "76.2941841342612",
         "233.503811307299"
        ],
        [
         "1435",
         "Male",
         "74.6870925952898",
         "230.136923281846"
        ],
        [
         "1506",
         "Male",
         "75.6986182493622",
         "249.5656279814"
        ],
        [
         "1533",
         "Male",
         "75.8190402827074",
         "230.939454209339"
        ],
        [
         "1568",
         "Male",
         "76.4565780764772",
         "239.581389419794"
        ],
        [
         "1610",
         "Male",
         "76.6175459376512",
         "255.863326492899"
        ],
        [
         "1625",
         "Male",
         "74.0674315170364",
         "228.407444091575"
        ],
        [
         "1696",
         "Male",
         "75.6828079116554",
         "232.104476046529"
        ],
        [
         "1750",
         "Male",
         "74.6046680483172",
         "249.946283195065"
        ],
        [
         "1896",
         "Male",
         "76.4728798657647",
         "246.232321295104"
        ],
        [
         "1898",
         "Male",
         "72.4395007512294",
         "230.234109872155"
        ],
        [
         "1922",
         "Male",
         "77.4466199509585",
         "232.651078874823"
        ],
        [
         "1949",
         "Male",
         "74.4305013107653",
         "228.375178875481"
        ],
        [
         "1954",
         "Male",
         "76.1166746823735",
         "240.638103496331"
        ],
        [
         "1981",
         "Male",
         "74.2979207026757",
         "229.094316921744"
        ],
        [
         "1986",
         "Male",
         "75.5332113409862",
         "227.945247678575"
        ],
        [
         "2014",
         "Male",
         "78.9987423463896",
         "269.989698505106"
        ],
        [
         "2018",
         "Male",
         "74.0130064637048",
         "227.940503751013"
        ],
        [
         "2070",
         "Male",
         "77.4655691046729",
         "252.556689436658"
        ],
        [
         "2074",
         "Male",
         "75.624031351581",
         "241.202330051514"
        ],
        [
         "2098",
         "Male",
         "75.2090219800456",
         "227.581431836074"
        ],
        [
         "2138",
         "Male",
         "76.5692735211876",
         "229.858095084796"
        ]
       ],
       "shape": {
        "columns": 3,
        "rows": 200
       }
      },
      "text/html": [
       "<div>\n",
       "<style scoped>\n",
       "    .dataframe tbody tr th:only-of-type {\n",
       "        vertical-align: middle;\n",
       "    }\n",
       "\n",
       "    .dataframe tbody tr th {\n",
       "        vertical-align: top;\n",
       "    }\n",
       "\n",
       "    .dataframe thead th {\n",
       "        text-align: right;\n",
       "    }\n",
       "</style>\n",
       "<table border=\"1\" class=\"dataframe\">\n",
       "  <thead>\n",
       "    <tr style=\"text-align: right;\">\n",
       "      <th></th>\n",
       "      <th>Gender</th>\n",
       "      <th>Height</th>\n",
       "      <th>Weight</th>\n",
       "    </tr>\n",
       "  </thead>\n",
       "  <tbody>\n",
       "    <tr>\n",
       "      <th>0</th>\n",
       "      <td>Male</td>\n",
       "      <td>73.847017</td>\n",
       "      <td>241.893563</td>\n",
       "    </tr>\n",
       "    <tr>\n",
       "      <th>23</th>\n",
       "      <td>Male</td>\n",
       "      <td>75.205974</td>\n",
       "      <td>228.761781</td>\n",
       "    </tr>\n",
       "    <tr>\n",
       "      <th>82</th>\n",
       "      <td>Male</td>\n",
       "      <td>73.826127</td>\n",
       "      <td>237.916736</td>\n",
       "    </tr>\n",
       "    <tr>\n",
       "      <th>190</th>\n",
       "      <td>Male</td>\n",
       "      <td>76.709835</td>\n",
       "      <td>235.035419</td>\n",
       "    </tr>\n",
       "    <tr>\n",
       "      <th>191</th>\n",
       "      <td>Male</td>\n",
       "      <td>72.571121</td>\n",
       "      <td>230.560535</td>\n",
       "    </tr>\n",
       "    <tr>\n",
       "      <th>...</th>\n",
       "      <td>...</td>\n",
       "      <td>...</td>\n",
       "      <td>...</td>\n",
       "    </tr>\n",
       "    <tr>\n",
       "      <th>9761</th>\n",
       "      <td>Female</td>\n",
       "      <td>56.975279</td>\n",
       "      <td>90.341784</td>\n",
       "    </tr>\n",
       "    <tr>\n",
       "      <th>9775</th>\n",
       "      <td>Female</td>\n",
       "      <td>60.025950</td>\n",
       "      <td>87.035416</td>\n",
       "    </tr>\n",
       "    <tr>\n",
       "      <th>9825</th>\n",
       "      <td>Female</td>\n",
       "      <td>55.979198</td>\n",
       "      <td>85.417534</td>\n",
       "    </tr>\n",
       "    <tr>\n",
       "      <th>9895</th>\n",
       "      <td>Female</td>\n",
       "      <td>57.740192</td>\n",
       "      <td>93.652957</td>\n",
       "    </tr>\n",
       "    <tr>\n",
       "      <th>9989</th>\n",
       "      <td>Female</td>\n",
       "      <td>60.955084</td>\n",
       "      <td>95.686674</td>\n",
       "    </tr>\n",
       "  </tbody>\n",
       "</table>\n",
       "<p>200 rows × 3 columns</p>\n",
       "</div>"
      ],
      "text/plain": [
       "      Gender     Height      Weight\n",
       "0       Male  73.847017  241.893563\n",
       "23      Male  75.205974  228.761781\n",
       "82      Male  73.826127  237.916736\n",
       "190     Male  76.709835  235.035419\n",
       "191     Male  72.571121  230.560535\n",
       "...      ...        ...         ...\n",
       "9761  Female  56.975279   90.341784\n",
       "9775  Female  60.025950   87.035416\n",
       "9825  Female  55.979198   85.417534\n",
       "9895  Female  57.740192   93.652957\n",
       "9989  Female  60.955084   95.686674\n",
       "\n",
       "[200 rows x 3 columns]"
      ]
     },
     "execution_count": 34,
     "metadata": {},
     "output_type": "execute_result"
    }
   ],
   "source": [
    "upper_limith=df['Height'].quantile(0.99)\n",
    "lower_limith=df['Height'].quantile(0.01)\n",
    "\n",
    "upper_limitw=df['Weight'].quantile(0.99)\n",
    "lower_limitw=df['Weight'].quantile(0.01)\n",
    "\n",
    "df[(df['Height']>upper_limith)| (df['Height']<lower_limith)]\n",
    "\n",
    "df[(df['Weight']>upper_limitw)| (df['Weight']<lower_limitw)]"
   ]
  },
  {
   "cell_type": "code",
   "execution_count": null,
   "id": "6cbfc39f",
   "metadata": {},
   "outputs": [],
   "source": [
    "# new_height = df[(df['Height']<upper_limit)& (df['Height']>lower_limit)]"
   ]
  },
  {
   "cell_type": "code",
   "execution_count": 37,
   "id": "3e6dda38",
   "metadata": {},
   "outputs": [],
   "source": [
    "filtered_df = df[\n",
    "    (df['Height'] > lower_limith) & (df['Height'] < upper_limith) &\n",
    "    (df['Weight'] > lower_limitw) & (df['Weight'] < upper_limitw)\n",
    "]"
   ]
  },
  {
   "cell_type": "code",
   "execution_count": 38,
   "id": "d8e49a04",
   "metadata": {},
   "outputs": [
    {
     "data": {
      "application/vnd.microsoft.datawrangler.viewer.v0+json": {
       "columns": [
        {
         "name": "index",
         "rawType": "int64",
         "type": "integer"
        },
        {
         "name": "Gender",
         "rawType": "object",
         "type": "string"
        },
        {
         "name": "Height",
         "rawType": "float64",
         "type": "float"
        },
        {
         "name": "Weight",
         "rawType": "float64",
         "type": "float"
        }
       ],
       "ref": "62374bd8-baaa-4b42-946d-6d780f68fc19",
       "rows": [
        [
         "1",
         "Male",
         "68.7819040458903",
         "162.3104725213"
        ],
        [
         "2",
         "Male",
         "74.1101053917849",
         "212.7408555565"
        ],
        [
         "3",
         "Male",
         "71.7309784033377",
         "220.042470303077"
        ],
        [
         "4",
         "Male",
         "69.8817958611153",
         "206.349800623871"
        ],
        [
         "5",
         "Male",
         "67.2530156878065",
         "152.212155757083"
        ],
        [
         "6",
         "Male",
         "68.7850812516616",
         "183.927888604031"
        ],
        [
         "7",
         "Male",
         "68.3485155115879",
         "167.971110489509"
        ],
        [
         "8",
         "Male",
         "67.018949662883",
         "175.92944039571"
        ],
        [
         "9",
         "Male",
         "63.4564939783664",
         "156.399676387112"
        ],
        [
         "10",
         "Male",
         "71.1953822829745",
         "186.604925560358"
        ],
        [
         "11",
         "Male",
         "71.6408051192206",
         "213.741169489411"
        ],
        [
         "12",
         "Male",
         "64.7663291334055",
         "167.127461073476"
        ],
        [
         "13",
         "Male",
         "69.2830700967204",
         "189.446181386738"
        ],
        [
         "14",
         "Male",
         "69.2437322298112",
         "186.434168021239"
        ],
        [
         "15",
         "Male",
         "67.6456197004212",
         "172.186930058117"
        ],
        [
         "16",
         "Male",
         "72.4183166259878",
         "196.028506330482"
        ],
        [
         "17",
         "Male",
         "63.974325721061",
         "172.88347020878"
        ],
        [
         "18",
         "Male",
         "69.6400598997523",
         "185.98395757313"
        ],
        [
         "19",
         "Male",
         "67.9360048540095",
         "182.426648013226"
        ],
        [
         "20",
         "Male",
         "67.9150501938206",
         "174.115929081393"
        ],
        [
         "21",
         "Male",
         "69.4394398680395",
         "197.73142161472"
        ],
        [
         "22",
         "Male",
         "66.1491319608781",
         "149.173566007975"
        ],
        [
         "24",
         "Male",
         "67.8931963386043",
         "162.006651848287"
        ],
        [
         "25",
         "Male",
         "68.1440327982008",
         "192.343976579187"
        ],
        [
         "26",
         "Male",
         "69.0896314289256",
         "184.435174408406"
        ],
        [
         "27",
         "Male",
         "72.8008435165003",
         "206.828189420354"
        ],
        [
         "28",
         "Male",
         "67.4212422817167",
         "175.213922399227"
        ],
        [
         "29",
         "Male",
         "68.4964153568827",
         "154.342638925955"
        ],
        [
         "30",
         "Male",
         "68.6181105502058",
         "187.506843155807"
        ],
        [
         "31",
         "Male",
         "74.0338076216678",
         "212.910225325521"
        ],
        [
         "32",
         "Male",
         "71.5282160355709",
         "195.032243233835"
        ],
        [
         "33",
         "Male",
         "69.1801610995692",
         "205.183621341371"
        ],
        [
         "34",
         "Male",
         "69.577202365402",
         "204.164125484101"
        ],
        [
         "35",
         "Male",
         "70.4009288884762",
         "192.903515074649"
        ],
        [
         "36",
         "Male",
         "69.0761711675356",
         "197.488242598925"
        ],
        [
         "37",
         "Male",
         "67.1935232827228",
         "183.810973232751"
        ],
        [
         "38",
         "Male",
         "65.8073156549306",
         "163.851824878622"
        ],
        [
         "39",
         "Male",
         "64.3041878915595",
         "163.108017147583"
        ],
        [
         "40",
         "Male",
         "67.9743362271967",
         "172.135597406825"
        ],
        [
         "41",
         "Male",
         "72.1894259592134",
         "194.045404898059"
        ],
        [
         "42",
         "Male",
         "65.2703455240394",
         "168.617746204292"
        ],
        [
         "43",
         "Male",
         "66.0901773762725",
         "161.193432596622"
        ],
        [
         "44",
         "Male",
         "67.5103215157138",
         "164.660277264007"
        ],
        [
         "45",
         "Male",
         "70.1047862551571",
         "188.922303151274"
        ],
        [
         "46",
         "Male",
         "68.2518364408672",
         "187.060552163801"
        ],
        [
         "47",
         "Male",
         "72.1727091157973",
         "209.070863390252"
        ],
        [
         "48",
         "Male",
         "69.1798576188774",
         "192.014335412005"
        ],
        [
         "49",
         "Male",
         "72.870360147235",
         "211.34249681964"
        ],
        [
         "50",
         "Male",
         "64.7825829779871",
         "165.61162618225"
        ],
        [
         "51",
         "Male",
         "70.1835498874837",
         "201.071918099568"
        ]
       ],
       "shape": {
        "columns": 3,
        "rows": 9710
       }
      },
      "text/html": [
       "<div>\n",
       "<style scoped>\n",
       "    .dataframe tbody tr th:only-of-type {\n",
       "        vertical-align: middle;\n",
       "    }\n",
       "\n",
       "    .dataframe tbody tr th {\n",
       "        vertical-align: top;\n",
       "    }\n",
       "\n",
       "    .dataframe thead th {\n",
       "        text-align: right;\n",
       "    }\n",
       "</style>\n",
       "<table border=\"1\" class=\"dataframe\">\n",
       "  <thead>\n",
       "    <tr style=\"text-align: right;\">\n",
       "      <th></th>\n",
       "      <th>Gender</th>\n",
       "      <th>Height</th>\n",
       "      <th>Weight</th>\n",
       "    </tr>\n",
       "  </thead>\n",
       "  <tbody>\n",
       "    <tr>\n",
       "      <th>1</th>\n",
       "      <td>Male</td>\n",
       "      <td>68.781904</td>\n",
       "      <td>162.310473</td>\n",
       "    </tr>\n",
       "    <tr>\n",
       "      <th>2</th>\n",
       "      <td>Male</td>\n",
       "      <td>74.110105</td>\n",
       "      <td>212.740856</td>\n",
       "    </tr>\n",
       "    <tr>\n",
       "      <th>3</th>\n",
       "      <td>Male</td>\n",
       "      <td>71.730978</td>\n",
       "      <td>220.042470</td>\n",
       "    </tr>\n",
       "    <tr>\n",
       "      <th>4</th>\n",
       "      <td>Male</td>\n",
       "      <td>69.881796</td>\n",
       "      <td>206.349801</td>\n",
       "    </tr>\n",
       "    <tr>\n",
       "      <th>5</th>\n",
       "      <td>Male</td>\n",
       "      <td>67.253016</td>\n",
       "      <td>152.212156</td>\n",
       "    </tr>\n",
       "    <tr>\n",
       "      <th>...</th>\n",
       "      <td>...</td>\n",
       "      <td>...</td>\n",
       "      <td>...</td>\n",
       "    </tr>\n",
       "    <tr>\n",
       "      <th>9995</th>\n",
       "      <td>Female</td>\n",
       "      <td>66.172652</td>\n",
       "      <td>136.777454</td>\n",
       "    </tr>\n",
       "    <tr>\n",
       "      <th>9996</th>\n",
       "      <td>Female</td>\n",
       "      <td>67.067155</td>\n",
       "      <td>170.867906</td>\n",
       "    </tr>\n",
       "    <tr>\n",
       "      <th>9997</th>\n",
       "      <td>Female</td>\n",
       "      <td>63.867992</td>\n",
       "      <td>128.475319</td>\n",
       "    </tr>\n",
       "    <tr>\n",
       "      <th>9998</th>\n",
       "      <td>Female</td>\n",
       "      <td>69.034243</td>\n",
       "      <td>163.852461</td>\n",
       "    </tr>\n",
       "    <tr>\n",
       "      <th>9999</th>\n",
       "      <td>Female</td>\n",
       "      <td>61.944246</td>\n",
       "      <td>113.649103</td>\n",
       "    </tr>\n",
       "  </tbody>\n",
       "</table>\n",
       "<p>9710 rows × 3 columns</p>\n",
       "</div>"
      ],
      "text/plain": [
       "      Gender     Height      Weight\n",
       "1       Male  68.781904  162.310473\n",
       "2       Male  74.110105  212.740856\n",
       "3       Male  71.730978  220.042470\n",
       "4       Male  69.881796  206.349801\n",
       "5       Male  67.253016  152.212156\n",
       "...      ...        ...         ...\n",
       "9995  Female  66.172652  136.777454\n",
       "9996  Female  67.067155  170.867906\n",
       "9997  Female  63.867992  128.475319\n",
       "9998  Female  69.034243  163.852461\n",
       "9999  Female  61.944246  113.649103\n",
       "\n",
       "[9710 rows x 3 columns]"
      ]
     },
     "execution_count": 38,
     "metadata": {},
     "output_type": "execute_result"
    }
   ],
   "source": [
    "filtered_df"
   ]
  },
  {
   "cell_type": "code",
   "execution_count": 39,
   "id": "9f28f852",
   "metadata": {},
   "outputs": [
    {
     "data": {
      "image/png": "[encoded data removed]",
      "text/plain": [
       "<Figure size 1000x600 with 4 Axes>"
      ]
     },
     "metadata": {},
     "output_type": "display_data"
    }
   ],
   "source": [
    "fig, ((ax1, ax2), (ax3,ax4)) = plt.subplots(ncols=2, nrows=2, figsize=(10, 6))\n",
    "sns.histplot(filtered_df['Height'],ax=ax1,color='green',kde=True)\n",
    "sns.boxplot(filtered_df['Weight'],ax=ax2,color='violet')\n",
    "sns.histplot(filtered_df['Height'],ax=ax3,color='red',kde=True)\n",
    "sns.boxplot(filtered_df['Weight'],ax=ax4,color='red')\n",
    "plt.show()"
   ]
  },
  {
   "cell_type": "markdown",
   "id": "78d91281",
   "metadata": {},
   "source": [
    "### capping\n"
   ]
  },
  {
   "cell_type": "code",
   "execution_count": 40,
   "id": "7829e22a",
   "metadata": {},
   "outputs": [],
   "source": [
    "new=df.copy()"
   ]
  },
  {
   "cell_type": "code",
   "execution_count": 46,
   "id": "4511a16c",
   "metadata": {},
   "outputs": [],
   "source": [
    "new['Height'] = np.where(\n",
    "\n",
    "        df['Height']>=upper_limith,\n",
    "        upper_limith,\n",
    "        np.where(\n",
    "\n",
    "            df['Height']<=lower_limith,\n",
    "            lower_limith,\n",
    "            df['Height']\n",
    "\n",
    "\n",
    "        )\n",
    "\n",
    "\n",
    "\n",
    ")"
   ]
  },
  {
   "cell_type": "code",
   "execution_count": 56,
   "id": "57ecada7",
   "metadata": {},
   "outputs": [
    {
     "data": {
      "text/plain": [
       "<Axes: >"
      ]
     },
     "execution_count": 56,
     "metadata": {},
     "output_type": "execute_result"
    },
    {
     "data": {
      "image/png": "[encoded data removed]",
      "text/plain": [
       "<Figure size 700x500 with 4 Axes>"
      ]
     },
     "metadata": {},
     "output_type": "display_data"
    }
   ],
   "source": [
    "fig, ((ax1, ax2),(ax3,ax4)) = plt.subplots(ncols=2, nrows=2  ,figsize=(7, 5))\n",
    "sns.histplot(new['Height'],ax=ax1,color='navy',kde=True)\n",
    "ax1.set_title(\"after capping height histplt\")\n",
    "new['Height'].plot(kind='box',ax=ax2)\n",
    "ax2.set_title(\"after capping height boxplot\")\n",
    "sns.histplot(df['Height'],ax=ax3,color='navy',kde=True)\n",
    "\n",
    "df['Height'].plot(kind='box',ax=ax4)"
   ]
  },
  {
   "cell_type": "code",
   "execution_count": 57,
   "id": "ba56da0e",
   "metadata": {},
   "outputs": [
    {
     "data": {
      "text/plain": [
       "800"
      ]
     },
     "execution_count": 57,
     "metadata": {},
     "output_type": "execute_result"
    }
   ],
   "source": [
    "800\n"
   ]
  }
 ],
 "metadata": {
  "kernelspec": {
   "display_name": "base",
   "language": "python",
   "name": "python3"
  },
  "language_info": {
   "codemirror_mode": {
    "name": "ipython",
    "version": 3
   },
   "file_extension": ".py",
   "mimetype": "text/x-python",
   "name": "python",
   "nbconvert_exporter": "python",
   "pygments_lexer": "ipython3",
   "version": "3.13.5"
  }
 },
 "nbformat": 4,
 "nbformat_minor": 5
}
